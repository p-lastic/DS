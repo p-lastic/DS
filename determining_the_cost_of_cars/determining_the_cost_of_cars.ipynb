{
 "cells": [
  {
   "cell_type": "markdown",
   "metadata": {},
   "source": [
    "# Определение стоимости автомобилей"
   ]
  },
  {
   "cell_type": "markdown",
   "metadata": {},
   "source": [
    "## Подготовка данных"
   ]
  },
  {
   "cell_type": "code",
   "execution_count": 1,
   "metadata": {},
   "outputs": [],
   "source": [
    "#импорт библиотек\n",
    "\n",
    "import pandas as pd\n",
    "import numpy as np\n",
    "import matplotlib.pyplot as plt\n",
    "import lightgbm as lgb\n",
    "from sklearn.model_selection import train_test_split\n",
    "from sklearn.model_selection import GridSearchCV\n",
    "from sklearn.linear_model import LinearRegression\n",
    "from sklearn.tree import DecisionTreeRegressor\n",
    "from sklearn.metrics import mean_squared_error\n",
    "from sklearn.preprocessing import OneHotEncoder\n",
    "from sklearn.preprocessing import OrdinalEncoder"
   ]
  },
  {
   "cell_type": "code",
   "execution_count": 2,
   "metadata": {
    "scrolled": true
   },
   "outputs": [],
   "source": [
    "#загрузка данных\n",
    "\n",
    "df = pd.read_csv('/datasets/autos.csv')"
   ]
  },
  {
   "cell_type": "code",
   "execution_count": 3,
   "metadata": {},
   "outputs": [
    {
     "data": {
      "text/plain": [
       "4"
      ]
     },
     "execution_count": 3,
     "metadata": {},
     "output_type": "execute_result"
    }
   ],
   "source": [
    "#проверка на явные дубликаты \n",
    "\n",
    "df.duplicated().sum()"
   ]
  },
  {
   "cell_type": "code",
   "execution_count": 4,
   "metadata": {},
   "outputs": [],
   "source": [
    "#удаление повторов\n",
    "\n",
    "df = df.drop_duplicates(keep='first')"
   ]
  },
  {
   "cell_type": "code",
   "execution_count": 5,
   "metadata": {},
   "outputs": [],
   "source": [
    "#приведение названий столбцов к нижнему регистру\n",
    "\n",
    "df.columns = df.columns.str.lower()"
   ]
  },
  {
   "cell_type": "code",
   "execution_count": 6,
   "metadata": {},
   "outputs": [],
   "source": [
    "#удаление неинформативных столбцов, о пользователе\n",
    "\n",
    "df = df.drop(['datecrawled', 'registrationmonth', 'postalcode', 'lastseen'], axis=1)"
   ]
  },
  {
   "cell_type": "code",
   "execution_count": 7,
   "metadata": {},
   "outputs": [
    {
     "name": "stdout",
     "output_type": "stream",
     "text": [
      "<class 'pandas.core.frame.DataFrame'>\n",
      "Int64Index: 354365 entries, 0 to 354368\n",
      "Data columns (total 12 columns):\n",
      " #   Column            Non-Null Count   Dtype \n",
      "---  ------            --------------   ----- \n",
      " 0   price             354365 non-null  int64 \n",
      " 1   vehicletype       316875 non-null  object\n",
      " 2   registrationyear  354365 non-null  int64 \n",
      " 3   gearbox           334532 non-null  object\n",
      " 4   power             354365 non-null  int64 \n",
      " 5   model             334660 non-null  object\n",
      " 6   kilometer         354365 non-null  int64 \n",
      " 7   fueltype          321470 non-null  object\n",
      " 8   brand             354365 non-null  object\n",
      " 9   repaired          283211 non-null  object\n",
      " 10  datecreated       354365 non-null  object\n",
      " 11  numberofpictures  354365 non-null  int64 \n",
      "dtypes: int64(5), object(7)\n",
      "memory usage: 35.1+ MB\n"
     ]
    },
    {
     "data": {
      "text/html": [
       "<div>\n",
       "<style scoped>\n",
       "    .dataframe tbody tr th:only-of-type {\n",
       "        vertical-align: middle;\n",
       "    }\n",
       "\n",
       "    .dataframe tbody tr th {\n",
       "        vertical-align: top;\n",
       "    }\n",
       "\n",
       "    .dataframe thead th {\n",
       "        text-align: right;\n",
       "    }\n",
       "</style>\n",
       "<table border=\"1\" class=\"dataframe\">\n",
       "  <thead>\n",
       "    <tr style=\"text-align: right;\">\n",
       "      <th></th>\n",
       "      <th>price</th>\n",
       "      <th>vehicletype</th>\n",
       "      <th>registrationyear</th>\n",
       "      <th>gearbox</th>\n",
       "      <th>power</th>\n",
       "      <th>model</th>\n",
       "      <th>kilometer</th>\n",
       "      <th>fueltype</th>\n",
       "      <th>brand</th>\n",
       "      <th>repaired</th>\n",
       "      <th>datecreated</th>\n",
       "      <th>numberofpictures</th>\n",
       "    </tr>\n",
       "  </thead>\n",
       "  <tbody>\n",
       "    <tr>\n",
       "      <th>0</th>\n",
       "      <td>480</td>\n",
       "      <td>NaN</td>\n",
       "      <td>1993</td>\n",
       "      <td>manual</td>\n",
       "      <td>0</td>\n",
       "      <td>golf</td>\n",
       "      <td>150000</td>\n",
       "      <td>petrol</td>\n",
       "      <td>volkswagen</td>\n",
       "      <td>NaN</td>\n",
       "      <td>2016-03-24 00:00:00</td>\n",
       "      <td>0</td>\n",
       "    </tr>\n",
       "    <tr>\n",
       "      <th>1</th>\n",
       "      <td>18300</td>\n",
       "      <td>coupe</td>\n",
       "      <td>2011</td>\n",
       "      <td>manual</td>\n",
       "      <td>190</td>\n",
       "      <td>NaN</td>\n",
       "      <td>125000</td>\n",
       "      <td>gasoline</td>\n",
       "      <td>audi</td>\n",
       "      <td>yes</td>\n",
       "      <td>2016-03-24 00:00:00</td>\n",
       "      <td>0</td>\n",
       "    </tr>\n",
       "    <tr>\n",
       "      <th>2</th>\n",
       "      <td>9800</td>\n",
       "      <td>suv</td>\n",
       "      <td>2004</td>\n",
       "      <td>auto</td>\n",
       "      <td>163</td>\n",
       "      <td>grand</td>\n",
       "      <td>125000</td>\n",
       "      <td>gasoline</td>\n",
       "      <td>jeep</td>\n",
       "      <td>NaN</td>\n",
       "      <td>2016-03-14 00:00:00</td>\n",
       "      <td>0</td>\n",
       "    </tr>\n",
       "    <tr>\n",
       "      <th>3</th>\n",
       "      <td>1500</td>\n",
       "      <td>small</td>\n",
       "      <td>2001</td>\n",
       "      <td>manual</td>\n",
       "      <td>75</td>\n",
       "      <td>golf</td>\n",
       "      <td>150000</td>\n",
       "      <td>petrol</td>\n",
       "      <td>volkswagen</td>\n",
       "      <td>no</td>\n",
       "      <td>2016-03-17 00:00:00</td>\n",
       "      <td>0</td>\n",
       "    </tr>\n",
       "    <tr>\n",
       "      <th>4</th>\n",
       "      <td>3600</td>\n",
       "      <td>small</td>\n",
       "      <td>2008</td>\n",
       "      <td>manual</td>\n",
       "      <td>69</td>\n",
       "      <td>fabia</td>\n",
       "      <td>90000</td>\n",
       "      <td>gasoline</td>\n",
       "      <td>skoda</td>\n",
       "      <td>no</td>\n",
       "      <td>2016-03-31 00:00:00</td>\n",
       "      <td>0</td>\n",
       "    </tr>\n",
       "  </tbody>\n",
       "</table>\n",
       "</div>"
      ],
      "text/plain": [
       "   price vehicletype  registrationyear gearbox  power  model  kilometer  \\\n",
       "0    480         NaN              1993  manual      0   golf     150000   \n",
       "1  18300       coupe              2011  manual    190    NaN     125000   \n",
       "2   9800         suv              2004    auto    163  grand     125000   \n",
       "3   1500       small              2001  manual     75   golf     150000   \n",
       "4   3600       small              2008  manual     69  fabia      90000   \n",
       "\n",
       "   fueltype       brand repaired          datecreated  numberofpictures  \n",
       "0    petrol  volkswagen      NaN  2016-03-24 00:00:00                 0  \n",
       "1  gasoline        audi      yes  2016-03-24 00:00:00                 0  \n",
       "2  gasoline        jeep      NaN  2016-03-14 00:00:00                 0  \n",
       "3    petrol  volkswagen       no  2016-03-17 00:00:00                 0  \n",
       "4  gasoline       skoda       no  2016-03-31 00:00:00                 0  "
      ]
     },
     "execution_count": 7,
     "metadata": {},
     "output_type": "execute_result"
    }
   ],
   "source": [
    "df.info()\n",
    "df.head()"
   ]
  },
  {
   "cell_type": "code",
   "execution_count": 8,
   "metadata": {},
   "outputs": [],
   "source": [
    "#заполним пропуски в категориальных переменных на \"неизвестно\"\n",
    "\n",
    "columns = ['vehicletype', 'gearbox', 'model', 'fueltype', 'repaired']\n",
    "\n",
    "df[columns] = df[columns].fillna('unknown')"
   ]
  },
  {
   "cell_type": "code",
   "execution_count": 9,
   "metadata": {},
   "outputs": [
    {
     "data": {
      "text/html": [
       "<div>\n",
       "<style scoped>\n",
       "    .dataframe tbody tr th:only-of-type {\n",
       "        vertical-align: middle;\n",
       "    }\n",
       "\n",
       "    .dataframe tbody tr th {\n",
       "        vertical-align: top;\n",
       "    }\n",
       "\n",
       "    .dataframe thead th {\n",
       "        text-align: right;\n",
       "    }\n",
       "</style>\n",
       "<table border=\"1\" class=\"dataframe\">\n",
       "  <thead>\n",
       "    <tr style=\"text-align: right;\">\n",
       "      <th></th>\n",
       "      <th>price</th>\n",
       "      <th>registrationyear</th>\n",
       "      <th>power</th>\n",
       "      <th>kilometer</th>\n",
       "      <th>numberofpictures</th>\n",
       "    </tr>\n",
       "  </thead>\n",
       "  <tbody>\n",
       "    <tr>\n",
       "      <th>count</th>\n",
       "      <td>354365.000000</td>\n",
       "      <td>354365.000000</td>\n",
       "      <td>354365.000000</td>\n",
       "      <td>354365.000000</td>\n",
       "      <td>354365.0</td>\n",
       "    </tr>\n",
       "    <tr>\n",
       "      <th>mean</th>\n",
       "      <td>4416.679830</td>\n",
       "      <td>2004.234481</td>\n",
       "      <td>110.093816</td>\n",
       "      <td>128211.363989</td>\n",
       "      <td>0.0</td>\n",
       "    </tr>\n",
       "    <tr>\n",
       "      <th>std</th>\n",
       "      <td>4514.176349</td>\n",
       "      <td>90.228466</td>\n",
       "      <td>189.851330</td>\n",
       "      <td>37905.083858</td>\n",
       "      <td>0.0</td>\n",
       "    </tr>\n",
       "    <tr>\n",
       "      <th>min</th>\n",
       "      <td>0.000000</td>\n",
       "      <td>1000.000000</td>\n",
       "      <td>0.000000</td>\n",
       "      <td>5000.000000</td>\n",
       "      <td>0.0</td>\n",
       "    </tr>\n",
       "    <tr>\n",
       "      <th>25%</th>\n",
       "      <td>1050.000000</td>\n",
       "      <td>1999.000000</td>\n",
       "      <td>69.000000</td>\n",
       "      <td>125000.000000</td>\n",
       "      <td>0.0</td>\n",
       "    </tr>\n",
       "    <tr>\n",
       "      <th>50%</th>\n",
       "      <td>2700.000000</td>\n",
       "      <td>2003.000000</td>\n",
       "      <td>105.000000</td>\n",
       "      <td>150000.000000</td>\n",
       "      <td>0.0</td>\n",
       "    </tr>\n",
       "    <tr>\n",
       "      <th>75%</th>\n",
       "      <td>6400.000000</td>\n",
       "      <td>2008.000000</td>\n",
       "      <td>143.000000</td>\n",
       "      <td>150000.000000</td>\n",
       "      <td>0.0</td>\n",
       "    </tr>\n",
       "    <tr>\n",
       "      <th>max</th>\n",
       "      <td>20000.000000</td>\n",
       "      <td>9999.000000</td>\n",
       "      <td>20000.000000</td>\n",
       "      <td>150000.000000</td>\n",
       "      <td>0.0</td>\n",
       "    </tr>\n",
       "  </tbody>\n",
       "</table>\n",
       "</div>"
      ],
      "text/plain": [
       "               price  registrationyear          power      kilometer  \\\n",
       "count  354365.000000     354365.000000  354365.000000  354365.000000   \n",
       "mean     4416.679830       2004.234481     110.093816  128211.363989   \n",
       "std      4514.176349         90.228466     189.851330   37905.083858   \n",
       "min         0.000000       1000.000000       0.000000    5000.000000   \n",
       "25%      1050.000000       1999.000000      69.000000  125000.000000   \n",
       "50%      2700.000000       2003.000000     105.000000  150000.000000   \n",
       "75%      6400.000000       2008.000000     143.000000  150000.000000   \n",
       "max     20000.000000       9999.000000   20000.000000  150000.000000   \n",
       "\n",
       "       numberofpictures  \n",
       "count          354365.0  \n",
       "mean                0.0  \n",
       "std                 0.0  \n",
       "min                 0.0  \n",
       "25%                 0.0  \n",
       "50%                 0.0  \n",
       "75%                 0.0  \n",
       "max                 0.0  "
      ]
     },
     "execution_count": 9,
     "metadata": {},
     "output_type": "execute_result"
    }
   ],
   "source": [
    "df.describe()"
   ]
  },
  {
   "cell_type": "code",
   "execution_count": 10,
   "metadata": {},
   "outputs": [],
   "source": [
    "#удаление столбца numberofpictures - он не содержит данных, причина скорее всего техническая\n",
    "\n",
    "df = df.drop(['numberofpictures'], axis=1)"
   ]
  },
  {
   "cell_type": "code",
   "execution_count": 11,
   "metadata": {},
   "outputs": [
    {
     "data": {
      "image/png": "[encoded data removed]",
      "text/plain": [
       "<Figure size 1440x1080 with 4 Axes>"
      ]
     },
     "metadata": {
      "needs_background": "light"
     },
     "output_type": "display_data"
    }
   ],
   "source": [
    "df.hist(figsize=(20, 15));"
   ]
  },
  {
   "cell_type": "markdown",
   "metadata": {},
   "source": [
    "По гистограммам количественных параметров видны аномалии в power и registrationyear"
   ]
  },
  {
   "cell_type": "code",
   "execution_count": 12,
   "metadata": {},
   "outputs": [],
   "source": [
    "#удаление аномалий в price\n",
    "\n",
    "df = df[df['price']>2]"
   ]
  },
  {
   "cell_type": "code",
   "execution_count": 13,
   "metadata": {},
   "outputs": [],
   "source": [
    "#удаление аномалий в registrationyear\n",
    "\n",
    "df = df[(df['registrationyear']>1900) & (df['registrationyear']<2016)]"
   ]
  },
  {
   "cell_type": "markdown",
   "metadata": {},
   "source": [
    "Можно предложить заказчику доработать сервис, чтобы пользователь мог ввести только данные, соответствующие действительности, чтобы модель работала в последствии корректно."
   ]
  },
  {
   "cell_type": "code",
   "execution_count": 14,
   "metadata": {},
   "outputs": [
    {
     "data": {
      "image/png": "[encoded data removed]",
      "text/plain": [
       "<Figure size 1440x720 with 1 Axes>"
      ]
     },
     "metadata": {
      "needs_background": "light"
     },
     "output_type": "display_data"
    }
   ],
   "source": [
    "#распределение значений параметра power\n",
    "\n",
    "df['power'].hist(bins=100, figsize=(20,10), range=(0, 1500));"
   ]
  },
  {
   "cell_type": "markdown",
   "metadata": {},
   "source": [
    "Неизвестно, откуда существует такое количество машин с 0 л.с. в базе, возможно, так помечались неработающие машины, или пользователи вводили так по ошибке. Проверим, отличается ли цена у машин со значением 0 и не 0 в параметре power"
   ]
  },
  {
   "cell_type": "code",
   "execution_count": 15,
   "metadata": {},
   "outputs": [
    {
     "name": "stdout",
     "output_type": "stream",
     "text": [
      "Распределение цен на машины со значением 0 в параметре power\n"
     ]
    },
    {
     "data": {
      "image/png": "[encoded data removed]",
      "text/plain": [
       "<Figure size 432x288 with 1 Axes>"
      ]
     },
     "metadata": {
      "needs_background": "light"
     },
     "output_type": "display_data"
    }
   ],
   "source": [
    "print('Распределение цен на машины со значением 0 в параметре power')\n",
    "df.loc[df['power'] == 0, 'price'].hist();"
   ]
  },
  {
   "cell_type": "code",
   "execution_count": 16,
   "metadata": {},
   "outputs": [
    {
     "name": "stdout",
     "output_type": "stream",
     "text": [
      "Распределение цен на машины\n"
     ]
    },
    {
     "data": {
      "image/png": "[encoded data removed]",
      "text/plain": [
       "<Figure size 432x288 with 1 Axes>"
      ]
     },
     "metadata": {
      "needs_background": "light"
     },
     "output_type": "display_data"
    }
   ],
   "source": [
    "print('Распределение цен на машины')\n",
    "df.loc[df['power'] != 0, 'price'].hist();"
   ]
  },
  {
   "cell_type": "markdown",
   "metadata": {},
   "source": [
    "Поскольку машины с аномально низним значением в мощности могут стоить и дешево, и дорого, как и машины с обычной мощностью, нельзя сделать вывод, что 0 - обозначение, например, неработающей машины, и скорее всего это значение по ошибке вводил пользователь - что, как мне кажется, тоже нужно оговорить с заказчиком для совершенствования сервиса. \n",
    "Объем аномалий в мощности велик относительно выборки, поэтому их нельзя удалить. Заменим их медианным значением по группе"
   ]
  },
  {
   "cell_type": "code",
   "execution_count": 17,
   "metadata": {},
   "outputs": [],
   "source": [
    "#замена аномальных значений в power медианой по соответствующей модели\n",
    "\n",
    "df.loc[(df['power'] < 4)|(df['power'] > 2050), 'power'] = float('nan')\n",
    "df['power'] = df['power'].fillna(df.groupby(['brand', 'model'])['power'].transform('median'))\n",
    "\n",
    "#замена оставшихся пропусков, которых не удалось сгруппировать\n",
    "\n",
    "df['power'] = df['power'].fillna(df['power'].median())"
   ]
  },
  {
   "cell_type": "code",
   "execution_count": 18,
   "metadata": {},
   "outputs": [],
   "source": [
    "df['power']= df['power'].astype('int64')"
   ]
  },
  {
   "cell_type": "code",
   "execution_count": 19,
   "metadata": {},
   "outputs": [],
   "source": [
    "#преобразование в формат даты datecreated\n",
    "\n",
    "df['datecreated'] = pd.to_datetime(df['datecreated'], format='%Y-%m-%dT%H:%M:%S') "
   ]
  },
  {
   "cell_type": "code",
   "execution_count": 20,
   "metadata": {},
   "outputs": [],
   "source": [
    "#выделение характеристик из даты\n",
    "\n",
    "df['year'] = df['datecreated'].dt.year\n",
    "df['month'] = df['datecreated'].dt.month\n",
    "df['weekday'] = df['datecreated'].dt.weekday"
   ]
  },
  {
   "cell_type": "code",
   "execution_count": 21,
   "metadata": {},
   "outputs": [],
   "source": [
    "#удаление столбца datecreated \n",
    "\n",
    "df = df.drop(['datecreated'], axis=1)"
   ]
  },
  {
   "cell_type": "code",
   "execution_count": 22,
   "metadata": {},
   "outputs": [],
   "source": [
    "#выделение целевого признака\n",
    "\n",
    "target = df['price']\n",
    "features = df.drop('price', axis=1)"
   ]
  },
  {
   "cell_type": "code",
   "execution_count": 23,
   "metadata": {},
   "outputs": [
    {
     "name": "stdout",
     "output_type": "stream",
     "text": [
      "(191833, 12)\n",
      "(63945, 12)\n",
      "(63945, 12)\n",
      "(191833,)\n",
      "(63945,)\n",
      "(63945,)\n"
     ]
    }
   ],
   "source": [
    "#деление на тренировочную, валидационную и тестовую выборки\n",
    "\n",
    "#выделение тренировочной части в соотношении 60% и 40%\n",
    "fea_train, fea_other, tar_train, tar_other = train_test_split(features, target, test_size=0.4, random_state=12345)\n",
    "\n",
    "#деление оставшейся части на валидационную и тестовую выборки пополам\n",
    "fea_val, fea_test, tar_val, tar_test = train_test_split(fea_other, tar_other, test_size=0.5, random_state=12345)\n",
    "\n",
    "print(fea_train.shape)\n",
    "print(fea_val.shape)\n",
    "print(fea_test.shape)\n",
    "print(tar_train.shape)\n",
    "print(tar_val.shape)\n",
    "print(tar_test.shape)"
   ]
  },
  {
   "cell_type": "code",
   "execution_count": 24,
   "metadata": {},
   "outputs": [],
   "source": [
    "# прямое кодирование (для линейных моделей)\n",
    "\n",
    "encoder = OneHotEncoder(handle_unknown='ignore')\n",
    "fea_train_ohe = encoder. fit_transform(fea_train)\n",
    "fea_val_ohe = encoder. transform(fea_val)\n",
    "fea_test_ohe = encoder. transform(fea_test)"
   ]
  },
  {
   "cell_type": "code",
   "execution_count": 25,
   "metadata": {},
   "outputs": [],
   "source": [
    "# порядковое кодирование\n",
    "encoder = OrdinalEncoder(handle_unknown='use_encoded_value', unknown_value=9999)\n",
    "cat_columns = ['vehicletype', 'registrationyear', 'gearbox', 'model', 'fueltype', 'brand', 'repaired', 'year', 'month', 'weekday']\n",
    "encoder.fit(fea_train[cat_columns])\n",
    "\n",
    "fea_train_ord = fea_train.copy()\n",
    "fea_val_ord = fea_val.copy()\n",
    "fea_test_ord = fea_test.copy()\n",
    "\n",
    "fea_train_ord[cat_columns] = encoder.transform(fea_train_ord[cat_columns])\n",
    "fea_val_ord[cat_columns] = encoder.transform(fea_val_ord[cat_columns])\n",
    "fea_test_ord[cat_columns] = encoder.transform(fea_test_ord[cat_columns])"
   ]
  },
  {
   "cell_type": "markdown",
   "metadata": {},
   "source": [
    "## Обучение моделей"
   ]
  },
  {
   "cell_type": "code",
   "execution_count": 26,
   "metadata": {},
   "outputs": [
    {
     "name": "stdout",
     "output_type": "stream",
     "text": [
      "CPU times: user 19.8 s, sys: 36.9 s, total: 56.7 s\n",
      "Wall time: 56.9 s\n"
     ]
    },
    {
     "data": {
      "text/plain": [
       "LinearRegression()"
      ]
     },
     "execution_count": 26,
     "metadata": {},
     "output_type": "execute_result"
    }
   ],
   "source": [
    "%%time\n",
    "\n",
    "#обучение модели линейной регрессии\n",
    "\n",
    "model1 = LinearRegression()\n",
    "model1.fit(fea_train_ohe, tar_train)"
   ]
  },
  {
   "cell_type": "code",
   "execution_count": 27,
   "metadata": {},
   "outputs": [
    {
     "name": "stdout",
     "output_type": "stream",
     "text": [
      "CPU times: user 1.65 ms, sys: 8.97 ms, total: 10.6 ms\n",
      "Wall time: 4.69 ms\n"
     ]
    }
   ],
   "source": [
    "%%time\n",
    "\n",
    "#получение предсказаний от модели линейной регрессии\n",
    "predicted_val1 = model1.predict(fea_val_ohe)"
   ]
  },
  {
   "cell_type": "code",
   "execution_count": 28,
   "metadata": {},
   "outputs": [
    {
     "name": "stdout",
     "output_type": "stream",
     "text": [
      "RMSE модели линейной регресси на валидационной выборке: 2012.6071344327859\n"
     ]
    }
   ],
   "source": [
    "result_lr = mean_squared_error(tar_val, predicted_val1) ** 0.5\n",
    "print(\"RMSE модели линейной регресси на валидационной выборке:\", result_lr)"
   ]
  },
  {
   "cell_type": "code",
   "execution_count": 29,
   "metadata": {},
   "outputs": [
    {
     "name": "stdout",
     "output_type": "stream",
     "text": [
      "max_depth = 12\n",
      "RMSE модели дерева решений на валидационной выборке: 1922.1984282224337\n"
     ]
    }
   ],
   "source": [
    "#подбор параметров для модели дерева решений\n",
    "\n",
    "best_depth = 0\n",
    "result_dtr = 99999\n",
    "for depth in range(2, 100, 10):\n",
    "    model2 = DecisionTreeRegressor(max_depth=depth, random_state=12345)\n",
    "    model2.fit(fea_train_ord, tar_train)\n",
    "    predicted_val2 = model2.predict(fea_val_ord)\n",
    "    result = mean_squared_error(tar_val, predicted_val2) ** 0.5\n",
    "    if result < result_dtr:\n",
    "        best_depth = depth\n",
    "        result_dtr = result\n",
    "print(\"max_depth =\", best_depth)\n",
    "print(\"RMSE модели дерева решений на валидационной выборке:\", result_dtr) "
   ]
  },
  {
   "cell_type": "code",
   "execution_count": 30,
   "metadata": {},
   "outputs": [
    {
     "name": "stdout",
     "output_type": "stream",
     "text": [
      "CPU times: user 541 ms, sys: 0 ns, total: 541 ms\n",
      "Wall time: 547 ms\n"
     ]
    },
    {
     "data": {
      "text/plain": [
       "DecisionTreeRegressor(max_depth=12, random_state=12345)"
      ]
     },
     "execution_count": 30,
     "metadata": {},
     "output_type": "execute_result"
    }
   ],
   "source": [
    "%%time\n",
    "#измерение времени обучения модели дерева решений с подобранной глубиной\n",
    "\n",
    "model2 = DecisionTreeRegressor(max_depth=12, random_state=12345)\n",
    "model2.fit(fea_train_ord, tar_train)"
   ]
  },
  {
   "cell_type": "code",
   "execution_count": 31,
   "metadata": {},
   "outputs": [
    {
     "name": "stdout",
     "output_type": "stream",
     "text": [
      "CPU times: user 14.5 ms, sys: 0 ns, total: 14.5 ms\n",
      "Wall time: 12.6 ms\n"
     ]
    }
   ],
   "source": [
    "%%time\n",
    "#измерение времени предсказания модели дерева решений\n",
    "\n",
    "predicted_val2 = model2.predict(fea_val_ord)"
   ]
  },
  {
   "cell_type": "code",
   "execution_count": 32,
   "metadata": {},
   "outputs": [],
   "source": [
    "#словарь с параметрами для модели LightGBM\n",
    "\n",
    "rates = [0.01, 0.04, 0.07, 0.1]\n",
    "parametrs = { 'learning_rate': rates,\n",
    "              'max_depth': range (1, 100, 10),\n",
    "              'n_estimators': range (1, 100, 10) }"
   ]
  },
  {
   "cell_type": "code",
   "execution_count": 33,
   "metadata": {},
   "outputs": [],
   "source": [
    "model = lgb.LGBMRegressor()"
   ]
  },
  {
   "cell_type": "code",
   "execution_count": 34,
   "metadata": {},
   "outputs": [
    {
     "data": {
      "text/plain": [
       "GridSearchCV(cv=5, estimator=LGBMRegressor(), n_jobs=-1,\n",
       "             param_grid={'learning_rate': [0.01, 0.04, 0.07, 0.1],\n",
       "                         'max_depth': range(1, 100, 10),\n",
       "                         'n_estimators': range(1, 100, 10)})"
      ]
     },
     "execution_count": 34,
     "metadata": {},
     "output_type": "execute_result"
    }
   ],
   "source": [
    "#подбор параметров модели LGBMRegressor\n",
    "\n",
    "grid = GridSearchCV(model, parametrs, cv=5, n_jobs=-1)\n",
    "grid.fit(fea_train_ohe, tar_train)"
   ]
  },
  {
   "cell_type": "code",
   "execution_count": 35,
   "metadata": {},
   "outputs": [
    {
     "data": {
      "text/plain": [
       "{'learning_rate': 0.1, 'max_depth': 31, 'n_estimators': 91}"
      ]
     },
     "execution_count": 35,
     "metadata": {},
     "output_type": "execute_result"
    }
   ],
   "source": [
    "grid.best_params_"
   ]
  },
  {
   "cell_type": "code",
   "execution_count": 42,
   "metadata": {},
   "outputs": [
    {
     "name": "stdout",
     "output_type": "stream",
     "text": [
      "CPU times: user 6.29 s, sys: 77.9 ms, total: 6.37 s\n",
      "Wall time: 6.46 s\n"
     ]
    },
    {
     "data": {
      "text/plain": [
       "LGBMRegressor(max_depth=31, n_estimators=91)"
      ]
     },
     "execution_count": 42,
     "metadata": {},
     "output_type": "execute_result"
    }
   ],
   "source": [
    "%%time\n",
    "\n",
    "#измерение времени обучения модели LGBMRegressor\n",
    "\n",
    "model = lgb.LGBMRegressor(learning_rate=0.1, max_depth=31, n_estimators=91)\n",
    "model.fit(fea_train_ohe, tar_train)"
   ]
  },
  {
   "cell_type": "code",
   "execution_count": 43,
   "metadata": {},
   "outputs": [
    {
     "name": "stdout",
     "output_type": "stream",
     "text": [
      "CPU times: user 550 ms, sys: 2.83 ms, total: 553 ms\n",
      "Wall time: 425 ms\n"
     ]
    }
   ],
   "source": [
    "%%time\n",
    "\n",
    "#измерение времени предсказания LGBMRegressor\n",
    "\n",
    "predicted_val = model.predict(fea_val_ohe)"
   ]
  },
  {
   "cell_type": "code",
   "execution_count": 44,
   "metadata": {},
   "outputs": [],
   "source": [
    "resultgbm = mean_squared_error(tar_val, predicted_val) ** 0.5"
   ]
  },
  {
   "cell_type": "code",
   "execution_count": 45,
   "metadata": {},
   "outputs": [
    {
     "name": "stdout",
     "output_type": "stream",
     "text": [
      "RMSE модели LightGBM на валидационной выборке 1938.9402869961364\n"
     ]
    }
   ],
   "source": [
    "print('RMSE модели LightGBM на валидационной выборке', resultgbm)"
   ]
  },
  {
   "cell_type": "markdown",
   "metadata": {},
   "source": [
    "## Анализ моделей"
   ]
  },
  {
   "cell_type": "markdown",
   "metadata": {},
   "source": [
    "На предыдущем этапе было проверено 3 модели - линейная регрессия, дерево решений и LGBMRegressor, обладающие разными характеристиками. \n",
    "Критерии, которые важны заказчику:\n",
    "1. качество предсказания;\n",
    "2. время обучения модели;\n",
    "3. время предсказания модели."
   ]
  },
  {
   "cell_type": "code",
   "execution_count": 46,
   "metadata": {},
   "outputs": [
    {
     "data": {
      "text/html": [
       "<div>\n",
       "<style scoped>\n",
       "    .dataframe tbody tr th:only-of-type {\n",
       "        vertical-align: middle;\n",
       "    }\n",
       "\n",
       "    .dataframe tbody tr th {\n",
       "        vertical-align: top;\n",
       "    }\n",
       "\n",
       "    .dataframe thead th {\n",
       "        text-align: right;\n",
       "    }\n",
       "</style>\n",
       "<table border=\"1\" class=\"dataframe\">\n",
       "  <thead>\n",
       "    <tr style=\"text-align: right;\">\n",
       "      <th></th>\n",
       "      <th>model</th>\n",
       "      <th>rmse</th>\n",
       "      <th>время обучения</th>\n",
       "      <th>время предсказания</th>\n",
       "    </tr>\n",
       "  </thead>\n",
       "  <tbody>\n",
       "    <tr>\n",
       "      <th>0</th>\n",
       "      <td>LinearRegression</td>\n",
       "      <td>2012.607134</td>\n",
       "      <td>46.7 s</td>\n",
       "      <td>2.32 ms</td>\n",
       "    </tr>\n",
       "    <tr>\n",
       "      <th>1</th>\n",
       "      <td>DecisionTree</td>\n",
       "      <td>1922.198428</td>\n",
       "      <td>449 ms</td>\n",
       "      <td>11.3 ms</td>\n",
       "    </tr>\n",
       "    <tr>\n",
       "      <th>2</th>\n",
       "      <td>LightGBM</td>\n",
       "      <td>1938.940287</td>\n",
       "      <td>47.7 s</td>\n",
       "      <td>497 ms</td>\n",
       "    </tr>\n",
       "  </tbody>\n",
       "</table>\n",
       "</div>"
      ],
      "text/plain": [
       "              model         rmse время обучения время предсказания\n",
       "0  LinearRegression  2012.607134         46.7 s            2.32 ms\n",
       "1      DecisionTree  1922.198428         449 ms            11.3 ms\n",
       "2          LightGBM  1938.940287         47.7 s             497 ms"
      ]
     },
     "execution_count": 46,
     "metadata": {},
     "output_type": "execute_result"
    }
   ],
   "source": [
    "data = pd.DataFrame({'model': ['LinearRegression', 'DecisionTree', 'LightGBM'], 'rmse': [result_lr, result_dtr, resultgbm], 'время обучения': ['46.7 s', '449 ms', '47.7 s'], 'время предсказания': ['2.32 ms', '11.3 ms', '497 ms']})\n",
    "data"
   ]
  },
  {
   "cell_type": "markdown",
   "metadata": {},
   "source": [
    "Модель DecisionTree(max_depth=12) показывает лучшее качество и скорость обучения, по времени предсказания уступает Линейной регрессии почти в 4 раза, которая так же подходит под критерий качества, но обучается относительно долго. Исходя из критериев заказчика, лучше подходит модель DecisionTree"
   ]
  },
  {
   "cell_type": "markdown",
   "metadata": {},
   "source": [
    "## Тестирование лучшей модели"
   ]
  },
  {
   "cell_type": "code",
   "execution_count": 47,
   "metadata": {},
   "outputs": [
    {
     "name": "stdout",
     "output_type": "stream",
     "text": [
      "RMSE лучшей модели на тестовой выборке 1908.722651053233\n"
     ]
    }
   ],
   "source": [
    "#тестирование дерева решений \n",
    "\n",
    "predicted_test = model2.predict(fea_test_ord)\n",
    "print('RMSE лучшей модели на тестовой выборке', mean_squared_error(tar_test, predicted_test) ** 0.5)"
   ]
  }
 ],
 "metadata": {
  "ExecuteTimeLog": [
   {
    "duration": 1015,
    "start_time": "2023-03-25T13:46:13.110Z"
   },
   {
    "duration": 3146,
    "start_time": "2023-03-25T13:46:15.006Z"
   },
   {
    "duration": 8,
    "start_time": "2023-03-25T13:53:06.115Z"
   },
   {
    "duration": 964,
    "start_time": "2023-03-25T13:56:18.620Z"
   },
   {
    "duration": 848,
    "start_time": "2023-03-25T13:56:19.586Z"
   },
   {
    "duration": 38,
    "start_time": "2023-03-25T13:56:24.291Z"
   },
   {
    "duration": 25,
    "start_time": "2023-03-25T13:59:36.287Z"
   },
   {
    "duration": 784,
    "start_time": "2023-03-25T14:00:00.090Z"
   },
   {
    "duration": 1085,
    "start_time": "2023-03-25T14:01:13.245Z"
   },
   {
    "duration": 704,
    "start_time": "2023-03-25T14:01:15.065Z"
   },
   {
    "duration": 49,
    "start_time": "2023-03-25T14:01:16.566Z"
   },
   {
    "duration": 90,
    "start_time": "2023-03-25T14:01:18.246Z"
   },
   {
    "duration": 10,
    "start_time": "2023-03-25T14:03:29.290Z"
   },
   {
    "duration": 20,
    "start_time": "2023-03-25T14:05:30.111Z"
   },
   {
    "duration": 81,
    "start_time": "2023-03-25T14:05:42.081Z"
   },
   {
    "duration": 44,
    "start_time": "2023-03-25T14:05:50.860Z"
   },
   {
    "duration": 1102,
    "start_time": "2023-03-25T22:55:32.439Z"
   },
   {
    "duration": 1134,
    "start_time": "2023-03-25T22:55:33.543Z"
   },
   {
    "duration": 60,
    "start_time": "2023-03-25T22:55:34.679Z"
   },
   {
    "duration": 130,
    "start_time": "2023-03-25T22:55:34.742Z"
   },
   {
    "duration": 1334,
    "start_time": "2023-03-25T22:55:40.535Z"
   },
   {
    "duration": 589,
    "start_time": "2023-03-25T23:05:57.119Z"
   },
   {
    "duration": 1064,
    "start_time": "2023-03-26T06:51:32.671Z"
   },
   {
    "duration": 2743,
    "start_time": "2023-03-26T06:51:33.737Z"
   },
   {
    "duration": 49,
    "start_time": "2023-03-26T06:51:36.481Z"
   },
   {
    "duration": 118,
    "start_time": "2023-03-26T06:51:36.532Z"
   },
   {
    "duration": 114,
    "start_time": "2023-03-26T06:51:42.592Z"
   },
   {
    "duration": 99,
    "start_time": "2023-03-26T06:52:00.231Z"
   },
   {
    "duration": 94,
    "start_time": "2023-03-26T06:53:26.992Z"
   },
   {
    "duration": 182,
    "start_time": "2023-03-26T06:55:20.151Z"
   },
   {
    "duration": 1115,
    "start_time": "2023-03-26T06:55:57.224Z"
   },
   {
    "duration": 815,
    "start_time": "2023-03-26T06:55:58.962Z"
   },
   {
    "duration": 491,
    "start_time": "2023-03-26T06:56:00.582Z"
   },
   {
    "duration": 139,
    "start_time": "2023-03-26T06:56:40.751Z"
   },
   {
    "duration": 518,
    "start_time": "2023-03-26T07:04:14.143Z"
   },
   {
    "duration": 505,
    "start_time": "2023-03-26T07:04:36.632Z"
   },
   {
    "duration": 455,
    "start_time": "2023-03-26T07:04:50.460Z"
   },
   {
    "duration": 29,
    "start_time": "2023-03-26T07:05:02.360Z"
   },
   {
    "duration": 114,
    "start_time": "2023-03-26T07:05:30.895Z"
   },
   {
    "duration": 1084,
    "start_time": "2023-03-26T07:14:58.167Z"
   },
   {
    "duration": 829,
    "start_time": "2023-03-26T07:14:59.253Z"
   },
   {
    "duration": 486,
    "start_time": "2023-03-26T07:15:00.084Z"
   },
   {
    "duration": 556,
    "start_time": "2023-03-26T07:15:00.573Z"
   },
   {
    "duration": 3,
    "start_time": "2023-03-26T07:15:01.131Z"
   },
   {
    "duration": 81,
    "start_time": "2023-03-26T07:15:01.135Z"
   },
   {
    "duration": 155,
    "start_time": "2023-03-26T07:15:01.218Z"
   },
   {
    "duration": 148,
    "start_time": "2023-03-26T07:15:01.375Z"
   },
   {
    "duration": 185,
    "start_time": "2023-03-26T07:15:01.525Z"
   },
   {
    "duration": 102,
    "start_time": "2023-03-26T07:15:24.818Z"
   },
   {
    "duration": 9,
    "start_time": "2023-03-26T07:15:54.189Z"
   },
   {
    "duration": 8,
    "start_time": "2023-03-26T07:15:59.478Z"
   },
   {
    "duration": 52,
    "start_time": "2023-03-26T07:16:47.899Z"
   },
   {
    "duration": 34,
    "start_time": "2023-03-26T07:17:35.558Z"
   },
   {
    "duration": 36,
    "start_time": "2023-03-26T07:18:06.005Z"
   },
   {
    "duration": 25,
    "start_time": "2023-03-26T07:18:38.617Z"
   },
   {
    "duration": 39,
    "start_time": "2023-03-26T07:19:55.017Z"
   },
   {
    "duration": 38,
    "start_time": "2023-03-26T07:20:24.790Z"
   },
   {
    "duration": 44,
    "start_time": "2023-03-26T07:21:03.959Z"
   },
   {
    "duration": 1232,
    "start_time": "2023-03-26T07:22:16.277Z"
   },
   {
    "duration": 71,
    "start_time": "2023-03-26T07:23:43.238Z"
   },
   {
    "duration": 1178,
    "start_time": "2023-03-26T07:25:36.858Z"
   },
   {
    "duration": 841,
    "start_time": "2023-03-26T07:25:39.010Z"
   },
   {
    "duration": 500,
    "start_time": "2023-03-26T07:25:41.889Z"
   },
   {
    "duration": 609,
    "start_time": "2023-03-26T07:25:43.809Z"
   },
   {
    "duration": 3,
    "start_time": "2023-03-26T07:25:46.418Z"
   },
   {
    "duration": 55,
    "start_time": "2023-03-26T07:25:54.190Z"
   },
   {
    "duration": 126,
    "start_time": "2023-03-26T07:25:56.650Z"
   },
   {
    "duration": 127,
    "start_time": "2023-03-26T07:26:21.237Z"
   },
   {
    "duration": 1009,
    "start_time": "2023-03-26T07:26:31.117Z"
   },
   {
    "duration": 7,
    "start_time": "2023-03-26T07:27:18.558Z"
   },
   {
    "duration": 86,
    "start_time": "2023-03-26T07:29:12.710Z"
   },
   {
    "duration": 20,
    "start_time": "2023-03-26T07:31:08.863Z"
   },
   {
    "duration": 646,
    "start_time": "2023-03-26T07:31:13.448Z"
   },
   {
    "duration": 805,
    "start_time": "2023-03-26T08:00:31.312Z"
   },
   {
    "duration": 8,
    "start_time": "2023-03-26T08:07:30.424Z"
   },
   {
    "duration": 42,
    "start_time": "2023-03-26T08:08:07.240Z"
   },
   {
    "duration": 28,
    "start_time": "2023-03-26T08:10:06.618Z"
   },
   {
    "duration": 32,
    "start_time": "2023-03-26T08:10:32.612Z"
   },
   {
    "duration": 161,
    "start_time": "2023-03-26T08:11:08.478Z"
   },
   {
    "duration": 17,
    "start_time": "2023-03-26T08:11:24.125Z"
   },
   {
    "duration": 9,
    "start_time": "2023-03-26T08:11:40.827Z"
   },
   {
    "duration": 9,
    "start_time": "2023-03-26T08:11:58.619Z"
   },
   {
    "duration": 23,
    "start_time": "2023-03-26T08:17:11.684Z"
   },
   {
    "duration": 11,
    "start_time": "2023-03-26T08:18:20.726Z"
   },
   {
    "duration": 14,
    "start_time": "2023-03-26T08:18:35.490Z"
   },
   {
    "duration": 25,
    "start_time": "2023-03-26T08:18:42.224Z"
   },
   {
    "duration": 28,
    "start_time": "2023-03-26T08:19:51.565Z"
   },
   {
    "duration": 11,
    "start_time": "2023-03-26T08:20:14.166Z"
   },
   {
    "duration": 1147,
    "start_time": "2023-03-26T20:24:36.575Z"
   },
   {
    "duration": 3234,
    "start_time": "2023-03-26T20:24:37.725Z"
   },
   {
    "duration": 576,
    "start_time": "2023-03-26T20:24:40.961Z"
   },
   {
    "duration": 699,
    "start_time": "2023-03-26T20:24:41.539Z"
   },
   {
    "duration": 4,
    "start_time": "2023-03-26T20:24:42.240Z"
   },
   {
    "duration": 61,
    "start_time": "2023-03-26T20:24:42.245Z"
   },
   {
    "duration": 114,
    "start_time": "2023-03-26T20:24:42.308Z"
   },
   {
    "duration": 128,
    "start_time": "2023-03-26T20:24:42.424Z"
   },
   {
    "duration": 83,
    "start_time": "2023-03-26T20:24:42.553Z"
   },
   {
    "duration": 20,
    "start_time": "2023-03-26T20:24:42.637Z"
   },
   {
    "duration": 1127,
    "start_time": "2023-03-26T20:24:42.658Z"
   },
   {
    "duration": 26,
    "start_time": "2023-03-26T21:17:44.938Z"
   },
   {
    "duration": 9,
    "start_time": "2023-03-26T21:18:01.888Z"
   },
   {
    "duration": 71,
    "start_time": "2023-03-26T21:19:26.272Z"
   },
   {
    "duration": 10,
    "start_time": "2023-03-26T21:19:41.034Z"
   },
   {
    "duration": 8,
    "start_time": "2023-03-26T21:19:52.179Z"
   },
   {
    "duration": 59,
    "start_time": "2023-03-26T21:23:42.667Z"
   },
   {
    "duration": 45,
    "start_time": "2023-03-26T21:30:39.327Z"
   },
   {
    "duration": 320,
    "start_time": "2023-03-26T21:31:12.413Z"
   },
   {
    "duration": 157,
    "start_time": "2023-03-26T21:31:18.143Z"
   },
   {
    "duration": 218,
    "start_time": "2023-03-26T21:31:30.371Z"
   },
   {
    "duration": 3,
    "start_time": "2023-03-26T21:32:27.168Z"
   },
   {
    "duration": 277,
    "start_time": "2023-03-26T21:32:38.104Z"
   },
   {
    "duration": 17,
    "start_time": "2023-03-26T21:33:28.213Z"
   },
   {
    "duration": 15,
    "start_time": "2023-03-26T21:33:40.358Z"
   },
   {
    "duration": 1413,
    "start_time": "2023-03-26T21:36:09.286Z"
   },
   {
    "duration": 2151,
    "start_time": "2023-03-26T21:36:10.701Z"
   },
   {
    "duration": 529,
    "start_time": "2023-03-26T21:36:12.854Z"
   },
   {
    "duration": 593,
    "start_time": "2023-03-26T21:36:13.386Z"
   },
   {
    "duration": 5,
    "start_time": "2023-03-26T21:36:13.981Z"
   },
   {
    "duration": 80,
    "start_time": "2023-03-26T21:36:13.989Z"
   },
   {
    "duration": 140,
    "start_time": "2023-03-26T21:36:14.071Z"
   },
   {
    "duration": 115,
    "start_time": "2023-03-26T21:36:14.220Z"
   },
   {
    "duration": 88,
    "start_time": "2023-03-26T21:36:14.339Z"
   },
   {
    "duration": 20,
    "start_time": "2023-03-26T21:36:14.432Z"
   },
   {
    "duration": 681,
    "start_time": "2023-03-26T21:36:14.454Z"
   },
   {
    "duration": 12,
    "start_time": "2023-03-26T21:36:23.434Z"
   },
   {
    "duration": 44,
    "start_time": "2023-03-26T21:39:39.434Z"
   },
   {
    "duration": 118,
    "start_time": "2023-03-26T21:39:50.164Z"
   },
   {
    "duration": 290,
    "start_time": "2023-03-26T21:40:00.686Z"
   },
   {
    "duration": 402,
    "start_time": "2023-03-26T21:40:24.463Z"
   },
   {
    "duration": 21,
    "start_time": "2023-03-26T21:40:37.594Z"
   },
   {
    "duration": 10,
    "start_time": "2023-03-26T21:40:45.480Z"
   },
   {
    "duration": 18,
    "start_time": "2023-03-26T21:41:05.579Z"
   },
   {
    "duration": 233,
    "start_time": "2023-03-26T21:41:10.467Z"
   },
   {
    "duration": 478,
    "start_time": "2023-03-26T21:43:06.514Z"
   },
   {
    "duration": 519,
    "start_time": "2023-03-26T21:44:04.526Z"
   },
   {
    "duration": 477,
    "start_time": "2023-03-26T21:47:09.159Z"
   },
   {
    "duration": 406,
    "start_time": "2023-03-26T21:47:29.602Z"
   },
   {
    "duration": 489,
    "start_time": "2023-03-26T21:47:38.562Z"
   },
   {
    "duration": 659,
    "start_time": "2023-03-26T21:48:25.151Z"
   },
   {
    "duration": 491,
    "start_time": "2023-03-26T21:48:33.068Z"
   },
   {
    "duration": 183,
    "start_time": "2023-03-26T21:58:27.547Z"
   },
   {
    "duration": 8,
    "start_time": "2023-03-26T21:59:07.227Z"
   },
   {
    "duration": 29,
    "start_time": "2023-03-26T21:59:36.499Z"
   },
   {
    "duration": 32,
    "start_time": "2023-03-26T22:00:51.770Z"
   },
   {
    "duration": 402,
    "start_time": "2023-03-26T22:02:37.875Z"
   },
   {
    "duration": 375,
    "start_time": "2023-03-26T22:02:52.919Z"
   },
   {
    "duration": 438,
    "start_time": "2023-03-26T22:03:12.658Z"
   },
   {
    "duration": 155,
    "start_time": "2023-03-26T22:03:19.998Z"
   },
   {
    "duration": 142,
    "start_time": "2023-03-26T22:04:09.539Z"
   },
   {
    "duration": 161,
    "start_time": "2023-03-26T22:04:22.134Z"
   },
   {
    "duration": 158,
    "start_time": "2023-03-26T22:05:34.339Z"
   },
   {
    "duration": 169,
    "start_time": "2023-03-26T22:06:25.328Z"
   },
   {
    "duration": 159,
    "start_time": "2023-03-26T22:07:35.622Z"
   },
   {
    "duration": 130,
    "start_time": "2023-03-26T22:10:08.227Z"
   },
   {
    "duration": 243,
    "start_time": "2023-03-26T22:10:24.019Z"
   },
   {
    "duration": 148,
    "start_time": "2023-03-26T22:11:11.110Z"
   },
   {
    "duration": 149,
    "start_time": "2023-03-26T22:11:15.694Z"
   },
   {
    "duration": 309,
    "start_time": "2023-03-26T22:21:23.066Z"
   },
   {
    "duration": 321,
    "start_time": "2023-03-26T22:22:05.251Z"
   },
   {
    "duration": 98,
    "start_time": "2023-03-26T22:25:54.081Z"
   },
   {
    "duration": 310,
    "start_time": "2023-03-26T22:26:16.428Z"
   },
   {
    "duration": 333,
    "start_time": "2023-03-26T22:26:34.447Z"
   },
   {
    "duration": 1468,
    "start_time": "2023-03-26T22:34:25.424Z"
   },
   {
    "duration": 959,
    "start_time": "2023-03-26T22:34:26.894Z"
   },
   {
    "duration": 577,
    "start_time": "2023-03-26T22:34:27.855Z"
   },
   {
    "duration": 637,
    "start_time": "2023-03-26T22:34:28.436Z"
   },
   {
    "duration": 4,
    "start_time": "2023-03-26T22:34:29.075Z"
   },
   {
    "duration": 66,
    "start_time": "2023-03-26T22:34:29.082Z"
   },
   {
    "duration": 122,
    "start_time": "2023-03-26T22:34:29.149Z"
   },
   {
    "duration": 215,
    "start_time": "2023-03-26T22:34:29.273Z"
   },
   {
    "duration": 82,
    "start_time": "2023-03-26T22:34:29.491Z"
   },
   {
    "duration": 20,
    "start_time": "2023-03-26T22:34:29.576Z"
   },
   {
    "duration": 671,
    "start_time": "2023-03-26T22:34:29.606Z"
   },
   {
    "duration": 10,
    "start_time": "2023-03-26T22:34:30.279Z"
   },
   {
    "duration": 60,
    "start_time": "2023-03-26T22:34:30.291Z"
   },
   {
    "duration": 371,
    "start_time": "2023-03-26T22:34:30.353Z"
   },
   {
    "duration": 184,
    "start_time": "2023-03-26T22:34:30.727Z"
   },
   {
    "duration": 284,
    "start_time": "2023-03-26T22:34:30.915Z"
   },
   {
    "duration": 77,
    "start_time": "2023-03-26T22:34:37.148Z"
   },
   {
    "duration": 117,
    "start_time": "2023-03-26T22:35:13.560Z"
   },
   {
    "duration": 116,
    "start_time": "2023-03-26T22:39:14.131Z"
   },
   {
    "duration": 159,
    "start_time": "2023-03-26T22:39:18.297Z"
   },
   {
    "duration": 69,
    "start_time": "2023-03-26T22:45:38.030Z"
   },
   {
    "duration": 123,
    "start_time": "2023-03-26T22:56:55.357Z"
   },
   {
    "duration": 43,
    "start_time": "2023-03-26T22:59:12.352Z"
   },
   {
    "duration": 378,
    "start_time": "2023-03-26T22:59:54.610Z"
   },
   {
    "duration": 1409,
    "start_time": "2023-03-26T23:00:48.244Z"
   },
   {
    "duration": 921,
    "start_time": "2023-03-26T23:00:49.658Z"
   },
   {
    "duration": 555,
    "start_time": "2023-03-26T23:00:50.581Z"
   },
   {
    "duration": 612,
    "start_time": "2023-03-26T23:00:51.138Z"
   },
   {
    "duration": 3,
    "start_time": "2023-03-26T23:00:51.763Z"
   },
   {
    "duration": 65,
    "start_time": "2023-03-26T23:00:51.768Z"
   },
   {
    "duration": 138,
    "start_time": "2023-03-26T23:00:51.835Z"
   },
   {
    "duration": 157,
    "start_time": "2023-03-26T23:00:51.976Z"
   },
   {
    "duration": 87,
    "start_time": "2023-03-26T23:00:52.135Z"
   },
   {
    "duration": 22,
    "start_time": "2023-03-26T23:00:52.227Z"
   },
   {
    "duration": 686,
    "start_time": "2023-03-26T23:00:52.252Z"
   },
   {
    "duration": 16,
    "start_time": "2023-03-26T23:00:52.939Z"
   },
   {
    "duration": 7,
    "start_time": "2023-03-26T23:01:52.447Z"
   },
   {
    "duration": 10,
    "start_time": "2023-03-26T23:01:57.880Z"
   },
   {
    "duration": 7,
    "start_time": "2023-03-26T23:02:08.783Z"
   },
   {
    "duration": 36,
    "start_time": "2023-03-26T23:02:16.447Z"
   },
   {
    "duration": 383,
    "start_time": "2023-03-26T23:02:29.280Z"
   },
   {
    "duration": 174,
    "start_time": "2023-03-26T23:02:37.819Z"
   },
   {
    "duration": 270,
    "start_time": "2023-03-26T23:02:49.798Z"
   },
   {
    "duration": 89,
    "start_time": "2023-03-26T23:02:56.753Z"
   },
   {
    "duration": 73,
    "start_time": "2023-03-26T23:03:07.478Z"
   },
   {
    "duration": 110,
    "start_time": "2023-03-26T23:03:21.731Z"
   },
   {
    "duration": 39,
    "start_time": "2023-03-26T23:03:22.830Z"
   },
   {
    "duration": 10,
    "start_time": "2023-03-26T23:03:44.929Z"
   },
   {
    "duration": 8,
    "start_time": "2023-03-26T23:04:26.383Z"
   },
   {
    "duration": 7,
    "start_time": "2023-03-26T23:05:03.159Z"
   },
   {
    "duration": 1506,
    "start_time": "2023-03-27T16:32:49.656Z"
   },
   {
    "duration": 2749,
    "start_time": "2023-03-27T16:32:51.164Z"
   },
   {
    "duration": 415,
    "start_time": "2023-03-27T16:32:53.915Z"
   },
   {
    "duration": 479,
    "start_time": "2023-03-27T16:32:54.332Z"
   },
   {
    "duration": 3,
    "start_time": "2023-03-27T16:32:54.814Z"
   },
   {
    "duration": 67,
    "start_time": "2023-03-27T16:32:54.820Z"
   },
   {
    "duration": 136,
    "start_time": "2023-03-27T16:32:54.889Z"
   },
   {
    "duration": 121,
    "start_time": "2023-03-27T16:32:55.026Z"
   },
   {
    "duration": 78,
    "start_time": "2023-03-27T16:32:55.149Z"
   },
   {
    "duration": 20,
    "start_time": "2023-03-27T16:32:55.230Z"
   },
   {
    "duration": 576,
    "start_time": "2023-03-27T16:32:55.252Z"
   },
   {
    "duration": 8,
    "start_time": "2023-03-27T16:32:55.829Z"
   },
   {
    "duration": 50,
    "start_time": "2023-03-27T16:32:55.838Z"
   },
   {
    "duration": 306,
    "start_time": "2023-03-27T16:32:55.889Z"
   },
   {
    "duration": 132,
    "start_time": "2023-03-27T16:32:56.197Z"
   },
   {
    "duration": 244,
    "start_time": "2023-03-27T16:32:56.330Z"
   },
   {
    "duration": 91,
    "start_time": "2023-03-27T16:32:56.576Z"
   },
   {
    "duration": 66,
    "start_time": "2023-03-27T16:32:56.669Z"
   },
   {
    "duration": 98,
    "start_time": "2023-03-27T16:32:56.737Z"
   },
   {
    "duration": 36,
    "start_time": "2023-03-27T16:32:56.836Z"
   },
   {
    "duration": 106,
    "start_time": "2023-03-27T16:33:09.125Z"
   },
   {
    "duration": 22,
    "start_time": "2023-03-27T16:33:38.397Z"
   },
   {
    "duration": 36,
    "start_time": "2023-03-27T16:34:43.908Z"
   },
   {
    "duration": 15,
    "start_time": "2023-03-27T16:38:09.245Z"
   },
   {
    "duration": 101,
    "start_time": "2023-03-27T16:46:35.785Z"
   },
   {
    "duration": 23,
    "start_time": "2023-03-27T16:48:09.113Z"
   },
   {
    "duration": 466,
    "start_time": "2023-03-27T16:49:35.689Z"
   },
   {
    "duration": 1048,
    "start_time": "2023-03-27T16:52:12.553Z"
   },
   {
    "duration": 1571,
    "start_time": "2023-03-27T21:00:53.843Z"
   },
   {
    "duration": 3479,
    "start_time": "2023-03-27T21:00:55.416Z"
   },
   {
    "duration": 422,
    "start_time": "2023-03-27T21:00:58.897Z"
   },
   {
    "duration": 457,
    "start_time": "2023-03-27T21:00:59.320Z"
   },
   {
    "duration": 3,
    "start_time": "2023-03-27T21:00:59.779Z"
   },
   {
    "duration": 76,
    "start_time": "2023-03-27T21:00:59.783Z"
   },
   {
    "duration": 131,
    "start_time": "2023-03-27T21:00:59.861Z"
   },
   {
    "duration": 107,
    "start_time": "2023-03-27T21:00:59.994Z"
   },
   {
    "duration": 74,
    "start_time": "2023-03-27T21:01:00.102Z"
   },
   {
    "duration": 18,
    "start_time": "2023-03-27T21:01:00.178Z"
   },
   {
    "duration": 578,
    "start_time": "2023-03-27T21:01:00.197Z"
   },
   {
    "duration": 12,
    "start_time": "2023-03-27T21:01:00.776Z"
   },
   {
    "duration": 53,
    "start_time": "2023-03-27T21:01:00.789Z"
   },
   {
    "duration": 338,
    "start_time": "2023-03-27T21:01:00.845Z"
   },
   {
    "duration": 205,
    "start_time": "2023-03-27T21:01:01.184Z"
   },
   {
    "duration": 156,
    "start_time": "2023-03-27T21:01:01.391Z"
   },
   {
    "duration": 85,
    "start_time": "2023-03-27T21:01:01.548Z"
   },
   {
    "duration": 81,
    "start_time": "2023-03-27T21:01:01.635Z"
   },
   {
    "duration": 80,
    "start_time": "2023-03-27T21:01:01.717Z"
   },
   {
    "duration": 111,
    "start_time": "2023-03-27T21:01:01.798Z"
   },
   {
    "duration": 23,
    "start_time": "2023-03-27T21:01:01.910Z"
   },
   {
    "duration": 112,
    "start_time": "2023-03-27T21:01:01.935Z"
   },
   {
    "duration": 839,
    "start_time": "2023-03-27T21:01:02.048Z"
   },
   {
    "duration": 96,
    "start_time": "2023-03-27T21:19:28.289Z"
   },
   {
    "duration": 3,
    "start_time": "2023-03-27T21:21:14.266Z"
   },
   {
    "duration": 221,
    "start_time": "2023-03-27T21:28:43.772Z"
   },
   {
    "duration": 40799,
    "start_time": "2023-03-27T21:29:02.316Z"
   },
   {
    "duration": 1446,
    "start_time": "2023-03-27T21:34:28.708Z"
   },
   {
    "duration": 3164,
    "start_time": "2023-03-27T21:34:30.164Z"
   },
   {
    "duration": 458,
    "start_time": "2023-03-27T21:34:33.329Z"
   },
   {
    "duration": 480,
    "start_time": "2023-03-27T21:34:33.789Z"
   },
   {
    "duration": 2,
    "start_time": "2023-03-27T21:34:34.272Z"
   },
   {
    "duration": 55,
    "start_time": "2023-03-27T21:34:34.276Z"
   },
   {
    "duration": 137,
    "start_time": "2023-03-27T21:34:34.332Z"
   },
   {
    "duration": 151,
    "start_time": "2023-03-27T21:34:34.470Z"
   },
   {
    "duration": 77,
    "start_time": "2023-03-27T21:34:34.624Z"
   },
   {
    "duration": 18,
    "start_time": "2023-03-27T21:34:34.704Z"
   },
   {
    "duration": 639,
    "start_time": "2023-03-27T21:34:34.723Z"
   },
   {
    "duration": 7,
    "start_time": "2023-03-27T21:34:35.364Z"
   },
   {
    "duration": 67,
    "start_time": "2023-03-27T21:34:35.373Z"
   },
   {
    "duration": 356,
    "start_time": "2023-03-27T21:34:35.442Z"
   },
   {
    "duration": 224,
    "start_time": "2023-03-27T21:34:35.799Z"
   },
   {
    "duration": 194,
    "start_time": "2023-03-27T21:34:36.026Z"
   },
   {
    "duration": 89,
    "start_time": "2023-03-27T21:34:36.221Z"
   },
   {
    "duration": 84,
    "start_time": "2023-03-27T21:34:36.312Z"
   },
   {
    "duration": 42,
    "start_time": "2023-03-27T21:34:36.397Z"
   },
   {
    "duration": 50,
    "start_time": "2023-03-27T21:34:36.440Z"
   },
   {
    "duration": 50,
    "start_time": "2023-03-27T21:34:36.492Z"
   },
   {
    "duration": 146,
    "start_time": "2023-03-27T21:34:36.543Z"
   },
   {
    "duration": 3,
    "start_time": "2023-03-27T21:34:36.692Z"
   },
   {
    "duration": 79286,
    "start_time": "2023-03-27T21:34:40.426Z"
   },
   {
    "duration": 3,
    "start_time": "2023-03-27T21:36:55.114Z"
   },
   {
    "duration": 37899,
    "start_time": "2023-03-27T21:36:58.664Z"
   },
   {
    "duration": 184,
    "start_time": "2023-03-27T21:38:18.561Z"
   },
   {
    "duration": 35,
    "start_time": "2023-03-27T21:38:51.225Z"
   },
   {
    "duration": 169,
    "start_time": "2023-03-27T21:39:21.713Z"
   },
   {
    "duration": 96,
    "start_time": "2023-03-27T21:40:15.690Z"
   },
   {
    "duration": 93,
    "start_time": "2023-03-27T21:41:36.614Z"
   },
   {
    "duration": 86,
    "start_time": "2023-03-27T21:42:33.123Z"
   },
   {
    "duration": 386,
    "start_time": "2023-03-27T21:47:11.365Z"
   },
   {
    "duration": 412,
    "start_time": "2023-03-27T21:47:46.860Z"
   },
   {
    "duration": 506,
    "start_time": "2023-03-27T21:50:31.333Z"
   },
   {
    "duration": 395,
    "start_time": "2023-03-27T21:52:25.781Z"
   },
   {
    "duration": 49376,
    "start_time": "2023-03-27T21:53:40.272Z"
   },
   {
    "duration": 141,
    "start_time": "2023-03-27T21:58:59.314Z"
   },
   {
    "duration": 1623,
    "start_time": "2023-03-28T10:23:56.651Z"
   },
   {
    "duration": 1236,
    "start_time": "2023-03-28T10:23:58.278Z"
   },
   {
    "duration": 481,
    "start_time": "2023-03-28T10:23:59.517Z"
   },
   {
    "duration": 559,
    "start_time": "2023-03-28T10:24:00.001Z"
   },
   {
    "duration": 3,
    "start_time": "2023-03-28T10:24:00.562Z"
   },
   {
    "duration": 80,
    "start_time": "2023-03-28T10:24:00.567Z"
   },
   {
    "duration": 116,
    "start_time": "2023-03-28T10:24:00.649Z"
   },
   {
    "duration": 141,
    "start_time": "2023-03-28T10:24:00.767Z"
   },
   {
    "duration": 73,
    "start_time": "2023-03-28T10:24:00.910Z"
   },
   {
    "duration": 28,
    "start_time": "2023-03-28T10:24:00.986Z"
   },
   {
    "duration": 668,
    "start_time": "2023-03-28T10:24:01.016Z"
   },
   {
    "duration": 18,
    "start_time": "2023-03-28T10:24:01.686Z"
   },
   {
    "duration": 53,
    "start_time": "2023-03-28T10:24:01.706Z"
   },
   {
    "duration": 365,
    "start_time": "2023-03-28T10:24:01.761Z"
   },
   {
    "duration": 228,
    "start_time": "2023-03-28T10:24:02.128Z"
   },
   {
    "duration": 163,
    "start_time": "2023-03-28T10:24:02.358Z"
   },
   {
    "duration": 97,
    "start_time": "2023-03-28T10:24:02.523Z"
   },
   {
    "duration": 62,
    "start_time": "2023-03-28T10:24:02.622Z"
   },
   {
    "duration": 111,
    "start_time": "2023-03-28T10:24:02.686Z"
   },
   {
    "duration": 39,
    "start_time": "2023-03-28T10:24:02.799Z"
   },
   {
    "duration": 26,
    "start_time": "2023-03-28T10:24:02.839Z"
   },
   {
    "duration": 1059,
    "start_time": "2023-03-28T10:24:02.867Z"
   },
   {
    "duration": 130,
    "start_time": "2023-03-28T10:24:03.928Z"
   },
   {
    "duration": 602,
    "start_time": "2023-03-28T10:24:04.060Z"
   },
   {
    "duration": 38747,
    "start_time": "2023-03-28T10:24:04.664Z"
   },
   {
    "duration": 223,
    "start_time": "2023-03-28T10:38:23.220Z"
   },
   {
    "duration": 117,
    "start_time": "2023-03-28T10:38:51.370Z"
   },
   {
    "duration": 70764,
    "start_time": "2023-03-28T10:41:32.898Z"
   },
   {
    "duration": 3,
    "start_time": "2023-03-28T10:59:04.986Z"
   },
   {
    "duration": 83,
    "start_time": "2023-03-28T11:04:06.992Z"
   },
   {
    "duration": 10,
    "start_time": "2023-03-28T11:25:06.297Z"
   },
   {
    "duration": 3,
    "start_time": "2023-03-28T11:25:28.321Z"
   },
   {
    "duration": 3,
    "start_time": "2023-03-28T12:11:22.346Z"
   },
   {
    "duration": 10,
    "start_time": "2023-03-28T12:38:23.631Z"
   },
   {
    "duration": 2,
    "start_time": "2023-03-28T12:39:19.823Z"
   },
   {
    "duration": 9,
    "start_time": "2023-03-28T12:39:22.686Z"
   },
   {
    "duration": 10,
    "start_time": "2023-03-28T12:42:47.335Z"
   },
   {
    "duration": 4,
    "start_time": "2023-03-28T12:43:03.701Z"
   },
   {
    "duration": 10,
    "start_time": "2023-03-28T12:44:29.845Z"
   },
   {
    "duration": 3,
    "start_time": "2023-03-28T12:50:57.580Z"
   },
   {
    "duration": 1506,
    "start_time": "2023-03-28T12:54:53.862Z"
   },
   {
    "duration": 884,
    "start_time": "2023-03-28T12:54:55.370Z"
   },
   {
    "duration": 539,
    "start_time": "2023-03-28T12:54:56.256Z"
   },
   {
    "duration": 595,
    "start_time": "2023-03-28T12:54:56.797Z"
   },
   {
    "duration": 4,
    "start_time": "2023-03-28T12:54:57.394Z"
   },
   {
    "duration": 70,
    "start_time": "2023-03-28T12:54:57.402Z"
   },
   {
    "duration": 111,
    "start_time": "2023-03-28T12:54:57.474Z"
   },
   {
    "duration": 129,
    "start_time": "2023-03-28T12:54:57.587Z"
   },
   {
    "duration": 73,
    "start_time": "2023-03-28T12:54:57.718Z"
   },
   {
    "duration": 23,
    "start_time": "2023-03-28T12:54:57.805Z"
   },
   {
    "duration": 684,
    "start_time": "2023-03-28T12:54:57.829Z"
   },
   {
    "duration": 10,
    "start_time": "2023-03-28T12:54:58.515Z"
   },
   {
    "duration": 39,
    "start_time": "2023-03-28T12:54:58.528Z"
   },
   {
    "duration": 381,
    "start_time": "2023-03-28T12:54:58.569Z"
   },
   {
    "duration": 253,
    "start_time": "2023-03-28T12:54:58.953Z"
   },
   {
    "duration": 183,
    "start_time": "2023-03-28T12:54:59.209Z"
   },
   {
    "duration": 98,
    "start_time": "2023-03-28T12:54:59.394Z"
   },
   {
    "duration": 76,
    "start_time": "2023-03-28T12:54:59.494Z"
   },
   {
    "duration": 110,
    "start_time": "2023-03-28T12:54:59.572Z"
   },
   {
    "duration": 54,
    "start_time": "2023-03-28T12:54:59.683Z"
   },
   {
    "duration": 21,
    "start_time": "2023-03-28T12:54:59.739Z"
   },
   {
    "duration": 1113,
    "start_time": "2023-03-28T12:54:59.761Z"
   },
   {
    "duration": 151,
    "start_time": "2023-03-28T12:55:00.876Z"
   },
   {
    "duration": 627,
    "start_time": "2023-03-28T12:55:01.030Z"
   },
   {
    "duration": 4,
    "start_time": "2023-03-28T12:55:05.231Z"
   },
   {
    "duration": 3,
    "start_time": "2023-03-28T12:55:08.332Z"
   },
   {
    "duration": 168,
    "start_time": "2023-03-28T12:55:44.356Z"
   },
   {
    "duration": 49,
    "start_time": "2023-03-28T12:56:42.930Z"
   },
   {
    "duration": 4,
    "start_time": "2023-03-28T12:58:39.570Z"
   },
   {
    "duration": 1496,
    "start_time": "2023-03-28T13:23:13.656Z"
   },
   {
    "duration": 864,
    "start_time": "2023-03-28T13:23:15.155Z"
   },
   {
    "duration": 506,
    "start_time": "2023-03-28T13:23:16.021Z"
   },
   {
    "duration": 569,
    "start_time": "2023-03-28T13:23:16.530Z"
   },
   {
    "duration": 3,
    "start_time": "2023-03-28T13:23:17.103Z"
   },
   {
    "duration": 50,
    "start_time": "2023-03-28T13:23:17.108Z"
   },
   {
    "duration": 121,
    "start_time": "2023-03-28T13:23:17.160Z"
   },
   {
    "duration": 151,
    "start_time": "2023-03-28T13:23:17.283Z"
   },
   {
    "duration": 88,
    "start_time": "2023-03-28T13:23:17.436Z"
   },
   {
    "duration": 23,
    "start_time": "2023-03-28T13:23:17.527Z"
   },
   {
    "duration": 731,
    "start_time": "2023-03-28T13:23:17.552Z"
   },
   {
    "duration": 10,
    "start_time": "2023-03-28T13:23:18.284Z"
   },
   {
    "duration": 37,
    "start_time": "2023-03-28T13:23:18.304Z"
   },
   {
    "duration": 360,
    "start_time": "2023-03-28T13:23:18.344Z"
   },
   {
    "duration": 235,
    "start_time": "2023-03-28T13:23:18.706Z"
   },
   {
    "duration": 166,
    "start_time": "2023-03-28T13:23:18.942Z"
   },
   {
    "duration": 101,
    "start_time": "2023-03-28T13:23:19.111Z"
   },
   {
    "duration": 64,
    "start_time": "2023-03-28T13:23:19.214Z"
   },
   {
    "duration": 112,
    "start_time": "2023-03-28T13:23:19.280Z"
   },
   {
    "duration": 45,
    "start_time": "2023-03-28T13:23:19.394Z"
   },
   {
    "duration": 19,
    "start_time": "2023-03-28T13:23:19.442Z"
   },
   {
    "duration": 1141,
    "start_time": "2023-03-28T13:23:19.463Z"
   },
   {
    "duration": 152,
    "start_time": "2023-03-28T13:23:20.607Z"
   },
   {
    "duration": 616,
    "start_time": "2023-03-28T13:23:20.761Z"
   },
   {
    "duration": 3,
    "start_time": "2023-03-28T13:23:27.328Z"
   },
   {
    "duration": 4,
    "start_time": "2023-03-28T13:23:41.496Z"
   },
   {
    "duration": 3,
    "start_time": "2023-03-28T13:23:45.626Z"
   },
   {
    "duration": 167,
    "start_time": "2023-03-28T13:23:54.020Z"
   },
   {
    "duration": 5,
    "start_time": "2023-03-28T13:24:51.918Z"
   },
   {
    "duration": 76,
    "start_time": "2023-03-28T13:24:54.663Z"
   },
   {
    "duration": 1346,
    "start_time": "2023-03-28T16:30:52.722Z"
   },
   {
    "duration": 825,
    "start_time": "2023-03-28T16:30:54.070Z"
   },
   {
    "duration": 473,
    "start_time": "2023-03-28T16:30:54.896Z"
   },
   {
    "duration": 544,
    "start_time": "2023-03-28T16:30:55.371Z"
   },
   {
    "duration": 3,
    "start_time": "2023-03-28T16:30:55.917Z"
   },
   {
    "duration": 50,
    "start_time": "2023-03-28T16:30:55.922Z"
   },
   {
    "duration": 111,
    "start_time": "2023-03-28T16:30:55.974Z"
   },
   {
    "duration": 131,
    "start_time": "2023-03-28T16:30:56.087Z"
   },
   {
    "duration": 72,
    "start_time": "2023-03-28T16:30:56.221Z"
   },
   {
    "duration": 19,
    "start_time": "2023-03-28T16:30:56.313Z"
   },
   {
    "duration": 616,
    "start_time": "2023-03-28T16:30:56.334Z"
   },
   {
    "duration": 9,
    "start_time": "2023-03-28T16:30:56.952Z"
   },
   {
    "duration": 56,
    "start_time": "2023-03-28T16:30:56.963Z"
   },
   {
    "duration": 367,
    "start_time": "2023-03-28T16:30:57.022Z"
   },
   {
    "duration": 254,
    "start_time": "2023-03-28T16:30:57.391Z"
   },
   {
    "duration": 169,
    "start_time": "2023-03-28T16:30:57.647Z"
   },
   {
    "duration": 77,
    "start_time": "2023-03-28T16:30:57.818Z"
   },
   {
    "duration": 68,
    "start_time": "2023-03-28T16:30:57.897Z"
   },
   {
    "duration": 113,
    "start_time": "2023-03-28T16:30:57.967Z"
   },
   {
    "duration": 52,
    "start_time": "2023-03-28T16:30:58.082Z"
   },
   {
    "duration": 18,
    "start_time": "2023-03-28T16:30:58.135Z"
   },
   {
    "duration": 888,
    "start_time": "2023-03-28T16:30:58.155Z"
   },
   {
    "duration": 123,
    "start_time": "2023-03-28T16:30:59.045Z"
   },
   {
    "duration": 578,
    "start_time": "2023-03-28T16:30:59.169Z"
   },
   {
    "duration": 3,
    "start_time": "2023-03-28T16:31:48.911Z"
   },
   {
    "duration": 3,
    "start_time": "2023-03-28T16:31:52.443Z"
   },
   {
    "duration": 1912,
    "start_time": "2023-03-28T18:29:51.856Z"
   },
   {
    "duration": 3073,
    "start_time": "2023-03-28T18:29:53.771Z"
   },
   {
    "duration": 538,
    "start_time": "2023-03-28T18:29:56.846Z"
   },
   {
    "duration": 615,
    "start_time": "2023-03-28T18:29:57.386Z"
   },
   {
    "duration": 7,
    "start_time": "2023-03-28T18:29:58.007Z"
   },
   {
    "duration": 70,
    "start_time": "2023-03-28T18:29:58.016Z"
   },
   {
    "duration": 129,
    "start_time": "2023-03-28T18:29:58.088Z"
   },
   {
    "duration": 131,
    "start_time": "2023-03-28T18:29:58.219Z"
   },
   {
    "duration": 71,
    "start_time": "2023-03-28T18:29:58.352Z"
   },
   {
    "duration": 18,
    "start_time": "2023-03-28T18:29:58.435Z"
   },
   {
    "duration": 662,
    "start_time": "2023-03-28T18:29:58.454Z"
   },
   {
    "duration": 18,
    "start_time": "2023-03-28T18:29:59.119Z"
   },
   {
    "duration": 37,
    "start_time": "2023-03-28T18:29:59.138Z"
   },
   {
    "duration": 346,
    "start_time": "2023-03-28T18:29:59.178Z"
   },
   {
    "duration": 235,
    "start_time": "2023-03-28T18:29:59.527Z"
   },
   {
    "duration": 169,
    "start_time": "2023-03-28T18:29:59.764Z"
   },
   {
    "duration": 103,
    "start_time": "2023-03-28T18:29:59.935Z"
   },
   {
    "duration": 67,
    "start_time": "2023-03-28T18:30:00.041Z"
   },
   {
    "duration": 110,
    "start_time": "2023-03-28T18:30:00.111Z"
   },
   {
    "duration": 45,
    "start_time": "2023-03-28T18:30:00.223Z"
   },
   {
    "duration": 34,
    "start_time": "2023-03-28T18:30:00.270Z"
   },
   {
    "duration": 1204,
    "start_time": "2023-03-28T18:30:00.307Z"
   },
   {
    "duration": 130,
    "start_time": "2023-03-28T18:30:01.513Z"
   },
   {
    "duration": 620,
    "start_time": "2023-03-28T18:30:01.645Z"
   },
   {
    "duration": 1499,
    "start_time": "2023-03-28T18:31:12.434Z"
   },
   {
    "duration": 976,
    "start_time": "2023-03-28T18:31:13.935Z"
   },
   {
    "duration": 560,
    "start_time": "2023-03-28T18:31:14.913Z"
   },
   {
    "duration": 622,
    "start_time": "2023-03-28T18:31:15.476Z"
   },
   {
    "duration": 4,
    "start_time": "2023-03-28T18:31:16.100Z"
   },
   {
    "duration": 62,
    "start_time": "2023-03-28T18:31:16.106Z"
   },
   {
    "duration": 151,
    "start_time": "2023-03-28T18:31:16.170Z"
   },
   {
    "duration": 161,
    "start_time": "2023-03-28T18:31:16.335Z"
   },
   {
    "duration": 95,
    "start_time": "2023-03-28T18:31:16.498Z"
   },
   {
    "duration": 22,
    "start_time": "2023-03-28T18:31:16.598Z"
   },
   {
    "duration": 731,
    "start_time": "2023-03-28T18:31:16.634Z"
   },
   {
    "duration": 12,
    "start_time": "2023-03-28T18:31:17.368Z"
   },
   {
    "duration": 58,
    "start_time": "2023-03-28T18:31:17.382Z"
   },
   {
    "duration": 334,
    "start_time": "2023-03-28T18:31:17.442Z"
   },
   {
    "duration": 242,
    "start_time": "2023-03-28T18:31:17.778Z"
   },
   {
    "duration": 182,
    "start_time": "2023-03-28T18:31:18.022Z"
   },
   {
    "duration": 99,
    "start_time": "2023-03-28T18:31:18.206Z"
   },
   {
    "duration": 70,
    "start_time": "2023-03-28T18:31:18.308Z"
   },
   {
    "duration": 108,
    "start_time": "2023-03-28T18:31:18.380Z"
   },
   {
    "duration": 36,
    "start_time": "2023-03-28T18:31:18.491Z"
   },
   {
    "duration": 17,
    "start_time": "2023-03-28T18:31:18.533Z"
   },
   {
    "duration": 1142,
    "start_time": "2023-03-28T18:31:18.552Z"
   },
   {
    "duration": 603,
    "start_time": "2023-03-28T18:31:19.696Z"
   },
   {
    "duration": 5,
    "start_time": "2023-03-28T18:31:42.040Z"
   },
   {
    "duration": 4,
    "start_time": "2023-03-28T18:31:44.230Z"
   },
   {
    "duration": 1429,
    "start_time": "2023-03-28T21:32:02.286Z"
   },
   {
    "duration": 918,
    "start_time": "2023-03-28T21:32:03.717Z"
   },
   {
    "duration": 537,
    "start_time": "2023-03-28T21:32:04.637Z"
   },
   {
    "duration": 566,
    "start_time": "2023-03-28T21:32:05.176Z"
   },
   {
    "duration": 3,
    "start_time": "2023-03-28T21:32:05.744Z"
   },
   {
    "duration": 68,
    "start_time": "2023-03-28T21:32:05.749Z"
   },
   {
    "duration": 121,
    "start_time": "2023-03-28T21:32:05.819Z"
   },
   {
    "duration": 134,
    "start_time": "2023-03-28T21:32:05.942Z"
   },
   {
    "duration": 73,
    "start_time": "2023-03-28T21:32:06.078Z"
   },
   {
    "duration": 19,
    "start_time": "2023-03-28T21:32:06.152Z"
   },
   {
    "duration": 618,
    "start_time": "2023-03-28T21:32:06.172Z"
   },
   {
    "duration": 9,
    "start_time": "2023-03-28T21:32:06.792Z"
   },
   {
    "duration": 53,
    "start_time": "2023-03-28T21:32:06.802Z"
   },
   {
    "duration": 345,
    "start_time": "2023-03-28T21:32:06.858Z"
   },
   {
    "duration": 241,
    "start_time": "2023-03-28T21:32:07.205Z"
   },
   {
    "duration": 160,
    "start_time": "2023-03-28T21:32:07.448Z"
   },
   {
    "duration": 99,
    "start_time": "2023-03-28T21:32:07.610Z"
   },
   {
    "duration": 66,
    "start_time": "2023-03-28T21:32:07.711Z"
   },
   {
    "duration": 99,
    "start_time": "2023-03-28T21:32:07.779Z"
   },
   {
    "duration": 42,
    "start_time": "2023-03-28T21:32:07.880Z"
   },
   {
    "duration": 19,
    "start_time": "2023-03-28T21:32:07.934Z"
   },
   {
    "duration": 1081,
    "start_time": "2023-03-28T21:32:07.954Z"
   },
   {
    "duration": 576,
    "start_time": "2023-03-28T21:32:09.036Z"
   },
   {
    "duration": 3,
    "start_time": "2023-03-28T21:32:22.232Z"
   },
   {
    "duration": 2,
    "start_time": "2023-03-28T21:32:23.977Z"
   },
   {
    "duration": 9178684,
    "start_time": "2023-03-28T21:32:25.258Z"
   },
   {
    "duration": 1532,
    "start_time": "2023-03-29T07:01:40.550Z"
   },
   {
    "duration": 1230,
    "start_time": "2023-03-29T07:01:42.084Z"
   },
   {
    "duration": 394,
    "start_time": "2023-03-29T07:01:43.316Z"
   },
   {
    "duration": 482,
    "start_time": "2023-03-29T07:01:43.712Z"
   },
   {
    "duration": 3,
    "start_time": "2023-03-29T07:01:44.197Z"
   },
   {
    "duration": 59,
    "start_time": "2023-03-29T07:01:44.202Z"
   },
   {
    "duration": 109,
    "start_time": "2023-03-29T07:01:44.262Z"
   },
   {
    "duration": 123,
    "start_time": "2023-03-29T07:01:44.373Z"
   },
   {
    "duration": 75,
    "start_time": "2023-03-29T07:01:44.499Z"
   },
   {
    "duration": 19,
    "start_time": "2023-03-29T07:01:44.576Z"
   },
   {
    "duration": 557,
    "start_time": "2023-03-29T07:01:44.596Z"
   },
   {
    "duration": 12,
    "start_time": "2023-03-29T07:01:45.155Z"
   },
   {
    "duration": 34,
    "start_time": "2023-03-29T07:01:45.169Z"
   },
   {
    "duration": 296,
    "start_time": "2023-03-29T07:01:45.205Z"
   },
   {
    "duration": 195,
    "start_time": "2023-03-29T07:01:45.503Z"
   },
   {
    "duration": 141,
    "start_time": "2023-03-29T07:01:45.699Z"
   },
   {
    "duration": 79,
    "start_time": "2023-03-29T07:01:45.842Z"
   },
   {
    "duration": 74,
    "start_time": "2023-03-29T07:01:45.923Z"
   },
   {
    "duration": 53,
    "start_time": "2023-03-29T07:01:45.999Z"
   },
   {
    "duration": 33,
    "start_time": "2023-03-29T07:01:46.054Z"
   },
   {
    "duration": 17,
    "start_time": "2023-03-29T07:01:46.089Z"
   },
   {
    "duration": 646,
    "start_time": "2023-03-29T07:01:46.108Z"
   },
   {
    "duration": 423,
    "start_time": "2023-03-29T07:01:46.756Z"
   },
   {
    "duration": 4,
    "start_time": "2023-03-29T07:01:51.679Z"
   },
   {
    "duration": 3,
    "start_time": "2023-03-29T07:01:53.622Z"
   },
   {
    "duration": 24208250,
    "start_time": "2023-03-29T07:01:56.102Z"
   },
   {
    "duration": 4,
    "start_time": "2023-03-29T13:45:59.541Z"
   },
   {
    "duration": 3,
    "start_time": "2023-03-29T13:55:27.437Z"
   },
   {
    "duration": 6993,
    "start_time": "2023-03-29T13:55:47.046Z"
   },
   {
    "duration": 875,
    "start_time": "2023-03-29T13:56:14.367Z"
   },
   {
    "duration": 7353,
    "start_time": "2023-03-29T14:04:53.288Z"
   },
   {
    "duration": 820,
    "start_time": "2023-03-29T14:05:05.823Z"
   },
   {
    "duration": 5,
    "start_time": "2023-03-29T14:05:16.679Z"
   },
   {
    "duration": 47,
    "start_time": "2023-03-29T14:07:06.287Z"
   },
   {
    "duration": 4,
    "start_time": "2023-03-29T14:07:14.286Z"
   },
   {
    "duration": 883,
    "start_time": "2023-03-29T14:08:56.159Z"
   },
   {
    "duration": 15006,
    "start_time": "2023-03-29T14:15:02.942Z"
   },
   {
    "duration": 108,
    "start_time": "2023-03-29T14:15:24.734Z"
   },
   {
    "duration": 3,
    "start_time": "2023-03-29T14:15:45.280Z"
   },
   {
    "duration": 52129,
    "start_time": "2023-03-29T14:18:20.328Z"
   },
   {
    "duration": 3641,
    "start_time": "2023-03-29T14:19:57.536Z"
   },
   {
    "duration": 103,
    "start_time": "2023-03-29T14:21:44.761Z"
   },
   {
    "duration": 112,
    "start_time": "2023-03-29T14:35:34.432Z"
   },
   {
    "duration": 3,
    "start_time": "2023-03-29T14:35:52.263Z"
   },
   {
    "duration": 857,
    "start_time": "2023-03-29T14:37:48.584Z"
   },
   {
    "duration": 10,
    "start_time": "2023-03-29T14:40:54.406Z"
   },
   {
    "duration": 1638,
    "start_time": "2023-03-30T12:51:22.765Z"
   },
   {
    "duration": 1021,
    "start_time": "2023-03-30T12:51:25.012Z"
   },
   {
    "duration": 457,
    "start_time": "2023-03-30T12:51:27.301Z"
   },
   {
    "duration": 508,
    "start_time": "2023-03-30T12:51:29.228Z"
   },
   {
    "duration": 5,
    "start_time": "2023-03-30T12:51:48.389Z"
   },
   {
    "duration": 46,
    "start_time": "2023-03-30T12:52:59.966Z"
   },
   {
    "duration": 89,
    "start_time": "2023-03-30T12:53:04.221Z"
   },
   {
    "duration": 110,
    "start_time": "2023-03-30T12:53:18.764Z"
   },
   {
    "duration": 65,
    "start_time": "2023-03-30T12:53:23.020Z"
   },
   {
    "duration": 17,
    "start_time": "2023-03-30T12:53:32.724Z"
   },
   {
    "duration": 576,
    "start_time": "2023-03-30T12:54:13.948Z"
   },
   {
    "duration": 61,
    "start_time": "2023-03-30T12:55:12.012Z"
   },
   {
    "duration": 267,
    "start_time": "2023-03-30T12:56:44.069Z"
   },
   {
    "duration": 315,
    "start_time": "2023-03-30T12:57:37.412Z"
   },
   {
    "duration": 270,
    "start_time": "2023-03-30T12:57:46.356Z"
   },
   {
    "duration": 262,
    "start_time": "2023-03-30T12:58:10.453Z"
   },
   {
    "duration": 1348,
    "start_time": "2023-03-30T12:59:20.329Z"
   },
   {
    "duration": 851,
    "start_time": "2023-03-30T12:59:21.680Z"
   },
   {
    "duration": 504,
    "start_time": "2023-03-30T12:59:22.533Z"
   },
   {
    "duration": 517,
    "start_time": "2023-03-30T12:59:23.040Z"
   },
   {
    "duration": 3,
    "start_time": "2023-03-30T12:59:23.559Z"
   },
   {
    "duration": 61,
    "start_time": "2023-03-30T12:59:23.568Z"
   },
   {
    "duration": 111,
    "start_time": "2023-03-30T12:59:23.631Z"
   },
   {
    "duration": 150,
    "start_time": "2023-03-30T12:59:23.744Z"
   },
   {
    "duration": 91,
    "start_time": "2023-03-30T12:59:23.896Z"
   },
   {
    "duration": 21,
    "start_time": "2023-03-30T12:59:23.990Z"
   },
   {
    "duration": 635,
    "start_time": "2023-03-30T12:59:24.013Z"
   },
   {
    "duration": 31,
    "start_time": "2023-03-30T12:59:36.536Z"
   },
   {
    "duration": 28,
    "start_time": "2023-03-30T13:01:34.980Z"
   },
   {
    "duration": 293,
    "start_time": "2023-03-30T13:02:26.042Z"
   },
   {
    "duration": 207,
    "start_time": "2023-03-30T13:02:36.842Z"
   },
   {
    "duration": 143,
    "start_time": "2023-03-30T13:02:40.794Z"
   },
   {
    "duration": 65,
    "start_time": "2023-03-30T13:03:14.785Z"
   },
   {
    "duration": 52,
    "start_time": "2023-03-30T13:03:23.744Z"
   },
   {
    "duration": 73,
    "start_time": "2023-03-30T13:03:28.200Z"
   },
   {
    "duration": 25,
    "start_time": "2023-03-30T13:03:30.796Z"
   },
   {
    "duration": 15,
    "start_time": "2023-03-30T13:03:34.160Z"
   },
   {
    "duration": 3,
    "start_time": "2023-03-30T15:03:37.147Z"
   },
   {
    "duration": 119,
    "start_time": "2023-03-30T15:05:05.058Z"
   },
   {
    "duration": 12,
    "start_time": "2023-03-30T15:08:01.537Z"
   },
   {
    "duration": 82,
    "start_time": "2023-03-30T15:12:34.562Z"
   },
   {
    "duration": 1339,
    "start_time": "2023-03-30T15:15:27.935Z"
   },
   {
    "duration": 793,
    "start_time": "2023-03-30T15:15:29.276Z"
   },
   {
    "duration": 524,
    "start_time": "2023-03-30T15:15:30.071Z"
   },
   {
    "duration": 590,
    "start_time": "2023-03-30T15:15:30.597Z"
   },
   {
    "duration": 3,
    "start_time": "2023-03-30T15:15:31.190Z"
   },
   {
    "duration": 69,
    "start_time": "2023-03-30T15:15:31.194Z"
   },
   {
    "duration": 112,
    "start_time": "2023-03-30T15:15:31.265Z"
   },
   {
    "duration": 115,
    "start_time": "2023-03-30T15:15:31.380Z"
   },
   {
    "duration": 82,
    "start_time": "2023-03-30T15:15:31.497Z"
   },
   {
    "duration": 18,
    "start_time": "2023-03-30T15:15:31.585Z"
   },
   {
    "duration": 589,
    "start_time": "2023-03-30T15:15:31.604Z"
   },
   {
    "duration": 32,
    "start_time": "2023-03-30T15:15:32.195Z"
   },
   {
    "duration": 23,
    "start_time": "2023-03-30T15:15:32.228Z"
   },
   {
    "duration": 286,
    "start_time": "2023-03-30T15:15:32.269Z"
   },
   {
    "duration": 275,
    "start_time": "2023-03-30T15:15:32.557Z"
   },
   {
    "duration": 209,
    "start_time": "2023-03-30T15:15:32.834Z"
   },
   {
    "duration": 96,
    "start_time": "2023-03-30T15:15:33.045Z"
   },
   {
    "duration": 4,
    "start_time": "2023-03-30T15:15:33.143Z"
   },
   {
    "duration": 73,
    "start_time": "2023-03-30T15:15:39.736Z"
   },
   {
    "duration": 92,
    "start_time": "2023-03-30T15:15:41.367Z"
   },
   {
    "duration": 47,
    "start_time": "2023-03-30T15:15:42.327Z"
   },
   {
    "duration": 22,
    "start_time": "2023-03-30T15:15:43.559Z"
   },
   {
    "duration": 123,
    "start_time": "2023-03-30T15:16:01.690Z"
   },
   {
    "duration": 110,
    "start_time": "2023-03-30T15:16:18.223Z"
   },
   {
    "duration": 3,
    "start_time": "2023-03-30T15:16:25.359Z"
   },
   {
    "duration": 12,
    "start_time": "2023-03-30T15:17:24.191Z"
   },
   {
    "duration": 19,
    "start_time": "2023-03-30T15:17:38.056Z"
   },
   {
    "duration": 23,
    "start_time": "2023-03-30T15:18:04.545Z"
   },
   {
    "duration": 9,
    "start_time": "2023-03-30T15:26:54.511Z"
   },
   {
    "duration": 66,
    "start_time": "2023-03-30T15:27:20.751Z"
   },
   {
    "duration": 2,
    "start_time": "2023-03-30T15:31:21.231Z"
   },
   {
    "duration": 15,
    "start_time": "2023-03-30T15:35:35.460Z"
   },
   {
    "duration": 2634,
    "start_time": "2023-03-30T15:36:28.692Z"
   },
   {
    "duration": 3992,
    "start_time": "2023-03-30T15:36:40.301Z"
   },
   {
    "duration": 30,
    "start_time": "2023-03-30T15:36:58.461Z"
   },
   {
    "duration": 38,
    "start_time": "2023-03-30T15:37:25.191Z"
   },
   {
    "duration": 3,
    "start_time": "2023-03-30T15:38:14.586Z"
   },
   {
    "duration": 2310,
    "start_time": "2023-03-30T15:38:49.987Z"
   },
   {
    "duration": 1214,
    "start_time": "2023-03-30T15:38:52.299Z"
   },
   {
    "duration": 452,
    "start_time": "2023-03-30T15:38:53.515Z"
   },
   {
    "duration": 513,
    "start_time": "2023-03-30T15:38:53.969Z"
   },
   {
    "duration": 3,
    "start_time": "2023-03-30T15:38:54.485Z"
   },
   {
    "duration": 63,
    "start_time": "2023-03-30T15:38:54.489Z"
   },
   {
    "duration": 106,
    "start_time": "2023-03-30T15:38:54.554Z"
   },
   {
    "duration": 111,
    "start_time": "2023-03-30T15:38:54.668Z"
   },
   {
    "duration": 61,
    "start_time": "2023-03-30T15:38:54.784Z"
   },
   {
    "duration": 22,
    "start_time": "2023-03-30T15:38:54.847Z"
   },
   {
    "duration": 572,
    "start_time": "2023-03-30T15:38:54.871Z"
   },
   {
    "duration": 45,
    "start_time": "2023-03-30T15:38:55.445Z"
   },
   {
    "duration": 34,
    "start_time": "2023-03-30T15:38:55.491Z"
   },
   {
    "duration": 307,
    "start_time": "2023-03-30T15:38:55.527Z"
   },
   {
    "duration": 226,
    "start_time": "2023-03-30T15:38:55.835Z"
   },
   {
    "duration": 138,
    "start_time": "2023-03-30T15:38:56.062Z"
   },
   {
    "duration": 88,
    "start_time": "2023-03-30T15:38:56.201Z"
   },
   {
    "duration": 4,
    "start_time": "2023-03-30T15:38:56.291Z"
   },
   {
    "duration": 51,
    "start_time": "2023-03-30T15:38:56.296Z"
   },
   {
    "duration": 84,
    "start_time": "2023-03-30T15:38:56.349Z"
   },
   {
    "duration": 36,
    "start_time": "2023-03-30T15:38:56.435Z"
   },
   {
    "duration": 21,
    "start_time": "2023-03-30T15:38:56.472Z"
   },
   {
    "duration": 113,
    "start_time": "2023-03-30T15:38:56.494Z"
   },
   {
    "duration": 3,
    "start_time": "2023-03-30T15:38:56.608Z"
   },
   {
    "duration": 3416,
    "start_time": "2023-03-30T15:39:04.915Z"
   },
   {
    "duration": 34,
    "start_time": "2023-03-30T15:39:12.131Z"
   },
   {
    "duration": 45,
    "start_time": "2023-03-30T15:39:46.974Z"
   },
   {
    "duration": 3,
    "start_time": "2023-03-30T15:40:10.685Z"
   },
   {
    "duration": 3141,
    "start_time": "2023-03-30T15:40:14.835Z"
   },
   {
    "duration": 31,
    "start_time": "2023-03-30T15:40:25.308Z"
   },
   {
    "duration": 28,
    "start_time": "2023-03-30T15:40:28.811Z"
   },
   {
    "duration": 3097,
    "start_time": "2023-03-30T15:41:01.907Z"
   },
   {
    "duration": 33,
    "start_time": "2023-03-30T15:41:09.682Z"
   },
   {
    "duration": 30,
    "start_time": "2023-03-30T15:41:12.306Z"
   },
   {
    "duration": 7,
    "start_time": "2023-03-30T15:43:43.768Z"
   },
   {
    "duration": 2232,
    "start_time": "2023-03-30T15:43:47.130Z"
   },
   {
    "duration": 3,
    "start_time": "2023-03-30T15:44:23.940Z"
   },
   {
    "duration": 3127,
    "start_time": "2023-03-30T15:44:25.314Z"
   },
   {
    "duration": 71,
    "start_time": "2023-03-30T15:47:17.130Z"
   },
   {
    "duration": 12,
    "start_time": "2023-03-30T15:47:24.145Z"
   },
   {
    "duration": 10,
    "start_time": "2023-03-30T15:51:28.151Z"
   },
   {
    "duration": 3,
    "start_time": "2023-03-30T15:51:56.655Z"
   },
   {
    "duration": 76,
    "start_time": "2023-03-30T15:52:04.276Z"
   },
   {
    "duration": 1362,
    "start_time": "2023-03-30T15:52:29.182Z"
   },
   {
    "duration": 1305,
    "start_time": "2023-03-30T15:53:25.005Z"
   },
   {
    "duration": 787,
    "start_time": "2023-03-30T15:53:26.312Z"
   },
   {
    "duration": 497,
    "start_time": "2023-03-30T15:53:27.101Z"
   },
   {
    "duration": 555,
    "start_time": "2023-03-30T15:53:27.604Z"
   },
   {
    "duration": 11,
    "start_time": "2023-03-30T15:53:28.160Z"
   },
   {
    "duration": 53,
    "start_time": "2023-03-30T15:53:28.173Z"
   },
   {
    "duration": 105,
    "start_time": "2023-03-30T15:53:28.228Z"
   },
   {
    "duration": 113,
    "start_time": "2023-03-30T15:53:28.334Z"
   },
   {
    "duration": 74,
    "start_time": "2023-03-30T15:53:28.449Z"
   },
   {
    "duration": 21,
    "start_time": "2023-03-30T15:53:28.527Z"
   },
   {
    "duration": 596,
    "start_time": "2023-03-30T15:53:28.550Z"
   },
   {
    "duration": 43,
    "start_time": "2023-03-30T15:53:29.147Z"
   },
   {
    "duration": 24,
    "start_time": "2023-03-30T15:53:29.192Z"
   },
   {
    "duration": 330,
    "start_time": "2023-03-30T15:53:29.218Z"
   },
   {
    "duration": 239,
    "start_time": "2023-03-30T15:53:29.549Z"
   },
   {
    "duration": 134,
    "start_time": "2023-03-30T15:53:29.789Z"
   },
   {
    "duration": 74,
    "start_time": "2023-03-30T15:53:29.925Z"
   },
   {
    "duration": 3,
    "start_time": "2023-03-30T15:53:30.001Z"
   },
   {
    "duration": 71,
    "start_time": "2023-03-30T15:53:30.006Z"
   },
   {
    "duration": 77,
    "start_time": "2023-03-30T15:53:30.079Z"
   },
   {
    "duration": 34,
    "start_time": "2023-03-30T15:53:30.157Z"
   },
   {
    "duration": 27,
    "start_time": "2023-03-30T15:53:30.192Z"
   },
   {
    "duration": 128,
    "start_time": "2023-03-30T15:53:30.221Z"
   },
   {
    "duration": 3,
    "start_time": "2023-03-30T15:53:30.350Z"
   },
   {
    "duration": 3251,
    "start_time": "2023-03-30T15:53:30.370Z"
   },
   {
    "duration": 60,
    "start_time": "2023-03-30T15:53:33.622Z"
   },
   {
    "duration": 0,
    "start_time": "2023-03-30T15:53:33.683Z"
   },
   {
    "duration": 1283,
    "start_time": "2023-03-30T15:53:56.179Z"
   },
   {
    "duration": 1311,
    "start_time": "2023-03-30T15:54:10.299Z"
   },
   {
    "duration": 789,
    "start_time": "2023-03-30T15:54:11.612Z"
   },
   {
    "duration": 487,
    "start_time": "2023-03-30T15:54:12.403Z"
   },
   {
    "duration": 470,
    "start_time": "2023-03-30T15:54:12.892Z"
   },
   {
    "duration": 5,
    "start_time": "2023-03-30T15:54:13.363Z"
   },
   {
    "duration": 91,
    "start_time": "2023-03-30T15:54:13.369Z"
   },
   {
    "duration": 122,
    "start_time": "2023-03-30T15:54:13.462Z"
   },
   {
    "duration": 112,
    "start_time": "2023-03-30T15:54:13.585Z"
   },
   {
    "duration": 85,
    "start_time": "2023-03-30T15:54:13.699Z"
   },
   {
    "duration": 18,
    "start_time": "2023-03-30T15:54:13.787Z"
   },
   {
    "duration": 584,
    "start_time": "2023-03-30T15:54:13.806Z"
   },
   {
    "duration": 35,
    "start_time": "2023-03-30T15:54:14.392Z"
   },
   {
    "duration": 41,
    "start_time": "2023-03-30T15:54:14.428Z"
   },
   {
    "duration": 324,
    "start_time": "2023-03-30T15:54:14.471Z"
   },
   {
    "duration": 231,
    "start_time": "2023-03-30T15:54:14.797Z"
   },
   {
    "duration": 159,
    "start_time": "2023-03-30T15:54:15.030Z"
   },
   {
    "duration": 70,
    "start_time": "2023-03-30T15:54:15.190Z"
   },
   {
    "duration": 6,
    "start_time": "2023-03-30T15:54:15.277Z"
   },
   {
    "duration": 55,
    "start_time": "2023-03-30T15:54:15.284Z"
   },
   {
    "duration": 85,
    "start_time": "2023-03-30T15:54:15.341Z"
   },
   {
    "duration": 27,
    "start_time": "2023-03-30T15:54:15.428Z"
   },
   {
    "duration": 17,
    "start_time": "2023-03-30T15:54:15.473Z"
   },
   {
    "duration": 118,
    "start_time": "2023-03-30T15:54:15.492Z"
   },
   {
    "duration": 3,
    "start_time": "2023-03-30T15:54:15.611Z"
   },
   {
    "duration": 2997,
    "start_time": "2023-03-30T15:54:15.616Z"
   },
   {
    "duration": 1320,
    "start_time": "2023-03-30T15:54:18.615Z"
   },
   {
    "duration": 128,
    "start_time": "2023-03-30T15:54:42.680Z"
   },
   {
    "duration": 2072,
    "start_time": "2023-03-30T15:54:56.067Z"
   },
   {
    "duration": 1121,
    "start_time": "2023-03-30T15:54:58.141Z"
   },
   {
    "duration": 469,
    "start_time": "2023-03-30T15:54:59.263Z"
   },
   {
    "duration": 512,
    "start_time": "2023-03-30T15:54:59.733Z"
   },
   {
    "duration": 3,
    "start_time": "2023-03-30T15:55:00.248Z"
   },
   {
    "duration": 90,
    "start_time": "2023-03-30T15:55:00.252Z"
   },
   {
    "duration": 186,
    "start_time": "2023-03-30T15:55:00.344Z"
   },
   {
    "duration": 115,
    "start_time": "2023-03-30T15:55:00.531Z"
   },
   {
    "duration": 67,
    "start_time": "2023-03-30T15:55:00.648Z"
   },
   {
    "duration": 18,
    "start_time": "2023-03-30T15:55:00.716Z"
   },
   {
    "duration": 594,
    "start_time": "2023-03-30T15:55:00.735Z"
   },
   {
    "duration": 46,
    "start_time": "2023-03-30T15:55:01.330Z"
   },
   {
    "duration": 27,
    "start_time": "2023-03-30T15:55:01.386Z"
   },
   {
    "duration": 294,
    "start_time": "2023-03-30T15:55:01.416Z"
   },
   {
    "duration": 239,
    "start_time": "2023-03-30T15:55:01.711Z"
   },
   {
    "duration": 156,
    "start_time": "2023-03-30T15:55:01.952Z"
   },
   {
    "duration": 76,
    "start_time": "2023-03-30T15:55:02.110Z"
   },
   {
    "duration": 5,
    "start_time": "2023-03-30T15:55:02.187Z"
   },
   {
    "duration": 59,
    "start_time": "2023-03-30T15:55:02.194Z"
   },
   {
    "duration": 81,
    "start_time": "2023-03-30T15:55:02.255Z"
   },
   {
    "duration": 44,
    "start_time": "2023-03-30T15:55:02.338Z"
   },
   {
    "duration": 17,
    "start_time": "2023-03-30T15:55:02.383Z"
   },
   {
    "duration": 117,
    "start_time": "2023-03-30T15:55:02.402Z"
   },
   {
    "duration": 2,
    "start_time": "2023-03-30T15:55:02.521Z"
   },
   {
    "duration": 3222,
    "start_time": "2023-03-30T15:55:02.524Z"
   },
   {
    "duration": 1436,
    "start_time": "2023-03-30T15:55:05.748Z"
   },
   {
    "duration": 2164,
    "start_time": "2023-03-30T15:58:02.051Z"
   },
   {
    "duration": 1163,
    "start_time": "2023-03-30T15:58:04.635Z"
   },
   {
    "duration": 502,
    "start_time": "2023-03-30T15:58:05.800Z"
   },
   {
    "duration": 562,
    "start_time": "2023-03-30T15:58:08.466Z"
   },
   {
    "duration": 3,
    "start_time": "2023-03-30T15:58:12.115Z"
   },
   {
    "duration": 58,
    "start_time": "2023-03-30T15:58:17.042Z"
   },
   {
    "duration": 99,
    "start_time": "2023-03-30T15:58:20.114Z"
   },
   {
    "duration": 118,
    "start_time": "2023-03-30T15:58:24.562Z"
   },
   {
    "duration": 61,
    "start_time": "2023-03-30T15:58:28.182Z"
   },
   {
    "duration": 19,
    "start_time": "2023-03-30T15:58:29.850Z"
   },
   {
    "duration": 551,
    "start_time": "2023-03-30T15:58:34.163Z"
   },
   {
    "duration": 37,
    "start_time": "2023-03-30T15:58:41.538Z"
   },
   {
    "duration": 30,
    "start_time": "2023-03-30T15:58:44.169Z"
   },
   {
    "duration": 265,
    "start_time": "2023-03-30T15:58:55.498Z"
   },
   {
    "duration": 232,
    "start_time": "2023-03-30T15:58:59.322Z"
   },
   {
    "duration": 126,
    "start_time": "2023-03-30T15:59:00.514Z"
   },
   {
    "duration": 74,
    "start_time": "2023-03-30T15:59:05.586Z"
   },
   {
    "duration": 5,
    "start_time": "2023-03-30T15:59:06.610Z"
   },
   {
    "duration": 59,
    "start_time": "2023-03-30T15:59:11.514Z"
   },
   {
    "duration": 89,
    "start_time": "2023-03-30T15:59:12.574Z"
   },
   {
    "duration": 36,
    "start_time": "2023-03-30T15:59:13.449Z"
   },
   {
    "duration": 19,
    "start_time": "2023-03-30T15:59:15.465Z"
   },
   {
    "duration": 111,
    "start_time": "2023-03-30T15:59:27.354Z"
   },
   {
    "duration": 2,
    "start_time": "2023-03-30T15:59:29.314Z"
   },
   {
    "duration": 2991,
    "start_time": "2023-03-30T15:59:32.226Z"
   },
   {
    "duration": 1441,
    "start_time": "2023-03-30T15:59:51.801Z"
   },
   {
    "duration": 2059,
    "start_time": "2023-03-30T16:00:59.682Z"
   },
   {
    "duration": 1049,
    "start_time": "2023-03-30T16:01:01.743Z"
   },
   {
    "duration": 500,
    "start_time": "2023-03-30T16:01:02.793Z"
   },
   {
    "duration": 484,
    "start_time": "2023-03-30T16:01:03.294Z"
   },
   {
    "duration": 6,
    "start_time": "2023-03-30T16:01:03.780Z"
   },
   {
    "duration": 54,
    "start_time": "2023-03-30T16:01:03.788Z"
   },
   {
    "duration": 108,
    "start_time": "2023-03-30T16:01:03.844Z"
   },
   {
    "duration": 126,
    "start_time": "2023-03-30T16:01:03.953Z"
   },
   {
    "duration": 59,
    "start_time": "2023-03-30T16:01:04.081Z"
   },
   {
    "duration": 18,
    "start_time": "2023-03-30T16:01:04.141Z"
   },
   {
    "duration": 584,
    "start_time": "2023-03-30T16:01:04.160Z"
   },
   {
    "duration": 44,
    "start_time": "2023-03-30T16:01:04.745Z"
   },
   {
    "duration": 32,
    "start_time": "2023-03-30T16:01:04.791Z"
   },
   {
    "duration": 328,
    "start_time": "2023-03-30T16:01:04.826Z"
   },
   {
    "duration": 253,
    "start_time": "2023-03-30T16:01:05.155Z"
   },
   {
    "duration": 150,
    "start_time": "2023-03-30T16:01:05.409Z"
   },
   {
    "duration": 83,
    "start_time": "2023-03-30T16:01:05.560Z"
   },
   {
    "duration": 3,
    "start_time": "2023-03-30T16:01:05.645Z"
   },
   {
    "duration": 70,
    "start_time": "2023-03-30T16:01:05.650Z"
   },
   {
    "duration": 88,
    "start_time": "2023-03-30T16:01:05.722Z"
   },
   {
    "duration": 27,
    "start_time": "2023-03-30T16:01:05.811Z"
   },
   {
    "duration": 29,
    "start_time": "2023-03-30T16:01:05.840Z"
   },
   {
    "duration": 114,
    "start_time": "2023-03-30T16:01:05.879Z"
   },
   {
    "duration": 4,
    "start_time": "2023-03-30T16:01:23.656Z"
   },
   {
    "duration": 110,
    "start_time": "2023-03-30T16:01:37.857Z"
   },
   {
    "duration": 3,
    "start_time": "2023-03-30T16:02:46.353Z"
   },
   {
    "duration": 350,
    "start_time": "2023-03-30T16:02:49.568Z"
   },
   {
    "duration": 35,
    "start_time": "2023-03-30T16:03:34.448Z"
   },
   {
    "duration": 5,
    "start_time": "2023-03-30T16:03:49.377Z"
   },
   {
    "duration": 623,
    "start_time": "2023-03-30T16:04:04.329Z"
   },
   {
    "duration": 42307,
    "start_time": "2023-03-30T16:04:15.663Z"
   },
   {
    "duration": 5,
    "start_time": "2023-03-30T16:05:28.207Z"
   },
   {
    "duration": 4,
    "start_time": "2023-03-30T16:05:34.456Z"
   },
   {
    "duration": 1259,
    "start_time": "2023-03-30T16:06:37.080Z"
   },
   {
    "duration": 743,
    "start_time": "2023-03-30T16:06:38.341Z"
   },
   {
    "duration": 444,
    "start_time": "2023-03-30T16:06:39.085Z"
   },
   {
    "duration": 473,
    "start_time": "2023-03-30T16:06:39.531Z"
   },
   {
    "duration": 3,
    "start_time": "2023-03-30T16:06:40.005Z"
   },
   {
    "duration": 51,
    "start_time": "2023-03-30T16:06:40.009Z"
   },
   {
    "duration": 98,
    "start_time": "2023-03-30T16:06:40.062Z"
   },
   {
    "duration": 117,
    "start_time": "2023-03-30T16:06:40.161Z"
   },
   {
    "duration": 57,
    "start_time": "2023-03-30T16:06:40.280Z"
   },
   {
    "duration": 17,
    "start_time": "2023-03-30T16:06:40.339Z"
   },
   {
    "duration": 539,
    "start_time": "2023-03-30T16:06:40.357Z"
   },
   {
    "duration": 34,
    "start_time": "2023-03-30T16:06:40.898Z"
   },
   {
    "duration": 42,
    "start_time": "2023-03-30T16:06:40.934Z"
   },
   {
    "duration": 316,
    "start_time": "2023-03-30T16:06:40.983Z"
   },
   {
    "duration": 238,
    "start_time": "2023-03-30T16:06:41.300Z"
   },
   {
    "duration": 159,
    "start_time": "2023-03-30T16:06:41.540Z"
   },
   {
    "duration": 87,
    "start_time": "2023-03-30T16:06:41.701Z"
   },
   {
    "duration": 5,
    "start_time": "2023-03-30T16:06:41.790Z"
   },
   {
    "duration": 56,
    "start_time": "2023-03-30T16:06:41.797Z"
   },
   {
    "duration": 89,
    "start_time": "2023-03-30T16:06:41.868Z"
   },
   {
    "duration": 38,
    "start_time": "2023-03-30T16:06:41.959Z"
   },
   {
    "duration": 16,
    "start_time": "2023-03-30T16:06:41.999Z"
   },
   {
    "duration": 131,
    "start_time": "2023-03-30T16:06:42.016Z"
   },
   {
    "duration": 710,
    "start_time": "2023-03-30T16:06:42.148Z"
   },
   {
    "duration": 1437,
    "start_time": "2023-03-30T16:06:42.860Z"
   },
   {
    "duration": 44475,
    "start_time": "2023-03-30T16:06:44.299Z"
   },
   {
    "duration": 10,
    "start_time": "2023-03-30T16:07:28.775Z"
   },
   {
    "duration": 80,
    "start_time": "2023-03-30T16:07:28.792Z"
   },
   {
    "duration": 7474,
    "start_time": "2023-03-30T16:08:58.982Z"
   },
   {
    "duration": 471,
    "start_time": "2023-03-30T16:09:49.949Z"
   },
   {
    "duration": 155,
    "start_time": "2023-03-30T16:09:56.662Z"
   },
   {
    "duration": 25,
    "start_time": "2023-03-30T16:10:13.158Z"
   },
   {
    "duration": 61,
    "start_time": "2023-03-30T16:11:38.068Z"
   },
   {
    "duration": 2,
    "start_time": "2023-03-30T16:12:34.917Z"
   },
   {
    "duration": 3,
    "start_time": "2023-03-30T16:12:38.900Z"
   },
   {
    "duration": 3,
    "start_time": "2023-03-30T16:12:52.909Z"
   },
   {
    "duration": 3,
    "start_time": "2023-03-30T16:13:01.205Z"
   },
   {
    "duration": 3,
    "start_time": "2023-03-30T16:13:06.133Z"
   },
   {
    "duration": 103698,
    "start_time": "2023-03-30T16:13:23.084Z"
   },
   {
    "duration": 367,
    "start_time": "2023-03-30T16:15:55.524Z"
   },
   {
    "duration": 4,
    "start_time": "2023-03-30T16:16:01.947Z"
   },
   {
    "duration": 3,
    "start_time": "2023-03-30T16:20:25.900Z"
   },
   {
    "duration": 1314,
    "start_time": "2023-03-30T16:23:38.424Z"
   },
   {
    "duration": 750,
    "start_time": "2023-03-30T16:23:39.739Z"
   },
   {
    "duration": 443,
    "start_time": "2023-03-30T16:23:40.490Z"
   },
   {
    "duration": 528,
    "start_time": "2023-03-30T16:23:40.936Z"
   },
   {
    "duration": 13,
    "start_time": "2023-03-30T16:23:41.466Z"
   },
   {
    "duration": 52,
    "start_time": "2023-03-30T16:23:41.481Z"
   },
   {
    "duration": 110,
    "start_time": "2023-03-30T16:23:41.536Z"
   },
   {
    "duration": 129,
    "start_time": "2023-03-30T16:23:41.648Z"
   },
   {
    "duration": 64,
    "start_time": "2023-03-30T16:23:41.786Z"
   },
   {
    "duration": 31,
    "start_time": "2023-03-30T16:23:41.852Z"
   },
   {
    "duration": 636,
    "start_time": "2023-03-30T16:23:41.885Z"
   },
   {
    "duration": 48,
    "start_time": "2023-03-30T16:23:42.523Z"
   },
   {
    "duration": 33,
    "start_time": "2023-03-30T16:23:42.575Z"
   },
   {
    "duration": 330,
    "start_time": "2023-03-30T16:23:42.611Z"
   },
   {
    "duration": 210,
    "start_time": "2023-03-30T16:23:42.942Z"
   },
   {
    "duration": 135,
    "start_time": "2023-03-30T16:23:43.153Z"
   },
   {
    "duration": 64,
    "start_time": "2023-03-30T16:23:43.289Z"
   },
   {
    "duration": 26,
    "start_time": "2023-03-30T16:23:43.354Z"
   },
   {
    "duration": 57,
    "start_time": "2023-03-30T16:23:43.381Z"
   },
   {
    "duration": 77,
    "start_time": "2023-03-30T16:23:43.440Z"
   },
   {
    "duration": 31,
    "start_time": "2023-03-30T16:23:43.519Z"
   },
   {
    "duration": 31,
    "start_time": "2023-03-30T16:23:43.551Z"
   },
   {
    "duration": 110,
    "start_time": "2023-03-30T16:23:43.584Z"
   },
   {
    "duration": 582,
    "start_time": "2023-03-30T16:23:43.696Z"
   },
   {
    "duration": 1219,
    "start_time": "2023-03-30T16:23:44.279Z"
   },
   {
    "duration": 46678,
    "start_time": "2023-03-30T16:23:45.499Z"
   },
   {
    "duration": 7,
    "start_time": "2023-03-30T16:24:32.179Z"
   },
   {
    "duration": 82,
    "start_time": "2023-03-30T16:24:32.191Z"
   },
   {
    "duration": 7192,
    "start_time": "2023-03-30T16:24:32.276Z"
   },
   {
    "duration": 454,
    "start_time": "2023-03-30T16:24:39.470Z"
   },
   {
    "duration": 15,
    "start_time": "2023-03-30T16:24:39.926Z"
   },
   {
    "duration": 3,
    "start_time": "2023-03-30T16:24:39.942Z"
   },
   {
    "duration": 30,
    "start_time": "2023-03-30T16:24:39.947Z"
   },
   {
    "duration": 3,
    "start_time": "2023-03-30T16:24:39.983Z"
   },
   {
    "duration": 3,
    "start_time": "2023-03-30T16:24:39.988Z"
   },
   {
    "duration": 47692,
    "start_time": "2023-03-30T16:24:39.993Z"
   },
   {
    "duration": 501,
    "start_time": "2023-03-30T16:25:27.686Z"
   },
   {
    "duration": 4,
    "start_time": "2023-03-30T16:25:28.188Z"
   },
   {
    "duration": 12,
    "start_time": "2023-03-30T16:25:28.194Z"
   },
   {
    "duration": 19,
    "start_time": "2023-03-30T16:27:13.264Z"
   },
   {
    "duration": 26,
    "start_time": "2023-03-30T16:35:15.358Z"
   },
   {
    "duration": 1193,
    "start_time": "2023-03-30T16:39:58.743Z"
   },
   {
    "duration": 761,
    "start_time": "2023-03-30T16:39:59.938Z"
   },
   {
    "duration": 430,
    "start_time": "2023-03-30T16:40:00.701Z"
   },
   {
    "duration": 469,
    "start_time": "2023-03-30T16:40:01.133Z"
   },
   {
    "duration": 4,
    "start_time": "2023-03-30T16:40:01.603Z"
   },
   {
    "duration": 104,
    "start_time": "2023-03-30T16:40:01.608Z"
   },
   {
    "duration": 151,
    "start_time": "2023-03-30T16:40:01.713Z"
   },
   {
    "duration": 117,
    "start_time": "2023-03-30T16:40:01.865Z"
   },
   {
    "duration": 56,
    "start_time": "2023-03-30T16:40:01.984Z"
   },
   {
    "duration": 16,
    "start_time": "2023-03-30T16:40:02.042Z"
   },
   {
    "duration": 562,
    "start_time": "2023-03-30T16:40:02.060Z"
   },
   {
    "duration": 50,
    "start_time": "2023-03-30T16:40:02.624Z"
   },
   {
    "duration": 32,
    "start_time": "2023-03-30T16:40:02.683Z"
   },
   {
    "duration": 280,
    "start_time": "2023-03-30T16:40:02.717Z"
   },
   {
    "duration": 208,
    "start_time": "2023-03-30T16:40:02.998Z"
   },
   {
    "duration": 133,
    "start_time": "2023-03-30T16:40:03.207Z"
   },
   {
    "duration": 75,
    "start_time": "2023-03-30T16:40:03.341Z"
   },
   {
    "duration": 4,
    "start_time": "2023-03-30T16:40:03.418Z"
   },
   {
    "duration": 66,
    "start_time": "2023-03-30T16:40:03.423Z"
   },
   {
    "duration": 90,
    "start_time": "2023-03-30T16:40:03.491Z"
   },
   {
    "duration": 28,
    "start_time": "2023-03-30T16:40:03.584Z"
   },
   {
    "duration": 15,
    "start_time": "2023-03-30T16:40:03.614Z"
   },
   {
    "duration": 169,
    "start_time": "2023-03-30T16:40:03.631Z"
   },
   {
    "duration": 573,
    "start_time": "2023-03-30T16:40:03.802Z"
   },
   {
    "duration": 1419,
    "start_time": "2023-03-30T16:40:04.383Z"
   },
   {
    "duration": 44777,
    "start_time": "2023-03-30T16:40:05.804Z"
   },
   {
    "duration": 87,
    "start_time": "2023-03-30T16:40:50.583Z"
   },
   {
    "duration": 18,
    "start_time": "2023-03-30T16:40:50.674Z"
   },
   {
    "duration": 7233,
    "start_time": "2023-03-30T16:40:50.693Z"
   },
   {
    "duration": 457,
    "start_time": "2023-03-30T16:40:57.927Z"
   },
   {
    "duration": 14,
    "start_time": "2023-03-30T16:40:58.386Z"
   },
   {
    "duration": 2,
    "start_time": "2023-03-30T16:40:58.402Z"
   },
   {
    "duration": 4,
    "start_time": "2023-03-30T16:40:58.405Z"
   },
   {
    "duration": 5,
    "start_time": "2023-03-30T16:40:58.410Z"
   },
   {
    "duration": 13,
    "start_time": "2023-03-30T16:40:58.417Z"
   },
   {
    "duration": 37363,
    "start_time": "2023-03-30T16:40:58.431Z"
   },
   {
    "duration": 492,
    "start_time": "2023-03-30T16:41:35.796Z"
   },
   {
    "duration": 4,
    "start_time": "2023-03-30T16:41:36.290Z"
   },
   {
    "duration": 78,
    "start_time": "2023-03-30T16:41:36.295Z"
   },
   {
    "duration": 16,
    "start_time": "2023-03-30T16:41:36.375Z"
   },
   {
    "duration": 18,
    "start_time": "2023-03-30T16:41:36.392Z"
   },
   {
    "duration": 66,
    "start_time": "2023-08-10T16:01:32.472Z"
   },
   {
    "duration": 1732,
    "start_time": "2023-08-10T16:05:51.665Z"
   },
   {
    "duration": 1603,
    "start_time": "2023-08-10T16:05:53.400Z"
   },
   {
    "duration": 612,
    "start_time": "2023-08-10T16:05:55.005Z"
   },
   {
    "duration": 815,
    "start_time": "2023-08-10T16:05:55.622Z"
   },
   {
    "duration": 4,
    "start_time": "2023-08-10T16:05:56.441Z"
   },
   {
    "duration": 93,
    "start_time": "2023-08-10T16:05:56.447Z"
   },
   {
    "duration": 186,
    "start_time": "2023-08-10T16:05:56.543Z"
   },
   {
    "duration": 188,
    "start_time": "2023-08-10T16:05:56.731Z"
   },
   {
    "duration": 92,
    "start_time": "2023-08-10T16:05:56.921Z"
   },
   {
    "duration": 20,
    "start_time": "2023-08-10T16:05:57.015Z"
   },
   {
    "duration": 719,
    "start_time": "2023-08-10T16:05:57.036Z"
   },
   {
    "duration": 42,
    "start_time": "2023-08-10T16:05:57.757Z"
   },
   {
    "duration": 68,
    "start_time": "2023-08-10T16:05:57.801Z"
   },
   {
    "duration": 561,
    "start_time": "2023-08-10T16:05:57.874Z"
   },
   {
    "duration": 315,
    "start_time": "2023-08-10T16:05:58.437Z"
   },
   {
    "duration": 238,
    "start_time": "2023-08-10T16:05:58.755Z"
   },
   {
    "duration": 112,
    "start_time": "2023-08-10T16:05:58.995Z"
   },
   {
    "duration": 8,
    "start_time": "2023-08-10T16:05:59.109Z"
   },
   {
    "duration": 84,
    "start_time": "2023-08-10T16:05:59.119Z"
   },
   {
    "duration": 118,
    "start_time": "2023-08-10T16:05:59.205Z"
   },
   {
    "duration": 39,
    "start_time": "2023-08-10T16:05:59.325Z"
   },
   {
    "duration": 19,
    "start_time": "2023-08-10T16:05:59.367Z"
   },
   {
    "duration": 214,
    "start_time": "2023-08-10T16:05:59.390Z"
   },
   {
    "duration": 917,
    "start_time": "2023-08-10T16:05:59.607Z"
   },
   {
    "duration": 2006,
    "start_time": "2023-08-10T16:06:00.526Z"
   },
   {
    "duration": 43934,
    "start_time": "2023-08-10T16:06:02.537Z"
   },
   {
    "duration": 83,
    "start_time": "2023-08-10T16:06:46.473Z"
   },
   {
    "duration": 6,
    "start_time": "2023-08-10T16:06:46.559Z"
   },
   {
    "duration": 11036,
    "start_time": "2023-08-10T16:06:46.568Z"
   },
   {
    "duration": 833,
    "start_time": "2023-08-10T16:07:17.583Z"
   },
   {
    "duration": 19,
    "start_time": "2023-08-10T16:07:21.566Z"
   },
   {
    "duration": 4,
    "start_time": "2023-08-10T16:07:29.103Z"
   },
   {
    "duration": 3,
    "start_time": "2023-08-10T16:07:30.967Z"
   },
   {
    "duration": 1840,
    "start_time": "2023-08-11T11:55:06.299Z"
   },
   {
    "duration": 1393,
    "start_time": "2023-08-11T11:55:08.142Z"
   },
   {
    "duration": 522,
    "start_time": "2023-08-11T11:55:09.537Z"
   },
   {
    "duration": 603,
    "start_time": "2023-08-11T11:55:10.062Z"
   },
   {
    "duration": 3,
    "start_time": "2023-08-11T11:55:10.667Z"
   },
   {
    "duration": 67,
    "start_time": "2023-08-11T11:55:10.672Z"
   },
   {
    "duration": 117,
    "start_time": "2023-08-11T11:55:10.741Z"
   },
   {
    "duration": 135,
    "start_time": "2023-08-11T11:55:10.860Z"
   },
   {
    "duration": 89,
    "start_time": "2023-08-11T11:55:10.997Z"
   },
   {
    "duration": 21,
    "start_time": "2023-08-11T11:55:11.089Z"
   },
   {
    "duration": 671,
    "start_time": "2023-08-11T11:55:11.112Z"
   },
   {
    "duration": 38,
    "start_time": "2023-08-11T11:55:11.784Z"
   },
   {
    "duration": 44,
    "start_time": "2023-08-11T11:55:11.824Z"
   },
   {
    "duration": 342,
    "start_time": "2023-08-11T11:55:11.870Z"
   },
   {
    "duration": 282,
    "start_time": "2023-08-11T11:55:12.215Z"
   },
   {
    "duration": 165,
    "start_time": "2023-08-11T11:55:12.500Z"
   },
   {
    "duration": 97,
    "start_time": "2023-08-11T11:55:12.667Z"
   },
   {
    "duration": 6,
    "start_time": "2023-08-11T11:55:12.766Z"
   },
   {
    "duration": 72,
    "start_time": "2023-08-11T11:55:12.774Z"
   },
   {
    "duration": 96,
    "start_time": "2023-08-11T11:55:12.848Z"
   },
   {
    "duration": 47,
    "start_time": "2023-08-11T11:55:12.946Z"
   },
   {
    "duration": 20,
    "start_time": "2023-08-11T11:55:12.995Z"
   },
   {
    "duration": 160,
    "start_time": "2023-08-11T11:55:13.017Z"
   },
   {
    "duration": 710,
    "start_time": "2023-08-11T11:55:13.179Z"
   },
   {
    "duration": 1738,
    "start_time": "2023-08-11T11:55:13.891Z"
   },
   {
    "duration": 55330,
    "start_time": "2023-08-11T11:55:15.631Z"
   },
   {
    "duration": 8,
    "start_time": "2023-08-11T11:56:10.964Z"
   },
   {
    "duration": 99,
    "start_time": "2023-08-11T11:56:10.977Z"
   },
   {
    "duration": 9513,
    "start_time": "2023-08-11T11:56:11.078Z"
   },
   {
    "duration": 611,
    "start_time": "2023-08-11T11:56:20.594Z"
   },
   {
    "duration": 23,
    "start_time": "2023-08-11T11:56:21.208Z"
   },
   {
    "duration": 25,
    "start_time": "2023-08-11T11:56:21.234Z"
   },
   {
    "duration": 7,
    "start_time": "2023-08-11T11:56:21.261Z"
   },
   {
    "duration": 1510,
    "start_time": "2023-08-14T09:51:32.625Z"
   },
   {
    "duration": 1029,
    "start_time": "2023-08-14T09:51:34.137Z"
   },
   {
    "duration": 396,
    "start_time": "2023-08-14T09:51:35.167Z"
   },
   {
    "duration": 409,
    "start_time": "2023-08-14T09:51:35.564Z"
   },
   {
    "duration": 3,
    "start_time": "2023-08-14T09:51:35.976Z"
   },
   {
    "duration": 55,
    "start_time": "2023-08-14T09:51:35.981Z"
   },
   {
    "duration": 101,
    "start_time": "2023-08-14T09:51:36.037Z"
   },
   {
    "duration": 113,
    "start_time": "2023-08-14T09:51:36.140Z"
   },
   {
    "duration": 60,
    "start_time": "2023-08-14T09:51:36.255Z"
   },
   {
    "duration": 31,
    "start_time": "2023-08-14T09:51:36.317Z"
   },
   {
    "duration": 518,
    "start_time": "2023-08-14T09:51:36.350Z"
   },
   {
    "duration": 30,
    "start_time": "2023-08-14T09:51:36.869Z"
   },
   {
    "duration": 36,
    "start_time": "2023-08-14T09:51:36.901Z"
   },
   {
    "duration": 260,
    "start_time": "2023-08-14T09:51:36.940Z"
   },
   {
    "duration": 178,
    "start_time": "2023-08-14T09:51:37.202Z"
   },
   {
    "duration": 133,
    "start_time": "2023-08-14T09:51:37.382Z"
   },
   {
    "duration": 80,
    "start_time": "2023-08-14T09:51:37.517Z"
   },
   {
    "duration": 4,
    "start_time": "2023-08-14T09:51:37.598Z"
   },
   {
    "duration": 91,
    "start_time": "2023-08-14T09:51:37.603Z"
   },
   {
    "duration": 38,
    "start_time": "2023-08-14T09:51:37.696Z"
   },
   {
    "duration": 26,
    "start_time": "2023-08-14T09:51:37.736Z"
   },
   {
    "duration": 26,
    "start_time": "2023-08-14T09:51:37.763Z"
   },
   {
    "duration": 84,
    "start_time": "2023-08-14T09:51:37.791Z"
   },
   {
    "duration": 576,
    "start_time": "2023-08-14T09:51:37.876Z"
   },
   {
    "duration": 1077,
    "start_time": "2023-08-14T09:51:38.454Z"
   },
   {
    "duration": 47006,
    "start_time": "2023-08-14T09:51:39.533Z"
   },
   {
    "duration": 8,
    "start_time": "2023-08-14T09:52:26.540Z"
   },
   {
    "duration": 20,
    "start_time": "2023-08-14T09:52:26.638Z"
   },
   {
    "duration": 8059,
    "start_time": "2023-08-14T09:52:26.659Z"
   },
   {
    "duration": 522,
    "start_time": "2023-08-14T09:52:34.720Z"
   },
   {
    "duration": 13,
    "start_time": "2023-08-14T09:52:35.244Z"
   },
   {
    "duration": 4,
    "start_time": "2023-08-14T09:52:35.259Z"
   },
   {
    "duration": 9,
    "start_time": "2023-08-14T09:52:35.265Z"
   },
   {
    "duration": 1792,
    "start_time": "2023-08-15T08:57:07.286Z"
   },
   {
    "duration": 3007,
    "start_time": "2023-08-15T08:57:09.081Z"
   },
   {
    "duration": 505,
    "start_time": "2023-08-15T08:57:12.090Z"
   },
   {
    "duration": 562,
    "start_time": "2023-08-15T08:57:12.597Z"
   },
   {
    "duration": 4,
    "start_time": "2023-08-15T08:57:13.160Z"
   },
   {
    "duration": 55,
    "start_time": "2023-08-15T08:57:13.166Z"
   },
   {
    "duration": 122,
    "start_time": "2023-08-15T08:57:13.223Z"
   },
   {
    "duration": 138,
    "start_time": "2023-08-15T08:57:13.347Z"
   },
   {
    "duration": 86,
    "start_time": "2023-08-15T08:57:13.487Z"
   },
   {
    "duration": 18,
    "start_time": "2023-08-15T08:57:13.576Z"
   },
   {
    "duration": 637,
    "start_time": "2023-08-15T08:57:13.595Z"
   },
   {
    "duration": 52,
    "start_time": "2023-08-15T08:57:14.234Z"
   },
   {
    "duration": 34,
    "start_time": "2023-08-15T08:57:14.288Z"
   },
   {
    "duration": 359,
    "start_time": "2023-08-15T08:57:14.325Z"
   },
   {
    "duration": 257,
    "start_time": "2023-08-15T08:57:14.686Z"
   },
   {
    "duration": 153,
    "start_time": "2023-08-15T08:57:14.944Z"
   },
   {
    "duration": 89,
    "start_time": "2023-08-15T08:57:15.099Z"
   },
   {
    "duration": 5,
    "start_time": "2023-08-15T08:57:15.190Z"
   },
   {
    "duration": 94,
    "start_time": "2023-08-15T08:57:15.197Z"
   },
   {
    "duration": 101,
    "start_time": "2023-08-15T08:57:15.294Z"
   },
   {
    "duration": 29,
    "start_time": "2023-08-15T08:57:15.397Z"
   },
   {
    "duration": 29,
    "start_time": "2023-08-15T08:57:15.428Z"
   },
   {
    "duration": 134,
    "start_time": "2023-08-15T08:57:15.459Z"
   },
   {
    "duration": 626,
    "start_time": "2023-08-15T08:57:15.595Z"
   },
   {
    "duration": 1610,
    "start_time": "2023-08-15T08:57:16.223Z"
   },
   {
    "duration": 55724,
    "start_time": "2023-08-15T08:57:17.835Z"
   },
   {
    "duration": 97,
    "start_time": "2023-08-15T08:58:13.563Z"
   },
   {
    "duration": 12,
    "start_time": "2023-08-15T08:58:13.663Z"
   },
   {
    "duration": 8705,
    "start_time": "2023-08-15T08:58:13.676Z"
   },
   {
    "duration": 548,
    "start_time": "2023-08-15T08:58:22.383Z"
   },
   {
    "duration": 32,
    "start_time": "2023-08-15T08:58:22.933Z"
   },
   {
    "duration": 4,
    "start_time": "2023-08-15T08:58:22.967Z"
   },
   {
    "duration": 19,
    "start_time": "2023-08-15T08:58:22.973Z"
   },
   {
    "duration": 1501,
    "start_time": "2023-08-15T11:56:19.648Z"
   },
   {
    "duration": 883,
    "start_time": "2023-08-15T11:56:21.152Z"
   },
   {
    "duration": 530,
    "start_time": "2023-08-15T11:56:22.037Z"
   },
   {
    "duration": 570,
    "start_time": "2023-08-15T11:56:22.570Z"
   },
   {
    "duration": 4,
    "start_time": "2023-08-15T11:56:23.142Z"
   },
   {
    "duration": 66,
    "start_time": "2023-08-15T11:56:23.147Z"
   },
   {
    "duration": 116,
    "start_time": "2023-08-15T11:56:23.215Z"
   },
   {
    "duration": 126,
    "start_time": "2023-08-15T11:56:23.333Z"
   },
   {
    "duration": 74,
    "start_time": "2023-08-15T11:56:23.461Z"
   },
   {
    "duration": 38,
    "start_time": "2023-08-15T11:56:23.537Z"
   },
   {
    "duration": 634,
    "start_time": "2023-08-15T11:56:23.577Z"
   },
   {
    "duration": 47,
    "start_time": "2023-08-15T11:56:24.213Z"
   },
   {
    "duration": 40,
    "start_time": "2023-08-15T11:56:24.262Z"
   },
   {
    "duration": 331,
    "start_time": "2023-08-15T11:56:24.304Z"
   },
   {
    "duration": 255,
    "start_time": "2023-08-15T11:56:24.637Z"
   },
   {
    "duration": 149,
    "start_time": "2023-08-15T11:56:24.894Z"
   },
   {
    "duration": 86,
    "start_time": "2023-08-15T11:56:25.045Z"
   },
   {
    "duration": 6,
    "start_time": "2023-08-15T11:56:25.133Z"
   },
   {
    "duration": 74,
    "start_time": "2023-08-15T11:56:25.141Z"
   },
   {
    "duration": 92,
    "start_time": "2023-08-15T11:56:25.218Z"
   },
   {
    "duration": 43,
    "start_time": "2023-08-15T11:56:25.313Z"
   },
   {
    "duration": 18,
    "start_time": "2023-08-15T11:56:25.358Z"
   },
   {
    "duration": 159,
    "start_time": "2023-08-15T11:56:25.378Z"
   },
   {
    "duration": 658,
    "start_time": "2023-08-15T11:56:25.539Z"
   },
   {
    "duration": 1559,
    "start_time": "2023-08-15T11:56:26.199Z"
   },
   {
    "duration": 56906,
    "start_time": "2023-08-15T11:56:27.760Z"
   },
   {
    "duration": 87,
    "start_time": "2023-08-15T11:57:24.672Z"
   },
   {
    "duration": 16,
    "start_time": "2023-08-15T11:57:24.764Z"
   },
   {
    "duration": 8820,
    "start_time": "2023-08-15T11:57:24.782Z"
   },
   {
    "duration": 554,
    "start_time": "2023-08-15T11:57:33.603Z"
   },
   {
    "duration": 16,
    "start_time": "2023-08-15T11:57:34.159Z"
   },
   {
    "duration": 3,
    "start_time": "2023-08-15T11:57:34.177Z"
   },
   {
    "duration": 6,
    "start_time": "2023-08-15T11:57:34.182Z"
   },
   {
    "duration": 8767477,
    "start_time": "2023-08-15T11:57:34.190Z"
   },
   {
    "duration": 3,
    "start_time": "2023-08-15T14:23:41.669Z"
   },
   {
    "duration": 4990,
    "start_time": "2023-08-15T14:23:41.674Z"
   },
   {
    "duration": 502,
    "start_time": "2023-08-15T14:23:46.665Z"
   },
   {
    "duration": 89,
    "start_time": "2023-08-15T14:23:47.169Z"
   },
   {
    "duration": 7,
    "start_time": "2023-08-15T14:23:47.260Z"
   },
   {
    "duration": 13,
    "start_time": "2023-08-15T14:23:47.268Z"
   },
   {
    "duration": 26,
    "start_time": "2023-08-15T14:23:47.283Z"
   },
   {
    "duration": 6461,
    "start_time": "2023-08-15T14:26:01.801Z"
   },
   {
    "duration": 514,
    "start_time": "2023-08-15T14:26:20.942Z"
   },
   {
    "duration": 4,
    "start_time": "2023-08-15T14:26:24.767Z"
   },
   {
    "duration": 4,
    "start_time": "2023-08-15T14:26:27.173Z"
   },
   {
    "duration": 11,
    "start_time": "2023-08-15T14:26:41.542Z"
   },
   {
    "duration": 16,
    "start_time": "2023-08-15T14:27:25.621Z"
   }
  ],
  "kernelspec": {
   "display_name": "Python 3 (ipykernel)",
   "language": "python",
   "name": "python3"
  },
  "language_info": {
   "codemirror_mode": {
    "name": "ipython",
    "version": 3
   },
   "file_extension": ".py",
   "mimetype": "text/x-python",
   "name": "python",
   "nbconvert_exporter": "python",
   "pygments_lexer": "ipython3",
   "version": "3.9.5"
  },
  "toc": {
   "base_numbering": 1,
   "nav_menu": {},
   "number_sections": true,
   "sideBar": true,
   "skip_h1_title": true,
   "title_cell": "Table of Contents",
   "title_sidebar": "Contents",
   "toc_cell": false,
   "toc_position": {},
   "toc_section_display": true,
   "toc_window_display": false
  }
 },
 "nbformat": 4,
 "nbformat_minor": 2
}
