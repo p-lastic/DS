{
 "cells": [
  {
   "cell_type": "markdown",
   "id": "125de3ea",
   "metadata": {},
   "source": [
    "# Информационная безопасность"
   ]
  },
  {
   "cell_type": "markdown",
   "id": "8012ba83",
   "metadata": {},
   "source": [
    "Предоставлены данные, собранные с помощью специальной программы по информационной безопасности.   \n",
    "  \n",
    "**Цель проекта:** разработать модель, которая будет максимально качественно классифицировать трафик на нормальный и злонамеренный.   \n",
    "\n",
    "**Ход работы:**  \n",
    "    1. Изучение общей информации о данных;  \n",
    "    2. Предобработка данных - проверка на дубликаты, пропуски, аномалии;  \n",
    "    3. Проведение исследовательского анализа данных - классов, распределения, корреляций;  \n",
    "    4. Деление на выборки, кодирование категориальных данных.  \n",
    "    5. Построить модели многоклассовой классификации и сравнить их метрики.  \n",
    "    6. Протестировать и проанализировать модель с лучшими метриками."
   ]
  },
  {
   "cell_type": "code",
   "execution_count": 1,
   "id": "e3fa5ef7",
   "metadata": {},
   "outputs": [
    {
     "name": "stdout",
     "output_type": "stream",
     "text": [
      "Collecting skimpy\n",
      "  Downloading skimpy-0.0.11-py3-none-any.whl (16 kB)\n",
      "Collecting numpy<2.0.0,>=1.22.2\n",
      "  Downloading numpy-1.26.1-cp39-cp39-manylinux_2_17_x86_64.manylinux2014_x86_64.whl (18.2 MB)\n",
      "\u001b[K     |████████████████████████████████| 18.2 MB 1.5 MB/s eta 0:00:01�████████████       | 14.2 MB 1.5 MB/s eta 0:00:03\n",
      "\u001b[?25hCollecting Pygments<3.0.0,>=2.10.0\n",
      "  Downloading Pygments-2.16.1-py3-none-any.whl (1.2 MB)\n",
      "\u001b[K     |████████████████████████████████| 1.2 MB 27.9 MB/s eta 0:00:01\n",
      "\u001b[?25hCollecting typeguard==4.1.4\n",
      "  Downloading typeguard-4.1.4-py3-none-any.whl (34 kB)\n",
      "Collecting click<9.0.0,>=8.1.6\n",
      "  Downloading click-8.1.7-py3-none-any.whl (97 kB)\n",
      "\u001b[K     |████████████████████████████████| 97 kB 4.1 MB/s  eta 0:00:01\n",
      "\u001b[?25hRequirement already satisfied: jupyter<2.0.0,>=1.0.0 in /opt/conda/lib/python3.9/site-packages (from skimpy) (1.0.0)\n",
      "Collecting rich<14.0,>=10.9\n",
      "  Downloading rich-13.6.0-py3-none-any.whl (239 kB)\n",
      "\u001b[K     |████████████████████████████████| 239 kB 92.8 MB/s eta 0:00:01\n",
      "\u001b[?25hCollecting polars<0.20.0,>=0.19.0\n",
      "  Downloading polars-0.19.9-cp38-abi3-manylinux_2_17_x86_64.manylinux2014_x86_64.whl (27.6 MB)\n",
      "\u001b[K     |████████████████████████████████| 27.6 MB 44 kB/s s eta 0:00:01 | 23.1 MB 56.8 MB/s eta 0:00:01MB 56.8 MB/s eta 0:00:01\n",
      "\u001b[?25hCollecting pandas<3.0.0,>=2.0.3\n",
      "  Downloading pandas-2.1.1-cp39-cp39-manylinux_2_17_x86_64.manylinux2014_x86_64.whl (12.3 MB)\n",
      "\u001b[K     |████████████████████████████████| 12.3 MB 16.6 MB/s eta 0:00:01\n",
      "\u001b[?25hCollecting ipykernel<7.0.0,>=6.7.0\n",
      "  Downloading ipykernel-6.25.2-py3-none-any.whl (154 kB)\n",
      "\u001b[K     |████████████████████████████████| 154 kB 51.9 MB/s eta 0:00:01\n",
      "\u001b[?25hCollecting pyarrow<14.0.0,>=13.0.0\n",
      "  Downloading pyarrow-13.0.0-cp39-cp39-manylinux_2_28_x86_64.whl (40.1 MB)\n",
      "\u001b[K     |████████████████████████████████| 40.1 MB 77 kB/s s eta 0:00:01██████████████▏          | 26.5 MB 80.9 MB/s eta 0:00:01\n",
      "\u001b[?25hCollecting typing-extensions>=4.7.0\n",
      "  Downloading typing_extensions-4.8.0-py3-none-any.whl (31 kB)\n",
      "Requirement already satisfied: importlib-metadata>=3.6 in /opt/conda/lib/python3.9/site-packages (from typeguard==4.1.4->skimpy) (4.6.1)\n",
      "Requirement already satisfied: zipp>=0.5 in /opt/conda/lib/python3.9/site-packages (from importlib-metadata>=3.6->typeguard==4.1.4->skimpy) (3.5.0)\n",
      "Collecting jupyter-core!=5.0.*,>=4.12\n",
      "  Downloading jupyter_core-5.4.0-py3-none-any.whl (28 kB)\n",
      "Requirement already satisfied: nest-asyncio in /opt/conda/lib/python3.9/site-packages (from ipykernel<7.0.0,>=6.7.0->skimpy) (1.5.1)\n",
      "Requirement already satisfied: packaging in /opt/conda/lib/python3.9/site-packages (from ipykernel<7.0.0,>=6.7.0->skimpy) (21.3)\n",
      "Requirement already satisfied: pyzmq>=20 in /opt/conda/lib/python3.9/site-packages (from ipykernel<7.0.0,>=6.7.0->skimpy) (22.1.0)\n",
      "Requirement already satisfied: matplotlib-inline>=0.1 in /opt/conda/lib/python3.9/site-packages (from ipykernel<7.0.0,>=6.7.0->skimpy) (0.1.2)\n",
      "Collecting traitlets>=5.4.0\n",
      "  Downloading traitlets-5.11.2-py3-none-any.whl (83 kB)\n",
      "\u001b[K     |████████████████████████████████| 83 kB 2.5 MB/s  eta 0:00:01\n",
      "\u001b[?25hRequirement already satisfied: ipython>=7.23.1 in /opt/conda/lib/python3.9/site-packages (from ipykernel<7.0.0,>=6.7.0->skimpy) (7.25.0)\n",
      "Requirement already satisfied: tornado>=6.1 in /opt/conda/lib/python3.9/site-packages (from ipykernel<7.0.0,>=6.7.0->skimpy) (6.1)\n",
      "Collecting comm>=0.1.1\n",
      "  Downloading comm-0.1.4-py3-none-any.whl (6.6 kB)\n",
      "Collecting psutil\n",
      "  Downloading psutil-5.9.6-cp36-abi3-manylinux_2_12_x86_64.manylinux2010_x86_64.manylinux_2_17_x86_64.manylinux2014_x86_64.whl (283 kB)\n",
      "\u001b[K     |████████████████████████████████| 283 kB 51.1 MB/s eta 0:00:01\n",
      "\u001b[?25hRequirement already satisfied: jupyter-client>=6.1.12 in /opt/conda/lib/python3.9/site-packages (from ipykernel<7.0.0,>=6.7.0->skimpy) (6.1.12)\n",
      "Collecting debugpy>=1.6.5\n",
      "  Downloading debugpy-1.8.0-cp39-cp39-manylinux_2_17_x86_64.manylinux2014_x86_64.whl (3.4 MB)\n",
      "\u001b[K     |████████████████████████████████| 3.4 MB 64.9 MB/s eta 0:00:01\n",
      "\u001b[?25hRequirement already satisfied: backcall in /opt/conda/lib/python3.9/site-packages (from ipython>=7.23.1->ipykernel<7.0.0,>=6.7.0->skimpy) (0.2.0)\n",
      "Requirement already satisfied: setuptools>=18.5 in /opt/conda/lib/python3.9/site-packages (from ipython>=7.23.1->ipykernel<7.0.0,>=6.7.0->skimpy) (49.6.0.post20210108)\n",
      "Requirement already satisfied: pickleshare in /opt/conda/lib/python3.9/site-packages (from ipython>=7.23.1->ipykernel<7.0.0,>=6.7.0->skimpy) (0.7.5)\n",
      "Requirement already satisfied: decorator in /opt/conda/lib/python3.9/site-packages (from ipython>=7.23.1->ipykernel<7.0.0,>=6.7.0->skimpy) (5.0.9)\n",
      "Requirement already satisfied: prompt-toolkit!=3.0.0,!=3.0.1,<3.1.0,>=2.0.0 in /opt/conda/lib/python3.9/site-packages (from ipython>=7.23.1->ipykernel<7.0.0,>=6.7.0->skimpy) (3.0.19)\n",
      "Requirement already satisfied: pexpect>4.3 in /opt/conda/lib/python3.9/site-packages (from ipython>=7.23.1->ipykernel<7.0.0,>=6.7.0->skimpy) (4.8.0)\n",
      "Requirement already satisfied: jedi>=0.16 in /opt/conda/lib/python3.9/site-packages (from ipython>=7.23.1->ipykernel<7.0.0,>=6.7.0->skimpy) (0.18.0)\n",
      "Requirement already satisfied: parso<0.9.0,>=0.8.0 in /opt/conda/lib/python3.9/site-packages (from jedi>=0.16->ipython>=7.23.1->ipykernel<7.0.0,>=6.7.0->skimpy) (0.8.2)\n",
      "Requirement already satisfied: ipywidgets in /opt/conda/lib/python3.9/site-packages (from jupyter<2.0.0,>=1.0.0->skimpy) (7.6.3)\n",
      "Requirement already satisfied: jupyter-console in /opt/conda/lib/python3.9/site-packages (from jupyter<2.0.0,>=1.0.0->skimpy) (6.4.2)\n",
      "Requirement already satisfied: nbconvert in /opt/conda/lib/python3.9/site-packages (from jupyter<2.0.0,>=1.0.0->skimpy) (6.1.0)\n",
      "Requirement already satisfied: notebook in /opt/conda/lib/python3.9/site-packages (from jupyter<2.0.0,>=1.0.0->skimpy) (6.4.0)\n",
      "Requirement already satisfied: qtconsole in /opt/conda/lib/python3.9/site-packages (from jupyter<2.0.0,>=1.0.0->skimpy) (5.3.2)\n",
      "Requirement already satisfied: python-dateutil>=2.1 in /opt/conda/lib/python3.9/site-packages (from jupyter-client>=6.1.12->ipykernel<7.0.0,>=6.7.0->skimpy) (2.8.1)\n",
      "Collecting platformdirs>=2.5\n",
      "  Downloading platformdirs-3.11.0-py3-none-any.whl (17 kB)\n",
      "Collecting tzdata>=2022.1\n",
      "  Downloading tzdata-2023.3-py2.py3-none-any.whl (341 kB)\n",
      "\u001b[K     |████████████████████████████████| 341 kB 34.1 MB/s eta 0:00:01\n",
      "\u001b[?25hRequirement already satisfied: pytz>=2020.1 in /opt/conda/lib/python3.9/site-packages (from pandas<3.0.0,>=2.0.3->skimpy) (2021.1)\n",
      "Collecting python-dateutil>=2.1\n",
      "  Downloading python_dateutil-2.8.2-py2.py3-none-any.whl (247 kB)\n",
      "\u001b[K     |████████████████████████████████| 247 kB 66.1 MB/s eta 0:00:01\n",
      "\u001b[?25hRequirement already satisfied: ptyprocess>=0.5 in /opt/conda/lib/python3.9/site-packages (from pexpect>4.3->ipython>=7.23.1->ipykernel<7.0.0,>=6.7.0->skimpy) (0.7.0)\n",
      "Requirement already satisfied: wcwidth in /opt/conda/lib/python3.9/site-packages (from prompt-toolkit!=3.0.0,!=3.0.1,<3.1.0,>=2.0.0->ipython>=7.23.1->ipykernel<7.0.0,>=6.7.0->skimpy) (0.2.5)\n",
      "Requirement already satisfied: six>=1.5 in /opt/conda/lib/python3.9/site-packages (from python-dateutil>=2.1->jupyter-client>=6.1.12->ipykernel<7.0.0,>=6.7.0->skimpy) (1.16.0)\n",
      "Collecting markdown-it-py>=2.2.0\n",
      "  Downloading markdown_it_py-3.0.0-py3-none-any.whl (87 kB)\n",
      "\u001b[K     |████████████████████████████████| 87 kB 4.5 MB/s  eta 0:00:01\n",
      "\u001b[?25hCollecting mdurl~=0.1\n",
      "  Downloading mdurl-0.1.2-py3-none-any.whl (10.0 kB)\n",
      "Requirement already satisfied: nbformat>=4.2.0 in /opt/conda/lib/python3.9/site-packages (from ipywidgets->jupyter<2.0.0,>=1.0.0->skimpy) (5.1.3)\n",
      "Requirement already satisfied: jupyterlab-widgets>=1.0.0 in /opt/conda/lib/python3.9/site-packages (from ipywidgets->jupyter<2.0.0,>=1.0.0->skimpy) (3.0.2)\n",
      "Requirement already satisfied: widgetsnbextension~=3.5.0 in /opt/conda/lib/python3.9/site-packages (from ipywidgets->jupyter<2.0.0,>=1.0.0->skimpy) (3.5.2)\n",
      "Requirement already satisfied: ipython-genutils in /opt/conda/lib/python3.9/site-packages (from nbformat>=4.2.0->ipywidgets->jupyter<2.0.0,>=1.0.0->skimpy) (0.2.0)\n",
      "Requirement already satisfied: jsonschema!=2.5.0,>=2.4 in /opt/conda/lib/python3.9/site-packages (from nbformat>=4.2.0->ipywidgets->jupyter<2.0.0,>=1.0.0->skimpy) (3.2.0)\n",
      "Requirement already satisfied: pyrsistent>=0.14.0 in /opt/conda/lib/python3.9/site-packages (from jsonschema!=2.5.0,>=2.4->nbformat>=4.2.0->ipywidgets->jupyter<2.0.0,>=1.0.0->skimpy) (0.17.3)\n",
      "Requirement already satisfied: attrs>=17.4.0 in /opt/conda/lib/python3.9/site-packages (from jsonschema!=2.5.0,>=2.4->nbformat>=4.2.0->ipywidgets->jupyter<2.0.0,>=1.0.0->skimpy) (21.2.0)\n",
      "Requirement already satisfied: terminado>=0.8.3 in /opt/conda/lib/python3.9/site-packages (from notebook->jupyter<2.0.0,>=1.0.0->skimpy) (0.10.1)\n",
      "Requirement already satisfied: argon2-cffi in /opt/conda/lib/python3.9/site-packages (from notebook->jupyter<2.0.0,>=1.0.0->skimpy) (20.1.0)\n",
      "Requirement already satisfied: prometheus-client in /opt/conda/lib/python3.9/site-packages (from notebook->jupyter<2.0.0,>=1.0.0->skimpy) (0.11.0)\n",
      "Requirement already satisfied: Send2Trash>=1.5.0 in /opt/conda/lib/python3.9/site-packages (from notebook->jupyter<2.0.0,>=1.0.0->skimpy) (1.7.1)\n",
      "Requirement already satisfied: jinja2 in /opt/conda/lib/python3.9/site-packages (from notebook->jupyter<2.0.0,>=1.0.0->skimpy) (3.0.1)\n",
      "Requirement already satisfied: cffi>=1.0.0 in /opt/conda/lib/python3.9/site-packages (from argon2-cffi->notebook->jupyter<2.0.0,>=1.0.0->skimpy) (1.14.5)\n",
      "Requirement already satisfied: pycparser in /opt/conda/lib/python3.9/site-packages (from cffi>=1.0.0->argon2-cffi->notebook->jupyter<2.0.0,>=1.0.0->skimpy) (2.20)\n",
      "Requirement already satisfied: MarkupSafe>=2.0 in /opt/conda/lib/python3.9/site-packages (from jinja2->notebook->jupyter<2.0.0,>=1.0.0->skimpy) (2.1.1)\n",
      "Requirement already satisfied: nbclient<0.6.0,>=0.5.0 in /opt/conda/lib/python3.9/site-packages (from nbconvert->jupyter<2.0.0,>=1.0.0->skimpy) (0.5.3)\n",
      "Requirement already satisfied: jupyterlab-pygments in /opt/conda/lib/python3.9/site-packages (from nbconvert->jupyter<2.0.0,>=1.0.0->skimpy) (0.1.2)\n",
      "Requirement already satisfied: entrypoints>=0.2.2 in /opt/conda/lib/python3.9/site-packages (from nbconvert->jupyter<2.0.0,>=1.0.0->skimpy) (0.3)\n",
      "Requirement already satisfied: mistune<2,>=0.8.1 in /opt/conda/lib/python3.9/site-packages (from nbconvert->jupyter<2.0.0,>=1.0.0->skimpy) (0.8.4)\n",
      "Requirement already satisfied: bleach in /opt/conda/lib/python3.9/site-packages (from nbconvert->jupyter<2.0.0,>=1.0.0->skimpy) (3.3.0)\n",
      "Requirement already satisfied: pandocfilters>=1.4.1 in /opt/conda/lib/python3.9/site-packages (from nbconvert->jupyter<2.0.0,>=1.0.0->skimpy) (1.4.2)\n",
      "Requirement already satisfied: defusedxml in /opt/conda/lib/python3.9/site-packages (from nbconvert->jupyter<2.0.0,>=1.0.0->skimpy) (0.7.1)\n",
      "Requirement already satisfied: testpath in /opt/conda/lib/python3.9/site-packages (from nbconvert->jupyter<2.0.0,>=1.0.0->skimpy) (0.5.0)\n",
      "Requirement already satisfied: async-generator in /opt/conda/lib/python3.9/site-packages (from nbclient<0.6.0,>=0.5.0->nbconvert->jupyter<2.0.0,>=1.0.0->skimpy) (1.10)\n",
      "Requirement already satisfied: webencodings in /opt/conda/lib/python3.9/site-packages (from bleach->nbconvert->jupyter<2.0.0,>=1.0.0->skimpy) (0.5.1)\n",
      "Requirement already satisfied: pyparsing!=3.0.5,>=2.0.2 in /opt/conda/lib/python3.9/site-packages (from packaging->ipykernel<7.0.0,>=6.7.0->skimpy) (2.4.7)\n",
      "Requirement already satisfied: qtpy>=2.0.1 in /opt/conda/lib/python3.9/site-packages (from qtconsole->jupyter<2.0.0,>=1.0.0->skimpy) (2.2.0)\n",
      "Installing collected packages: traitlets, platformdirs, python-dateutil, jupyter-core, Pygments, psutil, debugpy, comm, ipykernel, mdurl, tzdata, typing-extensions, numpy, markdown-it-py, typeguard, rich, pyarrow, polars, pandas, click, skimpy\n",
      "  Attempting uninstall: traitlets\n",
      "    Found existing installation: traitlets 5.0.5\n",
      "    Uninstalling traitlets-5.0.5:\n",
      "      Successfully uninstalled traitlets-5.0.5\n",
      "  Attempting uninstall: python-dateutil\n",
      "    Found existing installation: python-dateutil 2.8.1\n",
      "    Uninstalling python-dateutil-2.8.1:\n",
      "      Successfully uninstalled python-dateutil-2.8.1\n",
      "  Attempting uninstall: jupyter-core\n",
      "    Found existing installation: jupyter-core 4.7.1\n",
      "    Uninstalling jupyter-core-4.7.1:\n",
      "      Successfully uninstalled jupyter-core-4.7.1\n",
      "  Attempting uninstall: Pygments\n",
      "    Found existing installation: Pygments 2.9.0\n",
      "    Uninstalling Pygments-2.9.0:\n",
      "      Successfully uninstalled Pygments-2.9.0\n",
      "  Attempting uninstall: debugpy\n",
      "    Found existing installation: debugpy 1.3.0\n",
      "    Uninstalling debugpy-1.3.0:\n",
      "      Successfully uninstalled debugpy-1.3.0\n",
      "  Attempting uninstall: ipykernel\n",
      "    Found existing installation: ipykernel 6.0.1\n",
      "    Uninstalling ipykernel-6.0.1:\n",
      "      Successfully uninstalled ipykernel-6.0.1\n",
      "  Attempting uninstall: typing-extensions\n",
      "    Found existing installation: typing-extensions 4.3.0\n",
      "    Uninstalling typing-extensions-4.3.0:\n",
      "      Successfully uninstalled typing-extensions-4.3.0\n",
      "  Attempting uninstall: numpy\n",
      "    Found existing installation: numpy 1.21.1\n",
      "    Uninstalling numpy-1.21.1:\n",
      "      Successfully uninstalled numpy-1.21.1\n",
      "  Attempting uninstall: pyarrow\n",
      "    Found existing installation: pyarrow 5.0.0\n",
      "    Uninstalling pyarrow-5.0.0:\n",
      "      Successfully uninstalled pyarrow-5.0.0\n",
      "  Attempting uninstall: pandas\n",
      "    Found existing installation: pandas 1.2.4\n",
      "    Uninstalling pandas-1.2.4:\n",
      "      Successfully uninstalled pandas-1.2.4\n",
      "  Attempting uninstall: click\n",
      "    Found existing installation: click 8.1.3\n",
      "    Uninstalling click-8.1.3:\n",
      "      Successfully uninstalled click-8.1.3\n",
      "\u001b[31mERROR: pip's dependency resolver does not currently take into account all the packages that are installed. This behaviour is the source of the following dependency conflicts.\n",
      "scipy 1.9.1 requires numpy<1.25.0,>=1.18.5, but you have numpy 1.26.1 which is incompatible.\n",
      "numba 0.56.0 requires numpy<1.23,>=1.18, but you have numpy 1.26.1 which is incompatible.\u001b[0m\n",
      "Successfully installed Pygments-2.16.1 click-8.1.7 comm-0.1.4 debugpy-1.8.0 ipykernel-6.25.2 jupyter-core-5.4.0 markdown-it-py-3.0.0 mdurl-0.1.2 numpy-1.26.1 pandas-2.1.1 platformdirs-3.11.0 polars-0.19.9 psutil-5.9.6 pyarrow-13.0.0 python-dateutil-2.8.2 rich-13.6.0 skimpy-0.0.11 traitlets-5.11.2 typeguard-4.1.4 typing-extensions-4.8.0 tzdata-2023.3\n",
      "Note: you may need to restart the kernel to use updated packages.\n"
     ]
    }
   ],
   "source": [
    "pip install skimpy"
   ]
  },
  {
   "cell_type": "code",
   "execution_count": 26,
   "id": "4f260508",
   "metadata": {},
   "outputs": [],
   "source": [
    "#импортирование библиотек\n",
    "\n",
    "import pandas as pd\n",
    "import numpy as np\n",
    "from skimpy import clean_columns\n",
    "\n",
    "import matplotlib.pyplot as plt\n",
    "\n",
    "import sklearn\n",
    "from sklearn import metrics\n",
    "from sklearn.metrics import classification_report, accuracy_score\n",
    "from sklearn.model_selection import train_test_split\n",
    "from sklearn.model_selection import GridSearchCV\n",
    "from sklearn.model_selection import cross_val_predict\n",
    "from sklearn.preprocessing import LabelEncoder\n",
    "from sklearn.ensemble import RandomForestClassifier\n",
    "\n",
    "from catboost import CatBoostClassifier, Pool\n",
    "\n",
    "import warnings\n",
    "warnings.filterwarnings(\"ignore\")"
   ]
  },
  {
   "cell_type": "markdown",
   "id": "ff27d53d",
   "metadata": {},
   "source": [
    "## Общая информация о данных"
   ]
  },
  {
   "cell_type": "code",
   "execution_count": 7,
   "id": "137835c2",
   "metadata": {},
   "outputs": [],
   "source": [
    "#загрузка данных\n",
    "\n",
    "df = pd.read_csv('network_traffic_data.csv')"
   ]
  },
  {
   "cell_type": "code",
   "execution_count": 10,
   "id": "9a4fce7f",
   "metadata": {},
   "outputs": [
    {
     "data": {
      "text/html": [
       "<div>\n",
       "<style scoped>\n",
       "    .dataframe tbody tr th:only-of-type {\n",
       "        vertical-align: middle;\n",
       "    }\n",
       "\n",
       "    .dataframe tbody tr th {\n",
       "        vertical-align: top;\n",
       "    }\n",
       "\n",
       "    .dataframe thead th {\n",
       "        text-align: right;\n",
       "    }\n",
       "</style>\n",
       "<table border=\"1\" class=\"dataframe\">\n",
       "  <thead>\n",
       "    <tr style=\"text-align: right;\">\n",
       "      <th></th>\n",
       "      <th>destination_port</th>\n",
       "      <th>flow_duration</th>\n",
       "      <th>total_fwd_packets</th>\n",
       "      <th>total_backward_packets</th>\n",
       "      <th>total_length_of_fwd_packets</th>\n",
       "      <th>total_length_of_bwd_packets</th>\n",
       "      <th>fwd_packet_length_max</th>\n",
       "      <th>fwd_packet_length_min</th>\n",
       "      <th>fwd_packet_length_mean</th>\n",
       "      <th>fwd_packet_length_std</th>\n",
       "      <th>...</th>\n",
       "      <th>min_seg_size_forward</th>\n",
       "      <th>active_mean</th>\n",
       "      <th>active_std</th>\n",
       "      <th>active_max</th>\n",
       "      <th>active_min</th>\n",
       "      <th>idle_mean</th>\n",
       "      <th>idle_std</th>\n",
       "      <th>idle_max</th>\n",
       "      <th>idle_min</th>\n",
       "      <th>label</th>\n",
       "    </tr>\n",
       "  </thead>\n",
       "  <tbody>\n",
       "    <tr>\n",
       "      <th>0</th>\n",
       "      <td>80</td>\n",
       "      <td>5480074</td>\n",
       "      <td>3</td>\n",
       "      <td>1</td>\n",
       "      <td>12</td>\n",
       "      <td>0</td>\n",
       "      <td>6</td>\n",
       "      <td>0</td>\n",
       "      <td>4.000</td>\n",
       "      <td>3.465</td>\n",
       "      <td>...</td>\n",
       "      <td>20</td>\n",
       "      <td>0.0</td>\n",
       "      <td>0.0</td>\n",
       "      <td>0</td>\n",
       "      <td>0</td>\n",
       "      <td>0.0</td>\n",
       "      <td>0.0</td>\n",
       "      <td>0</td>\n",
       "      <td>0</td>\n",
       "      <td>BENIGN</td>\n",
       "    </tr>\n",
       "    <tr>\n",
       "      <th>1</th>\n",
       "      <td>443</td>\n",
       "      <td>711977</td>\n",
       "      <td>9</td>\n",
       "      <td>10</td>\n",
       "      <td>703</td>\n",
       "      <td>3950</td>\n",
       "      <td>267</td>\n",
       "      <td>0</td>\n",
       "      <td>78.100</td>\n",
       "      <td>103.300</td>\n",
       "      <td>...</td>\n",
       "      <td>32</td>\n",
       "      <td>0.0</td>\n",
       "      <td>0.0</td>\n",
       "      <td>0</td>\n",
       "      <td>0</td>\n",
       "      <td>0.0</td>\n",
       "      <td>0.0</td>\n",
       "      <td>0</td>\n",
       "      <td>0</td>\n",
       "      <td>BENIGN</td>\n",
       "    </tr>\n",
       "    <tr>\n",
       "      <th>2</th>\n",
       "      <td>53</td>\n",
       "      <td>153398</td>\n",
       "      <td>2</td>\n",
       "      <td>2</td>\n",
       "      <td>80</td>\n",
       "      <td>224</td>\n",
       "      <td>40</td>\n",
       "      <td>40</td>\n",
       "      <td>40.000</td>\n",
       "      <td>0.000</td>\n",
       "      <td>...</td>\n",
       "      <td>20</td>\n",
       "      <td>0.0</td>\n",
       "      <td>0.0</td>\n",
       "      <td>0</td>\n",
       "      <td>0</td>\n",
       "      <td>0.0</td>\n",
       "      <td>0.0</td>\n",
       "      <td>0</td>\n",
       "      <td>0</td>\n",
       "      <td>BENIGN</td>\n",
       "    </tr>\n",
       "    <tr>\n",
       "      <th>3</th>\n",
       "      <td>53</td>\n",
       "      <td>57660</td>\n",
       "      <td>1</td>\n",
       "      <td>1</td>\n",
       "      <td>46</td>\n",
       "      <td>128</td>\n",
       "      <td>46</td>\n",
       "      <td>46</td>\n",
       "      <td>46.000</td>\n",
       "      <td>0.000</td>\n",
       "      <td>...</td>\n",
       "      <td>20</td>\n",
       "      <td>0.0</td>\n",
       "      <td>0.0</td>\n",
       "      <td>0</td>\n",
       "      <td>0</td>\n",
       "      <td>0.0</td>\n",
       "      <td>0.0</td>\n",
       "      <td>0</td>\n",
       "      <td>0</td>\n",
       "      <td>BENIGN</td>\n",
       "    </tr>\n",
       "    <tr>\n",
       "      <th>4</th>\n",
       "      <td>8446</td>\n",
       "      <td>767</td>\n",
       "      <td>3</td>\n",
       "      <td>1</td>\n",
       "      <td>43</td>\n",
       "      <td>6</td>\n",
       "      <td>31</td>\n",
       "      <td>6</td>\n",
       "      <td>14.336</td>\n",
       "      <td>14.440</td>\n",
       "      <td>...</td>\n",
       "      <td>20</td>\n",
       "      <td>0.0</td>\n",
       "      <td>0.0</td>\n",
       "      <td>0</td>\n",
       "      <td>0</td>\n",
       "      <td>0.0</td>\n",
       "      <td>0.0</td>\n",
       "      <td>0</td>\n",
       "      <td>0</td>\n",
       "      <td>BENIGN</td>\n",
       "    </tr>\n",
       "    <tr>\n",
       "      <th>5</th>\n",
       "      <td>47210</td>\n",
       "      <td>3</td>\n",
       "      <td>2</td>\n",
       "      <td>0</td>\n",
       "      <td>0</td>\n",
       "      <td>0</td>\n",
       "      <td>0</td>\n",
       "      <td>0</td>\n",
       "      <td>0.000</td>\n",
       "      <td>0.000</td>\n",
       "      <td>...</td>\n",
       "      <td>32</td>\n",
       "      <td>0.0</td>\n",
       "      <td>0.0</td>\n",
       "      <td>0</td>\n",
       "      <td>0</td>\n",
       "      <td>0.0</td>\n",
       "      <td>0.0</td>\n",
       "      <td>0</td>\n",
       "      <td>0</td>\n",
       "      <td>BENIGN</td>\n",
       "    </tr>\n",
       "    <tr>\n",
       "      <th>6</th>\n",
       "      <td>53</td>\n",
       "      <td>111373</td>\n",
       "      <td>4</td>\n",
       "      <td>2</td>\n",
       "      <td>168</td>\n",
       "      <td>116</td>\n",
       "      <td>42</td>\n",
       "      <td>42</td>\n",
       "      <td>42.000</td>\n",
       "      <td>0.000</td>\n",
       "      <td>...</td>\n",
       "      <td>20</td>\n",
       "      <td>0.0</td>\n",
       "      <td>0.0</td>\n",
       "      <td>0</td>\n",
       "      <td>0</td>\n",
       "      <td>0.0</td>\n",
       "      <td>0.0</td>\n",
       "      <td>0</td>\n",
       "      <td>0</td>\n",
       "      <td>BENIGN</td>\n",
       "    </tr>\n",
       "    <tr>\n",
       "      <th>7</th>\n",
       "      <td>443</td>\n",
       "      <td>65786373</td>\n",
       "      <td>122</td>\n",
       "      <td>191</td>\n",
       "      <td>23544</td>\n",
       "      <td>275883</td>\n",
       "      <td>1093</td>\n",
       "      <td>0</td>\n",
       "      <td>193.000</td>\n",
       "      <td>366.200</td>\n",
       "      <td>...</td>\n",
       "      <td>20</td>\n",
       "      <td>14600467.0</td>\n",
       "      <td>0.0</td>\n",
       "      <td>14600467</td>\n",
       "      <td>14600467</td>\n",
       "      <td>51185856.0</td>\n",
       "      <td>0.0</td>\n",
       "      <td>51185854</td>\n",
       "      <td>51185854</td>\n",
       "      <td>BENIGN</td>\n",
       "    </tr>\n",
       "    <tr>\n",
       "      <th>8</th>\n",
       "      <td>1877</td>\n",
       "      <td>213</td>\n",
       "      <td>3</td>\n",
       "      <td>1</td>\n",
       "      <td>43</td>\n",
       "      <td>6</td>\n",
       "      <td>31</td>\n",
       "      <td>6</td>\n",
       "      <td>14.336</td>\n",
       "      <td>14.440</td>\n",
       "      <td>...</td>\n",
       "      <td>20</td>\n",
       "      <td>0.0</td>\n",
       "      <td>0.0</td>\n",
       "      <td>0</td>\n",
       "      <td>0</td>\n",
       "      <td>0.0</td>\n",
       "      <td>0.0</td>\n",
       "      <td>0</td>\n",
       "      <td>0</td>\n",
       "      <td>BENIGN</td>\n",
       "    </tr>\n",
       "    <tr>\n",
       "      <th>9</th>\n",
       "      <td>53</td>\n",
       "      <td>91552</td>\n",
       "      <td>1</td>\n",
       "      <td>1</td>\n",
       "      <td>54</td>\n",
       "      <td>179</td>\n",
       "      <td>54</td>\n",
       "      <td>54</td>\n",
       "      <td>54.000</td>\n",
       "      <td>0.000</td>\n",
       "      <td>...</td>\n",
       "      <td>32</td>\n",
       "      <td>0.0</td>\n",
       "      <td>0.0</td>\n",
       "      <td>0</td>\n",
       "      <td>0</td>\n",
       "      <td>0.0</td>\n",
       "      <td>0.0</td>\n",
       "      <td>0</td>\n",
       "      <td>0</td>\n",
       "      <td>BENIGN</td>\n",
       "    </tr>\n",
       "  </tbody>\n",
       "</table>\n",
       "<p>10 rows × 79 columns</p>\n",
       "</div>"
      ],
      "text/plain": [
       "   destination_port  flow_duration  total_fwd_packets  total_backward_packets  \\\n",
       "0                80        5480074                  3                       1   \n",
       "1               443         711977                  9                      10   \n",
       "2                53         153398                  2                       2   \n",
       "3                53          57660                  1                       1   \n",
       "4              8446            767                  3                       1   \n",
       "5             47210              3                  2                       0   \n",
       "6                53         111373                  4                       2   \n",
       "7               443       65786373                122                     191   \n",
       "8              1877            213                  3                       1   \n",
       "9                53          91552                  1                       1   \n",
       "\n",
       "   total_length_of_fwd_packets  total_length_of_bwd_packets  \\\n",
       "0                           12                            0   \n",
       "1                          703                         3950   \n",
       "2                           80                          224   \n",
       "3                           46                          128   \n",
       "4                           43                            6   \n",
       "5                            0                            0   \n",
       "6                          168                          116   \n",
       "7                        23544                       275883   \n",
       "8                           43                            6   \n",
       "9                           54                          179   \n",
       "\n",
       "   fwd_packet_length_max  fwd_packet_length_min  fwd_packet_length_mean  \\\n",
       "0                      6                      0                   4.000   \n",
       "1                    267                      0                  78.100   \n",
       "2                     40                     40                  40.000   \n",
       "3                     46                     46                  46.000   \n",
       "4                     31                      6                  14.336   \n",
       "5                      0                      0                   0.000   \n",
       "6                     42                     42                  42.000   \n",
       "7                   1093                      0                 193.000   \n",
       "8                     31                      6                  14.336   \n",
       "9                     54                     54                  54.000   \n",
       "\n",
       "   fwd_packet_length_std  ...  min_seg_size_forward  active_mean  active_std  \\\n",
       "0                  3.465  ...                    20          0.0         0.0   \n",
       "1                103.300  ...                    32          0.0         0.0   \n",
       "2                  0.000  ...                    20          0.0         0.0   \n",
       "3                  0.000  ...                    20          0.0         0.0   \n",
       "4                 14.440  ...                    20          0.0         0.0   \n",
       "5                  0.000  ...                    32          0.0         0.0   \n",
       "6                  0.000  ...                    20          0.0         0.0   \n",
       "7                366.200  ...                    20   14600467.0         0.0   \n",
       "8                 14.440  ...                    20          0.0         0.0   \n",
       "9                  0.000  ...                    32          0.0         0.0   \n",
       "\n",
       "   active_max  active_min   idle_mean  idle_std  idle_max  idle_min   label  \n",
       "0           0           0         0.0       0.0         0         0  BENIGN  \n",
       "1           0           0         0.0       0.0         0         0  BENIGN  \n",
       "2           0           0         0.0       0.0         0         0  BENIGN  \n",
       "3           0           0         0.0       0.0         0         0  BENIGN  \n",
       "4           0           0         0.0       0.0         0         0  BENIGN  \n",
       "5           0           0         0.0       0.0         0         0  BENIGN  \n",
       "6           0           0         0.0       0.0         0         0  BENIGN  \n",
       "7    14600467    14600467  51185856.0       0.0  51185854  51185854  BENIGN  \n",
       "8           0           0         0.0       0.0         0         0  BENIGN  \n",
       "9           0           0         0.0       0.0         0         0  BENIGN  \n",
       "\n",
       "[10 rows x 79 columns]"
      ]
     },
     "execution_count": 10,
     "metadata": {},
     "output_type": "execute_result"
    }
   ],
   "source": [
    "df.head(10)"
   ]
  },
  {
   "cell_type": "code",
   "execution_count": 9,
   "id": "1065a0f3",
   "metadata": {},
   "outputs": [],
   "source": [
    "#приведение названий признаков к стилю snake\n",
    "\n",
    "df = clean_columns(df)"
   ]
  },
  {
   "cell_type": "code",
   "execution_count": 11,
   "id": "489dd62f",
   "metadata": {},
   "outputs": [
    {
     "name": "stdout",
     "output_type": "stream",
     "text": [
      "<class 'pandas.core.frame.DataFrame'>\n",
      "RangeIndex: 539616 entries, 0 to 539615\n",
      "Data columns (total 79 columns):\n",
      " #   Column                       Non-Null Count   Dtype  \n",
      "---  ------                       --------------   -----  \n",
      " 0   destination_port             539616 non-null  int64  \n",
      " 1   flow_duration                539616 non-null  int64  \n",
      " 2   total_fwd_packets            539616 non-null  int64  \n",
      " 3   total_backward_packets       539616 non-null  int64  \n",
      " 4   total_length_of_fwd_packets  539616 non-null  int64  \n",
      " 5   total_length_of_bwd_packets  539616 non-null  int64  \n",
      " 6   fwd_packet_length_max        539616 non-null  int64  \n",
      " 7   fwd_packet_length_min        539616 non-null  int64  \n",
      " 8   fwd_packet_length_mean       539616 non-null  float64\n",
      " 9   fwd_packet_length_std        539616 non-null  float64\n",
      " 10  bwd_packet_length_max        539616 non-null  int64  \n",
      " 11  bwd_packet_length_min        539616 non-null  int64  \n",
      " 12  bwd_packet_length_mean       539616 non-null  float64\n",
      " 13  bwd_packet_length_std        539616 non-null  float64\n",
      " 14  flow_bytes_s                 539128 non-null  float64\n",
      " 15  flow_packets_s               539616 non-null  float64\n",
      " 16  flow_iat_mean                539616 non-null  float64\n",
      " 17  flow_iat_std                 539616 non-null  float64\n",
      " 18  flow_iat_max                 539616 non-null  int64  \n",
      " 19  flow_iat_min                 539616 non-null  int64  \n",
      " 20  fwd_iat_total                539616 non-null  int64  \n",
      " 21  fwd_iat_mean                 539616 non-null  float64\n",
      " 22  fwd_iat_std                  539616 non-null  float64\n",
      " 23  fwd_iat_max                  539616 non-null  int64  \n",
      " 24  fwd_iat_min                  539616 non-null  int64  \n",
      " 25  bwd_iat_total                539616 non-null  int64  \n",
      " 26  bwd_iat_mean                 539616 non-null  float64\n",
      " 27  bwd_iat_std                  539616 non-null  float64\n",
      " 28  bwd_iat_max                  539616 non-null  int64  \n",
      " 29  bwd_iat_min                  539616 non-null  int64  \n",
      " 30  fwd_psh_flags                539616 non-null  int64  \n",
      " 31  bwd_psh_flags                539616 non-null  int64  \n",
      " 32  fwd_urg_flags                539616 non-null  int64  \n",
      " 33  bwd_urg_flags                539616 non-null  int64  \n",
      " 34  fwd_header_length            539616 non-null  int64  \n",
      " 35  bwd_header_length            539616 non-null  int64  \n",
      " 36  fwd_packets_s                539616 non-null  float64\n",
      " 37  bwd_packets_s                539616 non-null  float64\n",
      " 38  min_packet_length            539616 non-null  int64  \n",
      " 39  max_packet_length            539616 non-null  int64  \n",
      " 40  packet_length_mean           539616 non-null  float64\n",
      " 41  packet_length_std            539616 non-null  float64\n",
      " 42  packet_length_variance       539616 non-null  float64\n",
      " 43  fin_flag_count               539616 non-null  int64  \n",
      " 44  syn_flag_count               539616 non-null  int64  \n",
      " 45  rst_flag_count               539616 non-null  int64  \n",
      " 46  psh_flag_count               539616 non-null  int64  \n",
      " 47  ack_flag_count               539616 non-null  int64  \n",
      " 48  urg_flag_count               539616 non-null  int64  \n",
      " 49  cwe_flag_count               539616 non-null  int64  \n",
      " 50  ece_flag_count               539616 non-null  int64  \n",
      " 51  down_up_ratio                539616 non-null  int64  \n",
      " 52  average_packet_size          539616 non-null  float64\n",
      " 53  avg_fwd_segment_size         539616 non-null  float64\n",
      " 54  avg_bwd_segment_size         539616 non-null  float64\n",
      " 55  fwd_header_length_1          539616 non-null  int64  \n",
      " 56  fwd_avg_bytes_bulk           539616 non-null  int64  \n",
      " 57  fwd_avg_packets_bulk         539616 non-null  int64  \n",
      " 58  fwd_avg_bulk_rate            539616 non-null  int64  \n",
      " 59  bwd_avg_bytes_bulk           539616 non-null  int64  \n",
      " 60  bwd_avg_packets_bulk         539616 non-null  int64  \n",
      " 61  bwd_avg_bulk_rate            539616 non-null  int64  \n",
      " 62  subflow_fwd_packets          539616 non-null  int64  \n",
      " 63  subflow_fwd_bytes            539616 non-null  int64  \n",
      " 64  subflow_bwd_packets          539616 non-null  int64  \n",
      " 65  subflow_bwd_bytes            539616 non-null  int64  \n",
      " 66  init_win_bytes_forward       539616 non-null  int64  \n",
      " 67  init_win_bytes_backward      539616 non-null  int64  \n",
      " 68  act_data_pkt_fwd             539616 non-null  int64  \n",
      " 69  min_seg_size_forward         539616 non-null  int64  \n",
      " 70  active_mean                  539616 non-null  float64\n",
      " 71  active_std                   539616 non-null  float64\n",
      " 72  active_max                   539616 non-null  int64  \n",
      " 73  active_min                   539616 non-null  int64  \n",
      " 74  idle_mean                    539616 non-null  float64\n",
      " 75  idle_std                     539616 non-null  float64\n",
      " 76  idle_max                     539616 non-null  int64  \n",
      " 77  idle_min                     539616 non-null  int64  \n",
      " 78  label                        539616 non-null  object \n",
      "dtypes: float64(24), int64(54), object(1)\n",
      "memory usage: 325.2+ MB\n"
     ]
    }
   ],
   "source": [
    "df.info()"
   ]
  },
  {
   "cell_type": "markdown",
   "id": "8aabcde7",
   "metadata": {},
   "source": [
    "-Значения признаков численное, за исключением целевого - label.  \n",
    "-Обнаружены пропуски в flow_bytes_s - в 488 строках, примерно 0,1% всей выборки. О природе данных ничего не известно, о причинах пропусков можно только догадываться.  "
   ]
  },
  {
   "cell_type": "markdown",
   "id": "3d790a86",
   "metadata": {},
   "source": [
    "## Предобработка данных и EDA"
   ]
  },
  {
   "cell_type": "code",
   "execution_count": 12,
   "id": "4d0411c9",
   "metadata": {},
   "outputs": [
    {
     "data": {
      "text/plain": [
       "64601"
      ]
     },
     "execution_count": 12,
     "metadata": {},
     "output_type": "execute_result"
    }
   ],
   "source": [
    "#проверка на дубликаты\n",
    "\n",
    "df.duplicated().sum()"
   ]
  },
  {
   "cell_type": "code",
   "execution_count": 13,
   "id": "0485dad8",
   "metadata": {},
   "outputs": [],
   "source": [
    "#удаление дубликатов\n",
    "\n",
    "df = df.drop_duplicates()"
   ]
  },
  {
   "cell_type": "code",
   "execution_count": 14,
   "id": "f23b9b58",
   "metadata": {},
   "outputs": [],
   "source": [
    "#переменные для признаков и целевого признака \n",
    "\n",
    "target = df['label']\n",
    "features = df.drop('label', axis=1)"
   ]
  },
  {
   "cell_type": "code",
   "execution_count": 15,
   "id": "0ccbe5c2",
   "metadata": {},
   "outputs": [
    {
     "data": {
      "text/html": [
       "<div>\n",
       "<style scoped>\n",
       "    .dataframe tbody tr th:only-of-type {\n",
       "        vertical-align: middle;\n",
       "    }\n",
       "\n",
       "    .dataframe tbody tr th {\n",
       "        vertical-align: top;\n",
       "    }\n",
       "\n",
       "    .dataframe thead th {\n",
       "        text-align: right;\n",
       "    }\n",
       "</style>\n",
       "<table border=\"1\" class=\"dataframe\">\n",
       "  <thead>\n",
       "    <tr style=\"text-align: right;\">\n",
       "      <th></th>\n",
       "      <th>destination_port</th>\n",
       "      <th>flow_duration</th>\n",
       "      <th>total_fwd_packets</th>\n",
       "      <th>total_backward_packets</th>\n",
       "      <th>total_length_of_fwd_packets</th>\n",
       "      <th>total_length_of_bwd_packets</th>\n",
       "      <th>fwd_packet_length_max</th>\n",
       "      <th>fwd_packet_length_min</th>\n",
       "      <th>fwd_packet_length_mean</th>\n",
       "      <th>fwd_packet_length_std</th>\n",
       "      <th>bwd_packet_length_max</th>\n",
       "      <th>bwd_packet_length_min</th>\n",
       "      <th>bwd_packet_length_mean</th>\n",
       "      <th>bwd_packet_length_std</th>\n",
       "      <th>flow_bytes_s</th>\n",
       "      <th>flow_packets_s</th>\n",
       "      <th>flow_iat_mean</th>\n",
       "      <th>flow_iat_std</th>\n",
       "      <th>flow_iat_max</th>\n",
       "      <th>flow_iat_min</th>\n",
       "      <th>fwd_iat_total</th>\n",
       "      <th>fwd_iat_mean</th>\n",
       "      <th>fwd_iat_std</th>\n",
       "      <th>fwd_iat_max</th>\n",
       "      <th>fwd_iat_min</th>\n",
       "      <th>bwd_iat_total</th>\n",
       "      <th>bwd_iat_mean</th>\n",
       "      <th>bwd_iat_std</th>\n",
       "      <th>bwd_iat_max</th>\n",
       "      <th>bwd_iat_min</th>\n",
       "      <th>fwd_psh_flags</th>\n",
       "      <th>bwd_psh_flags</th>\n",
       "      <th>fwd_urg_flags</th>\n",
       "      <th>bwd_urg_flags</th>\n",
       "      <th>fwd_header_length</th>\n",
       "      <th>bwd_header_length</th>\n",
       "      <th>fwd_packets_s</th>\n",
       "      <th>bwd_packets_s</th>\n",
       "      <th>min_packet_length</th>\n",
       "      <th>max_packet_length</th>\n",
       "      <th>packet_length_mean</th>\n",
       "      <th>packet_length_std</th>\n",
       "      <th>packet_length_variance</th>\n",
       "      <th>fin_flag_count</th>\n",
       "      <th>syn_flag_count</th>\n",
       "      <th>rst_flag_count</th>\n",
       "      <th>psh_flag_count</th>\n",
       "      <th>ack_flag_count</th>\n",
       "      <th>urg_flag_count</th>\n",
       "      <th>cwe_flag_count</th>\n",
       "      <th>ece_flag_count</th>\n",
       "      <th>down_up_ratio</th>\n",
       "      <th>average_packet_size</th>\n",
       "      <th>avg_fwd_segment_size</th>\n",
       "      <th>avg_bwd_segment_size</th>\n",
       "      <th>fwd_header_length_1</th>\n",
       "      <th>fwd_avg_bytes_bulk</th>\n",
       "      <th>fwd_avg_packets_bulk</th>\n",
       "      <th>fwd_avg_bulk_rate</th>\n",
       "      <th>bwd_avg_bytes_bulk</th>\n",
       "      <th>bwd_avg_packets_bulk</th>\n",
       "      <th>bwd_avg_bulk_rate</th>\n",
       "      <th>subflow_fwd_packets</th>\n",
       "      <th>subflow_fwd_bytes</th>\n",
       "      <th>subflow_bwd_packets</th>\n",
       "      <th>subflow_bwd_bytes</th>\n",
       "      <th>init_win_bytes_forward</th>\n",
       "      <th>init_win_bytes_backward</th>\n",
       "      <th>act_data_pkt_fwd</th>\n",
       "      <th>min_seg_size_forward</th>\n",
       "      <th>active_mean</th>\n",
       "      <th>active_std</th>\n",
       "      <th>active_max</th>\n",
       "      <th>active_min</th>\n",
       "      <th>idle_mean</th>\n",
       "      <th>idle_std</th>\n",
       "      <th>idle_max</th>\n",
       "      <th>idle_min</th>\n",
       "    </tr>\n",
       "  </thead>\n",
       "  <tbody>\n",
       "    <tr>\n",
       "      <th>count</th>\n",
       "      <td>475,015.00</td>\n",
       "      <td>475,015.00</td>\n",
       "      <td>475,015.00</td>\n",
       "      <td>475,015.00</td>\n",
       "      <td>475,015.00</td>\n",
       "      <td>475,015.00</td>\n",
       "      <td>475,015.00</td>\n",
       "      <td>475,015.00</td>\n",
       "      <td>475,015.00</td>\n",
       "      <td>475,015.00</td>\n",
       "      <td>475,015.00</td>\n",
       "      <td>475,015.00</td>\n",
       "      <td>475,015.00</td>\n",
       "      <td>475,015.00</td>\n",
       "      <td>474,975.00</td>\n",
       "      <td>475,015.00</td>\n",
       "      <td>475,015.00</td>\n",
       "      <td>475,015.00</td>\n",
       "      <td>475,015.00</td>\n",
       "      <td>475,015.00</td>\n",
       "      <td>475,015.00</td>\n",
       "      <td>475,015.00</td>\n",
       "      <td>475,015.00</td>\n",
       "      <td>475,015.00</td>\n",
       "      <td>475,015.00</td>\n",
       "      <td>475,015.00</td>\n",
       "      <td>475,015.00</td>\n",
       "      <td>475,015.00</td>\n",
       "      <td>475,015.00</td>\n",
       "      <td>475,015.00</td>\n",
       "      <td>475,015.00</td>\n",
       "      <td>475,015.00</td>\n",
       "      <td>475,015.00</td>\n",
       "      <td>475,015.00</td>\n",
       "      <td>475,015.00</td>\n",
       "      <td>475,015.00</td>\n",
       "      <td>475,015.00</td>\n",
       "      <td>475,015.00</td>\n",
       "      <td>475,015.00</td>\n",
       "      <td>475,015.00</td>\n",
       "      <td>475,015.00</td>\n",
       "      <td>475,015.00</td>\n",
       "      <td>475,015.00</td>\n",
       "      <td>475,015.00</td>\n",
       "      <td>475,015.00</td>\n",
       "      <td>475,015.00</td>\n",
       "      <td>475,015.00</td>\n",
       "      <td>475,015.00</td>\n",
       "      <td>475,015.00</td>\n",
       "      <td>475,015.00</td>\n",
       "      <td>475,015.00</td>\n",
       "      <td>475,015.00</td>\n",
       "      <td>475,015.00</td>\n",
       "      <td>475,015.00</td>\n",
       "      <td>475,015.00</td>\n",
       "      <td>475,015.00</td>\n",
       "      <td>475,015.00</td>\n",
       "      <td>475,015.00</td>\n",
       "      <td>475,015.00</td>\n",
       "      <td>475,015.00</td>\n",
       "      <td>475,015.00</td>\n",
       "      <td>475,015.00</td>\n",
       "      <td>475,015.00</td>\n",
       "      <td>475,015.00</td>\n",
       "      <td>475,015.00</td>\n",
       "      <td>475,015.00</td>\n",
       "      <td>475,015.00</td>\n",
       "      <td>475,015.00</td>\n",
       "      <td>475,015.00</td>\n",
       "      <td>475,015.00</td>\n",
       "      <td>475,015.00</td>\n",
       "      <td>475,015.00</td>\n",
       "      <td>475,015.00</td>\n",
       "      <td>475,015.00</td>\n",
       "      <td>475,015.00</td>\n",
       "      <td>475,015.00</td>\n",
       "      <td>475,015.00</td>\n",
       "      <td>475,015.00</td>\n",
       "    </tr>\n",
       "    <tr>\n",
       "      <th>mean</th>\n",
       "      <td>5,871.02</td>\n",
       "      <td>23,929,532.77</td>\n",
       "      <td>6.73</td>\n",
       "      <td>6.73</td>\n",
       "      <td>461.76</td>\n",
       "      <td>9,086.72</td>\n",
       "      <td>191.16</td>\n",
       "      <td>12.21</td>\n",
       "      <td>49.46</td>\n",
       "      <td>67.56</td>\n",
       "      <td>1,902.18</td>\n",
       "      <td>26.08</td>\n",
       "      <td>624.18</td>\n",
       "      <td>792.09</td>\n",
       "      <td>inf</td>\n",
       "      <td>inf</td>\n",
       "      <td>2,423,083.12</td>\n",
       "      <td>5,980,251.38</td>\n",
       "      <td>19,671,222.13</td>\n",
       "      <td>332,600.23</td>\n",
       "      <td>23,576,720.84</td>\n",
       "      <td>4,583,366.51</td>\n",
       "      <td>7,573,115.86</td>\n",
       "      <td>19,537,199.31</td>\n",
       "      <td>1,174,198.36</td>\n",
       "      <td>10,907,150.42</td>\n",
       "      <td>2,304,229.02</td>\n",
       "      <td>2,741,266.30</td>\n",
       "      <td>7,342,882.47</td>\n",
       "      <td>925,165.85</td>\n",
       "      <td>0.04</td>\n",
       "      <td>0.00</td>\n",
       "      <td>0.00</td>\n",
       "      <td>0.00</td>\n",
       "      <td>-5,225.62</td>\n",
       "      <td>-4,875.46</td>\n",
       "      <td>29,304.43</td>\n",
       "      <td>7,369.88</td>\n",
       "      <td>10.59</td>\n",
       "      <td>1,956.37</td>\n",
       "      <td>313.06</td>\n",
       "      <td>617.29</td>\n",
       "      <td>1,263,461.13</td>\n",
       "      <td>0.07</td>\n",
       "      <td>0.04</td>\n",
       "      <td>0.00</td>\n",
       "      <td>0.38</td>\n",
       "      <td>0.34</td>\n",
       "      <td>0.06</td>\n",
       "      <td>0.00</td>\n",
       "      <td>0.00</td>\n",
       "      <td>0.67</td>\n",
       "      <td>345.28</td>\n",
       "      <td>49.46</td>\n",
       "      <td>624.18</td>\n",
       "      <td>-5,225.62</td>\n",
       "      <td>0.00</td>\n",
       "      <td>0.00</td>\n",
       "      <td>0.00</td>\n",
       "      <td>0.00</td>\n",
       "      <td>0.00</td>\n",
       "      <td>0.00</td>\n",
       "      <td>6.73</td>\n",
       "      <td>461.76</td>\n",
       "      <td>6.73</td>\n",
       "      <td>9,085.57</td>\n",
       "      <td>7,786.90</td>\n",
       "      <td>1,449.67</td>\n",
       "      <td>3.33</td>\n",
       "      <td>-2,763.93</td>\n",
       "      <td>131,205.95</td>\n",
       "      <td>45,866.71</td>\n",
       "      <td>190,039.08</td>\n",
       "      <td>102,046.87</td>\n",
       "      <td>18,290,434.59</td>\n",
       "      <td>1,088,927.62</td>\n",
       "      <td>19,165,971.16</td>\n",
       "      <td>17,483,818.10</td>\n",
       "    </tr>\n",
       "    <tr>\n",
       "      <th>std</th>\n",
       "      <td>15,516.41</td>\n",
       "      <td>39,778,408.85</td>\n",
       "      <td>367.82</td>\n",
       "      <td>494.00</td>\n",
       "      <td>7,969.01</td>\n",
       "      <td>1,081,220.09</td>\n",
       "      <td>592.69</td>\n",
       "      <td>50.10</td>\n",
       "      <td>154.78</td>\n",
       "      <td>230.90</td>\n",
       "      <td>2,958.79</td>\n",
       "      <td>58.07</td>\n",
       "      <td>901.83</td>\n",
       "      <td>1,309.60</td>\n",
       "      <td>NaN</td>\n",
       "      <td>NaN</td>\n",
       "      <td>6,143,912.02</td>\n",
       "      <td>11,053,189.53</td>\n",
       "      <td>35,546,012.81</td>\n",
       "      <td>4,538,847.15</td>\n",
       "      <td>39,802,879.23</td>\n",
       "      <td>11,210,483.34</td>\n",
       "      <td>14,596,757.51</td>\n",
       "      <td>35,624,844.85</td>\n",
       "      <td>9,523,629.29</td>\n",
       "      <td>29,680,702.33</td>\n",
       "      <td>9,605,994.35</td>\n",
       "      <td>9,519,425.49</td>\n",
       "      <td>23,225,804.18</td>\n",
       "      <td>8,196,948.63</td>\n",
       "      <td>0.19</td>\n",
       "      <td>0.00</td>\n",
       "      <td>0.01</td>\n",
       "      <td>0.00</td>\n",
       "      <td>2,233,296.31</td>\n",
       "      <td>2,213,317.15</td>\n",
       "      <td>156,468.99</td>\n",
       "      <td>39,182.25</td>\n",
       "      <td>22.39</td>\n",
       "      <td>2,976.06</td>\n",
       "      <td>429.98</td>\n",
       "      <td>939.34</td>\n",
       "      <td>2,594,146.72</td>\n",
       "      <td>0.25</td>\n",
       "      <td>0.19</td>\n",
       "      <td>0.01</td>\n",
       "      <td>0.49</td>\n",
       "      <td>0.47</td>\n",
       "      <td>0.24</td>\n",
       "      <td>0.01</td>\n",
       "      <td>0.01</td>\n",
       "      <td>0.65</td>\n",
       "      <td>471.66</td>\n",
       "      <td>154.78</td>\n",
       "      <td>901.83</td>\n",
       "      <td>2,233,296.31</td>\n",
       "      <td>0.00</td>\n",
       "      <td>0.00</td>\n",
       "      <td>0.00</td>\n",
       "      <td>0.00</td>\n",
       "      <td>0.00</td>\n",
       "      <td>0.00</td>\n",
       "      <td>367.82</td>\n",
       "      <td>7,969.01</td>\n",
       "      <td>494.00</td>\n",
       "      <td>1,080,551.37</td>\n",
       "      <td>13,647.21</td>\n",
       "      <td>7,006.37</td>\n",
       "      <td>285.12</td>\n",
       "      <td>1,121,605.25</td>\n",
       "      <td>828,777.48</td>\n",
       "      <td>463,048.76</td>\n",
       "      <td>1,127,467.47</td>\n",
       "      <td>755,885.70</td>\n",
       "      <td>34,765,331.51</td>\n",
       "      <td>6,876,320.34</td>\n",
       "      <td>35,667,511.50</td>\n",
       "      <td>34,601,079.14</td>\n",
       "    </tr>\n",
       "    <tr>\n",
       "      <th>min</th>\n",
       "      <td>0.00</td>\n",
       "      <td>-12.00</td>\n",
       "      <td>1.00</td>\n",
       "      <td>0.00</td>\n",
       "      <td>0.00</td>\n",
       "      <td>0.00</td>\n",
       "      <td>0.00</td>\n",
       "      <td>0.00</td>\n",
       "      <td>0.00</td>\n",
       "      <td>0.00</td>\n",
       "      <td>0.00</td>\n",
       "      <td>0.00</td>\n",
       "      <td>0.00</td>\n",
       "      <td>0.00</td>\n",
       "      <td>-12,000,000.00</td>\n",
       "      <td>-2,000,000.00</td>\n",
       "      <td>-12.00</td>\n",
       "      <td>0.00</td>\n",
       "      <td>-12.00</td>\n",
       "      <td>-13.00</td>\n",
       "      <td>0.00</td>\n",
       "      <td>0.00</td>\n",
       "      <td>0.00</td>\n",
       "      <td>0.00</td>\n",
       "      <td>-12.00</td>\n",
       "      <td>0.00</td>\n",
       "      <td>0.00</td>\n",
       "      <td>0.00</td>\n",
       "      <td>0.00</td>\n",
       "      <td>0.00</td>\n",
       "      <td>0.00</td>\n",
       "      <td>0.00</td>\n",
       "      <td>0.00</td>\n",
       "      <td>0.00</td>\n",
       "      <td>-1,073,741,320.00</td>\n",
       "      <td>-1,073,741,320.00</td>\n",
       "      <td>0.00</td>\n",
       "      <td>0.00</td>\n",
       "      <td>0.00</td>\n",
       "      <td>0.00</td>\n",
       "      <td>0.00</td>\n",
       "      <td>0.00</td>\n",
       "      <td>0.00</td>\n",
       "      <td>0.00</td>\n",
       "      <td>0.00</td>\n",
       "      <td>0.00</td>\n",
       "      <td>0.00</td>\n",
       "      <td>0.00</td>\n",
       "      <td>0.00</td>\n",
       "      <td>0.00</td>\n",
       "      <td>0.00</td>\n",
       "      <td>0.00</td>\n",
       "      <td>0.00</td>\n",
       "      <td>0.00</td>\n",
       "      <td>0.00</td>\n",
       "      <td>-1,073,741,320.00</td>\n",
       "      <td>0.00</td>\n",
       "      <td>0.00</td>\n",
       "      <td>0.00</td>\n",
       "      <td>0.00</td>\n",
       "      <td>0.00</td>\n",
       "      <td>0.00</td>\n",
       "      <td>1.00</td>\n",
       "      <td>0.00</td>\n",
       "      <td>0.00</td>\n",
       "      <td>0.00</td>\n",
       "      <td>-1.00</td>\n",
       "      <td>-1.00</td>\n",
       "      <td>0.00</td>\n",
       "      <td>-536,870,660.00</td>\n",
       "      <td>0.00</td>\n",
       "      <td>0.00</td>\n",
       "      <td>0.00</td>\n",
       "      <td>0.00</td>\n",
       "      <td>0.00</td>\n",
       "      <td>0.00</td>\n",
       "      <td>0.00</td>\n",
       "      <td>0.00</td>\n",
       "    </tr>\n",
       "    <tr>\n",
       "      <th>25%</th>\n",
       "      <td>80.00</td>\n",
       "      <td>194.00</td>\n",
       "      <td>2.00</td>\n",
       "      <td>1.00</td>\n",
       "      <td>6.00</td>\n",
       "      <td>6.00</td>\n",
       "      <td>6.00</td>\n",
       "      <td>0.00</td>\n",
       "      <td>6.00</td>\n",
       "      <td>0.00</td>\n",
       "      <td>6.00</td>\n",
       "      <td>0.00</td>\n",
       "      <td>6.00</td>\n",
       "      <td>0.00</td>\n",
       "      <td>120.05</td>\n",
       "      <td>0.48</td>\n",
       "      <td>82.00</td>\n",
       "      <td>0.00</td>\n",
       "      <td>160.00</td>\n",
       "      <td>2.00</td>\n",
       "      <td>1.00</td>\n",
       "      <td>1.00</td>\n",
       "      <td>0.00</td>\n",
       "      <td>1.00</td>\n",
       "      <td>0.00</td>\n",
       "      <td>0.00</td>\n",
       "      <td>0.00</td>\n",
       "      <td>0.00</td>\n",
       "      <td>0.00</td>\n",
       "      <td>0.00</td>\n",
       "      <td>0.00</td>\n",
       "      <td>0.00</td>\n",
       "      <td>0.00</td>\n",
       "      <td>0.00</td>\n",
       "      <td>40.00</td>\n",
       "      <td>20.00</td>\n",
       "      <td>0.30</td>\n",
       "      <td>0.07</td>\n",
       "      <td>0.00</td>\n",
       "      <td>6.00</td>\n",
       "      <td>6.00</td>\n",
       "      <td>2.31</td>\n",
       "      <td>5.33</td>\n",
       "      <td>0.00</td>\n",
       "      <td>0.00</td>\n",
       "      <td>0.00</td>\n",
       "      <td>0.00</td>\n",
       "      <td>0.00</td>\n",
       "      <td>0.00</td>\n",
       "      <td>0.00</td>\n",
       "      <td>0.00</td>\n",
       "      <td>0.00</td>\n",
       "      <td>7.20</td>\n",
       "      <td>6.00</td>\n",
       "      <td>6.00</td>\n",
       "      <td>40.00</td>\n",
       "      <td>0.00</td>\n",
       "      <td>0.00</td>\n",
       "      <td>0.00</td>\n",
       "      <td>0.00</td>\n",
       "      <td>0.00</td>\n",
       "      <td>0.00</td>\n",
       "      <td>2.00</td>\n",
       "      <td>6.00</td>\n",
       "      <td>1.00</td>\n",
       "      <td>6.00</td>\n",
       "      <td>0.00</td>\n",
       "      <td>-1.00</td>\n",
       "      <td>0.00</td>\n",
       "      <td>20.00</td>\n",
       "      <td>0.00</td>\n",
       "      <td>0.00</td>\n",
       "      <td>0.00</td>\n",
       "      <td>0.00</td>\n",
       "      <td>0.00</td>\n",
       "      <td>0.00</td>\n",
       "      <td>0.00</td>\n",
       "      <td>0.00</td>\n",
       "    </tr>\n",
       "    <tr>\n",
       "      <th>50%</th>\n",
       "      <td>80.00</td>\n",
       "      <td>123,398.00</td>\n",
       "      <td>3.00</td>\n",
       "      <td>2.00</td>\n",
       "      <td>56.00</td>\n",
       "      <td>166.00</td>\n",
       "      <td>34.00</td>\n",
       "      <td>0.00</td>\n",
       "      <td>31.00</td>\n",
       "      <td>0.00</td>\n",
       "      <td>99.00</td>\n",
       "      <td>0.00</td>\n",
       "      <td>88.00</td>\n",
       "      <td>0.00</td>\n",
       "      <td>2,257.53</td>\n",
       "      <td>41.15</td>\n",
       "      <td>36,931.33</td>\n",
       "      <td>28,185.38</td>\n",
       "      <td>92,934.00</td>\n",
       "      <td>4.00</td>\n",
       "      <td>6,947.00</td>\n",
       "      <td>3,385.50</td>\n",
       "      <td>410.83</td>\n",
       "      <td>6,337.00</td>\n",
       "      <td>3.00</td>\n",
       "      <td>4.00</td>\n",
       "      <td>4.00</td>\n",
       "      <td>0.00</td>\n",
       "      <td>4.00</td>\n",
       "      <td>3.00</td>\n",
       "      <td>0.00</td>\n",
       "      <td>0.00</td>\n",
       "      <td>0.00</td>\n",
       "      <td>0.00</td>\n",
       "      <td>72.00</td>\n",
       "      <td>60.00</td>\n",
       "      <td>19.93</td>\n",
       "      <td>5.65</td>\n",
       "      <td>0.00</td>\n",
       "      <td>110.00</td>\n",
       "      <td>65.60</td>\n",
       "      <td>34.78</td>\n",
       "      <td>1,209.50</td>\n",
       "      <td>0.00</td>\n",
       "      <td>0.00</td>\n",
       "      <td>0.00</td>\n",
       "      <td>0.00</td>\n",
       "      <td>0.00</td>\n",
       "      <td>0.00</td>\n",
       "      <td>0.00</td>\n",
       "      <td>0.00</td>\n",
       "      <td>1.00</td>\n",
       "      <td>83.25</td>\n",
       "      <td>31.00</td>\n",
       "      <td>88.00</td>\n",
       "      <td>72.00</td>\n",
       "      <td>0.00</td>\n",
       "      <td>0.00</td>\n",
       "      <td>0.00</td>\n",
       "      <td>0.00</td>\n",
       "      <td>0.00</td>\n",
       "      <td>0.00</td>\n",
       "      <td>3.00</td>\n",
       "      <td>56.00</td>\n",
       "      <td>2.00</td>\n",
       "      <td>166.00</td>\n",
       "      <td>274.00</td>\n",
       "      <td>0.00</td>\n",
       "      <td>1.00</td>\n",
       "      <td>24.00</td>\n",
       "      <td>0.00</td>\n",
       "      <td>0.00</td>\n",
       "      <td>0.00</td>\n",
       "      <td>0.00</td>\n",
       "      <td>0.00</td>\n",
       "      <td>0.00</td>\n",
       "      <td>0.00</td>\n",
       "      <td>0.00</td>\n",
       "    </tr>\n",
       "    <tr>\n",
       "      <th>75%</th>\n",
       "      <td>443.00</td>\n",
       "      <td>29,965,120.00</td>\n",
       "      <td>6.00</td>\n",
       "      <td>6.00</td>\n",
       "      <td>342.00</td>\n",
       "      <td>11,595.00</td>\n",
       "      <td>316.00</td>\n",
       "      <td>6.00</td>\n",
       "      <td>51.66</td>\n",
       "      <td>113.70</td>\n",
       "      <td>4,344.00</td>\n",
       "      <td>6.00</td>\n",
       "      <td>1,656.00</td>\n",
       "      <td>1,755.00</td>\n",
       "      <td>107,142.86</td>\n",
       "      <td>19,138.76</td>\n",
       "      <td>2,495,433.65</td>\n",
       "      <td>4,299,119.75</td>\n",
       "      <td>10,000,000.00</td>\n",
       "      <td>55.00</td>\n",
       "      <td>25,200,000.00</td>\n",
       "      <td>3,382,266.30</td>\n",
       "      <td>4,182,993.15</td>\n",
       "      <td>10,059,917.00</td>\n",
       "      <td>57.00</td>\n",
       "      <td>285,364.50</td>\n",
       "      <td>56,793.68</td>\n",
       "      <td>67,166.98</td>\n",
       "      <td>207,717.50</td>\n",
       "      <td>47.00</td>\n",
       "      <td>0.00</td>\n",
       "      <td>0.00</td>\n",
       "      <td>0.00</td>\n",
       "      <td>0.00</td>\n",
       "      <td>172.00</td>\n",
       "      <td>168.00</td>\n",
       "      <td>9,950.25</td>\n",
       "      <td>4,255.32</td>\n",
       "      <td>6.00</td>\n",
       "      <td>4,344.00</td>\n",
       "      <td>748.00</td>\n",
       "      <td>1,391.00</td>\n",
       "      <td>1,935,824.40</td>\n",
       "      <td>0.00</td>\n",
       "      <td>0.00</td>\n",
       "      <td>0.00</td>\n",
       "      <td>1.00</td>\n",
       "      <td>1.00</td>\n",
       "      <td>0.00</td>\n",
       "      <td>0.00</td>\n",
       "      <td>0.00</td>\n",
       "      <td>1.00</td>\n",
       "      <td>797.50</td>\n",
       "      <td>51.66</td>\n",
       "      <td>1,656.00</td>\n",
       "      <td>172.00</td>\n",
       "      <td>0.00</td>\n",
       "      <td>0.00</td>\n",
       "      <td>0.00</td>\n",
       "      <td>0.00</td>\n",
       "      <td>0.00</td>\n",
       "      <td>0.00</td>\n",
       "      <td>6.00</td>\n",
       "      <td>342.00</td>\n",
       "      <td>6.00</td>\n",
       "      <td>11,595.00</td>\n",
       "      <td>8,192.00</td>\n",
       "      <td>235.00</td>\n",
       "      <td>3.00</td>\n",
       "      <td>32.00</td>\n",
       "      <td>973.00</td>\n",
       "      <td>0.00</td>\n",
       "      <td>973.00</td>\n",
       "      <td>929.00</td>\n",
       "      <td>9,996,012.00</td>\n",
       "      <td>0.00</td>\n",
       "      <td>10,000,000.00</td>\n",
       "      <td>8,243,601.50</td>\n",
       "    </tr>\n",
       "    <tr>\n",
       "      <th>max</th>\n",
       "      <td>65,533.00</td>\n",
       "      <td>119,999,993.00</td>\n",
       "      <td>200,755.00</td>\n",
       "      <td>270,686.00</td>\n",
       "      <td>2,866,110.00</td>\n",
       "      <td>591,000,000.00</td>\n",
       "      <td>24,820.00</td>\n",
       "      <td>2,065.00</td>\n",
       "      <td>5,940.00</td>\n",
       "      <td>7,050.00</td>\n",
       "      <td>17,376.00</td>\n",
       "      <td>2,042.00</td>\n",
       "      <td>5,800.00</td>\n",
       "      <td>8,190.00</td>\n",
       "      <td>inf</td>\n",
       "      <td>inf</td>\n",
       "      <td>120,000,000.00</td>\n",
       "      <td>84,700,000.00</td>\n",
       "      <td>120,000,000.00</td>\n",
       "      <td>120,000,000.00</td>\n",
       "      <td>120,000,000.00</td>\n",
       "      <td>120,000,000.00</td>\n",
       "      <td>83,200,000.00</td>\n",
       "      <td>120,000,000.00</td>\n",
       "      <td>120,000,000.00</td>\n",
       "      <td>120,000,000.00</td>\n",
       "      <td>120,000,000.00</td>\n",
       "      <td>81,700,000.00</td>\n",
       "      <td>120,000,000.00</td>\n",
       "      <td>120,000,000.00</td>\n",
       "      <td>1.00</td>\n",
       "      <td>0.00</td>\n",
       "      <td>1.00</td>\n",
       "      <td>0.00</td>\n",
       "      <td>4,173,072.00</td>\n",
       "      <td>5,413,720.00</td>\n",
       "      <td>3,000,000.00</td>\n",
       "      <td>2,000,000.00</td>\n",
       "      <td>1,330.00</td>\n",
       "      <td>24,820.00</td>\n",
       "      <td>2,160.00</td>\n",
       "      <td>4,732.00</td>\n",
       "      <td>22,400,000.00</td>\n",
       "      <td>1.00</td>\n",
       "      <td>1.00</td>\n",
       "      <td>1.00</td>\n",
       "      <td>1.00</td>\n",
       "      <td>1.00</td>\n",
       "      <td>1.00</td>\n",
       "      <td>1.00</td>\n",
       "      <td>1.00</td>\n",
       "      <td>29.00</td>\n",
       "      <td>2,508.00</td>\n",
       "      <td>5,940.00</td>\n",
       "      <td>5,800.00</td>\n",
       "      <td>4,173,072.00</td>\n",
       "      <td>0.00</td>\n",
       "      <td>0.00</td>\n",
       "      <td>0.00</td>\n",
       "      <td>0.00</td>\n",
       "      <td>0.00</td>\n",
       "      <td>0.00</td>\n",
       "      <td>200,755.00</td>\n",
       "      <td>2,866,110.00</td>\n",
       "      <td>270,686.00</td>\n",
       "      <td>590,596,141.00</td>\n",
       "      <td>65,535.00</td>\n",
       "      <td>65,535.00</td>\n",
       "      <td>192,491.00</td>\n",
       "      <td>138.00</td>\n",
       "      <td>102,000,000.00</td>\n",
       "      <td>63,500,000.00</td>\n",
       "      <td>102,000,000.00</td>\n",
       "      <td>102,000,000.00</td>\n",
       "      <td>120,000,000.00</td>\n",
       "      <td>76,900,000.00</td>\n",
       "      <td>120,000,000.00</td>\n",
       "      <td>120,000,000.00</td>\n",
       "    </tr>\n",
       "  </tbody>\n",
       "</table>\n",
       "</div>"
      ],
      "text/plain": [
       "       destination_port  flow_duration  total_fwd_packets  \\\n",
       "count        475,015.00     475,015.00         475,015.00   \n",
       "mean           5,871.02  23,929,532.77               6.73   \n",
       "std           15,516.41  39,778,408.85             367.82   \n",
       "min                0.00         -12.00               1.00   \n",
       "25%               80.00         194.00               2.00   \n",
       "50%               80.00     123,398.00               3.00   \n",
       "75%              443.00  29,965,120.00               6.00   \n",
       "max           65,533.00 119,999,993.00         200,755.00   \n",
       "\n",
       "       total_backward_packets  total_length_of_fwd_packets  \\\n",
       "count              475,015.00                   475,015.00   \n",
       "mean                     6.73                       461.76   \n",
       "std                    494.00                     7,969.01   \n",
       "min                      0.00                         0.00   \n",
       "25%                      1.00                         6.00   \n",
       "50%                      2.00                        56.00   \n",
       "75%                      6.00                       342.00   \n",
       "max                270,686.00                 2,866,110.00   \n",
       "\n",
       "       total_length_of_bwd_packets  fwd_packet_length_max  \\\n",
       "count                   475,015.00             475,015.00   \n",
       "mean                      9,086.72                 191.16   \n",
       "std                   1,081,220.09                 592.69   \n",
       "min                           0.00                   0.00   \n",
       "25%                           6.00                   6.00   \n",
       "50%                         166.00                  34.00   \n",
       "75%                      11,595.00                 316.00   \n",
       "max                 591,000,000.00              24,820.00   \n",
       "\n",
       "       fwd_packet_length_min  fwd_packet_length_mean  fwd_packet_length_std  \\\n",
       "count             475,015.00              475,015.00             475,015.00   \n",
       "mean                   12.21                   49.46                  67.56   \n",
       "std                    50.10                  154.78                 230.90   \n",
       "min                     0.00                    0.00                   0.00   \n",
       "25%                     0.00                    6.00                   0.00   \n",
       "50%                     0.00                   31.00                   0.00   \n",
       "75%                     6.00                   51.66                 113.70   \n",
       "max                 2,065.00                5,940.00               7,050.00   \n",
       "\n",
       "       bwd_packet_length_max  bwd_packet_length_min  bwd_packet_length_mean  \\\n",
       "count             475,015.00             475,015.00              475,015.00   \n",
       "mean                1,902.18                  26.08                  624.18   \n",
       "std                 2,958.79                  58.07                  901.83   \n",
       "min                     0.00                   0.00                    0.00   \n",
       "25%                     6.00                   0.00                    6.00   \n",
       "50%                    99.00                   0.00                   88.00   \n",
       "75%                 4,344.00                   6.00                1,656.00   \n",
       "max                17,376.00               2,042.00                5,800.00   \n",
       "\n",
       "       bwd_packet_length_std   flow_bytes_s  flow_packets_s  flow_iat_mean  \\\n",
       "count             475,015.00     474,975.00      475,015.00     475,015.00   \n",
       "mean                  792.09            inf             inf   2,423,083.12   \n",
       "std                 1,309.60            NaN             NaN   6,143,912.02   \n",
       "min                     0.00 -12,000,000.00   -2,000,000.00         -12.00   \n",
       "25%                     0.00         120.05            0.48          82.00   \n",
       "50%                     0.00       2,257.53           41.15      36,931.33   \n",
       "75%                 1,755.00     107,142.86       19,138.76   2,495,433.65   \n",
       "max                 8,190.00            inf             inf 120,000,000.00   \n",
       "\n",
       "       flow_iat_std   flow_iat_max   flow_iat_min  fwd_iat_total  \\\n",
       "count    475,015.00     475,015.00     475,015.00     475,015.00   \n",
       "mean   5,980,251.38  19,671,222.13     332,600.23  23,576,720.84   \n",
       "std   11,053,189.53  35,546,012.81   4,538,847.15  39,802,879.23   \n",
       "min            0.00         -12.00         -13.00           0.00   \n",
       "25%            0.00         160.00           2.00           1.00   \n",
       "50%       28,185.38      92,934.00           4.00       6,947.00   \n",
       "75%    4,299,119.75  10,000,000.00          55.00  25,200,000.00   \n",
       "max   84,700,000.00 120,000,000.00 120,000,000.00 120,000,000.00   \n",
       "\n",
       "        fwd_iat_mean   fwd_iat_std    fwd_iat_max    fwd_iat_min  \\\n",
       "count     475,015.00    475,015.00     475,015.00     475,015.00   \n",
       "mean    4,583,366.51  7,573,115.86  19,537,199.31   1,174,198.36   \n",
       "std    11,210,483.34 14,596,757.51  35,624,844.85   9,523,629.29   \n",
       "min             0.00          0.00           0.00         -12.00   \n",
       "25%             1.00          0.00           1.00           0.00   \n",
       "50%         3,385.50        410.83       6,337.00           3.00   \n",
       "75%     3,382,266.30  4,182,993.15  10,059,917.00          57.00   \n",
       "max   120,000,000.00 83,200,000.00 120,000,000.00 120,000,000.00   \n",
       "\n",
       "       bwd_iat_total   bwd_iat_mean   bwd_iat_std    bwd_iat_max  \\\n",
       "count     475,015.00     475,015.00    475,015.00     475,015.00   \n",
       "mean   10,907,150.42   2,304,229.02  2,741,266.30   7,342,882.47   \n",
       "std    29,680,702.33   9,605,994.35  9,519,425.49  23,225,804.18   \n",
       "min             0.00           0.00          0.00           0.00   \n",
       "25%             0.00           0.00          0.00           0.00   \n",
       "50%             4.00           4.00          0.00           4.00   \n",
       "75%       285,364.50      56,793.68     67,166.98     207,717.50   \n",
       "max   120,000,000.00 120,000,000.00 81,700,000.00 120,000,000.00   \n",
       "\n",
       "         bwd_iat_min  fwd_psh_flags  bwd_psh_flags  fwd_urg_flags  \\\n",
       "count     475,015.00     475,015.00     475,015.00     475,015.00   \n",
       "mean      925,165.85           0.04           0.00           0.00   \n",
       "std     8,196,948.63           0.19           0.00           0.01   \n",
       "min             0.00           0.00           0.00           0.00   \n",
       "25%             0.00           0.00           0.00           0.00   \n",
       "50%             3.00           0.00           0.00           0.00   \n",
       "75%            47.00           0.00           0.00           0.00   \n",
       "max   120,000,000.00           1.00           0.00           1.00   \n",
       "\n",
       "       bwd_urg_flags  fwd_header_length  bwd_header_length  fwd_packets_s  \\\n",
       "count     475,015.00         475,015.00         475,015.00     475,015.00   \n",
       "mean            0.00          -5,225.62          -4,875.46      29,304.43   \n",
       "std             0.00       2,233,296.31       2,213,317.15     156,468.99   \n",
       "min             0.00  -1,073,741,320.00  -1,073,741,320.00           0.00   \n",
       "25%             0.00              40.00              20.00           0.30   \n",
       "50%             0.00              72.00              60.00          19.93   \n",
       "75%             0.00             172.00             168.00       9,950.25   \n",
       "max             0.00       4,173,072.00       5,413,720.00   3,000,000.00   \n",
       "\n",
       "       bwd_packets_s  min_packet_length  max_packet_length  \\\n",
       "count     475,015.00         475,015.00         475,015.00   \n",
       "mean        7,369.88              10.59           1,956.37   \n",
       "std        39,182.25              22.39           2,976.06   \n",
       "min             0.00               0.00               0.00   \n",
       "25%             0.07               0.00               6.00   \n",
       "50%             5.65               0.00             110.00   \n",
       "75%         4,255.32               6.00           4,344.00   \n",
       "max     2,000,000.00           1,330.00          24,820.00   \n",
       "\n",
       "       packet_length_mean  packet_length_std  packet_length_variance  \\\n",
       "count          475,015.00         475,015.00              475,015.00   \n",
       "mean               313.06             617.29            1,263,461.13   \n",
       "std                429.98             939.34            2,594,146.72   \n",
       "min                  0.00               0.00                    0.00   \n",
       "25%                  6.00               2.31                    5.33   \n",
       "50%                 65.60              34.78                1,209.50   \n",
       "75%                748.00           1,391.00            1,935,824.40   \n",
       "max              2,160.00           4,732.00           22,400,000.00   \n",
       "\n",
       "       fin_flag_count  syn_flag_count  rst_flag_count  psh_flag_count  \\\n",
       "count      475,015.00      475,015.00      475,015.00      475,015.00   \n",
       "mean             0.07            0.04            0.00            0.38   \n",
       "std              0.25            0.19            0.01            0.49   \n",
       "min              0.00            0.00            0.00            0.00   \n",
       "25%              0.00            0.00            0.00            0.00   \n",
       "50%              0.00            0.00            0.00            0.00   \n",
       "75%              0.00            0.00            0.00            1.00   \n",
       "max              1.00            1.00            1.00            1.00   \n",
       "\n",
       "       ack_flag_count  urg_flag_count  cwe_flag_count  ece_flag_count  \\\n",
       "count      475,015.00      475,015.00      475,015.00      475,015.00   \n",
       "mean             0.34            0.06            0.00            0.00   \n",
       "std              0.47            0.24            0.01            0.01   \n",
       "min              0.00            0.00            0.00            0.00   \n",
       "25%              0.00            0.00            0.00            0.00   \n",
       "50%              0.00            0.00            0.00            0.00   \n",
       "75%              1.00            0.00            0.00            0.00   \n",
       "max              1.00            1.00            1.00            1.00   \n",
       "\n",
       "       down_up_ratio  average_packet_size  avg_fwd_segment_size  \\\n",
       "count     475,015.00           475,015.00            475,015.00   \n",
       "mean            0.67               345.28                 49.46   \n",
       "std             0.65               471.66                154.78   \n",
       "min             0.00                 0.00                  0.00   \n",
       "25%             0.00                 7.20                  6.00   \n",
       "50%             1.00                83.25                 31.00   \n",
       "75%             1.00               797.50                 51.66   \n",
       "max            29.00             2,508.00              5,940.00   \n",
       "\n",
       "       avg_bwd_segment_size  fwd_header_length_1  fwd_avg_bytes_bulk  \\\n",
       "count            475,015.00           475,015.00          475,015.00   \n",
       "mean                 624.18            -5,225.62                0.00   \n",
       "std                  901.83         2,233,296.31                0.00   \n",
       "min                    0.00    -1,073,741,320.00                0.00   \n",
       "25%                    6.00                40.00                0.00   \n",
       "50%                   88.00                72.00                0.00   \n",
       "75%                1,656.00               172.00                0.00   \n",
       "max                5,800.00         4,173,072.00                0.00   \n",
       "\n",
       "       fwd_avg_packets_bulk  fwd_avg_bulk_rate  bwd_avg_bytes_bulk  \\\n",
       "count            475,015.00         475,015.00          475,015.00   \n",
       "mean                   0.00               0.00                0.00   \n",
       "std                    0.00               0.00                0.00   \n",
       "min                    0.00               0.00                0.00   \n",
       "25%                    0.00               0.00                0.00   \n",
       "50%                    0.00               0.00                0.00   \n",
       "75%                    0.00               0.00                0.00   \n",
       "max                    0.00               0.00                0.00   \n",
       "\n",
       "       bwd_avg_packets_bulk  bwd_avg_bulk_rate  subflow_fwd_packets  \\\n",
       "count            475,015.00         475,015.00           475,015.00   \n",
       "mean                   0.00               0.00                 6.73   \n",
       "std                    0.00               0.00               367.82   \n",
       "min                    0.00               0.00                 1.00   \n",
       "25%                    0.00               0.00                 2.00   \n",
       "50%                    0.00               0.00                 3.00   \n",
       "75%                    0.00               0.00                 6.00   \n",
       "max                    0.00               0.00           200,755.00   \n",
       "\n",
       "       subflow_fwd_bytes  subflow_bwd_packets  subflow_bwd_bytes  \\\n",
       "count         475,015.00           475,015.00         475,015.00   \n",
       "mean              461.76                 6.73           9,085.57   \n",
       "std             7,969.01               494.00       1,080,551.37   \n",
       "min                 0.00                 0.00               0.00   \n",
       "25%                 6.00                 1.00               6.00   \n",
       "50%                56.00                 2.00             166.00   \n",
       "75%               342.00                 6.00          11,595.00   \n",
       "max         2,866,110.00           270,686.00     590,596,141.00   \n",
       "\n",
       "       init_win_bytes_forward  init_win_bytes_backward  act_data_pkt_fwd  \\\n",
       "count              475,015.00               475,015.00        475,015.00   \n",
       "mean                 7,786.90                 1,449.67              3.33   \n",
       "std                 13,647.21                 7,006.37            285.12   \n",
       "min                     -1.00                    -1.00              0.00   \n",
       "25%                      0.00                    -1.00              0.00   \n",
       "50%                    274.00                     0.00              1.00   \n",
       "75%                  8,192.00                   235.00              3.00   \n",
       "max                 65,535.00                65,535.00        192,491.00   \n",
       "\n",
       "       min_seg_size_forward    active_mean    active_std     active_max  \\\n",
       "count            475,015.00     475,015.00    475,015.00     475,015.00   \n",
       "mean              -2,763.93     131,205.95     45,866.71     190,039.08   \n",
       "std            1,121,605.25     828,777.48    463,048.76   1,127,467.47   \n",
       "min         -536,870,660.00           0.00          0.00           0.00   \n",
       "25%                   20.00           0.00          0.00           0.00   \n",
       "50%                   24.00           0.00          0.00           0.00   \n",
       "75%                   32.00         973.00          0.00         973.00   \n",
       "max                  138.00 102,000,000.00 63,500,000.00 102,000,000.00   \n",
       "\n",
       "          active_min      idle_mean      idle_std       idle_max  \\\n",
       "count     475,015.00     475,015.00    475,015.00     475,015.00   \n",
       "mean      102,046.87  18,290,434.59  1,088,927.62  19,165,971.16   \n",
       "std       755,885.70  34,765,331.51  6,876,320.34  35,667,511.50   \n",
       "min             0.00           0.00          0.00           0.00   \n",
       "25%             0.00           0.00          0.00           0.00   \n",
       "50%             0.00           0.00          0.00           0.00   \n",
       "75%           929.00   9,996,012.00          0.00  10,000,000.00   \n",
       "max   102,000,000.00 120,000,000.00 76,900,000.00 120,000,000.00   \n",
       "\n",
       "            idle_min  \n",
       "count     475,015.00  \n",
       "mean   17,483,818.10  \n",
       "std    34,601,079.14  \n",
       "min             0.00  \n",
       "25%             0.00  \n",
       "50%             0.00  \n",
       "75%     8,243,601.50  \n",
       "max   120,000,000.00  "
      ]
     },
     "execution_count": 15,
     "metadata": {},
     "output_type": "execute_result"
    }
   ],
   "source": [
    "#статистический анализ\n",
    "\n",
    "#настройка отображения чисел\n",
    "\n",
    "pd.options.display.float_format ='{:,.2f}'.format\n",
    "pd.set_option('display.max_columns', None)\n",
    "\n",
    "features.describe()"
   ]
  },
  {
   "cell_type": "markdown",
   "id": "4f43abd3",
   "metadata": {},
   "source": [
    "- В некоторых признаках (bwd_psh_flags, bwd_urg_flags, fwd_avg_bytes_bulk, fwd_avg_packets_bulk, fwd_avg_bulk_rate, bwd_avg_bytes_bulk, bwd_avg_packets_bulk, bwd_avg_bulk_rate) не содержится информации, все значения в них - нули. За ненадобностью удаляются.  \n",
    "- В признаках flow_bytes_s и flow_packets_s содержатся бесконечные значения, которые необходимо обработать для обучения модели"
   ]
  },
  {
   "cell_type": "code",
   "execution_count": 16,
   "id": "f236a3ac",
   "metadata": {},
   "outputs": [
    {
     "name": "stdout",
     "output_type": "stream",
     "text": [
      "flow_bytes_s 222\n",
      "flow_packets_s 262\n"
     ]
    }
   ],
   "source": [
    "#подсчет количества бесконечных значений в числеенных признаках\n",
    "\n",
    "col = [] #переменная-список признаков содержащих inf\n",
    "\n",
    "for i in features.columns:\n",
    "    if np.isinf(features[i]).sum() > 0:\n",
    "        col.append(i)\n",
    "        print(i , np.isinf(features[i]).sum())"
   ]
  },
  {
   "cell_type": "code",
   "execution_count": 17,
   "id": "8759f78d",
   "metadata": {},
   "outputs": [],
   "source": [
    "#замена inf на max+1 для каждого признака\n",
    "\n",
    "for i in col:\n",
    "    features = features.replace(np.inf, (features.loc[features[i]!= np.inf]).max()+1)"
   ]
  },
  {
   "cell_type": "code",
   "execution_count": 18,
   "id": "e74a90f8",
   "metadata": {},
   "outputs": [],
   "source": [
    "#удаление признаков, где одно уникальное значение\n",
    "\n",
    "features = features.loc[:, features.nunique()>1]"
   ]
  },
  {
   "cell_type": "code",
   "execution_count": 19,
   "id": "5a548a03",
   "metadata": {},
   "outputs": [],
   "source": [
    "#пропуски в flow_bytes_s, где минимальное значение -12000000, заменим заглушкой\n",
    "\n",
    "features = features.fillna(-13000000)"
   ]
  },
  {
   "cell_type": "code",
   "execution_count": 20,
   "id": "2190b15a",
   "metadata": {},
   "outputs": [
    {
     "name": "stdout",
     "output_type": "stream",
     "text": [
      "label\n",
      "BENIGN                        232809\n",
      "DoS Hulk                       87251\n",
      "DDoS                           64364\n",
      "PortScan                       56397\n",
      "DoS GoldenEye                  10286\n",
      "FTP-Patator                     5933\n",
      "DoS slowloris                   5385\n",
      "DoS Slowhttptest                5228\n",
      "SSH-Patator                     3219\n",
      "Bot                             1953\n",
      "Web Attack � Brute Force        1470\n",
      "Web Attack � XSS                 652\n",
      "Infiltration                      36\n",
      "Web Attack � Sql Injection        21\n",
      "Heartbleed                        11\n",
      "Name: count, dtype: int64\n"
     ]
    },
    {
     "data": {
      "text/plain": [
       "<AxesSubplot:xlabel='label'>"
      ]
     },
     "execution_count": 20,
     "metadata": {},
     "output_type": "execute_result"
    },
    {
     "data": {
      "image/png": "[encoded data removed]",
      "text/plain": [
       "<Figure size 432x288 with 1 Axes>"
      ]
     },
     "metadata": {
      "needs_background": "light"
     },
     "output_type": "display_data"
    }
   ],
   "source": [
    "#подсчет классов в целевом признаке \n",
    "\n",
    "class_frequency = target.value_counts()\n",
    "print(class_frequency)\n",
    "class_frequency.plot(kind='bar')"
   ]
  },
  {
   "cell_type": "markdown",
   "id": "94df5440",
   "metadata": {},
   "source": [
    "Ярко выражен дисбаланс классов, наименее встречающиеся классы составлют десятитысячные доли относительно выборки."
   ]
  },
  {
   "cell_type": "code",
   "execution_count": 21,
   "id": "68c16ee7",
   "metadata": {},
   "outputs": [
    {
     "data": {
      "text/html": [
       "<div>\n",
       "<style scoped>\n",
       "    .dataframe tbody tr th:only-of-type {\n",
       "        vertical-align: middle;\n",
       "    }\n",
       "\n",
       "    .dataframe tbody tr th {\n",
       "        vertical-align: top;\n",
       "    }\n",
       "\n",
       "    .dataframe thead th {\n",
       "        text-align: right;\n",
       "    }\n",
       "</style>\n",
       "<table border=\"1\" class=\"dataframe\">\n",
       "  <thead>\n",
       "    <tr style=\"text-align: right;\">\n",
       "      <th></th>\n",
       "      <th>destination_port</th>\n",
       "      <th>flow_duration</th>\n",
       "      <th>total_fwd_packets</th>\n",
       "      <th>total_backward_packets</th>\n",
       "      <th>total_length_of_fwd_packets</th>\n",
       "      <th>total_length_of_bwd_packets</th>\n",
       "      <th>fwd_packet_length_max</th>\n",
       "      <th>fwd_packet_length_min</th>\n",
       "      <th>fwd_packet_length_mean</th>\n",
       "      <th>fwd_packet_length_std</th>\n",
       "      <th>bwd_packet_length_max</th>\n",
       "      <th>bwd_packet_length_min</th>\n",
       "      <th>bwd_packet_length_mean</th>\n",
       "      <th>bwd_packet_length_std</th>\n",
       "      <th>flow_bytes_s</th>\n",
       "      <th>flow_packets_s</th>\n",
       "      <th>flow_iat_mean</th>\n",
       "      <th>flow_iat_std</th>\n",
       "      <th>flow_iat_max</th>\n",
       "      <th>flow_iat_min</th>\n",
       "      <th>fwd_iat_total</th>\n",
       "      <th>fwd_iat_mean</th>\n",
       "      <th>fwd_iat_std</th>\n",
       "      <th>fwd_iat_max</th>\n",
       "      <th>fwd_iat_min</th>\n",
       "      <th>bwd_iat_total</th>\n",
       "      <th>bwd_iat_mean</th>\n",
       "      <th>bwd_iat_std</th>\n",
       "      <th>bwd_iat_max</th>\n",
       "      <th>bwd_iat_min</th>\n",
       "      <th>fwd_psh_flags</th>\n",
       "      <th>fwd_urg_flags</th>\n",
       "      <th>fwd_header_length</th>\n",
       "      <th>bwd_header_length</th>\n",
       "      <th>fwd_packets_s</th>\n",
       "      <th>bwd_packets_s</th>\n",
       "      <th>min_packet_length</th>\n",
       "      <th>max_packet_length</th>\n",
       "      <th>packet_length_mean</th>\n",
       "      <th>packet_length_std</th>\n",
       "      <th>packet_length_variance</th>\n",
       "      <th>fin_flag_count</th>\n",
       "      <th>syn_flag_count</th>\n",
       "      <th>rst_flag_count</th>\n",
       "      <th>psh_flag_count</th>\n",
       "      <th>ack_flag_count</th>\n",
       "      <th>urg_flag_count</th>\n",
       "      <th>cwe_flag_count</th>\n",
       "      <th>ece_flag_count</th>\n",
       "      <th>down_up_ratio</th>\n",
       "      <th>average_packet_size</th>\n",
       "      <th>avg_fwd_segment_size</th>\n",
       "      <th>avg_bwd_segment_size</th>\n",
       "      <th>fwd_header_length_1</th>\n",
       "      <th>subflow_fwd_packets</th>\n",
       "      <th>subflow_fwd_bytes</th>\n",
       "      <th>subflow_bwd_packets</th>\n",
       "      <th>subflow_bwd_bytes</th>\n",
       "      <th>init_win_bytes_forward</th>\n",
       "      <th>init_win_bytes_backward</th>\n",
       "      <th>act_data_pkt_fwd</th>\n",
       "      <th>min_seg_size_forward</th>\n",
       "      <th>active_mean</th>\n",
       "      <th>active_std</th>\n",
       "      <th>active_max</th>\n",
       "      <th>active_min</th>\n",
       "      <th>idle_mean</th>\n",
       "      <th>idle_std</th>\n",
       "      <th>idle_max</th>\n",
       "      <th>idle_min</th>\n",
       "    </tr>\n",
       "  </thead>\n",
       "  <tbody>\n",
       "    <tr>\n",
       "      <th>destination_port</th>\n",
       "      <td>1.00</td>\n",
       "      <td>-0.20</td>\n",
       "      <td>-0.00</td>\n",
       "      <td>-0.00</td>\n",
       "      <td>0.01</td>\n",
       "      <td>-0.00</td>\n",
       "      <td>0.08</td>\n",
       "      <td>-0.01</td>\n",
       "      <td>0.13</td>\n",
       "      <td>0.11</td>\n",
       "      <td>-0.24</td>\n",
       "      <td>-0.15</td>\n",
       "      <td>-0.26</td>\n",
       "      <td>-0.22</td>\n",
       "      <td>0.05</td>\n",
       "      <td>0.32</td>\n",
       "      <td>-0.13</td>\n",
       "      <td>-0.18</td>\n",
       "      <td>-0.18</td>\n",
       "      <td>-0.03</td>\n",
       "      <td>-0.20</td>\n",
       "      <td>-0.14</td>\n",
       "      <td>-0.17</td>\n",
       "      <td>-0.18</td>\n",
       "      <td>-0.04</td>\n",
       "      <td>-0.10</td>\n",
       "      <td>-0.07</td>\n",
       "      <td>-0.07</td>\n",
       "      <td>-0.08</td>\n",
       "      <td>-0.04</td>\n",
       "      <td>0.20</td>\n",
       "      <td>0.00</td>\n",
       "      <td>0.00</td>\n",
       "      <td>0.00</td>\n",
       "      <td>0.33</td>\n",
       "      <td>0.13</td>\n",
       "      <td>-0.14</td>\n",
       "      <td>-0.20</td>\n",
       "      <td>-0.22</td>\n",
       "      <td>-0.20</td>\n",
       "      <td>-0.15</td>\n",
       "      <td>-0.08</td>\n",
       "      <td>0.20</td>\n",
       "      <td>-0.00</td>\n",
       "      <td>-0.12</td>\n",
       "      <td>0.34</td>\n",
       "      <td>0.50</td>\n",
       "      <td>0.00</td>\n",
       "      <td>-0.00</td>\n",
       "      <td>0.06</td>\n",
       "      <td>-0.22</td>\n",
       "      <td>0.13</td>\n",
       "      <td>-0.26</td>\n",
       "      <td>0.00</td>\n",
       "      <td>-0.00</td>\n",
       "      <td>0.01</td>\n",
       "      <td>-0.00</td>\n",
       "      <td>-0.00</td>\n",
       "      <td>-0.08</td>\n",
       "      <td>0.20</td>\n",
       "      <td>-0.00</td>\n",
       "      <td>0.00</td>\n",
       "      <td>-0.05</td>\n",
       "      <td>-0.04</td>\n",
       "      <td>-0.05</td>\n",
       "      <td>-0.04</td>\n",
       "      <td>-0.18</td>\n",
       "      <td>-0.03</td>\n",
       "      <td>-0.18</td>\n",
       "      <td>-0.17</td>\n",
       "    </tr>\n",
       "    <tr>\n",
       "      <th>flow_duration</th>\n",
       "      <td>-0.20</td>\n",
       "      <td>1.00</td>\n",
       "      <td>0.02</td>\n",
       "      <td>0.01</td>\n",
       "      <td>0.05</td>\n",
       "      <td>0.01</td>\n",
       "      <td>0.24</td>\n",
       "      <td>-0.12</td>\n",
       "      <td>0.12</td>\n",
       "      <td>0.23</td>\n",
       "      <td>0.52</td>\n",
       "      <td>-0.24</td>\n",
       "      <td>0.52</td>\n",
       "      <td>0.47</td>\n",
       "      <td>-0.02</td>\n",
       "      <td>-0.13</td>\n",
       "      <td>0.57</td>\n",
       "      <td>0.86</td>\n",
       "      <td>0.90</td>\n",
       "      <td>0.07</td>\n",
       "      <td>1.00</td>\n",
       "      <td>0.64</td>\n",
       "      <td>0.85</td>\n",
       "      <td>0.90</td>\n",
       "      <td>0.17</td>\n",
       "      <td>0.64</td>\n",
       "      <td>0.39</td>\n",
       "      <td>0.49</td>\n",
       "      <td>0.53</td>\n",
       "      <td>0.18</td>\n",
       "      <td>-0.03</td>\n",
       "      <td>-0.00</td>\n",
       "      <td>-0.00</td>\n",
       "      <td>-0.00</td>\n",
       "      <td>-0.11</td>\n",
       "      <td>-0.11</td>\n",
       "      <td>-0.25</td>\n",
       "      <td>0.52</td>\n",
       "      <td>0.45</td>\n",
       "      <td>0.47</td>\n",
       "      <td>0.29</td>\n",
       "      <td>0.34</td>\n",
       "      <td>-0.03</td>\n",
       "      <td>-0.00</td>\n",
       "      <td>-0.17</td>\n",
       "      <td>0.23</td>\n",
       "      <td>-0.13</td>\n",
       "      <td>-0.00</td>\n",
       "      <td>-0.00</td>\n",
       "      <td>-0.25</td>\n",
       "      <td>0.43</td>\n",
       "      <td>0.12</td>\n",
       "      <td>0.52</td>\n",
       "      <td>-0.00</td>\n",
       "      <td>0.02</td>\n",
       "      <td>0.05</td>\n",
       "      <td>0.01</td>\n",
       "      <td>0.01</td>\n",
       "      <td>-0.09</td>\n",
       "      <td>-0.06</td>\n",
       "      <td>0.01</td>\n",
       "      <td>-0.00</td>\n",
       "      <td>0.18</td>\n",
       "      <td>0.18</td>\n",
       "      <td>0.24</td>\n",
       "      <td>0.13</td>\n",
       "      <td>0.88</td>\n",
       "      <td>0.27</td>\n",
       "      <td>0.90</td>\n",
       "      <td>0.84</td>\n",
       "    </tr>\n",
       "    <tr>\n",
       "      <th>total_fwd_packets</th>\n",
       "      <td>-0.00</td>\n",
       "      <td>0.02</td>\n",
       "      <td>1.00</td>\n",
       "      <td>1.00</td>\n",
       "      <td>0.23</td>\n",
       "      <td>1.00</td>\n",
       "      <td>0.01</td>\n",
       "      <td>-0.00</td>\n",
       "      <td>0.00</td>\n",
       "      <td>0.00</td>\n",
       "      <td>0.01</td>\n",
       "      <td>-0.01</td>\n",
       "      <td>0.01</td>\n",
       "      <td>0.00</td>\n",
       "      <td>-0.00</td>\n",
       "      <td>-0.00</td>\n",
       "      <td>-0.00</td>\n",
       "      <td>0.00</td>\n",
       "      <td>0.00</td>\n",
       "      <td>-0.00</td>\n",
       "      <td>0.02</td>\n",
       "      <td>-0.00</td>\n",
       "      <td>0.00</td>\n",
       "      <td>0.00</td>\n",
       "      <td>-0.00</td>\n",
       "      <td>0.02</td>\n",
       "      <td>0.00</td>\n",
       "      <td>0.00</td>\n",
       "      <td>0.00</td>\n",
       "      <td>-0.00</td>\n",
       "      <td>0.00</td>\n",
       "      <td>-0.00</td>\n",
       "      <td>0.00</td>\n",
       "      <td>0.00</td>\n",
       "      <td>-0.00</td>\n",
       "      <td>-0.00</td>\n",
       "      <td>-0.01</td>\n",
       "      <td>0.01</td>\n",
       "      <td>0.01</td>\n",
       "      <td>0.01</td>\n",
       "      <td>0.00</td>\n",
       "      <td>-0.00</td>\n",
       "      <td>0.00</td>\n",
       "      <td>0.00</td>\n",
       "      <td>0.00</td>\n",
       "      <td>0.00</td>\n",
       "      <td>-0.00</td>\n",
       "      <td>-0.00</td>\n",
       "      <td>0.00</td>\n",
       "      <td>-0.00</td>\n",
       "      <td>0.01</td>\n",
       "      <td>0.00</td>\n",
       "      <td>0.01</td>\n",
       "      <td>0.00</td>\n",
       "      <td>1.00</td>\n",
       "      <td>0.23</td>\n",
       "      <td>1.00</td>\n",
       "      <td>1.00</td>\n",
       "      <td>0.01</td>\n",
       "      <td>0.00</td>\n",
       "      <td>0.81</td>\n",
       "      <td>-0.00</td>\n",
       "      <td>0.01</td>\n",
       "      <td>0.01</td>\n",
       "      <td>0.02</td>\n",
       "      <td>0.01</td>\n",
       "      <td>0.00</td>\n",
       "      <td>0.00</td>\n",
       "      <td>0.00</td>\n",
       "      <td>0.00</td>\n",
       "    </tr>\n",
       "    <tr>\n",
       "      <th>total_backward_packets</th>\n",
       "      <td>-0.00</td>\n",
       "      <td>0.01</td>\n",
       "      <td>1.00</td>\n",
       "      <td>1.00</td>\n",
       "      <td>0.22</td>\n",
       "      <td>1.00</td>\n",
       "      <td>0.01</td>\n",
       "      <td>-0.00</td>\n",
       "      <td>0.00</td>\n",
       "      <td>0.00</td>\n",
       "      <td>0.01</td>\n",
       "      <td>-0.00</td>\n",
       "      <td>0.01</td>\n",
       "      <td>0.00</td>\n",
       "      <td>-0.00</td>\n",
       "      <td>-0.00</td>\n",
       "      <td>-0.00</td>\n",
       "      <td>-0.00</td>\n",
       "      <td>0.00</td>\n",
       "      <td>-0.00</td>\n",
       "      <td>0.01</td>\n",
       "      <td>-0.00</td>\n",
       "      <td>-0.00</td>\n",
       "      <td>0.00</td>\n",
       "      <td>-0.00</td>\n",
       "      <td>0.02</td>\n",
       "      <td>-0.00</td>\n",
       "      <td>0.00</td>\n",
       "      <td>0.00</td>\n",
       "      <td>-0.00</td>\n",
       "      <td>0.00</td>\n",
       "      <td>-0.00</td>\n",
       "      <td>0.00</td>\n",
       "      <td>0.00</td>\n",
       "      <td>-0.00</td>\n",
       "      <td>-0.00</td>\n",
       "      <td>-0.00</td>\n",
       "      <td>0.01</td>\n",
       "      <td>0.01</td>\n",
       "      <td>0.01</td>\n",
       "      <td>0.00</td>\n",
       "      <td>-0.00</td>\n",
       "      <td>0.00</td>\n",
       "      <td>0.00</td>\n",
       "      <td>0.00</td>\n",
       "      <td>0.00</td>\n",
       "      <td>-0.00</td>\n",
       "      <td>-0.00</td>\n",
       "      <td>0.00</td>\n",
       "      <td>0.00</td>\n",
       "      <td>0.01</td>\n",
       "      <td>0.00</td>\n",
       "      <td>0.01</td>\n",
       "      <td>0.00</td>\n",
       "      <td>1.00</td>\n",
       "      <td>0.22</td>\n",
       "      <td>1.00</td>\n",
       "      <td>1.00</td>\n",
       "      <td>0.00</td>\n",
       "      <td>-0.00</td>\n",
       "      <td>0.81</td>\n",
       "      <td>-0.00</td>\n",
       "      <td>0.01</td>\n",
       "      <td>0.01</td>\n",
       "      <td>0.01</td>\n",
       "      <td>0.01</td>\n",
       "      <td>0.00</td>\n",
       "      <td>0.00</td>\n",
       "      <td>0.00</td>\n",
       "      <td>0.00</td>\n",
       "    </tr>\n",
       "    <tr>\n",
       "      <th>total_length_of_fwd_packets</th>\n",
       "      <td>0.01</td>\n",
       "      <td>0.05</td>\n",
       "      <td>0.23</td>\n",
       "      <td>0.22</td>\n",
       "      <td>1.00</td>\n",
       "      <td>0.19</td>\n",
       "      <td>0.21</td>\n",
       "      <td>-0.00</td>\n",
       "      <td>0.21</td>\n",
       "      <td>0.17</td>\n",
       "      <td>0.00</td>\n",
       "      <td>-0.02</td>\n",
       "      <td>0.00</td>\n",
       "      <td>-0.00</td>\n",
       "      <td>0.00</td>\n",
       "      <td>-0.01</td>\n",
       "      <td>-0.00</td>\n",
       "      <td>0.01</td>\n",
       "      <td>0.01</td>\n",
       "      <td>-0.00</td>\n",
       "      <td>0.05</td>\n",
       "      <td>0.00</td>\n",
       "      <td>0.01</td>\n",
       "      <td>0.01</td>\n",
       "      <td>-0.01</td>\n",
       "      <td>0.07</td>\n",
       "      <td>0.01</td>\n",
       "      <td>0.02</td>\n",
       "      <td>0.03</td>\n",
       "      <td>0.00</td>\n",
       "      <td>0.01</td>\n",
       "      <td>-0.00</td>\n",
       "      <td>0.00</td>\n",
       "      <td>0.00</td>\n",
       "      <td>-0.01</td>\n",
       "      <td>-0.01</td>\n",
       "      <td>-0.02</td>\n",
       "      <td>0.04</td>\n",
       "      <td>0.04</td>\n",
       "      <td>0.03</td>\n",
       "      <td>0.01</td>\n",
       "      <td>-0.00</td>\n",
       "      <td>0.01</td>\n",
       "      <td>0.00</td>\n",
       "      <td>0.03</td>\n",
       "      <td>-0.00</td>\n",
       "      <td>-0.00</td>\n",
       "      <td>-0.00</td>\n",
       "      <td>0.00</td>\n",
       "      <td>-0.01</td>\n",
       "      <td>0.04</td>\n",
       "      <td>0.21</td>\n",
       "      <td>0.00</td>\n",
       "      <td>0.00</td>\n",
       "      <td>0.23</td>\n",
       "      <td>1.00</td>\n",
       "      <td>0.22</td>\n",
       "      <td>0.19</td>\n",
       "      <td>0.03</td>\n",
       "      <td>0.01</td>\n",
       "      <td>0.28</td>\n",
       "      <td>0.00</td>\n",
       "      <td>0.07</td>\n",
       "      <td>0.09</td>\n",
       "      <td>0.10</td>\n",
       "      <td>0.04</td>\n",
       "      <td>0.01</td>\n",
       "      <td>0.01</td>\n",
       "      <td>0.01</td>\n",
       "      <td>0.01</td>\n",
       "    </tr>\n",
       "    <tr>\n",
       "      <th>...</th>\n",
       "      <td>...</td>\n",
       "      <td>...</td>\n",
       "      <td>...</td>\n",
       "      <td>...</td>\n",
       "      <td>...</td>\n",
       "      <td>...</td>\n",
       "      <td>...</td>\n",
       "      <td>...</td>\n",
       "      <td>...</td>\n",
       "      <td>...</td>\n",
       "      <td>...</td>\n",
       "      <td>...</td>\n",
       "      <td>...</td>\n",
       "      <td>...</td>\n",
       "      <td>...</td>\n",
       "      <td>...</td>\n",
       "      <td>...</td>\n",
       "      <td>...</td>\n",
       "      <td>...</td>\n",
       "      <td>...</td>\n",
       "      <td>...</td>\n",
       "      <td>...</td>\n",
       "      <td>...</td>\n",
       "      <td>...</td>\n",
       "      <td>...</td>\n",
       "      <td>...</td>\n",
       "      <td>...</td>\n",
       "      <td>...</td>\n",
       "      <td>...</td>\n",
       "      <td>...</td>\n",
       "      <td>...</td>\n",
       "      <td>...</td>\n",
       "      <td>...</td>\n",
       "      <td>...</td>\n",
       "      <td>...</td>\n",
       "      <td>...</td>\n",
       "      <td>...</td>\n",
       "      <td>...</td>\n",
       "      <td>...</td>\n",
       "      <td>...</td>\n",
       "      <td>...</td>\n",
       "      <td>...</td>\n",
       "      <td>...</td>\n",
       "      <td>...</td>\n",
       "      <td>...</td>\n",
       "      <td>...</td>\n",
       "      <td>...</td>\n",
       "      <td>...</td>\n",
       "      <td>...</td>\n",
       "      <td>...</td>\n",
       "      <td>...</td>\n",
       "      <td>...</td>\n",
       "      <td>...</td>\n",
       "      <td>...</td>\n",
       "      <td>...</td>\n",
       "      <td>...</td>\n",
       "      <td>...</td>\n",
       "      <td>...</td>\n",
       "      <td>...</td>\n",
       "      <td>...</td>\n",
       "      <td>...</td>\n",
       "      <td>...</td>\n",
       "      <td>...</td>\n",
       "      <td>...</td>\n",
       "      <td>...</td>\n",
       "      <td>...</td>\n",
       "      <td>...</td>\n",
       "      <td>...</td>\n",
       "      <td>...</td>\n",
       "      <td>...</td>\n",
       "    </tr>\n",
       "    <tr>\n",
       "      <th>active_min</th>\n",
       "      <td>-0.04</td>\n",
       "      <td>0.13</td>\n",
       "      <td>0.01</td>\n",
       "      <td>0.01</td>\n",
       "      <td>0.04</td>\n",
       "      <td>0.01</td>\n",
       "      <td>0.04</td>\n",
       "      <td>-0.03</td>\n",
       "      <td>0.03</td>\n",
       "      <td>0.04</td>\n",
       "      <td>0.03</td>\n",
       "      <td>-0.06</td>\n",
       "      <td>0.03</td>\n",
       "      <td>0.03</td>\n",
       "      <td>-0.01</td>\n",
       "      <td>-0.03</td>\n",
       "      <td>0.10</td>\n",
       "      <td>0.09</td>\n",
       "      <td>0.09</td>\n",
       "      <td>0.00</td>\n",
       "      <td>0.13</td>\n",
       "      <td>0.05</td>\n",
       "      <td>0.07</td>\n",
       "      <td>0.09</td>\n",
       "      <td>-0.01</td>\n",
       "      <td>0.01</td>\n",
       "      <td>0.00</td>\n",
       "      <td>0.01</td>\n",
       "      <td>0.01</td>\n",
       "      <td>-0.01</td>\n",
       "      <td>-0.01</td>\n",
       "      <td>-0.00</td>\n",
       "      <td>-0.00</td>\n",
       "      <td>-0.00</td>\n",
       "      <td>-0.03</td>\n",
       "      <td>-0.03</td>\n",
       "      <td>-0.06</td>\n",
       "      <td>0.04</td>\n",
       "      <td>0.01</td>\n",
       "      <td>0.03</td>\n",
       "      <td>0.02</td>\n",
       "      <td>-0.03</td>\n",
       "      <td>-0.01</td>\n",
       "      <td>-0.00</td>\n",
       "      <td>0.08</td>\n",
       "      <td>-0.01</td>\n",
       "      <td>-0.02</td>\n",
       "      <td>-0.00</td>\n",
       "      <td>-0.00</td>\n",
       "      <td>-0.10</td>\n",
       "      <td>0.01</td>\n",
       "      <td>0.03</td>\n",
       "      <td>0.03</td>\n",
       "      <td>-0.00</td>\n",
       "      <td>0.01</td>\n",
       "      <td>0.04</td>\n",
       "      <td>0.01</td>\n",
       "      <td>0.01</td>\n",
       "      <td>0.10</td>\n",
       "      <td>0.00</td>\n",
       "      <td>0.01</td>\n",
       "      <td>-0.00</td>\n",
       "      <td>0.92</td>\n",
       "      <td>0.01</td>\n",
       "      <td>0.68</td>\n",
       "      <td>1.00</td>\n",
       "      <td>0.08</td>\n",
       "      <td>0.08</td>\n",
       "      <td>0.09</td>\n",
       "      <td>0.06</td>\n",
       "    </tr>\n",
       "    <tr>\n",
       "      <th>idle_mean</th>\n",
       "      <td>-0.18</td>\n",
       "      <td>0.88</td>\n",
       "      <td>0.00</td>\n",
       "      <td>0.00</td>\n",
       "      <td>0.01</td>\n",
       "      <td>0.00</td>\n",
       "      <td>0.17</td>\n",
       "      <td>-0.11</td>\n",
       "      <td>0.09</td>\n",
       "      <td>0.18</td>\n",
       "      <td>0.57</td>\n",
       "      <td>-0.21</td>\n",
       "      <td>0.59</td>\n",
       "      <td>0.53</td>\n",
       "      <td>-0.02</td>\n",
       "      <td>-0.11</td>\n",
       "      <td>0.59</td>\n",
       "      <td>0.94</td>\n",
       "      <td>0.99</td>\n",
       "      <td>0.07</td>\n",
       "      <td>0.88</td>\n",
       "      <td>0.69</td>\n",
       "      <td>0.94</td>\n",
       "      <td>0.98</td>\n",
       "      <td>0.20</td>\n",
       "      <td>0.41</td>\n",
       "      <td>0.36</td>\n",
       "      <td>0.49</td>\n",
       "      <td>0.54</td>\n",
       "      <td>0.17</td>\n",
       "      <td>-0.04</td>\n",
       "      <td>-0.00</td>\n",
       "      <td>-0.00</td>\n",
       "      <td>-0.00</td>\n",
       "      <td>-0.10</td>\n",
       "      <td>-0.10</td>\n",
       "      <td>-0.21</td>\n",
       "      <td>0.58</td>\n",
       "      <td>0.51</td>\n",
       "      <td>0.53</td>\n",
       "      <td>0.34</td>\n",
       "      <td>0.42</td>\n",
       "      <td>-0.04</td>\n",
       "      <td>-0.01</td>\n",
       "      <td>-0.32</td>\n",
       "      <td>0.31</td>\n",
       "      <td>-0.12</td>\n",
       "      <td>-0.00</td>\n",
       "      <td>-0.01</td>\n",
       "      <td>-0.20</td>\n",
       "      <td>0.49</td>\n",
       "      <td>0.09</td>\n",
       "      <td>0.59</td>\n",
       "      <td>-0.00</td>\n",
       "      <td>0.00</td>\n",
       "      <td>0.01</td>\n",
       "      <td>0.00</td>\n",
       "      <td>0.00</td>\n",
       "      <td>-0.21</td>\n",
       "      <td>-0.08</td>\n",
       "      <td>0.00</td>\n",
       "      <td>-0.00</td>\n",
       "      <td>0.07</td>\n",
       "      <td>-0.00</td>\n",
       "      <td>0.04</td>\n",
       "      <td>0.08</td>\n",
       "      <td>1.00</td>\n",
       "      <td>0.11</td>\n",
       "      <td>0.99</td>\n",
       "      <td>0.99</td>\n",
       "    </tr>\n",
       "    <tr>\n",
       "      <th>idle_std</th>\n",
       "      <td>-0.03</td>\n",
       "      <td>0.27</td>\n",
       "      <td>0.00</td>\n",
       "      <td>0.00</td>\n",
       "      <td>0.01</td>\n",
       "      <td>0.00</td>\n",
       "      <td>0.07</td>\n",
       "      <td>-0.04</td>\n",
       "      <td>0.08</td>\n",
       "      <td>0.08</td>\n",
       "      <td>0.17</td>\n",
       "      <td>-0.07</td>\n",
       "      <td>0.18</td>\n",
       "      <td>0.18</td>\n",
       "      <td>-0.01</td>\n",
       "      <td>-0.03</td>\n",
       "      <td>0.14</td>\n",
       "      <td>0.22</td>\n",
       "      <td>0.24</td>\n",
       "      <td>-0.01</td>\n",
       "      <td>0.27</td>\n",
       "      <td>0.12</td>\n",
       "      <td>0.22</td>\n",
       "      <td>0.25</td>\n",
       "      <td>-0.02</td>\n",
       "      <td>0.07</td>\n",
       "      <td>0.07</td>\n",
       "      <td>0.08</td>\n",
       "      <td>0.08</td>\n",
       "      <td>0.04</td>\n",
       "      <td>-0.01</td>\n",
       "      <td>-0.00</td>\n",
       "      <td>-0.01</td>\n",
       "      <td>-0.01</td>\n",
       "      <td>-0.03</td>\n",
       "      <td>-0.03</td>\n",
       "      <td>-0.07</td>\n",
       "      <td>0.19</td>\n",
       "      <td>0.12</td>\n",
       "      <td>0.17</td>\n",
       "      <td>0.13</td>\n",
       "      <td>-0.00</td>\n",
       "      <td>-0.01</td>\n",
       "      <td>-0.00</td>\n",
       "      <td>-0.06</td>\n",
       "      <td>0.13</td>\n",
       "      <td>-0.01</td>\n",
       "      <td>-0.00</td>\n",
       "      <td>-0.00</td>\n",
       "      <td>-0.13</td>\n",
       "      <td>0.12</td>\n",
       "      <td>0.08</td>\n",
       "      <td>0.18</td>\n",
       "      <td>-0.01</td>\n",
       "      <td>0.00</td>\n",
       "      <td>0.01</td>\n",
       "      <td>0.00</td>\n",
       "      <td>0.00</td>\n",
       "      <td>-0.03</td>\n",
       "      <td>-0.02</td>\n",
       "      <td>0.00</td>\n",
       "      <td>-0.01</td>\n",
       "      <td>0.13</td>\n",
       "      <td>0.13</td>\n",
       "      <td>0.13</td>\n",
       "      <td>0.08</td>\n",
       "      <td>0.11</td>\n",
       "      <td>1.00</td>\n",
       "      <td>0.25</td>\n",
       "      <td>-0.04</td>\n",
       "    </tr>\n",
       "    <tr>\n",
       "      <th>idle_max</th>\n",
       "      <td>-0.18</td>\n",
       "      <td>0.90</td>\n",
       "      <td>0.00</td>\n",
       "      <td>0.00</td>\n",
       "      <td>0.01</td>\n",
       "      <td>0.00</td>\n",
       "      <td>0.17</td>\n",
       "      <td>-0.11</td>\n",
       "      <td>0.10</td>\n",
       "      <td>0.19</td>\n",
       "      <td>0.58</td>\n",
       "      <td>-0.21</td>\n",
       "      <td>0.60</td>\n",
       "      <td>0.54</td>\n",
       "      <td>-0.02</td>\n",
       "      <td>-0.11</td>\n",
       "      <td>0.60</td>\n",
       "      <td>0.95</td>\n",
       "      <td>1.00</td>\n",
       "      <td>0.07</td>\n",
       "      <td>0.90</td>\n",
       "      <td>0.69</td>\n",
       "      <td>0.95</td>\n",
       "      <td>1.00</td>\n",
       "      <td>0.19</td>\n",
       "      <td>0.42</td>\n",
       "      <td>0.37</td>\n",
       "      <td>0.50</td>\n",
       "      <td>0.54</td>\n",
       "      <td>0.18</td>\n",
       "      <td>-0.04</td>\n",
       "      <td>-0.00</td>\n",
       "      <td>-0.00</td>\n",
       "      <td>-0.00</td>\n",
       "      <td>-0.10</td>\n",
       "      <td>-0.10</td>\n",
       "      <td>-0.22</td>\n",
       "      <td>0.58</td>\n",
       "      <td>0.51</td>\n",
       "      <td>0.53</td>\n",
       "      <td>0.35</td>\n",
       "      <td>0.41</td>\n",
       "      <td>-0.04</td>\n",
       "      <td>-0.01</td>\n",
       "      <td>-0.32</td>\n",
       "      <td>0.32</td>\n",
       "      <td>-0.12</td>\n",
       "      <td>-0.00</td>\n",
       "      <td>-0.01</td>\n",
       "      <td>-0.22</td>\n",
       "      <td>0.49</td>\n",
       "      <td>0.10</td>\n",
       "      <td>0.60</td>\n",
       "      <td>-0.00</td>\n",
       "      <td>0.00</td>\n",
       "      <td>0.01</td>\n",
       "      <td>0.00</td>\n",
       "      <td>0.00</td>\n",
       "      <td>-0.21</td>\n",
       "      <td>-0.08</td>\n",
       "      <td>0.00</td>\n",
       "      <td>-0.00</td>\n",
       "      <td>0.10</td>\n",
       "      <td>0.04</td>\n",
       "      <td>0.08</td>\n",
       "      <td>0.09</td>\n",
       "      <td>0.99</td>\n",
       "      <td>0.25</td>\n",
       "      <td>1.00</td>\n",
       "      <td>0.96</td>\n",
       "    </tr>\n",
       "    <tr>\n",
       "      <th>idle_min</th>\n",
       "      <td>-0.17</td>\n",
       "      <td>0.84</td>\n",
       "      <td>0.00</td>\n",
       "      <td>0.00</td>\n",
       "      <td>0.01</td>\n",
       "      <td>0.00</td>\n",
       "      <td>0.16</td>\n",
       "      <td>-0.10</td>\n",
       "      <td>0.07</td>\n",
       "      <td>0.17</td>\n",
       "      <td>0.55</td>\n",
       "      <td>-0.20</td>\n",
       "      <td>0.57</td>\n",
       "      <td>0.51</td>\n",
       "      <td>-0.02</td>\n",
       "      <td>-0.11</td>\n",
       "      <td>0.58</td>\n",
       "      <td>0.92</td>\n",
       "      <td>0.96</td>\n",
       "      <td>0.07</td>\n",
       "      <td>0.85</td>\n",
       "      <td>0.67</td>\n",
       "      <td>0.92</td>\n",
       "      <td>0.95</td>\n",
       "      <td>0.20</td>\n",
       "      <td>0.40</td>\n",
       "      <td>0.35</td>\n",
       "      <td>0.49</td>\n",
       "      <td>0.53</td>\n",
       "      <td>0.17</td>\n",
       "      <td>-0.04</td>\n",
       "      <td>-0.00</td>\n",
       "      <td>0.00</td>\n",
       "      <td>0.00</td>\n",
       "      <td>-0.09</td>\n",
       "      <td>-0.10</td>\n",
       "      <td>-0.20</td>\n",
       "      <td>0.55</td>\n",
       "      <td>0.50</td>\n",
       "      <td>0.51</td>\n",
       "      <td>0.33</td>\n",
       "      <td>0.43</td>\n",
       "      <td>-0.04</td>\n",
       "      <td>-0.01</td>\n",
       "      <td>-0.31</td>\n",
       "      <td>0.29</td>\n",
       "      <td>-0.12</td>\n",
       "      <td>-0.00</td>\n",
       "      <td>-0.01</td>\n",
       "      <td>-0.19</td>\n",
       "      <td>0.48</td>\n",
       "      <td>0.07</td>\n",
       "      <td>0.57</td>\n",
       "      <td>0.00</td>\n",
       "      <td>0.00</td>\n",
       "      <td>0.01</td>\n",
       "      <td>0.00</td>\n",
       "      <td>0.00</td>\n",
       "      <td>-0.21</td>\n",
       "      <td>-0.08</td>\n",
       "      <td>-0.00</td>\n",
       "      <td>0.00</td>\n",
       "      <td>0.05</td>\n",
       "      <td>-0.02</td>\n",
       "      <td>0.02</td>\n",
       "      <td>0.06</td>\n",
       "      <td>0.99</td>\n",
       "      <td>-0.04</td>\n",
       "      <td>0.96</td>\n",
       "      <td>1.00</td>\n",
       "    </tr>\n",
       "  </tbody>\n",
       "</table>\n",
       "<p>70 rows × 70 columns</p>\n",
       "</div>"
      ],
      "text/plain": [
       "                             destination_port  flow_duration  \\\n",
       "destination_port                         1.00          -0.20   \n",
       "flow_duration                           -0.20           1.00   \n",
       "total_fwd_packets                       -0.00           0.02   \n",
       "total_backward_packets                  -0.00           0.01   \n",
       "total_length_of_fwd_packets              0.01           0.05   \n",
       "...                                       ...            ...   \n",
       "active_min                              -0.04           0.13   \n",
       "idle_mean                               -0.18           0.88   \n",
       "idle_std                                -0.03           0.27   \n",
       "idle_max                                -0.18           0.90   \n",
       "idle_min                                -0.17           0.84   \n",
       "\n",
       "                             total_fwd_packets  total_backward_packets  \\\n",
       "destination_port                         -0.00                   -0.00   \n",
       "flow_duration                             0.02                    0.01   \n",
       "total_fwd_packets                         1.00                    1.00   \n",
       "total_backward_packets                    1.00                    1.00   \n",
       "total_length_of_fwd_packets               0.23                    0.22   \n",
       "...                                        ...                     ...   \n",
       "active_min                                0.01                    0.01   \n",
       "idle_mean                                 0.00                    0.00   \n",
       "idle_std                                  0.00                    0.00   \n",
       "idle_max                                  0.00                    0.00   \n",
       "idle_min                                  0.00                    0.00   \n",
       "\n",
       "                             total_length_of_fwd_packets  \\\n",
       "destination_port                                    0.01   \n",
       "flow_duration                                       0.05   \n",
       "total_fwd_packets                                   0.23   \n",
       "total_backward_packets                              0.22   \n",
       "total_length_of_fwd_packets                         1.00   \n",
       "...                                                  ...   \n",
       "active_min                                          0.04   \n",
       "idle_mean                                           0.01   \n",
       "idle_std                                            0.01   \n",
       "idle_max                                            0.01   \n",
       "idle_min                                            0.01   \n",
       "\n",
       "                             total_length_of_bwd_packets  \\\n",
       "destination_port                                   -0.00   \n",
       "flow_duration                                       0.01   \n",
       "total_fwd_packets                                   1.00   \n",
       "total_backward_packets                              1.00   \n",
       "total_length_of_fwd_packets                         0.19   \n",
       "...                                                  ...   \n",
       "active_min                                          0.01   \n",
       "idle_mean                                           0.00   \n",
       "idle_std                                            0.00   \n",
       "idle_max                                            0.00   \n",
       "idle_min                                            0.00   \n",
       "\n",
       "                             fwd_packet_length_max  fwd_packet_length_min  \\\n",
       "destination_port                              0.08                  -0.01   \n",
       "flow_duration                                 0.24                  -0.12   \n",
       "total_fwd_packets                             0.01                  -0.00   \n",
       "total_backward_packets                        0.01                  -0.00   \n",
       "total_length_of_fwd_packets                   0.21                  -0.00   \n",
       "...                                            ...                    ...   \n",
       "active_min                                    0.04                  -0.03   \n",
       "idle_mean                                     0.17                  -0.11   \n",
       "idle_std                                      0.07                  -0.04   \n",
       "idle_max                                      0.17                  -0.11   \n",
       "idle_min                                      0.16                  -0.10   \n",
       "\n",
       "                             fwd_packet_length_mean  fwd_packet_length_std  \\\n",
       "destination_port                               0.13                   0.11   \n",
       "flow_duration                                  0.12                   0.23   \n",
       "total_fwd_packets                              0.00                   0.00   \n",
       "total_backward_packets                         0.00                   0.00   \n",
       "total_length_of_fwd_packets                    0.21                   0.17   \n",
       "...                                             ...                    ...   \n",
       "active_min                                     0.03                   0.04   \n",
       "idle_mean                                      0.09                   0.18   \n",
       "idle_std                                       0.08                   0.08   \n",
       "idle_max                                       0.10                   0.19   \n",
       "idle_min                                       0.07                   0.17   \n",
       "\n",
       "                             bwd_packet_length_max  bwd_packet_length_min  \\\n",
       "destination_port                             -0.24                  -0.15   \n",
       "flow_duration                                 0.52                  -0.24   \n",
       "total_fwd_packets                             0.01                  -0.01   \n",
       "total_backward_packets                        0.01                  -0.00   \n",
       "total_length_of_fwd_packets                   0.00                  -0.02   \n",
       "...                                            ...                    ...   \n",
       "active_min                                    0.03                  -0.06   \n",
       "idle_mean                                     0.57                  -0.21   \n",
       "idle_std                                      0.17                  -0.07   \n",
       "idle_max                                      0.58                  -0.21   \n",
       "idle_min                                      0.55                  -0.20   \n",
       "\n",
       "                             bwd_packet_length_mean  bwd_packet_length_std  \\\n",
       "destination_port                              -0.26                  -0.22   \n",
       "flow_duration                                  0.52                   0.47   \n",
       "total_fwd_packets                              0.01                   0.00   \n",
       "total_backward_packets                         0.01                   0.00   \n",
       "total_length_of_fwd_packets                    0.00                  -0.00   \n",
       "...                                             ...                    ...   \n",
       "active_min                                     0.03                   0.03   \n",
       "idle_mean                                      0.59                   0.53   \n",
       "idle_std                                       0.18                   0.18   \n",
       "idle_max                                       0.60                   0.54   \n",
       "idle_min                                       0.57                   0.51   \n",
       "\n",
       "                             flow_bytes_s  flow_packets_s  flow_iat_mean  \\\n",
       "destination_port                     0.05            0.32          -0.13   \n",
       "flow_duration                       -0.02           -0.13           0.57   \n",
       "total_fwd_packets                   -0.00           -0.00          -0.00   \n",
       "total_backward_packets              -0.00           -0.00          -0.00   \n",
       "total_length_of_fwd_packets          0.00           -0.01          -0.00   \n",
       "...                                   ...             ...            ...   \n",
       "active_min                          -0.01           -0.03           0.10   \n",
       "idle_mean                           -0.02           -0.11           0.59   \n",
       "idle_std                            -0.01           -0.03           0.14   \n",
       "idle_max                            -0.02           -0.11           0.60   \n",
       "idle_min                            -0.02           -0.11           0.58   \n",
       "\n",
       "                             flow_iat_std  flow_iat_max  flow_iat_min  \\\n",
       "destination_port                    -0.18         -0.18         -0.03   \n",
       "flow_duration                        0.86          0.90          0.07   \n",
       "total_fwd_packets                    0.00          0.00         -0.00   \n",
       "total_backward_packets              -0.00          0.00         -0.00   \n",
       "total_length_of_fwd_packets          0.01          0.01         -0.00   \n",
       "...                                   ...           ...           ...   \n",
       "active_min                           0.09          0.09          0.00   \n",
       "idle_mean                            0.94          0.99          0.07   \n",
       "idle_std                             0.22          0.24         -0.01   \n",
       "idle_max                             0.95          1.00          0.07   \n",
       "idle_min                             0.92          0.96          0.07   \n",
       "\n",
       "                             fwd_iat_total  fwd_iat_mean  fwd_iat_std  \\\n",
       "destination_port                     -0.20         -0.14        -0.17   \n",
       "flow_duration                         1.00          0.64         0.85   \n",
       "total_fwd_packets                     0.02         -0.00         0.00   \n",
       "total_backward_packets                0.01         -0.00        -0.00   \n",
       "total_length_of_fwd_packets           0.05          0.00         0.01   \n",
       "...                                    ...           ...          ...   \n",
       "active_min                            0.13          0.05         0.07   \n",
       "idle_mean                             0.88          0.69         0.94   \n",
       "idle_std                              0.27          0.12         0.22   \n",
       "idle_max                              0.90          0.69         0.95   \n",
       "idle_min                              0.85          0.67         0.92   \n",
       "\n",
       "                             fwd_iat_max  fwd_iat_min  bwd_iat_total  \\\n",
       "destination_port                   -0.18        -0.04          -0.10   \n",
       "flow_duration                       0.90         0.17           0.64   \n",
       "total_fwd_packets                   0.00        -0.00           0.02   \n",
       "total_backward_packets              0.00        -0.00           0.02   \n",
       "total_length_of_fwd_packets         0.01        -0.01           0.07   \n",
       "...                                  ...          ...            ...   \n",
       "active_min                          0.09        -0.01           0.01   \n",
       "idle_mean                           0.98         0.20           0.41   \n",
       "idle_std                            0.25        -0.02           0.07   \n",
       "idle_max                            1.00         0.19           0.42   \n",
       "idle_min                            0.95         0.20           0.40   \n",
       "\n",
       "                             bwd_iat_mean  bwd_iat_std  bwd_iat_max  \\\n",
       "destination_port                    -0.07        -0.07        -0.08   \n",
       "flow_duration                        0.39         0.49         0.53   \n",
       "total_fwd_packets                    0.00         0.00         0.00   \n",
       "total_backward_packets              -0.00         0.00         0.00   \n",
       "total_length_of_fwd_packets          0.01         0.02         0.03   \n",
       "...                                   ...          ...          ...   \n",
       "active_min                           0.00         0.01         0.01   \n",
       "idle_mean                            0.36         0.49         0.54   \n",
       "idle_std                             0.07         0.08         0.08   \n",
       "idle_max                             0.37         0.50         0.54   \n",
       "idle_min                             0.35         0.49         0.53   \n",
       "\n",
       "                             bwd_iat_min  fwd_psh_flags  fwd_urg_flags  \\\n",
       "destination_port                   -0.04           0.20           0.00   \n",
       "flow_duration                       0.18          -0.03          -0.00   \n",
       "total_fwd_packets                  -0.00           0.00          -0.00   \n",
       "total_backward_packets             -0.00           0.00          -0.00   \n",
       "total_length_of_fwd_packets         0.00           0.01          -0.00   \n",
       "...                                  ...            ...            ...   \n",
       "active_min                         -0.01          -0.01          -0.00   \n",
       "idle_mean                           0.17          -0.04          -0.00   \n",
       "idle_std                            0.04          -0.01          -0.00   \n",
       "idle_max                            0.18          -0.04          -0.00   \n",
       "idle_min                            0.17          -0.04          -0.00   \n",
       "\n",
       "                             fwd_header_length  bwd_header_length  \\\n",
       "destination_port                          0.00               0.00   \n",
       "flow_duration                            -0.00              -0.00   \n",
       "total_fwd_packets                         0.00               0.00   \n",
       "total_backward_packets                    0.00               0.00   \n",
       "total_length_of_fwd_packets               0.00               0.00   \n",
       "...                                        ...                ...   \n",
       "active_min                               -0.00              -0.00   \n",
       "idle_mean                                -0.00              -0.00   \n",
       "idle_std                                 -0.01              -0.01   \n",
       "idle_max                                 -0.00              -0.00   \n",
       "idle_min                                  0.00               0.00   \n",
       "\n",
       "                             fwd_packets_s  bwd_packets_s  min_packet_length  \\\n",
       "destination_port                      0.33           0.13              -0.14   \n",
       "flow_duration                        -0.11          -0.11              -0.25   \n",
       "total_fwd_packets                    -0.00          -0.00              -0.01   \n",
       "total_backward_packets               -0.00          -0.00              -0.00   \n",
       "total_length_of_fwd_packets          -0.01          -0.01              -0.02   \n",
       "...                                    ...            ...                ...   \n",
       "active_min                           -0.03          -0.03              -0.06   \n",
       "idle_mean                            -0.10          -0.10              -0.21   \n",
       "idle_std                             -0.03          -0.03              -0.07   \n",
       "idle_max                             -0.10          -0.10              -0.22   \n",
       "idle_min                             -0.09          -0.10              -0.20   \n",
       "\n",
       "                             max_packet_length  packet_length_mean  \\\n",
       "destination_port                         -0.20               -0.22   \n",
       "flow_duration                             0.52                0.45   \n",
       "total_fwd_packets                         0.01                0.01   \n",
       "total_backward_packets                    0.01                0.01   \n",
       "total_length_of_fwd_packets               0.04                0.04   \n",
       "...                                        ...                 ...   \n",
       "active_min                                0.04                0.01   \n",
       "idle_mean                                 0.58                0.51   \n",
       "idle_std                                  0.19                0.12   \n",
       "idle_max                                  0.58                0.51   \n",
       "idle_min                                  0.55                0.50   \n",
       "\n",
       "                             packet_length_std  packet_length_variance  \\\n",
       "destination_port                         -0.20                   -0.15   \n",
       "flow_duration                             0.47                    0.29   \n",
       "total_fwd_packets                         0.01                    0.00   \n",
       "total_backward_packets                    0.01                    0.00   \n",
       "total_length_of_fwd_packets               0.03                    0.01   \n",
       "...                                        ...                     ...   \n",
       "active_min                                0.03                    0.02   \n",
       "idle_mean                                 0.53                    0.34   \n",
       "idle_std                                  0.17                    0.13   \n",
       "idle_max                                  0.53                    0.35   \n",
       "idle_min                                  0.51                    0.33   \n",
       "\n",
       "                             fin_flag_count  syn_flag_count  rst_flag_count  \\\n",
       "destination_port                      -0.08            0.20           -0.00   \n",
       "flow_duration                          0.34           -0.03           -0.00   \n",
       "total_fwd_packets                     -0.00            0.00            0.00   \n",
       "total_backward_packets                -0.00            0.00            0.00   \n",
       "total_length_of_fwd_packets           -0.00            0.01            0.00   \n",
       "...                                     ...             ...             ...   \n",
       "active_min                            -0.03           -0.01           -0.00   \n",
       "idle_mean                              0.42           -0.04           -0.01   \n",
       "idle_std                              -0.00           -0.01           -0.00   \n",
       "idle_max                               0.41           -0.04           -0.01   \n",
       "idle_min                               0.43           -0.04           -0.01   \n",
       "\n",
       "                             psh_flag_count  ack_flag_count  urg_flag_count  \\\n",
       "destination_port                      -0.12            0.34            0.50   \n",
       "flow_duration                         -0.17            0.23           -0.13   \n",
       "total_fwd_packets                      0.00            0.00           -0.00   \n",
       "total_backward_packets                 0.00            0.00           -0.00   \n",
       "total_length_of_fwd_packets            0.03           -0.00           -0.00   \n",
       "...                                     ...             ...             ...   \n",
       "active_min                             0.08           -0.01           -0.02   \n",
       "idle_mean                             -0.32            0.31           -0.12   \n",
       "idle_std                              -0.06            0.13           -0.01   \n",
       "idle_max                              -0.32            0.32           -0.12   \n",
       "idle_min                              -0.31            0.29           -0.12   \n",
       "\n",
       "                             cwe_flag_count  ece_flag_count  down_up_ratio  \\\n",
       "destination_port                       0.00           -0.00           0.06   \n",
       "flow_duration                         -0.00           -0.00          -0.25   \n",
       "total_fwd_packets                     -0.00            0.00          -0.00   \n",
       "total_backward_packets                -0.00            0.00           0.00   \n",
       "total_length_of_fwd_packets           -0.00            0.00          -0.01   \n",
       "...                                     ...             ...            ...   \n",
       "active_min                            -0.00           -0.00          -0.10   \n",
       "idle_mean                             -0.00           -0.01          -0.20   \n",
       "idle_std                              -0.00           -0.00          -0.13   \n",
       "idle_max                              -0.00           -0.01          -0.22   \n",
       "idle_min                              -0.00           -0.01          -0.19   \n",
       "\n",
       "                             average_packet_size  avg_fwd_segment_size  \\\n",
       "destination_port                           -0.22                  0.13   \n",
       "flow_duration                               0.43                  0.12   \n",
       "total_fwd_packets                           0.01                  0.00   \n",
       "total_backward_packets                      0.01                  0.00   \n",
       "total_length_of_fwd_packets                 0.04                  0.21   \n",
       "...                                          ...                   ...   \n",
       "active_min                                  0.01                  0.03   \n",
       "idle_mean                                   0.49                  0.09   \n",
       "idle_std                                    0.12                  0.08   \n",
       "idle_max                                    0.49                  0.10   \n",
       "idle_min                                    0.48                  0.07   \n",
       "\n",
       "                             avg_bwd_segment_size  fwd_header_length_1  \\\n",
       "destination_port                            -0.26                 0.00   \n",
       "flow_duration                                0.52                -0.00   \n",
       "total_fwd_packets                            0.01                 0.00   \n",
       "total_backward_packets                       0.01                 0.00   \n",
       "total_length_of_fwd_packets                  0.00                 0.00   \n",
       "...                                           ...                  ...   \n",
       "active_min                                   0.03                -0.00   \n",
       "idle_mean                                    0.59                -0.00   \n",
       "idle_std                                     0.18                -0.01   \n",
       "idle_max                                     0.60                -0.00   \n",
       "idle_min                                     0.57                 0.00   \n",
       "\n",
       "                             subflow_fwd_packets  subflow_fwd_bytes  \\\n",
       "destination_port                           -0.00               0.01   \n",
       "flow_duration                               0.02               0.05   \n",
       "total_fwd_packets                           1.00               0.23   \n",
       "total_backward_packets                      1.00               0.22   \n",
       "total_length_of_fwd_packets                 0.23               1.00   \n",
       "...                                          ...                ...   \n",
       "active_min                                  0.01               0.04   \n",
       "idle_mean                                   0.00               0.01   \n",
       "idle_std                                    0.00               0.01   \n",
       "idle_max                                    0.00               0.01   \n",
       "idle_min                                    0.00               0.01   \n",
       "\n",
       "                             subflow_bwd_packets  subflow_bwd_bytes  \\\n",
       "destination_port                           -0.00              -0.00   \n",
       "flow_duration                               0.01               0.01   \n",
       "total_fwd_packets                           1.00               1.00   \n",
       "total_backward_packets                      1.00               1.00   \n",
       "total_length_of_fwd_packets                 0.22               0.19   \n",
       "...                                          ...                ...   \n",
       "active_min                                  0.01               0.01   \n",
       "idle_mean                                   0.00               0.00   \n",
       "idle_std                                    0.00               0.00   \n",
       "idle_max                                    0.00               0.00   \n",
       "idle_min                                    0.00               0.00   \n",
       "\n",
       "                             init_win_bytes_forward  init_win_bytes_backward  \\\n",
       "destination_port                              -0.08                     0.20   \n",
       "flow_duration                                 -0.09                    -0.06   \n",
       "total_fwd_packets                              0.01                     0.00   \n",
       "total_backward_packets                         0.00                    -0.00   \n",
       "total_length_of_fwd_packets                    0.03                     0.01   \n",
       "...                                             ...                      ...   \n",
       "active_min                                     0.10                     0.00   \n",
       "idle_mean                                     -0.21                    -0.08   \n",
       "idle_std                                      -0.03                    -0.02   \n",
       "idle_max                                      -0.21                    -0.08   \n",
       "idle_min                                      -0.21                    -0.08   \n",
       "\n",
       "                             act_data_pkt_fwd  min_seg_size_forward  \\\n",
       "destination_port                        -0.00                  0.00   \n",
       "flow_duration                            0.01                 -0.00   \n",
       "total_fwd_packets                        0.81                 -0.00   \n",
       "total_backward_packets                   0.81                 -0.00   \n",
       "total_length_of_fwd_packets              0.28                  0.00   \n",
       "...                                       ...                   ...   \n",
       "active_min                               0.01                 -0.00   \n",
       "idle_mean                                0.00                 -0.00   \n",
       "idle_std                                 0.00                 -0.01   \n",
       "idle_max                                 0.00                 -0.00   \n",
       "idle_min                                -0.00                  0.00   \n",
       "\n",
       "                             active_mean  active_std  active_max  active_min  \\\n",
       "destination_port                   -0.05       -0.04       -0.05       -0.04   \n",
       "flow_duration                       0.18        0.18        0.24        0.13   \n",
       "total_fwd_packets                   0.01        0.01        0.02        0.01   \n",
       "total_backward_packets              0.01        0.01        0.01        0.01   \n",
       "total_length_of_fwd_packets         0.07        0.09        0.10        0.04   \n",
       "...                                  ...         ...         ...         ...   \n",
       "active_min                          0.92        0.01        0.68        1.00   \n",
       "idle_mean                           0.07       -0.00        0.04        0.08   \n",
       "idle_std                            0.13        0.13        0.13        0.08   \n",
       "idle_max                            0.10        0.04        0.08        0.09   \n",
       "idle_min                            0.05       -0.02        0.02        0.06   \n",
       "\n",
       "                             idle_mean  idle_std  idle_max  idle_min  \n",
       "destination_port                 -0.18     -0.03     -0.18     -0.17  \n",
       "flow_duration                     0.88      0.27      0.90      0.84  \n",
       "total_fwd_packets                 0.00      0.00      0.00      0.00  \n",
       "total_backward_packets            0.00      0.00      0.00      0.00  \n",
       "total_length_of_fwd_packets       0.01      0.01      0.01      0.01  \n",
       "...                                ...       ...       ...       ...  \n",
       "active_min                        0.08      0.08      0.09      0.06  \n",
       "idle_mean                         1.00      0.11      0.99      0.99  \n",
       "idle_std                          0.11      1.00      0.25     -0.04  \n",
       "idle_max                          0.99      0.25      1.00      0.96  \n",
       "idle_min                          0.99     -0.04      0.96      1.00  \n",
       "\n",
       "[70 rows x 70 columns]"
      ]
     },
     "execution_count": 21,
     "metadata": {},
     "output_type": "execute_result"
    }
   ],
   "source": [
    "features.corr()"
   ]
  },
  {
   "cell_type": "markdown",
   "id": "e750a733",
   "metadata": {},
   "source": [
    "Среди некоторых признаков заметна большая корреляция, с этим необходимо было бы поработать при использовании модели логистической регрессии. Для других моделей так же можно было бы провести эксперимент с удалением зависимых между собой признаков для экономии времени."
   ]
  },
  {
   "cell_type": "markdown",
   "id": "7df6c517",
   "metadata": {},
   "source": [
    "## Подбор и сравнение моделей"
   ]
  },
  {
   "cell_type": "code",
   "execution_count": 22,
   "id": "9af36e23",
   "metadata": {},
   "outputs": [
    {
     "name": "stdout",
     "output_type": "stream",
     "text": [
      "(356261, 70)\n",
      "(118754, 70)\n",
      "(356261,)\n",
      "(118754,)\n"
     ]
    }
   ],
   "source": [
    "#деление на тренировочную и тестовую выборки\n",
    "\n",
    "#выделение тренировочной части в соотношении 75% и 25%\n",
    "features_train, features_test, target_train, target_test = \\\n",
    "train_test_split(features, target, test_size=0.25, random_state=12345, stratify=target)\n",
    "\n",
    "print(features_train.shape)\n",
    "print(features_test.shape)\n",
    "print(target_train.shape)\n",
    "print(target_test.shape)"
   ]
  },
  {
   "cell_type": "code",
   "execution_count": 23,
   "id": "868ce0f8",
   "metadata": {},
   "outputs": [
    {
     "name": "stdout",
     "output_type": "stream",
     "text": [
      "(356261,)\n",
      "(118754,)\n"
     ]
    }
   ],
   "source": [
    "#кодирование таргета \n",
    "\n",
    "le = LabelEncoder()\n",
    "target_train_le = le.fit_transform(target_train)\n",
    "target_test_le = le.transform(target_test)\n",
    "\n",
    "print(target_train_le.shape)\n",
    "print(target_test_le.shape)"
   ]
  },
  {
   "cell_type": "code",
   "execution_count": 24,
   "id": "b40e0c6f",
   "metadata": {},
   "outputs": [
    {
     "name": "stdout",
     "output_type": "stream",
     "text": [
      "              precision    recall  f1-score   support\n",
      "\n",
      "           0       1.00      1.00      1.00    174607\n",
      "           1       0.96      0.95      0.95      1465\n",
      "           2       1.00      1.00      1.00     48273\n",
      "           3       1.00      1.00      1.00      7714\n",
      "           4       1.00      1.00      1.00     65438\n",
      "           5       1.00      0.99      1.00      3921\n",
      "           6       1.00      0.99      0.99      4039\n",
      "           7       1.00      1.00      1.00      4450\n",
      "           8       1.00      0.88      0.93         8\n",
      "           9       1.00      0.56      0.71        27\n",
      "          10       1.00      1.00      1.00     42298\n",
      "          11       1.00      1.00      1.00      2414\n",
      "          12       0.73      0.80      0.76      1102\n",
      "          13       0.43      0.19      0.26        16\n",
      "          14       0.43      0.31      0.36       489\n",
      "\n",
      "    accuracy                           1.00    356261\n",
      "   macro avg       0.90      0.84      0.86    356261\n",
      "weighted avg       1.00      1.00      1.00    356261\n",
      "\n",
      "0.996670979983776\n"
     ]
    }
   ],
   "source": [
    "#построение baseline'a\n",
    "\n",
    "model_1 = RandomForestClassifier(random_state=12345, class_weight='balanced')\n",
    "tar_pred_1 = cross_val_predict(model_1, features_train, target_train_le, cv=5, n_jobs=-1)\n",
    "print(classification_report(target_train_le, tar_pred))\n",
    "print(accuracy_score(target_train_le, tar_pred))"
   ]
  },
  {
   "cell_type": "code",
   "execution_count": 27,
   "id": "df9f2f1c",
   "metadata": {},
   "outputs": [
    {
     "name": "stdout",
     "output_type": "stream",
     "text": [
      "              precision    recall  f1-score   support\n",
      "\n",
      "           0       1.00      1.00      1.00    174607\n",
      "           1       0.95      0.97      0.96      1465\n",
      "           2       1.00      1.00      1.00     48273\n",
      "           3       1.00      1.00      1.00      7714\n",
      "           4       1.00      1.00      1.00     65438\n",
      "           5       1.00      0.99      0.99      3921\n",
      "           6       0.99      0.99      0.99      4039\n",
      "           7       1.00      1.00      1.00      4450\n",
      "           8       1.00      0.88      0.93         8\n",
      "           9       1.00      0.67      0.80        27\n",
      "          10       1.00      1.00      1.00     42298\n",
      "          11       1.00      1.00      1.00      2414\n",
      "          12       0.73      0.87      0.80      1102\n",
      "          13       0.75      0.38      0.50        16\n",
      "          14       0.52      0.29      0.38       489\n",
      "\n",
      "    accuracy                           1.00    356261\n",
      "   macro avg       0.93      0.87      0.89    356261\n",
      "weighted avg       1.00      1.00      1.00    356261\n",
      "\n",
      "0.9974737622136579\n"
     ]
    }
   ],
   "source": [
    "model_2 = CatBoostClassifier(loss_function='MultiClass', random_seed=12345, verbose=0)\n",
    "tar_pred_2 = cross_val_predict(model_2, features_train, target_train_le, cv=5, n_jobs=-1, verbose=0)\n",
    "print(classification_report(target_train_le, tar_pred_2))\n",
    "print(accuracy_score(target_train_le, tar_pred_2))"
   ]
  },
  {
   "cell_type": "code",
   "execution_count": null,
   "id": "7f5d20e6",
   "metadata": {},
   "outputs": [],
   "source": [
    "#словарь с параметрами для модели случайного леса\n",
    "\n",
    "parametrs = { 'max_depth': range (2, 16, 2),\n",
    "              'n_estimators': range (9, 150, 10) }\n",
    "\n",
    "model_3 = RandomForestClassifier(random_state=12345, class_weight='balanced')\n",
    "\n",
    "#подбор параметров модели \n",
    "\n",
    "grid = GridSearchCV(model_3, parametrs, scoring='accuracy', cv=5, n_jobs=-1)\n",
    "tar_pred_3 = cross_val_predict(grid, features_train, target_train_le, cv=5, n_jobs=-1)"
   ]
  },
  {
   "cell_type": "code",
   "execution_count": 25,
   "id": "3f803e9f",
   "metadata": {},
   "outputs": [
    {
     "name": "stdout",
     "output_type": "stream",
     "text": [
      "              precision    recall  f1-score   support\n",
      "\n",
      "           0       1.00      0.99      0.99    174607\n",
      "           1       0.54      0.99      0.70      1465\n",
      "           2       1.00      1.00      1.00     48273\n",
      "           3       0.99      1.00      0.99      7714\n",
      "           4       1.00      1.00      1.00     65438\n",
      "           5       0.99      0.99      0.99      3921\n",
      "           6       1.00      0.99      1.00      4039\n",
      "           7       1.00      1.00      1.00      4450\n",
      "           8       1.00      0.88      0.93         8\n",
      "           9       1.00      0.56      0.71        27\n",
      "          10       1.00      1.00      1.00     42298\n",
      "          11       0.99      1.00      0.99      2414\n",
      "          12       0.69      0.54      0.61      1102\n",
      "          13       0.16      0.56      0.24        16\n",
      "          14       0.30      0.68      0.41       489\n",
      "\n",
      "    accuracy                           0.99    356261\n",
      "   macro avg       0.84      0.88      0.84    356261\n",
      "weighted avg       0.99      0.99      0.99    356261\n",
      "\n",
      "0.9916044697567233\n"
     ]
    }
   ],
   "source": [
    "#вывод показателей случайного леса с подбором параметров\n",
    "\n",
    "print(classification_report(target_train_le, tar_pred_3))\n",
    "print(accuracy_score(target_train_le, tar_pred_3))"
   ]
  },
  {
   "cell_type": "markdown",
   "id": "d522e277",
   "metadata": {},
   "source": [
    "Подбор параметров случайного леса не дал прироста метрик. Из исследованных моделей лучшие показатели дала CatBoostClassifier(loss_function='MultiClass')."
   ]
  },
  {
   "cell_type": "markdown",
   "id": "2abe637d",
   "metadata": {},
   "source": [
    "## Тестирование и анализ лучшей модели"
   ]
  },
  {
   "cell_type": "code",
   "execution_count": 32,
   "id": "cc2c557b",
   "metadata": {},
   "outputs": [
    {
     "data": {
      "text/plain": [
       "<catboost.core.CatBoostClassifier at 0x7f8a189a6eb0>"
      ]
     },
     "execution_count": 32,
     "metadata": {},
     "output_type": "execute_result"
    }
   ],
   "source": [
    "best_model = CatBoostClassifier(loss_function='MultiClass', random_seed=12345, verbose=0)\n",
    "\n",
    "best_model.fit(features_train, target_train, verbose=0)"
   ]
  },
  {
   "cell_type": "code",
   "execution_count": 33,
   "id": "19acfd66",
   "metadata": {},
   "outputs": [
    {
     "name": "stdout",
     "output_type": "stream",
     "text": [
      "                            precision    recall  f1-score   support\n",
      "\n",
      "                    BENIGN       1.00      1.00      1.00     58202\n",
      "                       Bot       0.95      0.98      0.97       488\n",
      "                      DDoS       1.00      1.00      1.00     16091\n",
      "             DoS GoldenEye       1.00      1.00      1.00      2572\n",
      "                  DoS Hulk       1.00      1.00      1.00     21813\n",
      "          DoS Slowhttptest       1.00      0.99      0.99      1307\n",
      "             DoS slowloris       0.99      0.99      0.99      1346\n",
      "               FTP-Patator       1.00      1.00      1.00      1483\n",
      "                Heartbleed       1.00      1.00      1.00         3\n",
      "              Infiltration       1.00      0.89      0.94         9\n",
      "                  PortScan       1.00      1.00      1.00     14099\n",
      "               SSH-Patator       1.00      1.00      1.00       805\n",
      "  Web Attack � Brute Force       0.74      0.88      0.80       368\n",
      "Web Attack � Sql Injection       0.75      0.60      0.67         5\n",
      "          Web Attack � XSS       0.54      0.31      0.39       163\n",
      "\n",
      "                  accuracy                           1.00    118754\n",
      "                 macro avg       0.93      0.91      0.92    118754\n",
      "              weighted avg       1.00      1.00      1.00    118754\n",
      "\n",
      "0.997583239301413\n"
     ]
    }
   ],
   "source": [
    "pred = best_model.predict(features_test)\n",
    "print(classification_report(target_test, pred))\n",
    "print(accuracy_score(target_test, pred))"
   ]
  },
  {
   "cell_type": "markdown",
   "id": "2c632e33",
   "metadata": {},
   "source": [
    "Обученная и протестированная модель показала метрику не ниже валидационной. Класс Web Attack � XSS предсказывается хуже всего - некоторые классы слишком малочисленны. "
   ]
  },
  {
   "cell_type": "code",
   "execution_count": 45,
   "id": "5031defb",
   "metadata": {},
   "outputs": [
    {
     "data": {
      "text/html": [
       "<div>\n",
       "<style scoped>\n",
       "    .dataframe tbody tr th:only-of-type {\n",
       "        vertical-align: middle;\n",
       "    }\n",
       "\n",
       "    .dataframe tbody tr th {\n",
       "        vertical-align: top;\n",
       "    }\n",
       "\n",
       "    .dataframe thead th {\n",
       "        text-align: right;\n",
       "    }\n",
       "</style>\n",
       "<table border=\"1\" class=\"dataframe\">\n",
       "  <thead>\n",
       "    <tr style=\"text-align: right;\">\n",
       "      <th></th>\n",
       "      <th>Feature Id</th>\n",
       "      <th>Importances</th>\n",
       "    </tr>\n",
       "  </thead>\n",
       "  <tbody>\n",
       "    <tr>\n",
       "      <th>0</th>\n",
       "      <td>destination_port</td>\n",
       "      <td>11.43</td>\n",
       "    </tr>\n",
       "    <tr>\n",
       "      <th>1</th>\n",
       "      <td>bwd_packet_length_std</td>\n",
       "      <td>8.62</td>\n",
       "    </tr>\n",
       "    <tr>\n",
       "      <th>2</th>\n",
       "      <td>psh_flag_count</td>\n",
       "      <td>7.27</td>\n",
       "    </tr>\n",
       "    <tr>\n",
       "      <th>3</th>\n",
       "      <td>avg_fwd_segment_size</td>\n",
       "      <td>6.98</td>\n",
       "    </tr>\n",
       "    <tr>\n",
       "      <th>4</th>\n",
       "      <td>init_win_bytes_forward</td>\n",
       "      <td>5.26</td>\n",
       "    </tr>\n",
       "    <tr>\n",
       "      <th>5</th>\n",
       "      <td>init_win_bytes_backward</td>\n",
       "      <td>4.77</td>\n",
       "    </tr>\n",
       "    <tr>\n",
       "      <th>6</th>\n",
       "      <td>fwd_iat_std</td>\n",
       "      <td>3.94</td>\n",
       "    </tr>\n",
       "    <tr>\n",
       "      <th>7</th>\n",
       "      <td>packet_length_std</td>\n",
       "      <td>3.31</td>\n",
       "    </tr>\n",
       "    <tr>\n",
       "      <th>8</th>\n",
       "      <td>min_seg_size_forward</td>\n",
       "      <td>2.89</td>\n",
       "    </tr>\n",
       "    <tr>\n",
       "      <th>9</th>\n",
       "      <td>flow_iat_min</td>\n",
       "      <td>2.78</td>\n",
       "    </tr>\n",
       "    <tr>\n",
       "      <th>10</th>\n",
       "      <td>fwd_iat_min</td>\n",
       "      <td>2.62</td>\n",
       "    </tr>\n",
       "    <tr>\n",
       "      <th>11</th>\n",
       "      <td>fwd_packet_length_max</td>\n",
       "      <td>2.38</td>\n",
       "    </tr>\n",
       "    <tr>\n",
       "      <th>12</th>\n",
       "      <td>bwd_packets_s</td>\n",
       "      <td>2.07</td>\n",
       "    </tr>\n",
       "    <tr>\n",
       "      <th>13</th>\n",
       "      <td>flow_bytes_s</td>\n",
       "      <td>1.97</td>\n",
       "    </tr>\n",
       "    <tr>\n",
       "      <th>14</th>\n",
       "      <td>fwd_header_length</td>\n",
       "      <td>1.77</td>\n",
       "    </tr>\n",
       "    <tr>\n",
       "      <th>15</th>\n",
       "      <td>average_packet_size</td>\n",
       "      <td>1.71</td>\n",
       "    </tr>\n",
       "    <tr>\n",
       "      <th>16</th>\n",
       "      <td>flow_duration</td>\n",
       "      <td>1.68</td>\n",
       "    </tr>\n",
       "    <tr>\n",
       "      <th>17</th>\n",
       "      <td>flow_iat_mean</td>\n",
       "      <td>1.56</td>\n",
       "    </tr>\n",
       "    <tr>\n",
       "      <th>18</th>\n",
       "      <td>fwd_header_length_1</td>\n",
       "      <td>1.49</td>\n",
       "    </tr>\n",
       "    <tr>\n",
       "      <th>19</th>\n",
       "      <td>fwd_packet_length_mean</td>\n",
       "      <td>1.36</td>\n",
       "    </tr>\n",
       "    <tr>\n",
       "      <th>20</th>\n",
       "      <td>packet_length_mean</td>\n",
       "      <td>1.32</td>\n",
       "    </tr>\n",
       "    <tr>\n",
       "      <th>21</th>\n",
       "      <td>fwd_packets_s</td>\n",
       "      <td>1.29</td>\n",
       "    </tr>\n",
       "    <tr>\n",
       "      <th>22</th>\n",
       "      <td>total_fwd_packets</td>\n",
       "      <td>1.27</td>\n",
       "    </tr>\n",
       "    <tr>\n",
       "      <th>23</th>\n",
       "      <td>max_packet_length</td>\n",
       "      <td>1.24</td>\n",
       "    </tr>\n",
       "    <tr>\n",
       "      <th>24</th>\n",
       "      <td>bwd_iat_mean</td>\n",
       "      <td>1.17</td>\n",
       "    </tr>\n",
       "    <tr>\n",
       "      <th>25</th>\n",
       "      <td>fwd_packet_length_std</td>\n",
       "      <td>1.10</td>\n",
       "    </tr>\n",
       "    <tr>\n",
       "      <th>26</th>\n",
       "      <td>bwd_iat_min</td>\n",
       "      <td>1.04</td>\n",
       "    </tr>\n",
       "    <tr>\n",
       "      <th>27</th>\n",
       "      <td>bwd_packet_length_mean</td>\n",
       "      <td>1.00</td>\n",
       "    </tr>\n",
       "    <tr>\n",
       "      <th>28</th>\n",
       "      <td>fwd_iat_mean</td>\n",
       "      <td>0.99</td>\n",
       "    </tr>\n",
       "    <tr>\n",
       "      <th>29</th>\n",
       "      <td>total_length_of_fwd_packets</td>\n",
       "      <td>0.88</td>\n",
       "    </tr>\n",
       "    <tr>\n",
       "      <th>30</th>\n",
       "      <td>flow_iat_max</td>\n",
       "      <td>0.88</td>\n",
       "    </tr>\n",
       "    <tr>\n",
       "      <th>31</th>\n",
       "      <td>flow_packets_s</td>\n",
       "      <td>0.80</td>\n",
       "    </tr>\n",
       "    <tr>\n",
       "      <th>32</th>\n",
       "      <td>act_data_pkt_fwd</td>\n",
       "      <td>0.75</td>\n",
       "    </tr>\n",
       "    <tr>\n",
       "      <th>33</th>\n",
       "      <td>fwd_iat_max</td>\n",
       "      <td>0.74</td>\n",
       "    </tr>\n",
       "    <tr>\n",
       "      <th>34</th>\n",
       "      <td>fwd_iat_total</td>\n",
       "      <td>0.73</td>\n",
       "    </tr>\n",
       "    <tr>\n",
       "      <th>35</th>\n",
       "      <td>avg_bwd_segment_size</td>\n",
       "      <td>0.70</td>\n",
       "    </tr>\n",
       "    <tr>\n",
       "      <th>36</th>\n",
       "      <td>subflow_fwd_bytes</td>\n",
       "      <td>0.66</td>\n",
       "    </tr>\n",
       "    <tr>\n",
       "      <th>37</th>\n",
       "      <td>flow_iat_std</td>\n",
       "      <td>0.65</td>\n",
       "    </tr>\n",
       "    <tr>\n",
       "      <th>38</th>\n",
       "      <td>idle_min</td>\n",
       "      <td>0.61</td>\n",
       "    </tr>\n",
       "    <tr>\n",
       "      <th>39</th>\n",
       "      <td>ack_flag_count</td>\n",
       "      <td>0.55</td>\n",
       "    </tr>\n",
       "    <tr>\n",
       "      <th>40</th>\n",
       "      <td>packet_length_variance</td>\n",
       "      <td>0.55</td>\n",
       "    </tr>\n",
       "    <tr>\n",
       "      <th>41</th>\n",
       "      <td>total_length_of_bwd_packets</td>\n",
       "      <td>0.54</td>\n",
       "    </tr>\n",
       "    <tr>\n",
       "      <th>42</th>\n",
       "      <td>subflow_bwd_bytes</td>\n",
       "      <td>0.51</td>\n",
       "    </tr>\n",
       "    <tr>\n",
       "      <th>43</th>\n",
       "      <td>bwd_header_length</td>\n",
       "      <td>0.51</td>\n",
       "    </tr>\n",
       "    <tr>\n",
       "      <th>44</th>\n",
       "      <td>bwd_iat_max</td>\n",
       "      <td>0.50</td>\n",
       "    </tr>\n",
       "    <tr>\n",
       "      <th>45</th>\n",
       "      <td>bwd_packet_length_max</td>\n",
       "      <td>0.49</td>\n",
       "    </tr>\n",
       "    <tr>\n",
       "      <th>46</th>\n",
       "      <td>bwd_iat_std</td>\n",
       "      <td>0.47</td>\n",
       "    </tr>\n",
       "    <tr>\n",
       "      <th>47</th>\n",
       "      <td>urg_flag_count</td>\n",
       "      <td>0.47</td>\n",
       "    </tr>\n",
       "    <tr>\n",
       "      <th>48</th>\n",
       "      <td>min_packet_length</td>\n",
       "      <td>0.26</td>\n",
       "    </tr>\n",
       "    <tr>\n",
       "      <th>49</th>\n",
       "      <td>down_up_ratio</td>\n",
       "      <td>0.21</td>\n",
       "    </tr>\n",
       "    <tr>\n",
       "      <th>50</th>\n",
       "      <td>idle_max</td>\n",
       "      <td>0.17</td>\n",
       "    </tr>\n",
       "    <tr>\n",
       "      <th>51</th>\n",
       "      <td>fin_flag_count</td>\n",
       "      <td>0.13</td>\n",
       "    </tr>\n",
       "    <tr>\n",
       "      <th>52</th>\n",
       "      <td>bwd_iat_total</td>\n",
       "      <td>0.13</td>\n",
       "    </tr>\n",
       "    <tr>\n",
       "      <th>53</th>\n",
       "      <td>total_backward_packets</td>\n",
       "      <td>0.12</td>\n",
       "    </tr>\n",
       "    <tr>\n",
       "      <th>54</th>\n",
       "      <td>bwd_packet_length_min</td>\n",
       "      <td>0.11</td>\n",
       "    </tr>\n",
       "    <tr>\n",
       "      <th>55</th>\n",
       "      <td>syn_flag_count</td>\n",
       "      <td>0.08</td>\n",
       "    </tr>\n",
       "    <tr>\n",
       "      <th>56</th>\n",
       "      <td>subflow_fwd_packets</td>\n",
       "      <td>0.08</td>\n",
       "    </tr>\n",
       "    <tr>\n",
       "      <th>57</th>\n",
       "      <td>fwd_packet_length_min</td>\n",
       "      <td>0.08</td>\n",
       "    </tr>\n",
       "    <tr>\n",
       "      <th>58</th>\n",
       "      <td>subflow_bwd_packets</td>\n",
       "      <td>0.06</td>\n",
       "    </tr>\n",
       "    <tr>\n",
       "      <th>59</th>\n",
       "      <td>active_max</td>\n",
       "      <td>0.06</td>\n",
       "    </tr>\n",
       "    <tr>\n",
       "      <th>60</th>\n",
       "      <td>active_min</td>\n",
       "      <td>0.06</td>\n",
       "    </tr>\n",
       "    <tr>\n",
       "      <th>61</th>\n",
       "      <td>idle_mean</td>\n",
       "      <td>0.05</td>\n",
       "    </tr>\n",
       "    <tr>\n",
       "      <th>62</th>\n",
       "      <td>active_mean</td>\n",
       "      <td>0.05</td>\n",
       "    </tr>\n",
       "    <tr>\n",
       "      <th>63</th>\n",
       "      <td>idle_std</td>\n",
       "      <td>0.05</td>\n",
       "    </tr>\n",
       "    <tr>\n",
       "      <th>64</th>\n",
       "      <td>fwd_psh_flags</td>\n",
       "      <td>0.03</td>\n",
       "    </tr>\n",
       "    <tr>\n",
       "      <th>65</th>\n",
       "      <td>active_std</td>\n",
       "      <td>0.02</td>\n",
       "    </tr>\n",
       "    <tr>\n",
       "      <th>66</th>\n",
       "      <td>cwe_flag_count</td>\n",
       "      <td>0.00</td>\n",
       "    </tr>\n",
       "    <tr>\n",
       "      <th>67</th>\n",
       "      <td>fwd_urg_flags</td>\n",
       "      <td>0.00</td>\n",
       "    </tr>\n",
       "    <tr>\n",
       "      <th>68</th>\n",
       "      <td>rst_flag_count</td>\n",
       "      <td>0.00</td>\n",
       "    </tr>\n",
       "    <tr>\n",
       "      <th>69</th>\n",
       "      <td>ece_flag_count</td>\n",
       "      <td>0.00</td>\n",
       "    </tr>\n",
       "  </tbody>\n",
       "</table>\n",
       "</div>"
      ],
      "text/plain": [
       "                     Feature Id  Importances\n",
       "0              destination_port        11.43\n",
       "1         bwd_packet_length_std         8.62\n",
       "2                psh_flag_count         7.27\n",
       "3          avg_fwd_segment_size         6.98\n",
       "4        init_win_bytes_forward         5.26\n",
       "5       init_win_bytes_backward         4.77\n",
       "6                   fwd_iat_std         3.94\n",
       "7             packet_length_std         3.31\n",
       "8          min_seg_size_forward         2.89\n",
       "9                  flow_iat_min         2.78\n",
       "10                  fwd_iat_min         2.62\n",
       "11        fwd_packet_length_max         2.38\n",
       "12                bwd_packets_s         2.07\n",
       "13                 flow_bytes_s         1.97\n",
       "14            fwd_header_length         1.77\n",
       "15          average_packet_size         1.71\n",
       "16                flow_duration         1.68\n",
       "17                flow_iat_mean         1.56\n",
       "18          fwd_header_length_1         1.49\n",
       "19       fwd_packet_length_mean         1.36\n",
       "20           packet_length_mean         1.32\n",
       "21                fwd_packets_s         1.29\n",
       "22            total_fwd_packets         1.27\n",
       "23            max_packet_length         1.24\n",
       "24                 bwd_iat_mean         1.17\n",
       "25        fwd_packet_length_std         1.10\n",
       "26                  bwd_iat_min         1.04\n",
       "27       bwd_packet_length_mean         1.00\n",
       "28                 fwd_iat_mean         0.99\n",
       "29  total_length_of_fwd_packets         0.88\n",
       "30                 flow_iat_max         0.88\n",
       "31               flow_packets_s         0.80\n",
       "32             act_data_pkt_fwd         0.75\n",
       "33                  fwd_iat_max         0.74\n",
       "34                fwd_iat_total         0.73\n",
       "35         avg_bwd_segment_size         0.70\n",
       "36            subflow_fwd_bytes         0.66\n",
       "37                 flow_iat_std         0.65\n",
       "38                     idle_min         0.61\n",
       "39               ack_flag_count         0.55\n",
       "40       packet_length_variance         0.55\n",
       "41  total_length_of_bwd_packets         0.54\n",
       "42            subflow_bwd_bytes         0.51\n",
       "43            bwd_header_length         0.51\n",
       "44                  bwd_iat_max         0.50\n",
       "45        bwd_packet_length_max         0.49\n",
       "46                  bwd_iat_std         0.47\n",
       "47               urg_flag_count         0.47\n",
       "48            min_packet_length         0.26\n",
       "49                down_up_ratio         0.21\n",
       "50                     idle_max         0.17\n",
       "51               fin_flag_count         0.13\n",
       "52                bwd_iat_total         0.13\n",
       "53       total_backward_packets         0.12\n",
       "54        bwd_packet_length_min         0.11\n",
       "55               syn_flag_count         0.08\n",
       "56          subflow_fwd_packets         0.08\n",
       "57        fwd_packet_length_min         0.08\n",
       "58          subflow_bwd_packets         0.06\n",
       "59                   active_max         0.06\n",
       "60                   active_min         0.06\n",
       "61                    idle_mean         0.05\n",
       "62                  active_mean         0.05\n",
       "63                     idle_std         0.05\n",
       "64                fwd_psh_flags         0.03\n",
       "65                   active_std         0.02\n",
       "66               cwe_flag_count         0.00\n",
       "67                fwd_urg_flags         0.00\n",
       "68               rst_flag_count         0.00\n",
       "69               ece_flag_count         0.00"
      ]
     },
     "execution_count": 45,
     "metadata": {},
     "output_type": "execute_result"
    }
   ],
   "source": [
    "#feature_importance\n",
    "\n",
    "pd.set_option('display.max_rows', None)\n",
    "best_model.get_feature_importance(prettified=True)"
   ]
  },
  {
   "cell_type": "markdown",
   "id": "a6d3663f",
   "metadata": {},
   "source": [
    "По важности признаков видно, что почти все они нужны для предсказания и вносят вклад. В дальнейшей работе для ускорения можно было бы попробовать удалить последние 4 и сильно коррелирующие между собой признаки и проверить, как это скажется на качестве новой модели."
   ]
  },
  {
   "cell_type": "markdown",
   "id": "0bca00fb",
   "metadata": {},
   "source": [
    "## Отчет по проделанной работе"
   ]
  },
  {
   "attachments": {
    "%D0%91%D0%B5%D0%B7%D1%8B%D0%BC%D1%8F%D0%BD%D0%BD%D1%8B%D0%B9-2.png": {
     "image/png": "[encoded data removed]"
    },
    "%D0%91%D0%B5%D0%B7%D1%8B%D0%BC%D1%8F%D0%BD%D0%BD%D1%8B%D0%B9-3.png": {
     "image/png": "[encoded data removed]"
    },
    "%D0%91%D0%B5%D0%B7%D1%8B%D0%BC%D1%8F%D0%BD%D0%BD%D1%8B%D0%B9.png": {
     "image/png": "[encoded data removed]"
    }
   },
   "cell_type": "markdown",
   "id": "bc829296",
   "metadata": {},
   "source": [
    "1. Изучила общую информацию о данных - размер выборки и типы данных. Обнаружено, что значения признаков численное, за исключением целевого - label, обнаружены пропуски в flow_bytes_s - в 488 строках, примерно 0,1% всей выборки. О природе данных ничего не известно, о причинах пропусков рекомендуется проконсультироваться с разработчиками.\n",
    "2. Выполнила предобработку данных - удаление явных дубликатов, удаление неинформативных признаков, замена бесконечных значений и пропусков. \n",
    "3. Анализ выборки показал дисбаланс в целевом признаке с 15 классами, наименее встречающиеся классы составлют десятитысячные доли относительно выборки.  \n",
    "![%D0%91%D0%B5%D0%B7%D1%8B%D0%BC%D1%8F%D0%BD%D0%BD%D1%8B%D0%B9.png](attachment:%D0%91%D0%B5%D0%B7%D1%8B%D0%BC%D1%8F%D0%BD%D0%BD%D1%8B%D0%B9.png)\n",
    "  \n",
    "Среди некоторых признаков заметна большая корреляция.  \n",
    "4. Разбила данные на выборки для обучения и теста с учетом баланса классов, закодировала таргет для требующих этого моделей. Модель RandomForestClassifier с параметрами по умолчанию и class_weight='balanced' на валидации вывела метрику accuracy 0.9966.  \n",
    "![%D0%91%D0%B5%D0%B7%D1%8B%D0%BC%D1%8F%D0%BD%D0%BD%D1%8B%D0%B9-2.png](attachment:%D0%91%D0%B5%D0%B7%D1%8B%D0%BC%D1%8F%D0%BD%D0%BD%D1%8B%D0%B9-2.png)\n",
    "  \n",
    "При этом при подборе параметров метрика стала хуже.   \n",
    "Чуть лучший показатель получился у модели CatBoostClassifier(loss_function='MultiClass'), accuracy 0.9974.  \n",
    "![%D0%91%D0%B5%D0%B7%D1%8B%D0%BC%D1%8F%D0%BD%D0%BD%D1%8B%D0%B9-3.png](attachment:%D0%91%D0%B5%D0%B7%D1%8B%D0%BC%D1%8F%D0%BD%D0%BD%D1%8B%D0%B9-3.png)\n",
    "  \n",
    "5. Протестировала модель и убедилась в ее эффективности, показатели метрик не стали ниже. Исследовала важность признаков - почти все они нужны для предсказания и вносят вклад. В дальнейшей работе для ускорения можно было бы попробовать удалить cwe_flag_count, fwd_urg_flags, rst_flag_count, ece_flag_count (показатели 0.00) и сильно коррелирующие между собой признаки и проверить, как это скажется на качестве новой модели.  \n",
    "\n",
    "Тем самым была достигнута цель проекта - разработать модель, которая будет максимально качественно классифицировать трафик на нормальный и злонамеренный, решена задача многоклассовой классификации."
   ]
  }
 ],
 "metadata": {
  "ExecuteTimeLog": [
   {
    "duration": 1263,
    "start_time": "2023-10-02T16:36:00.598Z"
   },
   {
    "duration": 64283,
    "start_time": "2023-10-02T16:36:33.185Z"
   },
   {
    "duration": 8619,
    "start_time": "2023-10-02T16:37:46.721Z"
   },
   {
    "duration": 178,
    "start_time": "2023-10-02T16:38:06.843Z"
   },
   {
    "duration": 3363,
    "start_time": "2023-10-02T16:39:07.275Z"
   },
   {
    "duration": 3067,
    "start_time": "2023-10-02T16:39:10.640Z"
   },
   {
    "duration": 2909,
    "start_time": "2023-10-02T16:39:13.711Z"
   },
   {
    "duration": 4599,
    "start_time": "2023-10-02T16:40:13.274Z"
   },
   {
    "duration": 3844,
    "start_time": "2023-10-02T16:40:45.180Z"
   },
   {
    "duration": 192,
    "start_time": "2023-10-02T16:45:09.969Z"
   },
   {
    "duration": 17,
    "start_time": "2023-10-02T16:45:33.387Z"
   },
   {
    "duration": 3241,
    "start_time": "2023-10-02T16:46:53.480Z"
   },
   {
    "duration": 112,
    "start_time": "2023-10-02T16:47:36.904Z"
   },
   {
    "duration": 13,
    "start_time": "2023-10-02T16:47:43.320Z"
   },
   {
    "duration": 10,
    "start_time": "2023-10-02T16:47:51.007Z"
   },
   {
    "duration": 3171,
    "start_time": "2023-10-02T16:47:54.483Z"
   },
   {
    "duration": 241,
    "start_time": "2023-10-02T16:52:00.171Z"
   },
   {
    "duration": 14,
    "start_time": "2023-10-02T16:52:05.086Z"
   },
   {
    "duration": 305,
    "start_time": "2023-10-02T16:53:32.302Z"
   },
   {
    "duration": 12,
    "start_time": "2023-10-02T16:53:36.071Z"
   },
   {
    "duration": 193,
    "start_time": "2023-10-02T16:55:41.673Z"
   },
   {
    "duration": 42444,
    "start_time": "2023-10-02T20:25:52.862Z"
   },
   {
    "duration": 7297,
    "start_time": "2023-10-02T20:26:35.308Z"
   },
   {
    "duration": 2484,
    "start_time": "2023-10-02T20:26:42.608Z"
   },
   {
    "duration": 1524,
    "start_time": "2023-10-02T20:26:45.094Z"
   },
   {
    "duration": 1260,
    "start_time": "2023-10-02T20:32:02.293Z"
   },
   {
    "duration": 156,
    "start_time": "2023-10-02T20:45:55.135Z"
   },
   {
    "duration": 6103,
    "start_time": "2023-10-02T20:46:33.435Z"
   },
   {
    "duration": 25,
    "start_time": "2023-10-02T20:46:42.127Z"
   },
   {
    "duration": 83,
    "start_time": "2023-10-02T20:47:02.647Z"
   },
   {
    "duration": 1728,
    "start_time": "2023-10-02T20:54:20.995Z"
   },
   {
    "duration": 1864,
    "start_time": "2023-10-02T20:55:47.007Z"
   },
   {
    "duration": 1913,
    "start_time": "2023-10-02T20:55:56.549Z"
   },
   {
    "duration": 279,
    "start_time": "2023-10-02T21:08:06.024Z"
   },
   {
    "duration": 21,
    "start_time": "2023-10-02T21:08:10.783Z"
   },
   {
    "duration": 75,
    "start_time": "2023-10-02T21:08:40.191Z"
   },
   {
    "duration": 47160,
    "start_time": "2023-10-03T10:25:40.319Z"
   },
   {
    "duration": 6325,
    "start_time": "2023-10-03T10:26:27.481Z"
   },
   {
    "duration": 2257,
    "start_time": "2023-10-03T10:26:33.808Z"
   },
   {
    "duration": 6336,
    "start_time": "2023-10-03T10:26:36.067Z"
   },
   {
    "duration": 79,
    "start_time": "2023-10-03T10:26:42.405Z"
   },
   {
    "duration": 366,
    "start_time": "2023-10-03T10:26:42.486Z"
   },
   {
    "duration": 25,
    "start_time": "2023-10-03T10:26:42.853Z"
   },
   {
    "duration": 130,
    "start_time": "2023-10-03T10:26:42.880Z"
   },
   {
    "duration": 9,
    "start_time": "2023-10-03T10:29:38.175Z"
   },
   {
    "duration": 74,
    "start_time": "2023-10-03T10:30:20.670Z"
   },
   {
    "duration": 10,
    "start_time": "2023-10-03T10:30:55.661Z"
   },
   {
    "duration": 51,
    "start_time": "2023-10-03T10:33:02.971Z"
   },
   {
    "duration": 51,
    "start_time": "2023-10-03T10:33:27.918Z"
   },
   {
    "duration": 24,
    "start_time": "2023-10-03T10:34:29.766Z"
   },
   {
    "duration": 343,
    "start_time": "2023-10-03T10:37:43.732Z"
   },
   {
    "duration": 1735,
    "start_time": "2023-10-03T10:43:01.124Z"
   },
   {
    "duration": 1775,
    "start_time": "2023-10-03T10:43:04.131Z"
   },
   {
    "duration": 1151,
    "start_time": "2023-10-03T10:43:13.698Z"
   },
   {
    "duration": 2,
    "start_time": "2023-10-03T11:33:27.687Z"
   },
   {
    "duration": 1091,
    "start_time": "2023-10-03T11:34:15.992Z"
   },
   {
    "duration": 4,
    "start_time": "2023-10-03T11:35:11.360Z"
   },
   {
    "duration": 1120,
    "start_time": "2023-10-03T11:35:14.412Z"
   },
   {
    "duration": 3984,
    "start_time": "2023-10-03T12:08:23.881Z"
   },
   {
    "duration": 388,
    "start_time": "2023-10-03T12:08:57.873Z"
   },
   {
    "duration": 12,
    "start_time": "2023-10-03T12:14:09.713Z"
   },
   {
    "duration": 5,
    "start_time": "2023-10-03T12:16:09.577Z"
   },
   {
    "duration": 10,
    "start_time": "2023-10-03T12:16:18.674Z"
   },
   {
    "duration": 1341,
    "start_time": "2023-10-03T12:23:03.738Z"
   },
   {
    "duration": 47,
    "start_time": "2023-10-03T12:24:39.243Z"
   },
   {
    "duration": 122,
    "start_time": "2023-10-03T12:29:48.537Z"
   },
   {
    "duration": 132,
    "start_time": "2023-10-03T14:22:49.765Z"
   },
   {
    "duration": 23,
    "start_time": "2023-10-03T15:19:00.973Z"
   },
   {
    "duration": 6271,
    "start_time": "2023-10-03T15:19:16.306Z"
   },
   {
    "duration": 24,
    "start_time": "2023-10-03T15:31:56.635Z"
   },
   {
    "duration": 434,
    "start_time": "2023-10-03T16:19:24.542Z"
   },
   {
    "duration": 215,
    "start_time": "2023-10-03T16:19:37.209Z"
   },
   {
    "duration": 115,
    "start_time": "2023-10-03T16:19:47.520Z"
   },
   {
    "duration": 3366,
    "start_time": "2023-10-03T16:50:42.220Z"
   },
   {
    "duration": 149,
    "start_time": "2023-10-03T16:51:09.667Z"
   },
   {
    "duration": 157,
    "start_time": "2023-10-03T16:52:41.617Z"
   },
   {
    "duration": 3066,
    "start_time": "2023-10-03T16:52:46.886Z"
   },
   {
    "duration": 186,
    "start_time": "2023-10-03T16:53:00.623Z"
   },
   {
    "duration": 673,
    "start_time": "2023-10-03T16:53:43.327Z"
   },
   {
    "duration": 857,
    "start_time": "2023-10-03T16:54:00.632Z"
   },
   {
    "duration": 925,
    "start_time": "2023-10-03T16:54:29.642Z"
   },
   {
    "duration": 743,
    "start_time": "2023-10-03T16:55:39.331Z"
   },
   {
    "duration": 732,
    "start_time": "2023-10-03T16:55:50.419Z"
   },
   {
    "duration": 48770,
    "start_time": "2023-10-03T19:43:09.852Z"
   },
   {
    "duration": 7743,
    "start_time": "2023-10-03T19:43:58.625Z"
   },
   {
    "duration": 2581,
    "start_time": "2023-10-03T19:44:06.370Z"
   },
   {
    "duration": 6943,
    "start_time": "2023-10-03T19:44:08.954Z"
   },
   {
    "duration": 115,
    "start_time": "2023-10-03T19:44:15.900Z"
   },
   {
    "duration": 353,
    "start_time": "2023-10-03T19:44:16.016Z"
   },
   {
    "duration": 33,
    "start_time": "2023-10-03T19:44:16.371Z"
   },
   {
    "duration": 125,
    "start_time": "2023-10-03T19:44:16.405Z"
   },
   {
    "duration": 2346,
    "start_time": "2023-10-03T19:44:16.532Z"
   },
   {
    "duration": 2582,
    "start_time": "2023-10-03T19:44:18.882Z"
   },
   {
    "duration": 78,
    "start_time": "2023-10-03T19:50:19.666Z"
   },
   {
    "duration": 160,
    "start_time": "2023-10-03T19:52:21.802Z"
   },
   {
    "duration": 5,
    "start_time": "2023-10-03T19:53:13.976Z"
   },
   {
    "duration": 19,
    "start_time": "2023-10-03T19:54:58.174Z"
   },
   {
    "duration": 126,
    "start_time": "2023-10-03T19:56:49.024Z"
   },
   {
    "duration": 83,
    "start_time": "2023-10-03T19:58:27.993Z"
   },
   {
    "duration": 12,
    "start_time": "2023-10-03T20:03:36.694Z"
   },
   {
    "duration": 13,
    "start_time": "2023-10-03T20:03:52.053Z"
   },
   {
    "duration": 86,
    "start_time": "2023-10-03T20:03:55.765Z"
   },
   {
    "duration": 93,
    "start_time": "2023-10-03T20:04:21.725Z"
   },
   {
    "duration": 15,
    "start_time": "2023-10-03T20:04:26.605Z"
   },
   {
    "duration": 56,
    "start_time": "2023-10-03T20:05:48.181Z"
   },
   {
    "duration": 13,
    "start_time": "2023-10-03T20:14:18.515Z"
   },
   {
    "duration": 134,
    "start_time": "2023-10-03T20:14:25.173Z"
   },
   {
    "duration": 13,
    "start_time": "2023-10-03T20:14:28.235Z"
   },
   {
    "duration": 168,
    "start_time": "2023-10-03T20:15:20.195Z"
   },
   {
    "duration": 27,
    "start_time": "2023-10-03T20:21:01.482Z"
   },
   {
    "duration": 47,
    "start_time": "2023-10-03T20:22:40.531Z"
   },
   {
    "duration": 4,
    "start_time": "2023-10-03T20:22:55.806Z"
   },
   {
    "duration": 49,
    "start_time": "2023-10-03T20:24:57.691Z"
   },
   {
    "duration": 48,
    "start_time": "2023-10-03T20:25:28.536Z"
   },
   {
    "duration": 54,
    "start_time": "2023-10-03T20:25:46.792Z"
   },
   {
    "duration": 24,
    "start_time": "2023-10-03T20:25:53.894Z"
   },
   {
    "duration": 2726,
    "start_time": "2023-10-03T20:26:44.594Z"
   },
   {
    "duration": 2442,
    "start_time": "2023-10-03T20:26:47.323Z"
   },
   {
    "duration": 2360,
    "start_time": "2023-10-03T20:26:49.767Z"
   },
   {
    "duration": 6936,
    "start_time": "2023-10-03T20:26:52.129Z"
   },
   {
    "duration": 92,
    "start_time": "2023-10-03T20:26:59.068Z"
   },
   {
    "duration": 753,
    "start_time": "2023-10-03T20:26:59.162Z"
   },
   {
    "duration": 27,
    "start_time": "2023-10-03T20:26:59.917Z"
   },
   {
    "duration": 80,
    "start_time": "2023-10-03T20:26:59.956Z"
   },
   {
    "duration": 2065,
    "start_time": "2023-10-03T20:27:00.038Z"
   },
   {
    "duration": 2267,
    "start_time": "2023-10-03T20:27:02.105Z"
   },
   {
    "duration": 138,
    "start_time": "2023-10-03T20:27:04.373Z"
   },
   {
    "duration": 64,
    "start_time": "2023-10-03T20:27:04.513Z"
   },
   {
    "duration": 54,
    "start_time": "2023-10-03T20:27:04.579Z"
   },
   {
    "duration": 158,
    "start_time": "2023-10-03T20:27:04.636Z"
   },
   {
    "duration": 2792,
    "start_time": "2023-10-03T20:28:11.995Z"
   },
   {
    "duration": 2516,
    "start_time": "2023-10-03T20:28:14.789Z"
   },
   {
    "duration": 2427,
    "start_time": "2023-10-03T20:28:17.307Z"
   },
   {
    "duration": 6025,
    "start_time": "2023-10-03T20:28:19.737Z"
   },
   {
    "duration": 82,
    "start_time": "2023-10-03T20:28:25.764Z"
   },
   {
    "duration": 319,
    "start_time": "2023-10-03T20:28:25.857Z"
   },
   {
    "duration": 25,
    "start_time": "2023-10-03T20:28:26.177Z"
   },
   {
    "duration": 94,
    "start_time": "2023-10-03T20:28:26.204Z"
   },
   {
    "duration": 2077,
    "start_time": "2023-10-03T20:28:26.300Z"
   },
   {
    "duration": 2226,
    "start_time": "2023-10-03T20:28:28.380Z"
   },
   {
    "duration": 138,
    "start_time": "2023-10-03T20:28:30.609Z"
   },
   {
    "duration": 58,
    "start_time": "2023-10-03T20:28:30.749Z"
   },
   {
    "duration": 13,
    "start_time": "2023-10-03T20:30:56.778Z"
   },
   {
    "duration": 51,
    "start_time": "2023-10-03T20:31:01.706Z"
   },
   {
    "duration": 13,
    "start_time": "2023-10-03T20:31:39.803Z"
   },
   {
    "duration": 16,
    "start_time": "2023-10-03T20:32:49.127Z"
   },
   {
    "duration": 50,
    "start_time": "2023-10-03T20:32:51.843Z"
   },
   {
    "duration": 10,
    "start_time": "2023-10-03T20:33:14.951Z"
   },
   {
    "duration": 2714,
    "start_time": "2023-10-03T20:36:34.775Z"
   },
   {
    "duration": 2550,
    "start_time": "2023-10-03T20:36:37.493Z"
   },
   {
    "duration": 2358,
    "start_time": "2023-10-03T20:36:40.046Z"
   },
   {
    "duration": 6335,
    "start_time": "2023-10-03T20:36:42.406Z"
   },
   {
    "duration": 103,
    "start_time": "2023-10-03T20:36:48.744Z"
   },
   {
    "duration": 332,
    "start_time": "2023-10-03T20:36:48.850Z"
   },
   {
    "duration": 27,
    "start_time": "2023-10-03T20:36:49.184Z"
   },
   {
    "duration": 99,
    "start_time": "2023-10-03T20:36:49.213Z"
   },
   {
    "duration": 2070,
    "start_time": "2023-10-03T20:36:49.314Z"
   },
   {
    "duration": 2199,
    "start_time": "2023-10-03T20:36:51.386Z"
   },
   {
    "duration": 140,
    "start_time": "2023-10-03T20:36:53.588Z"
   },
   {
    "duration": 69,
    "start_time": "2023-10-03T20:36:53.730Z"
   },
   {
    "duration": 14,
    "start_time": "2023-10-03T20:36:53.801Z"
   },
   {
    "duration": 73,
    "start_time": "2023-10-03T20:36:53.818Z"
   },
   {
    "duration": 15,
    "start_time": "2023-10-03T20:37:10.996Z"
   },
   {
    "duration": 53,
    "start_time": "2023-10-03T20:37:12.844Z"
   },
   {
    "duration": 15,
    "start_time": "2023-10-03T20:37:16.854Z"
   },
   {
    "duration": 55,
    "start_time": "2023-10-03T20:37:18.555Z"
   },
   {
    "duration": 16,
    "start_time": "2023-10-03T20:37:24.647Z"
   },
   {
    "duration": 57,
    "start_time": "2023-10-03T20:37:25.523Z"
   },
   {
    "duration": 16,
    "start_time": "2023-10-03T20:37:30.063Z"
   },
   {
    "duration": 56,
    "start_time": "2023-10-03T20:37:30.865Z"
   },
   {
    "duration": 18,
    "start_time": "2023-10-03T20:37:37.755Z"
   },
   {
    "duration": 58,
    "start_time": "2023-10-03T20:37:38.475Z"
   },
   {
    "duration": 14,
    "start_time": "2023-10-03T20:37:43.046Z"
   },
   {
    "duration": 51,
    "start_time": "2023-10-03T20:37:43.995Z"
   },
   {
    "duration": 15,
    "start_time": "2023-10-03T20:37:48.354Z"
   },
   {
    "duration": 50,
    "start_time": "2023-10-03T20:37:49.066Z"
   },
   {
    "duration": 13,
    "start_time": "2023-10-03T20:37:53.174Z"
   },
   {
    "duration": 54,
    "start_time": "2023-10-03T20:37:53.794Z"
   },
   {
    "duration": 15,
    "start_time": "2023-10-03T20:37:58.086Z"
   },
   {
    "duration": 60,
    "start_time": "2023-10-03T20:37:58.774Z"
   },
   {
    "duration": 16,
    "start_time": "2023-10-03T20:38:06.055Z"
   },
   {
    "duration": 54,
    "start_time": "2023-10-03T20:38:06.896Z"
   },
   {
    "duration": 4,
    "start_time": "2023-10-03T20:39:24.542Z"
   },
   {
    "duration": 1260,
    "start_time": "2023-10-03T20:39:25.326Z"
   },
   {
    "duration": 64,
    "start_time": "2023-10-03T20:49:37.882Z"
   },
   {
    "duration": 161,
    "start_time": "2023-10-03T20:51:38.397Z"
   },
   {
    "duration": 89,
    "start_time": "2023-10-03T20:52:27.702Z"
   },
   {
    "duration": 167,
    "start_time": "2023-10-03T20:52:33.643Z"
   },
   {
    "duration": 172,
    "start_time": "2023-10-03T20:54:28.983Z"
   },
   {
    "duration": 43500,
    "start_time": "2023-10-06T17:28:57.295Z"
   },
   {
    "duration": 8133,
    "start_time": "2023-10-06T17:29:40.797Z"
   },
   {
    "duration": 2392,
    "start_time": "2023-10-06T17:29:48.931Z"
   },
   {
    "duration": 5772,
    "start_time": "2023-10-06T17:29:51.325Z"
   },
   {
    "duration": 97,
    "start_time": "2023-10-06T17:29:57.098Z"
   },
   {
    "duration": 233,
    "start_time": "2023-10-06T17:29:57.201Z"
   },
   {
    "duration": 57,
    "start_time": "2023-10-06T17:29:57.435Z"
   },
   {
    "duration": 99,
    "start_time": "2023-10-06T17:29:57.494Z"
   },
   {
    "duration": 1489,
    "start_time": "2023-10-06T17:29:57.595Z"
   },
   {
    "duration": 1721,
    "start_time": "2023-10-06T17:29:59.097Z"
   },
   {
    "duration": 99,
    "start_time": "2023-10-06T17:30:00.819Z"
   },
   {
    "duration": 1660,
    "start_time": "2023-10-06T17:30:00.920Z"
   },
   {
    "duration": 759,
    "start_time": "2023-10-06T17:30:02.585Z"
   },
   {
    "duration": 79,
    "start_time": "2023-10-06T17:30:03.357Z"
   },
   {
    "duration": 161,
    "start_time": "2023-10-06T17:30:03.437Z"
   },
   {
    "duration": 0,
    "start_time": "2023-10-06T17:30:03.599Z"
   },
   {
    "duration": 2,
    "start_time": "2023-10-06T17:30:37.501Z"
   },
   {
    "duration": 1107,
    "start_time": "2023-10-06T17:30:38.492Z"
   },
   {
    "duration": 43,
    "start_time": "2023-10-06T17:31:14.021Z"
   },
   {
    "duration": 1034,
    "start_time": "2023-10-06T17:31:21.042Z"
   },
   {
    "duration": 2,
    "start_time": "2023-10-06T17:33:01.935Z"
   },
   {
    "duration": 1270,
    "start_time": "2023-10-06T17:33:52.121Z"
   },
   {
    "duration": 1191,
    "start_time": "2023-10-06T17:34:37.402Z"
   },
   {
    "duration": 1183,
    "start_time": "2023-10-06T17:34:52.193Z"
   },
   {
    "duration": 250,
    "start_time": "2023-10-06T17:47:20.526Z"
   },
   {
    "duration": 264,
    "start_time": "2023-10-06T17:48:16.753Z"
   },
   {
    "duration": 234,
    "start_time": "2023-10-06T17:48:50.095Z"
   },
   {
    "duration": 238,
    "start_time": "2023-10-06T17:49:07.689Z"
   },
   {
    "duration": 12,
    "start_time": "2023-10-06T18:21:40.284Z"
   },
   {
    "duration": 104,
    "start_time": "2023-10-06T18:21:55.130Z"
   },
   {
    "duration": 66,
    "start_time": "2023-10-06T18:22:17.185Z"
   },
   {
    "duration": 112,
    "start_time": "2023-10-06T18:23:41.309Z"
   },
   {
    "duration": 206,
    "start_time": "2023-10-06T18:37:14.880Z"
   },
   {
    "duration": 200,
    "start_time": "2023-10-06T18:37:51.987Z"
   },
   {
    "duration": 293,
    "start_time": "2023-10-06T18:38:14.475Z"
   },
   {
    "duration": 205,
    "start_time": "2023-10-06T18:38:44.163Z"
   },
   {
    "duration": 190,
    "start_time": "2023-10-06T18:38:52.073Z"
   },
   {
    "duration": 197,
    "start_time": "2023-10-06T18:39:01.187Z"
   },
   {
    "duration": 207,
    "start_time": "2023-10-06T18:39:41.254Z"
   },
   {
    "duration": 2461,
    "start_time": "2023-10-06T18:54:23.830Z"
   },
   {
    "duration": 2157,
    "start_time": "2023-10-06T18:54:26.294Z"
   },
   {
    "duration": 1934,
    "start_time": "2023-10-06T18:54:28.452Z"
   },
   {
    "duration": 5397,
    "start_time": "2023-10-06T18:54:30.388Z"
   },
   {
    "duration": 81,
    "start_time": "2023-10-06T18:54:35.787Z"
   },
   {
    "duration": 212,
    "start_time": "2023-10-06T18:54:35.870Z"
   },
   {
    "duration": 29,
    "start_time": "2023-10-06T18:54:36.086Z"
   },
   {
    "duration": 88,
    "start_time": "2023-10-06T18:54:36.117Z"
   },
   {
    "duration": 1370,
    "start_time": "2023-10-06T18:54:36.206Z"
   },
   {
    "duration": 1498,
    "start_time": "2023-10-06T18:54:37.582Z"
   },
   {
    "duration": 234,
    "start_time": "2023-10-06T18:54:39.085Z"
   },
   {
    "duration": 0,
    "start_time": "2023-10-06T18:54:39.320Z"
   },
   {
    "duration": 0,
    "start_time": "2023-10-06T18:54:39.322Z"
   },
   {
    "duration": 0,
    "start_time": "2023-10-06T18:54:39.323Z"
   },
   {
    "duration": 0,
    "start_time": "2023-10-06T18:54:39.323Z"
   },
   {
    "duration": 0,
    "start_time": "2023-10-06T18:54:39.339Z"
   },
   {
    "duration": 0,
    "start_time": "2023-10-06T18:54:39.340Z"
   },
   {
    "duration": 0,
    "start_time": "2023-10-06T18:54:39.344Z"
   },
   {
    "duration": 2462,
    "start_time": "2023-10-06T18:57:29.517Z"
   },
   {
    "duration": 2236,
    "start_time": "2023-10-06T18:57:31.981Z"
   },
   {
    "duration": 1871,
    "start_time": "2023-10-06T18:57:34.219Z"
   },
   {
    "duration": 4884,
    "start_time": "2023-10-06T18:57:36.092Z"
   },
   {
    "duration": 92,
    "start_time": "2023-10-06T18:57:40.978Z"
   },
   {
    "duration": 221,
    "start_time": "2023-10-06T18:57:41.074Z"
   },
   {
    "duration": 21,
    "start_time": "2023-10-06T18:57:41.297Z"
   },
   {
    "duration": 142,
    "start_time": "2023-10-06T18:57:41.319Z"
   },
   {
    "duration": 1372,
    "start_time": "2023-10-06T18:57:41.466Z"
   },
   {
    "duration": 1458,
    "start_time": "2023-10-06T18:57:42.848Z"
   },
   {
    "duration": 94,
    "start_time": "2023-10-06T18:57:44.308Z"
   },
   {
    "duration": 124,
    "start_time": "2023-10-06T18:57:44.404Z"
   },
   {
    "duration": 12,
    "start_time": "2023-10-06T18:57:44.529Z"
   },
   {
    "duration": 35,
    "start_time": "2023-10-06T18:57:44.545Z"
   },
   {
    "duration": 1043,
    "start_time": "2023-10-06T18:57:44.581Z"
   },
   {
    "duration": 98,
    "start_time": "2023-10-06T18:57:45.625Z"
   },
   {
    "duration": 101,
    "start_time": "2023-10-06T18:57:45.724Z"
   },
   {
    "duration": 219,
    "start_time": "2023-10-06T18:57:45.826Z"
   },
   {
    "duration": 228365,
    "start_time": "2023-10-06T18:59:34.434Z"
   },
   {
    "duration": 230913,
    "start_time": "2023-10-06T19:04:09.697Z"
   },
   {
    "duration": 224,
    "start_time": "2023-10-06T19:32:11.908Z"
   },
   {
    "duration": 7889,
    "start_time": "2023-10-06T21:11:47.915Z"
   },
   {
    "duration": 3140,
    "start_time": "2023-10-06T21:19:21.497Z"
   },
   {
    "duration": 2581,
    "start_time": "2023-10-06T21:19:24.641Z"
   },
   {
    "duration": 2250,
    "start_time": "2023-10-06T21:19:27.224Z"
   },
   {
    "duration": 6948,
    "start_time": "2023-10-06T21:19:29.484Z"
   },
   {
    "duration": 100,
    "start_time": "2023-10-06T21:19:36.434Z"
   },
   {
    "duration": 290,
    "start_time": "2023-10-06T21:19:36.536Z"
   },
   {
    "duration": 45,
    "start_time": "2023-10-06T21:19:36.828Z"
   },
   {
    "duration": 105,
    "start_time": "2023-10-06T21:19:36.885Z"
   },
   {
    "duration": 1735,
    "start_time": "2023-10-06T21:19:36.992Z"
   },
   {
    "duration": 1950,
    "start_time": "2023-10-06T21:19:38.730Z"
   },
   {
    "duration": 111,
    "start_time": "2023-10-06T21:19:40.681Z"
   },
   {
    "duration": 59,
    "start_time": "2023-10-06T21:19:40.793Z"
   },
   {
    "duration": 15,
    "start_time": "2023-10-06T21:19:40.853Z"
   },
   {
    "duration": 3,
    "start_time": "2023-10-06T21:19:40.869Z"
   },
   {
    "duration": 1248,
    "start_time": "2023-10-06T21:19:40.873Z"
   },
   {
    "duration": 99,
    "start_time": "2023-10-06T21:19:42.122Z"
   },
   {
    "duration": 141,
    "start_time": "2023-10-06T21:19:42.223Z"
   },
   {
    "duration": 315,
    "start_time": "2023-10-06T21:19:42.369Z"
   },
   {
    "duration": 4,
    "start_time": "2023-10-06T21:19:42.692Z"
   },
   {
    "duration": 238,
    "start_time": "2023-10-06T21:19:42.697Z"
   },
   {
    "duration": 6339,
    "start_time": "2023-10-06T21:20:48.699Z"
   },
   {
    "duration": 5,
    "start_time": "2023-10-06T21:21:19.497Z"
   },
   {
    "duration": 850,
    "start_time": "2023-10-06T21:24:31.773Z"
   },
   {
    "duration": 22,
    "start_time": "2023-10-06T21:31:42.807Z"
   },
   {
    "duration": 25,
    "start_time": "2023-10-06T21:34:46.591Z"
   },
   {
    "duration": 24,
    "start_time": "2023-10-06T21:38:33.139Z"
   },
   {
    "duration": 13,
    "start_time": "2023-10-06T21:38:55.814Z"
   },
   {
    "duration": 27,
    "start_time": "2023-10-06T21:40:09.184Z"
   },
   {
    "duration": 177,
    "start_time": "2023-10-06T21:46:12.339Z"
   },
   {
    "duration": 12,
    "start_time": "2023-10-06T21:46:36.008Z"
   },
   {
    "duration": 27,
    "start_time": "2023-10-06T21:46:47.969Z"
   },
   {
    "duration": 10,
    "start_time": "2023-10-06T21:47:25.959Z"
   },
   {
    "duration": 5,
    "start_time": "2023-10-06T22:04:18.870Z"
   },
   {
    "duration": 1421,
    "start_time": "2023-10-06T22:07:49.671Z"
   },
   {
    "duration": 7764,
    "start_time": "2023-10-06T22:12:20.520Z"
   },
   {
    "duration": 8265,
    "start_time": "2023-10-06T22:12:59.291Z"
   },
   {
    "duration": 3061,
    "start_time": "2023-10-06T22:17:32.661Z"
   },
   {
    "duration": 2836,
    "start_time": "2023-10-06T22:17:35.724Z"
   },
   {
    "duration": 2355,
    "start_time": "2023-10-06T22:17:38.561Z"
   },
   {
    "duration": 7965,
    "start_time": "2023-10-06T22:17:40.921Z"
   },
   {
    "duration": 109,
    "start_time": "2023-10-06T22:17:48.901Z"
   },
   {
    "duration": 415,
    "start_time": "2023-10-06T22:17:49.020Z"
   },
   {
    "duration": 59,
    "start_time": "2023-10-06T22:17:49.436Z"
   },
   {
    "duration": 97,
    "start_time": "2023-10-06T22:17:49.503Z"
   },
   {
    "duration": 2049,
    "start_time": "2023-10-06T22:17:49.611Z"
   },
   {
    "duration": 2072,
    "start_time": "2023-10-06T22:17:51.682Z"
   },
   {
    "duration": 103,
    "start_time": "2023-10-06T22:17:53.757Z"
   },
   {
    "duration": 76,
    "start_time": "2023-10-06T22:17:53.865Z"
   },
   {
    "duration": 12,
    "start_time": "2023-10-06T22:17:53.946Z"
   },
   {
    "duration": 39,
    "start_time": "2023-10-06T22:17:53.963Z"
   },
   {
    "duration": 1451,
    "start_time": "2023-10-06T22:17:54.013Z"
   },
   {
    "duration": 92,
    "start_time": "2023-10-06T22:17:55.465Z"
   },
   {
    "duration": 119,
    "start_time": "2023-10-06T22:17:55.559Z"
   },
   {
    "duration": 268,
    "start_time": "2023-10-06T22:17:55.679Z"
   },
   {
    "duration": 4,
    "start_time": "2023-10-06T22:17:55.951Z"
   },
   {
    "duration": 6771,
    "start_time": "2023-10-06T22:17:55.957Z"
   },
   {
    "duration": 985,
    "start_time": "2023-10-06T22:18:02.730Z"
   },
   {
    "duration": 1602,
    "start_time": "2023-10-06T22:18:03.731Z"
   },
   {
    "duration": 7,
    "start_time": "2023-10-06T22:18:39.177Z"
   },
   {
    "duration": 8017,
    "start_time": "2023-10-06T22:18:46.751Z"
   },
   {
    "duration": 1388,
    "start_time": "2023-10-06T22:19:12.749Z"
   },
   {
    "duration": 4,
    "start_time": "2023-10-06T22:41:41.549Z"
   },
   {
    "duration": 26,
    "start_time": "2023-10-06T22:41:43.786Z"
   },
   {
    "duration": 10,
    "start_time": "2023-10-06T22:42:25.926Z"
   },
   {
    "duration": 18,
    "start_time": "2023-10-06T22:43:20.702Z"
   },
   {
    "duration": 9,
    "start_time": "2023-10-06T22:43:29.624Z"
   },
   {
    "duration": 7,
    "start_time": "2023-10-06T22:44:45.821Z"
   },
   {
    "duration": 43,
    "start_time": "2023-10-06T22:45:07.973Z"
   },
   {
    "duration": 2998,
    "start_time": "2023-10-06T22:47:54.028Z"
   },
   {
    "duration": 2583,
    "start_time": "2023-10-06T22:47:57.028Z"
   },
   {
    "duration": 2398,
    "start_time": "2023-10-06T22:47:59.613Z"
   },
   {
    "duration": 8419,
    "start_time": "2023-10-06T22:48:02.013Z"
   },
   {
    "duration": 100,
    "start_time": "2023-10-06T22:48:10.433Z"
   },
   {
    "duration": 561,
    "start_time": "2023-10-06T22:48:10.535Z"
   },
   {
    "duration": 25,
    "start_time": "2023-10-06T22:48:11.111Z"
   },
   {
    "duration": 119,
    "start_time": "2023-10-06T22:48:11.137Z"
   },
   {
    "duration": 1647,
    "start_time": "2023-10-06T22:48:11.257Z"
   },
   {
    "duration": 1801,
    "start_time": "2023-10-06T22:48:12.910Z"
   },
   {
    "duration": 117,
    "start_time": "2023-10-06T22:48:14.713Z"
   },
   {
    "duration": 67,
    "start_time": "2023-10-06T22:48:14.832Z"
   },
   {
    "duration": 14,
    "start_time": "2023-10-06T22:48:14.901Z"
   },
   {
    "duration": 14,
    "start_time": "2023-10-06T22:48:14.921Z"
   },
   {
    "duration": 1543,
    "start_time": "2023-10-06T22:48:14.936Z"
   },
   {
    "duration": 127,
    "start_time": "2023-10-06T22:48:16.495Z"
   },
   {
    "duration": 139,
    "start_time": "2023-10-06T22:48:16.624Z"
   },
   {
    "duration": 222,
    "start_time": "2023-10-06T22:48:16.771Z"
   },
   {
    "duration": 4,
    "start_time": "2023-10-06T22:48:16.997Z"
   },
   {
    "duration": 6322,
    "start_time": "2023-10-06T22:48:17.005Z"
   },
   {
    "duration": 834,
    "start_time": "2023-10-06T22:48:23.330Z"
   },
   {
    "duration": 10,
    "start_time": "2023-10-06T22:48:24.165Z"
   },
   {
    "duration": 1536338,
    "start_time": "2023-10-06T22:48:24.178Z"
   },
   {
    "duration": 1350,
    "start_time": "2023-10-07T12:25:47.974Z"
   },
   {
    "duration": 46434,
    "start_time": "2023-10-07T12:26:35.331Z"
   },
   {
    "duration": 8987,
    "start_time": "2023-10-07T12:27:21.768Z"
   },
   {
    "duration": 2600,
    "start_time": "2023-10-07T12:27:30.757Z"
   },
   {
    "duration": 7264,
    "start_time": "2023-10-07T12:27:33.359Z"
   },
   {
    "duration": 91,
    "start_time": "2023-10-07T12:27:40.625Z"
   },
   {
    "duration": 307,
    "start_time": "2023-10-07T12:27:40.718Z"
   },
   {
    "duration": 33,
    "start_time": "2023-10-07T12:27:41.027Z"
   },
   {
    "duration": 100,
    "start_time": "2023-10-07T12:27:41.062Z"
   },
   {
    "duration": 2052,
    "start_time": "2023-10-07T12:27:41.164Z"
   },
   {
    "duration": 2274,
    "start_time": "2023-10-07T12:27:43.219Z"
   },
   {
    "duration": 129,
    "start_time": "2023-10-07T12:27:45.497Z"
   },
   {
    "duration": 56,
    "start_time": "2023-10-07T12:27:45.628Z"
   },
   {
    "duration": 476,
    "start_time": "2023-10-07T12:27:45.702Z"
   },
   {
    "duration": 902,
    "start_time": "2023-10-07T12:27:46.181Z"
   },
   {
    "duration": 2363,
    "start_time": "2023-10-07T12:27:47.085Z"
   },
   {
    "duration": 113,
    "start_time": "2023-10-07T12:27:49.450Z"
   },
   {
    "duration": 150,
    "start_time": "2023-10-07T12:27:49.565Z"
   },
   {
    "duration": 270,
    "start_time": "2023-10-07T12:27:49.717Z"
   },
   {
    "duration": 3,
    "start_time": "2023-10-07T12:27:49.989Z"
   },
   {
    "duration": 6243,
    "start_time": "2023-10-07T12:27:50.001Z"
   },
   {
    "duration": 908,
    "start_time": "2023-10-07T12:27:56.245Z"
   },
   {
    "duration": 3299,
    "start_time": "2023-10-07T14:56:39.629Z"
   },
   {
    "duration": 3198,
    "start_time": "2023-10-07T14:56:42.930Z"
   },
   {
    "duration": 2497,
    "start_time": "2023-10-07T14:56:46.130Z"
   },
   {
    "duration": 9111,
    "start_time": "2023-10-07T14:56:48.632Z"
   },
   {
    "duration": 99,
    "start_time": "2023-10-07T14:56:57.746Z"
   },
   {
    "duration": 298,
    "start_time": "2023-10-07T14:56:57.847Z"
   },
   {
    "duration": 26,
    "start_time": "2023-10-07T14:56:58.147Z"
   },
   {
    "duration": 108,
    "start_time": "2023-10-07T14:56:58.175Z"
   },
   {
    "duration": 2065,
    "start_time": "2023-10-07T14:56:58.285Z"
   },
   {
    "duration": 2181,
    "start_time": "2023-10-07T14:57:00.352Z"
   },
   {
    "duration": 124,
    "start_time": "2023-10-07T14:57:02.535Z"
   },
   {
    "duration": 168,
    "start_time": "2023-10-07T14:57:02.661Z"
   },
   {
    "duration": 12,
    "start_time": "2023-10-07T14:57:02.832Z"
   },
   {
    "duration": 28,
    "start_time": "2023-10-07T14:57:02.848Z"
   },
   {
    "duration": 1446,
    "start_time": "2023-10-07T14:57:02.878Z"
   },
   {
    "duration": 110,
    "start_time": "2023-10-07T14:57:04.335Z"
   },
   {
    "duration": 151,
    "start_time": "2023-10-07T14:57:04.448Z"
   },
   {
    "duration": 330,
    "start_time": "2023-10-07T14:57:04.602Z"
   },
   {
    "duration": 3,
    "start_time": "2023-10-07T14:57:04.934Z"
   },
   {
    "duration": 6193,
    "start_time": "2023-10-07T14:57:04.939Z"
   },
   {
    "duration": 920,
    "start_time": "2023-10-07T14:57:11.134Z"
   },
   {
    "duration": 183,
    "start_time": "2023-10-07T14:57:12.056Z"
   },
   {
    "duration": 0,
    "start_time": "2023-10-07T14:57:12.241Z"
   },
   {
    "duration": 6,
    "start_time": "2023-10-07T14:58:07.867Z"
   },
   {
    "duration": 108,
    "start_time": "2023-10-07T14:58:21.250Z"
   },
   {
    "duration": 2935,
    "start_time": "2023-10-07T16:56:01.668Z"
   },
   {
    "duration": 2564,
    "start_time": "2023-10-07T16:56:04.607Z"
   },
   {
    "duration": 2263,
    "start_time": "2023-10-07T16:56:07.173Z"
   },
   {
    "duration": 6912,
    "start_time": "2023-10-07T16:56:09.437Z"
   },
   {
    "duration": 87,
    "start_time": "2023-10-07T16:56:16.352Z"
   },
   {
    "duration": 317,
    "start_time": "2023-10-07T16:56:16.442Z"
   },
   {
    "duration": 180,
    "start_time": "2023-10-07T16:56:16.761Z"
   },
   {
    "duration": 83,
    "start_time": "2023-10-07T16:56:16.943Z"
   },
   {
    "duration": 1937,
    "start_time": "2023-10-07T16:56:17.028Z"
   },
   {
    "duration": 1948,
    "start_time": "2023-10-07T16:56:18.967Z"
   },
   {
    "duration": 129,
    "start_time": "2023-10-07T16:56:20.917Z"
   },
   {
    "duration": 500,
    "start_time": "2023-10-07T16:56:21.048Z"
   },
   {
    "duration": 12,
    "start_time": "2023-10-07T16:56:21.550Z"
   },
   {
    "duration": 222,
    "start_time": "2023-10-07T16:56:21.565Z"
   },
   {
    "duration": 1449,
    "start_time": "2023-10-07T16:56:21.790Z"
   },
   {
    "duration": 112,
    "start_time": "2023-10-07T16:56:23.241Z"
   },
   {
    "duration": 141,
    "start_time": "2023-10-07T16:56:23.355Z"
   },
   {
    "duration": 247,
    "start_time": "2023-10-07T16:56:23.498Z"
   },
   {
    "duration": 3,
    "start_time": "2023-10-07T16:56:23.747Z"
   },
   {
    "duration": 5750,
    "start_time": "2023-10-07T16:56:23.751Z"
   },
   {
    "duration": 823,
    "start_time": "2023-10-07T16:56:29.503Z"
   },
   {
    "duration": 92,
    "start_time": "2023-10-07T16:56:30.328Z"
   },
   {
    "duration": 10904604,
    "start_time": "2023-10-07T16:56:30.422Z"
   },
   {
    "duration": 1024,
    "start_time": "2023-10-07T19:58:15.028Z"
   },
   {
    "duration": 2289,
    "start_time": "2023-10-07T20:28:07.381Z"
   },
   {
    "duration": 3,
    "start_time": "2023-10-07T20:33:48.296Z"
   },
   {
    "duration": 2237,
    "start_time": "2023-10-07T20:34:11.172Z"
   },
   {
    "duration": 37192,
    "start_time": "2023-10-08T16:22:24.665Z"
   },
   {
    "duration": 6553,
    "start_time": "2023-10-08T16:23:01.859Z"
   },
   {
    "duration": 2072,
    "start_time": "2023-10-08T16:23:08.414Z"
   },
   {
    "duration": 5063,
    "start_time": "2023-10-08T16:23:10.488Z"
   },
   {
    "duration": 70,
    "start_time": "2023-10-08T16:23:15.553Z"
   },
   {
    "duration": 212,
    "start_time": "2023-10-08T16:23:15.624Z"
   },
   {
    "duration": 20,
    "start_time": "2023-10-08T16:23:15.839Z"
   },
   {
    "duration": 78,
    "start_time": "2023-10-08T16:23:15.861Z"
   },
   {
    "duration": 1236,
    "start_time": "2023-10-08T16:23:15.941Z"
   },
   {
    "duration": 1364,
    "start_time": "2023-10-08T16:23:17.180Z"
   },
   {
    "duration": 95,
    "start_time": "2023-10-08T16:23:18.545Z"
   },
   {
    "duration": 44,
    "start_time": "2023-10-08T16:23:18.642Z"
   },
   {
    "duration": 8,
    "start_time": "2023-10-08T16:23:18.688Z"
   },
   {
    "duration": 3,
    "start_time": "2023-10-08T16:23:18.698Z"
   },
   {
    "duration": 1116,
    "start_time": "2023-10-08T16:23:18.702Z"
   },
   {
    "duration": 89,
    "start_time": "2023-10-08T16:23:19.820Z"
   },
   {
    "duration": 109,
    "start_time": "2023-10-08T16:23:19.911Z"
   },
   {
    "duration": 199,
    "start_time": "2023-10-08T16:23:20.021Z"
   },
   {
    "duration": 3,
    "start_time": "2023-10-08T16:23:20.221Z"
   },
   {
    "duration": 6151,
    "start_time": "2023-10-08T16:23:20.225Z"
   },
   {
    "duration": 573,
    "start_time": "2023-10-08T16:23:26.377Z"
   },
   {
    "duration": 92,
    "start_time": "2023-10-08T16:23:26.952Z"
   },
   {
    "duration": 3,
    "start_time": "2023-10-08T16:25:23.748Z"
   },
   {
    "duration": 2743,
    "start_time": "2023-10-08T16:25:38.144Z"
   },
   {
    "duration": 2486,
    "start_time": "2023-10-08T16:33:12.455Z"
   },
   {
    "duration": 2241,
    "start_time": "2023-10-08T16:33:14.943Z"
   },
   {
    "duration": 1926,
    "start_time": "2023-10-08T16:33:17.186Z"
   },
   {
    "duration": 4819,
    "start_time": "2023-10-08T16:33:19.114Z"
   },
   {
    "duration": 63,
    "start_time": "2023-10-08T16:33:23.935Z"
   },
   {
    "duration": 225,
    "start_time": "2023-10-08T16:33:24.000Z"
   },
   {
    "duration": 40,
    "start_time": "2023-10-08T16:33:24.226Z"
   },
   {
    "duration": 65,
    "start_time": "2023-10-08T16:33:24.268Z"
   },
   {
    "duration": 1223,
    "start_time": "2023-10-08T16:33:24.334Z"
   },
   {
    "duration": 1420,
    "start_time": "2023-10-08T16:33:25.559Z"
   },
   {
    "duration": 94,
    "start_time": "2023-10-08T16:33:26.980Z"
   },
   {
    "duration": 47,
    "start_time": "2023-10-08T16:33:27.076Z"
   },
   {
    "duration": 19,
    "start_time": "2023-10-08T16:33:27.125Z"
   },
   {
    "duration": 20,
    "start_time": "2023-10-08T16:33:27.145Z"
   },
   {
    "duration": 1113,
    "start_time": "2023-10-08T16:33:27.166Z"
   },
   {
    "duration": 124,
    "start_time": "2023-10-08T16:33:28.280Z"
   },
   {
    "duration": 0,
    "start_time": "2023-10-08T16:33:28.406Z"
   },
   {
    "duration": 0,
    "start_time": "2023-10-08T16:33:28.406Z"
   },
   {
    "duration": 0,
    "start_time": "2023-10-08T16:33:28.407Z"
   },
   {
    "duration": 0,
    "start_time": "2023-10-08T16:33:28.409Z"
   },
   {
    "duration": 0,
    "start_time": "2023-10-08T16:33:28.409Z"
   },
   {
    "duration": 0,
    "start_time": "2023-10-08T16:33:28.410Z"
   },
   {
    "duration": 0,
    "start_time": "2023-10-08T16:33:28.412Z"
   },
   {
    "duration": 113,
    "start_time": "2023-10-08T16:34:18.282Z"
   },
   {
    "duration": 2362,
    "start_time": "2023-10-08T16:36:24.676Z"
   },
   {
    "duration": 2071,
    "start_time": "2023-10-08T16:36:27.040Z"
   },
   {
    "duration": 1905,
    "start_time": "2023-10-08T16:36:29.113Z"
   },
   {
    "duration": 4546,
    "start_time": "2023-10-08T16:36:31.020Z"
   },
   {
    "duration": 81,
    "start_time": "2023-10-08T16:36:35.567Z"
   },
   {
    "duration": 182,
    "start_time": "2023-10-08T16:36:35.650Z"
   },
   {
    "duration": 28,
    "start_time": "2023-10-08T16:36:35.833Z"
   },
   {
    "duration": 80,
    "start_time": "2023-10-08T16:36:35.863Z"
   },
   {
    "duration": 1279,
    "start_time": "2023-10-08T16:36:35.944Z"
   },
   {
    "duration": 1379,
    "start_time": "2023-10-08T16:36:37.225Z"
   },
   {
    "duration": 91,
    "start_time": "2023-10-08T16:36:38.606Z"
   },
   {
    "duration": 52,
    "start_time": "2023-10-08T16:36:38.698Z"
   },
   {
    "duration": 9,
    "start_time": "2023-10-08T16:36:38.751Z"
   },
   {
    "duration": 3,
    "start_time": "2023-10-08T16:36:38.761Z"
   },
   {
    "duration": 1096,
    "start_time": "2023-10-08T16:36:38.765Z"
   },
   {
    "duration": 462,
    "start_time": "2023-10-08T16:36:39.863Z"
   },
   {
    "duration": 2,
    "start_time": "2023-10-08T16:36:40.326Z"
   },
   {
    "duration": 126,
    "start_time": "2023-10-08T16:36:40.330Z"
   },
   {
    "duration": 184,
    "start_time": "2023-10-08T16:36:40.457Z"
   },
   {
    "duration": 3,
    "start_time": "2023-10-08T16:36:40.643Z"
   },
   {
    "duration": 7574,
    "start_time": "2023-10-08T16:36:40.647Z"
   },
   {
    "duration": 575,
    "start_time": "2023-10-08T16:36:48.223Z"
   },
   {
    "duration": 70,
    "start_time": "2023-10-08T16:36:48.800Z"
   },
   {
    "duration": 2439,
    "start_time": "2023-10-08T16:38:41.383Z"
   },
   {
    "duration": 2128,
    "start_time": "2023-10-08T16:38:43.825Z"
   },
   {
    "duration": 1890,
    "start_time": "2023-10-08T16:38:45.955Z"
   },
   {
    "duration": 4155,
    "start_time": "2023-10-08T16:38:47.847Z"
   },
   {
    "duration": 72,
    "start_time": "2023-10-08T16:38:52.004Z"
   },
   {
    "duration": 205,
    "start_time": "2023-10-08T16:38:52.078Z"
   },
   {
    "duration": 21,
    "start_time": "2023-10-08T16:38:52.285Z"
   },
   {
    "duration": 86,
    "start_time": "2023-10-08T16:38:52.308Z"
   },
   {
    "duration": 1290,
    "start_time": "2023-10-08T16:38:52.396Z"
   },
   {
    "duration": 1317,
    "start_time": "2023-10-08T16:38:53.687Z"
   },
   {
    "duration": 95,
    "start_time": "2023-10-08T16:38:55.005Z"
   },
   {
    "duration": 110,
    "start_time": "2023-10-08T16:38:55.102Z"
   },
   {
    "duration": 8,
    "start_time": "2023-10-08T16:38:55.213Z"
   },
   {
    "duration": 3,
    "start_time": "2023-10-08T16:38:55.223Z"
   },
   {
    "duration": 1098,
    "start_time": "2023-10-08T16:38:55.227Z"
   },
   {
    "duration": 12,
    "start_time": "2023-10-08T16:38:56.326Z"
   },
   {
    "duration": 454,
    "start_time": "2023-10-08T16:38:56.340Z"
   },
   {
    "duration": 3,
    "start_time": "2023-10-08T16:38:56.796Z"
   },
   {
    "duration": 4,
    "start_time": "2023-10-08T16:38:56.800Z"
   },
   {
    "duration": 106,
    "start_time": "2023-10-08T16:38:56.805Z"
   },
   {
    "duration": 196,
    "start_time": "2023-10-08T16:38:56.912Z"
   },
   {
    "duration": 2,
    "start_time": "2023-10-08T16:38:57.110Z"
   },
   {
    "duration": 6177,
    "start_time": "2023-10-08T16:38:57.113Z"
   },
   {
    "duration": 576,
    "start_time": "2023-10-08T16:39:03.291Z"
   },
   {
    "duration": 73,
    "start_time": "2023-10-08T16:39:03.868Z"
   },
   {
    "duration": 135455,
    "start_time": "2023-10-08T17:47:50.270Z"
   },
   {
    "duration": 2417,
    "start_time": "2023-10-08T17:53:25.953Z"
   },
   {
    "duration": 2251,
    "start_time": "2023-10-08T17:53:28.373Z"
   },
   {
    "duration": 1979,
    "start_time": "2023-10-08T17:53:30.626Z"
   },
   {
    "duration": 5289,
    "start_time": "2023-10-08T17:53:32.608Z"
   },
   {
    "duration": 73,
    "start_time": "2023-10-08T17:53:37.899Z"
   },
   {
    "duration": 238,
    "start_time": "2023-10-08T17:53:37.974Z"
   },
   {
    "duration": 34,
    "start_time": "2023-10-08T17:53:38.214Z"
   },
   {
    "duration": 70,
    "start_time": "2023-10-08T17:53:38.251Z"
   },
   {
    "duration": 1629,
    "start_time": "2023-10-08T17:53:38.323Z"
   },
   {
    "duration": 1785,
    "start_time": "2023-10-08T17:53:39.954Z"
   },
   {
    "duration": 98,
    "start_time": "2023-10-08T17:53:41.742Z"
   },
   {
    "duration": 1342,
    "start_time": "2023-10-08T17:53:41.842Z"
   },
   {
    "duration": 2430,
    "start_time": "2023-10-08T18:11:57.354Z"
   },
   {
    "duration": 2216,
    "start_time": "2023-10-08T18:11:59.786Z"
   },
   {
    "duration": 2042,
    "start_time": "2023-10-08T18:12:02.004Z"
   },
   {
    "duration": 4934,
    "start_time": "2023-10-08T18:12:04.048Z"
   },
   {
    "duration": 81,
    "start_time": "2023-10-08T18:12:08.985Z"
   },
   {
    "duration": 205,
    "start_time": "2023-10-08T18:12:09.067Z"
   },
   {
    "duration": 20,
    "start_time": "2023-10-08T18:12:09.274Z"
   },
   {
    "duration": 82,
    "start_time": "2023-10-08T18:12:09.296Z"
   },
   {
    "duration": 1322,
    "start_time": "2023-10-08T18:12:09.379Z"
   },
   {
    "duration": 1403,
    "start_time": "2023-10-08T18:12:10.703Z"
   },
   {
    "duration": 97,
    "start_time": "2023-10-08T18:12:12.108Z"
   },
   {
    "duration": 1152,
    "start_time": "2023-10-08T18:12:12.206Z"
   },
   {
    "duration": 47,
    "start_time": "2023-10-08T18:12:13.360Z"
   },
   {
    "duration": 2,
    "start_time": "2023-10-08T18:12:13.410Z"
   },
   {
    "duration": 81,
    "start_time": "2023-10-08T18:12:13.414Z"
   },
   {
    "duration": 148,
    "start_time": "2023-10-08T18:12:13.496Z"
   },
   {
    "duration": 0,
    "start_time": "2023-10-08T18:12:13.646Z"
   },
   {
    "duration": 22,
    "start_time": "2023-10-08T18:13:20.054Z"
   },
   {
    "duration": 14,
    "start_time": "2023-10-08T18:16:46.659Z"
   },
   {
    "duration": 196,
    "start_time": "2023-10-08T18:18:24.866Z"
   },
   {
    "duration": 12,
    "start_time": "2023-10-08T18:22:34.005Z"
   },
   {
    "duration": 13,
    "start_time": "2023-10-08T18:23:20.280Z"
   },
   {
    "duration": 136,
    "start_time": "2023-10-08T18:25:49.334Z"
   },
   {
    "duration": 1005,
    "start_time": "2023-10-08T18:34:23.585Z"
   },
   {
    "duration": 124,
    "start_time": "2023-10-08T18:37:20.585Z"
   },
   {
    "duration": 205,
    "start_time": "2023-10-08T18:39:17.234Z"
   },
   {
    "duration": 782,
    "start_time": "2023-10-08T18:40:02.778Z"
   },
   {
    "duration": 47,
    "start_time": "2023-10-08T18:40:13.680Z"
   },
   {
    "duration": 2644,
    "start_time": "2023-10-08T18:42:30.812Z"
   },
   {
    "duration": 2316,
    "start_time": "2023-10-08T18:42:33.458Z"
   },
   {
    "duration": 2056,
    "start_time": "2023-10-08T18:42:35.776Z"
   },
   {
    "duration": 5337,
    "start_time": "2023-10-08T18:42:37.834Z"
   },
   {
    "duration": 87,
    "start_time": "2023-10-08T18:42:43.173Z"
   },
   {
    "duration": 214,
    "start_time": "2023-10-08T18:42:43.267Z"
   },
   {
    "duration": 22,
    "start_time": "2023-10-08T18:42:43.482Z"
   },
   {
    "duration": 129,
    "start_time": "2023-10-08T18:42:43.506Z"
   },
   {
    "duration": 1447,
    "start_time": "2023-10-08T18:42:43.637Z"
   },
   {
    "duration": 1500,
    "start_time": "2023-10-08T18:42:45.086Z"
   },
   {
    "duration": 87,
    "start_time": "2023-10-08T18:42:46.588Z"
   },
   {
    "duration": 1228,
    "start_time": "2023-10-08T18:42:46.677Z"
   },
   {
    "duration": 58,
    "start_time": "2023-10-08T18:42:47.906Z"
   },
   {
    "duration": 141,
    "start_time": "2023-10-08T18:42:47.965Z"
   },
   {
    "duration": 795,
    "start_time": "2023-10-08T18:43:12.882Z"
   },
   {
    "duration": 544,
    "start_time": "2023-10-08T18:45:03.222Z"
   },
   {
    "duration": 130,
    "start_time": "2023-10-08T18:45:04.517Z"
   },
   {
    "duration": 201,
    "start_time": "2023-10-08T18:45:07.708Z"
   },
   {
    "duration": 6285,
    "start_time": "2023-10-08T18:45:20.397Z"
   },
   {
    "duration": 760,
    "start_time": "2023-10-08T18:45:42.784Z"
   },
   {
    "duration": 92,
    "start_time": "2023-10-08T18:45:44.777Z"
   },
   {
    "duration": 30660346,
    "start_time": "2023-10-08T18:46:17.412Z"
   },
   {
    "duration": 8,
    "start_time": "2023-10-09T06:04:21.207Z"
   },
   {
    "duration": 646,
    "start_time": "2023-10-09T06:04:48.750Z"
   },
   {
    "duration": 71383,
    "start_time": "2023-10-15T18:39:33.442Z"
   },
   {
    "duration": 6553,
    "start_time": "2023-10-15T18:40:44.827Z"
   },
   {
    "duration": 2261,
    "start_time": "2023-10-15T18:40:51.382Z"
   },
   {
    "duration": 5793,
    "start_time": "2023-10-15T18:40:53.645Z"
   },
   {
    "duration": 78,
    "start_time": "2023-10-15T18:40:59.440Z"
   },
   {
    "duration": 294,
    "start_time": "2023-10-15T18:40:59.520Z"
   },
   {
    "duration": 26,
    "start_time": "2023-10-15T18:40:59.816Z"
   },
   {
    "duration": 84,
    "start_time": "2023-10-15T18:40:59.844Z"
   },
   {
    "duration": 1759,
    "start_time": "2023-10-15T18:40:59.930Z"
   },
   {
    "duration": 1752,
    "start_time": "2023-10-15T18:41:01.691Z"
   },
   {
    "duration": 118,
    "start_time": "2023-10-15T18:41:03.445Z"
   },
   {
    "duration": 1080,
    "start_time": "2023-10-15T18:41:03.566Z"
   },
   {
    "duration": 61,
    "start_time": "2023-10-15T18:41:04.647Z"
   },
   {
    "duration": 953,
    "start_time": "2023-10-15T18:41:04.711Z"
   },
   {
    "duration": 581,
    "start_time": "2023-10-15T18:41:05.665Z"
   },
   {
    "duration": 146,
    "start_time": "2023-10-15T18:41:06.248Z"
   },
   {
    "duration": 220,
    "start_time": "2023-10-15T18:41:06.396Z"
   },
   {
    "duration": 2,
    "start_time": "2023-10-15T18:41:06.618Z"
   },
   {
    "duration": 5229,
    "start_time": "2023-10-15T18:41:06.622Z"
   },
   {
    "duration": 765,
    "start_time": "2023-10-15T18:41:11.853Z"
   },
   {
    "duration": 248,
    "start_time": "2023-10-15T18:41:12.620Z"
   },
   {
    "duration": 6,
    "start_time": "2023-10-15T20:18:43.584Z"
   },
   {
    "duration": 97,
    "start_time": "2023-10-15T20:23:31.771Z"
   },
   {
    "duration": 96,
    "start_time": "2023-10-15T20:23:50.753Z"
   },
   {
    "duration": 87,
    "start_time": "2023-10-15T20:24:08.682Z"
   },
   {
    "duration": 347909,
    "start_time": "2023-10-15T20:30:05.197Z"
   },
   {
    "duration": 129,
    "start_time": "2023-10-15T20:54:29.793Z"
   },
   {
    "duration": 65974,
    "start_time": "2023-10-15T20:55:09.892Z"
   },
   {
    "duration": 0,
    "start_time": "2023-10-15T20:56:15.868Z"
   },
   {
    "duration": 343856,
    "start_time": "2023-10-15T21:04:16.277Z"
   },
   {
    "duration": 79,
    "start_time": "2023-10-15T21:12:29.249Z"
   },
   {
    "duration": 12,
    "start_time": "2023-10-15T21:18:31.677Z"
   },
   {
    "duration": 364869,
    "start_time": "2023-10-15T21:19:47.644Z"
   },
   {
    "duration": 44484,
    "start_time": "2023-10-16T08:16:08.549Z"
   },
   {
    "duration": 6952,
    "start_time": "2023-10-16T08:16:53.036Z"
   },
   {
    "duration": 2384,
    "start_time": "2023-10-16T08:16:59.990Z"
   },
   {
    "duration": 6992,
    "start_time": "2023-10-16T08:17:02.376Z"
   },
   {
    "duration": 86,
    "start_time": "2023-10-16T08:17:09.370Z"
   },
   {
    "duration": 2058,
    "start_time": "2023-10-16T08:17:09.458Z"
   },
   {
    "duration": 745,
    "start_time": "2023-10-16T08:17:11.518Z"
   },
   {
    "duration": 92,
    "start_time": "2023-10-16T08:17:12.264Z"
   },
   {
    "duration": 1979,
    "start_time": "2023-10-16T08:17:12.359Z"
   },
   {
    "duration": 2151,
    "start_time": "2023-10-16T08:17:14.339Z"
   },
   {
    "duration": 134,
    "start_time": "2023-10-16T08:17:16.492Z"
   },
   {
    "duration": 1177,
    "start_time": "2023-10-16T08:17:16.627Z"
   },
   {
    "duration": 61,
    "start_time": "2023-10-16T08:17:17.806Z"
   },
   {
    "duration": 989,
    "start_time": "2023-10-16T08:17:17.870Z"
   },
   {
    "duration": 511,
    "start_time": "2023-10-16T08:17:18.860Z"
   },
   {
    "duration": 149,
    "start_time": "2023-10-16T08:17:19.372Z"
   },
   {
    "duration": 286,
    "start_time": "2023-10-16T08:17:19.522Z"
   },
   {
    "duration": 3,
    "start_time": "2023-10-16T08:17:19.809Z"
   },
   {
    "duration": 5649,
    "start_time": "2023-10-16T08:17:19.813Z"
   },
   {
    "duration": 778,
    "start_time": "2023-10-16T08:17:25.464Z"
   },
   {
    "duration": 86,
    "start_time": "2023-10-16T08:17:26.248Z"
   },
   {
    "duration": 407161,
    "start_time": "2023-10-16T08:17:26.347Z"
   },
   {
    "duration": 286,
    "start_time": "2023-10-16T08:24:13.510Z"
   },
   {
    "duration": 0,
    "start_time": "2023-10-16T08:24:13.799Z"
   },
   {
    "duration": 338,
    "start_time": "2023-10-16T09:50:24.239Z"
   },
   {
    "duration": 2884,
    "start_time": "2023-10-16T09:54:03.007Z"
   },
   {
    "duration": 2402,
    "start_time": "2023-10-16T09:54:05.894Z"
   },
   {
    "duration": 2303,
    "start_time": "2023-10-16T09:54:08.298Z"
   },
   {
    "duration": 6341,
    "start_time": "2023-10-16T09:54:10.604Z"
   },
   {
    "duration": 87,
    "start_time": "2023-10-16T09:54:16.947Z"
   },
   {
    "duration": 292,
    "start_time": "2023-10-16T09:54:17.044Z"
   },
   {
    "duration": 29,
    "start_time": "2023-10-16T09:54:17.338Z"
   },
   {
    "duration": 89,
    "start_time": "2023-10-16T09:54:17.369Z"
   },
   {
    "duration": 1672,
    "start_time": "2023-10-16T09:54:17.460Z"
   },
   {
    "duration": 1832,
    "start_time": "2023-10-16T09:54:19.135Z"
   },
   {
    "duration": 132,
    "start_time": "2023-10-16T09:54:20.969Z"
   },
   {
    "duration": 1177,
    "start_time": "2023-10-16T09:54:21.103Z"
   },
   {
    "duration": 51,
    "start_time": "2023-10-16T09:54:22.282Z"
   },
   {
    "duration": 968,
    "start_time": "2023-10-16T09:54:22.344Z"
   },
   {
    "duration": 497,
    "start_time": "2023-10-16T09:54:23.314Z"
   },
   {
    "duration": 160,
    "start_time": "2023-10-16T09:54:23.813Z"
   },
   {
    "duration": 232,
    "start_time": "2023-10-16T09:54:23.975Z"
   },
   {
    "duration": 3,
    "start_time": "2023-10-16T09:54:24.209Z"
   },
   {
    "duration": 5391,
    "start_time": "2023-10-16T09:54:24.214Z"
   },
   {
    "duration": 790,
    "start_time": "2023-10-16T09:54:29.608Z"
   },
   {
    "duration": 92,
    "start_time": "2023-10-16T09:54:30.401Z"
   },
   {
    "duration": 386241,
    "start_time": "2023-10-16T09:54:30.495Z"
   },
   {
    "duration": 175628,
    "start_time": "2023-10-16T10:00:56.738Z"
   },
   {
    "duration": 0,
    "start_time": "2023-10-16T10:03:52.368Z"
   },
   {
    "duration": 4,
    "start_time": "2023-10-16T10:05:03.184Z"
   },
   {
    "duration": 0,
    "start_time": "2023-10-16T10:08:04.075Z"
   },
   {
    "duration": 157144,
    "start_time": "2023-10-16T10:08:55.459Z"
   },
   {
    "duration": 11,
    "start_time": "2023-10-16T10:41:18.649Z"
   },
   {
    "duration": 2954,
    "start_time": "2023-10-16T10:42:58.936Z"
   },
   {
    "duration": 2613,
    "start_time": "2023-10-16T10:43:01.893Z"
   },
   {
    "duration": 2332,
    "start_time": "2023-10-16T10:43:04.509Z"
   },
   {
    "duration": 7296,
    "start_time": "2023-10-16T10:43:06.844Z"
   },
   {
    "duration": 77,
    "start_time": "2023-10-16T10:43:14.144Z"
   },
   {
    "duration": 320,
    "start_time": "2023-10-16T10:43:14.223Z"
   },
   {
    "duration": 36,
    "start_time": "2023-10-16T10:43:14.545Z"
   },
   {
    "duration": 124,
    "start_time": "2023-10-16T10:43:14.583Z"
   },
   {
    "duration": 1769,
    "start_time": "2023-10-16T10:43:14.709Z"
   },
   {
    "duration": 1874,
    "start_time": "2023-10-16T10:43:16.482Z"
   },
   {
    "duration": 130,
    "start_time": "2023-10-16T10:43:18.359Z"
   },
   {
    "duration": 1187,
    "start_time": "2023-10-16T10:43:18.491Z"
   },
   {
    "duration": 74,
    "start_time": "2023-10-16T10:43:19.679Z"
   },
   {
    "duration": 1004,
    "start_time": "2023-10-16T10:43:19.755Z"
   },
   {
    "duration": 539,
    "start_time": "2023-10-16T10:43:20.760Z"
   },
   {
    "duration": 155,
    "start_time": "2023-10-16T10:43:21.301Z"
   },
   {
    "duration": 262,
    "start_time": "2023-10-16T10:43:21.458Z"
   },
   {
    "duration": 4,
    "start_time": "2023-10-16T10:43:21.722Z"
   },
   {
    "duration": 5563,
    "start_time": "2023-10-16T10:43:21.728Z"
   },
   {
    "duration": 768,
    "start_time": "2023-10-16T10:43:27.294Z"
   },
   {
    "duration": 87,
    "start_time": "2023-10-16T10:43:28.064Z"
   },
   {
    "duration": 409859,
    "start_time": "2023-10-16T10:43:28.154Z"
   },
   {
    "duration": 4,
    "start_time": "2023-10-16T10:50:18.015Z"
   },
   {
    "duration": 197073,
    "start_time": "2023-10-16T10:50:18.021Z"
   },
   {
    "duration": 0,
    "start_time": "2023-10-16T10:53:35.095Z"
   },
   {
    "duration": 164945,
    "start_time": "2023-10-16T10:56:00.322Z"
   },
   {
    "duration": 4,
    "start_time": "2023-10-16T11:17:51.660Z"
   },
   {
    "duration": 3375,
    "start_time": "2023-10-16T11:23:11.954Z"
   },
   {
    "duration": 2496,
    "start_time": "2023-10-16T11:23:15.332Z"
   },
   {
    "duration": 2735,
    "start_time": "2023-10-16T11:23:17.830Z"
   },
   {
    "duration": 7623,
    "start_time": "2023-10-16T11:23:20.567Z"
   },
   {
    "duration": 82,
    "start_time": "2023-10-16T11:23:28.193Z"
   },
   {
    "duration": 297,
    "start_time": "2023-10-16T11:23:28.277Z"
   },
   {
    "duration": 25,
    "start_time": "2023-10-16T11:23:28.576Z"
   },
   {
    "duration": 92,
    "start_time": "2023-10-16T11:23:28.603Z"
   },
   {
    "duration": 1797,
    "start_time": "2023-10-16T11:23:28.696Z"
   },
   {
    "duration": 1928,
    "start_time": "2023-10-16T11:23:30.495Z"
   },
   {
    "duration": 130,
    "start_time": "2023-10-16T11:23:32.425Z"
   },
   {
    "duration": 1227,
    "start_time": "2023-10-16T11:23:32.557Z"
   },
   {
    "duration": 108,
    "start_time": "2023-10-16T11:23:33.787Z"
   },
   {
    "duration": 994,
    "start_time": "2023-10-16T11:23:33.898Z"
   },
   {
    "duration": 547,
    "start_time": "2023-10-16T11:23:34.895Z"
   },
   {
    "duration": 159,
    "start_time": "2023-10-16T11:23:35.444Z"
   },
   {
    "duration": 226,
    "start_time": "2023-10-16T11:23:35.605Z"
   },
   {
    "duration": 12,
    "start_time": "2023-10-16T11:23:35.832Z"
   },
   {
    "duration": 5502,
    "start_time": "2023-10-16T11:23:35.846Z"
   },
   {
    "duration": 805,
    "start_time": "2023-10-16T11:23:41.350Z"
   },
   {
    "duration": 93,
    "start_time": "2023-10-16T11:23:42.157Z"
   },
   {
    "duration": 396569,
    "start_time": "2023-10-16T11:23:42.253Z"
   },
   {
    "duration": 5,
    "start_time": "2023-10-16T11:30:18.823Z"
   },
   {
    "duration": 190868,
    "start_time": "2023-10-16T11:30:18.829Z"
   },
   {
    "duration": 370545,
    "start_time": "2023-10-16T12:14:27.554Z"
   },
   {
    "duration": 2861,
    "start_time": "2023-10-16T12:23:49.753Z"
   },
   {
    "duration": 3649,
    "start_time": "2023-10-16T12:25:02.604Z"
   },
   {
    "duration": 3,
    "start_time": "2023-10-16T12:27:05.800Z"
   },
   {
    "duration": 4274,
    "start_time": "2023-10-16T12:27:23.240Z"
   },
   {
    "duration": 3337,
    "start_time": "2023-10-16T12:29:07.377Z"
   },
   {
    "duration": 3113,
    "start_time": "2023-10-16T12:35:01.123Z"
   },
   {
    "duration": 3754,
    "start_time": "2023-10-16T12:35:23.990Z"
   },
   {
    "duration": 3486,
    "start_time": "2023-10-16T12:37:31.091Z"
   },
   {
    "duration": 2980,
    "start_time": "2023-10-16T12:37:46.068Z"
   },
   {
    "duration": 2923,
    "start_time": "2023-10-16T12:41:55.372Z"
   },
   {
    "duration": 2929,
    "start_time": "2023-10-16T12:41:58.299Z"
   },
   {
    "duration": 3238,
    "start_time": "2023-10-16T12:42:01.231Z"
   },
   {
    "duration": 12440,
    "start_time": "2023-10-16T12:42:04.474Z"
   },
   {
    "duration": 2383,
    "start_time": "2023-10-16T12:42:16.917Z"
   },
   {
    "duration": 7262,
    "start_time": "2023-10-16T12:42:19.304Z"
   },
   {
    "duration": 91,
    "start_time": "2023-10-16T12:42:26.568Z"
   },
   {
    "duration": 306,
    "start_time": "2023-10-16T12:42:26.662Z"
   },
   {
    "duration": 35,
    "start_time": "2023-10-16T12:42:26.970Z"
   },
   {
    "duration": 104,
    "start_time": "2023-10-16T12:42:27.009Z"
   },
   {
    "duration": 1781,
    "start_time": "2023-10-16T12:42:27.115Z"
   },
   {
    "duration": 1924,
    "start_time": "2023-10-16T12:42:28.898Z"
   },
   {
    "duration": 103,
    "start_time": "2023-10-16T12:42:30.824Z"
   },
   {
    "duration": 1260,
    "start_time": "2023-10-16T12:42:30.929Z"
   },
   {
    "duration": 82,
    "start_time": "2023-10-16T12:42:32.191Z"
   },
   {
    "duration": 1000,
    "start_time": "2023-10-16T12:42:32.276Z"
   },
   {
    "duration": 533,
    "start_time": "2023-10-16T12:42:33.278Z"
   },
   {
    "duration": 135,
    "start_time": "2023-10-16T12:42:33.814Z"
   },
   {
    "duration": 335,
    "start_time": "2023-10-16T12:42:33.951Z"
   },
   {
    "duration": 5622,
    "start_time": "2023-10-16T12:42:34.289Z"
   },
   {
    "duration": 845,
    "start_time": "2023-10-16T12:42:39.913Z"
   },
   {
    "duration": 92,
    "start_time": "2023-10-16T12:42:40.760Z"
   },
   {
    "duration": 395873,
    "start_time": "2023-10-16T12:42:40.854Z"
   },
   {
    "duration": 5,
    "start_time": "2023-10-16T12:49:16.729Z"
   },
   {
    "duration": 49027,
    "start_time": "2023-10-16T21:22:54.834Z"
   },
   {
    "duration": 7247,
    "start_time": "2023-10-16T21:23:43.865Z"
   },
   {
    "duration": 3121,
    "start_time": "2023-10-16T21:23:51.114Z"
   },
   {
    "duration": 13541,
    "start_time": "2023-10-16T21:23:54.239Z"
   },
   {
    "duration": 3162,
    "start_time": "2023-10-16T21:24:07.782Z"
   },
   {
    "duration": 8444,
    "start_time": "2023-10-16T21:24:10.947Z"
   },
   {
    "duration": 82,
    "start_time": "2023-10-16T21:24:19.393Z"
   },
   {
    "duration": 2129,
    "start_time": "2023-10-16T21:24:19.477Z"
   },
   {
    "duration": 53,
    "start_time": "2023-10-16T21:24:21.607Z"
   },
   {
    "duration": 90,
    "start_time": "2023-10-16T21:24:21.663Z"
   },
   {
    "duration": 1817,
    "start_time": "2023-10-16T21:24:21.755Z"
   },
   {
    "duration": 1973,
    "start_time": "2023-10-16T21:24:23.574Z"
   },
   {
    "duration": 508,
    "start_time": "2023-10-16T21:24:25.549Z"
   },
   {
    "duration": 1668,
    "start_time": "2023-10-16T21:24:26.060Z"
   },
   {
    "duration": 52,
    "start_time": "2023-10-16T21:24:27.730Z"
   },
   {
    "duration": 1848,
    "start_time": "2023-10-16T21:24:27.783Z"
   },
   {
    "duration": 746,
    "start_time": "2023-10-16T21:24:29.633Z"
   },
   {
    "duration": 165,
    "start_time": "2023-10-16T21:24:30.381Z"
   },
   {
    "duration": 374,
    "start_time": "2023-10-16T21:24:30.549Z"
   },
   {
    "duration": 5774,
    "start_time": "2023-10-16T21:24:30.925Z"
   },
   {
    "duration": 895,
    "start_time": "2023-10-16T21:24:36.701Z"
   },
   {
    "duration": 96,
    "start_time": "2023-10-16T21:24:37.598Z"
   },
   {
    "duration": 405416,
    "start_time": "2023-10-16T21:24:37.696Z"
   },
   {
    "duration": 4,
    "start_time": "2023-10-16T21:31:23.114Z"
   },
   {
    "duration": 97278,
    "start_time": "2023-10-16T21:31:23.124Z"
   },
   {
    "duration": 0,
    "start_time": "2023-10-16T21:33:00.403Z"
   },
   {
    "duration": 3340,
    "start_time": "2023-10-16T21:36:47.634Z"
   },
   {
    "duration": 2338,
    "start_time": "2023-10-16T21:36:50.977Z"
   },
   {
    "duration": 2865,
    "start_time": "2023-10-16T21:36:53.318Z"
   },
   {
    "duration": 2839,
    "start_time": "2023-10-16T21:36:56.186Z"
   },
   {
    "duration": 3868,
    "start_time": "2023-10-16T21:36:59.028Z"
   },
   {
    "duration": 5836,
    "start_time": "2023-10-16T21:37:02.898Z"
   },
   {
    "duration": 72,
    "start_time": "2023-10-16T21:37:08.736Z"
   },
   {
    "duration": 308,
    "start_time": "2023-10-16T21:37:08.810Z"
   },
   {
    "duration": 28,
    "start_time": "2023-10-16T21:37:09.120Z"
   },
   {
    "duration": 82,
    "start_time": "2023-10-16T21:37:09.151Z"
   },
   {
    "duration": 1610,
    "start_time": "2023-10-16T21:37:09.235Z"
   },
   {
    "duration": 1663,
    "start_time": "2023-10-16T21:37:10.847Z"
   },
   {
    "duration": 101,
    "start_time": "2023-10-16T21:37:12.511Z"
   },
   {
    "duration": 1361,
    "start_time": "2023-10-16T21:37:12.614Z"
   },
   {
    "duration": 57,
    "start_time": "2023-10-16T21:37:13.977Z"
   },
   {
    "duration": 1199,
    "start_time": "2023-10-16T21:37:14.036Z"
   },
   {
    "duration": 499,
    "start_time": "2023-10-16T21:37:15.236Z"
   },
   {
    "duration": 134,
    "start_time": "2023-10-16T21:37:15.737Z"
   },
   {
    "duration": 351,
    "start_time": "2023-10-16T21:37:15.874Z"
   },
   {
    "duration": 5220,
    "start_time": "2023-10-16T21:37:16.226Z"
   },
   {
    "duration": 740,
    "start_time": "2023-10-16T21:37:21.448Z"
   },
   {
    "duration": 100,
    "start_time": "2023-10-16T21:37:22.190Z"
   },
   {
    "duration": 382102,
    "start_time": "2023-10-16T21:37:22.292Z"
   },
   {
    "duration": 3,
    "start_time": "2023-10-16T21:43:44.396Z"
   },
   {
    "duration": 37521,
    "start_time": "2023-10-17T08:19:47.400Z"
   },
   {
    "duration": 6535,
    "start_time": "2023-10-17T08:20:24.923Z"
   },
   {
    "duration": 2865,
    "start_time": "2023-10-17T08:20:31.459Z"
   },
   {
    "duration": 8557,
    "start_time": "2023-10-17T08:20:34.326Z"
   },
   {
    "duration": 2577,
    "start_time": "2023-10-17T08:20:42.886Z"
   },
   {
    "duration": 6581,
    "start_time": "2023-10-17T08:20:45.464Z"
   },
   {
    "duration": 74,
    "start_time": "2023-10-17T08:20:52.046Z"
   },
   {
    "duration": 988,
    "start_time": "2023-10-17T08:20:52.122Z"
   },
   {
    "duration": 392,
    "start_time": "2023-10-17T08:20:53.111Z"
   },
   {
    "duration": 1187,
    "start_time": "2023-10-17T08:20:53.504Z"
   },
   {
    "duration": 1598,
    "start_time": "2023-10-17T08:20:54.692Z"
   },
   {
    "duration": 1813,
    "start_time": "2023-10-17T08:20:56.291Z"
   },
   {
    "duration": 124,
    "start_time": "2023-10-17T08:20:58.106Z"
   },
   {
    "duration": 1093,
    "start_time": "2023-10-17T08:20:58.233Z"
   },
   {
    "duration": 57,
    "start_time": "2023-10-17T08:20:59.328Z"
   },
   {
    "duration": 989,
    "start_time": "2023-10-17T08:20:59.387Z"
   },
   {
    "duration": 498,
    "start_time": "2023-10-17T08:21:00.378Z"
   },
   {
    "duration": 146,
    "start_time": "2023-10-17T08:21:00.877Z"
   },
   {
    "duration": 356,
    "start_time": "2023-10-17T08:21:01.025Z"
   },
   {
    "duration": 5224,
    "start_time": "2023-10-17T08:21:01.383Z"
   },
   {
    "duration": 717,
    "start_time": "2023-10-17T08:21:06.609Z"
   },
   {
    "duration": 75,
    "start_time": "2023-10-17T08:21:07.328Z"
   },
   {
    "duration": 382779,
    "start_time": "2023-10-17T08:21:07.404Z"
   },
   {
    "duration": 4,
    "start_time": "2023-10-17T08:27:30.184Z"
   },
   {
    "duration": 84981,
    "start_time": "2023-10-17T08:27:30.189Z"
   },
   {
    "duration": 0,
    "start_time": "2023-10-17T08:28:55.172Z"
   },
   {
    "duration": 149719,
    "start_time": "2023-10-17T09:01:17.341Z"
   },
   {
    "duration": 2706,
    "start_time": "2023-10-17T09:04:53.560Z"
   },
   {
    "duration": 41272,
    "start_time": "2023-10-17T09:04:56.268Z"
   },
   {
    "duration": 2473,
    "start_time": "2023-10-17T09:05:37.542Z"
   },
   {
    "duration": 3084,
    "start_time": "2023-10-17T09:05:40.017Z"
   },
   {
    "duration": 3088,
    "start_time": "2023-10-17T09:05:43.104Z"
   },
   {
    "duration": 2205,
    "start_time": "2023-10-17T09:05:46.194Z"
   },
   {
    "duration": 7173,
    "start_time": "2023-10-17T09:05:48.402Z"
   },
   {
    "duration": 85,
    "start_time": "2023-10-17T09:05:55.577Z"
   },
   {
    "duration": 296,
    "start_time": "2023-10-17T09:05:55.664Z"
   },
   {
    "duration": 23,
    "start_time": "2023-10-17T09:05:55.962Z"
   },
   {
    "duration": 82,
    "start_time": "2023-10-17T09:05:55.987Z"
   },
   {
    "duration": 1655,
    "start_time": "2023-10-17T09:05:56.071Z"
   },
   {
    "duration": 1775,
    "start_time": "2023-10-17T09:05:57.728Z"
   },
   {
    "duration": 96,
    "start_time": "2023-10-17T09:05:59.506Z"
   },
   {
    "duration": 1197,
    "start_time": "2023-10-17T09:05:59.604Z"
   },
   {
    "duration": 61,
    "start_time": "2023-10-17T09:06:00.803Z"
   },
   {
    "duration": 953,
    "start_time": "2023-10-17T09:06:00.865Z"
   },
   {
    "duration": 501,
    "start_time": "2023-10-17T09:06:01.819Z"
   },
   {
    "duration": 134,
    "start_time": "2023-10-17T09:06:02.323Z"
   },
   {
    "duration": 321,
    "start_time": "2023-10-17T09:06:02.460Z"
   },
   {
    "duration": 5465,
    "start_time": "2023-10-17T09:06:02.783Z"
   },
   {
    "duration": 806,
    "start_time": "2023-10-17T09:06:08.251Z"
   },
   {
    "duration": 75,
    "start_time": "2023-10-17T09:06:09.059Z"
   },
   {
    "duration": 446498,
    "start_time": "2023-10-17T09:06:09.136Z"
   },
   {
    "duration": 21,
    "start_time": "2023-10-17T09:13:35.636Z"
   },
   {
    "duration": 116241,
    "start_time": "2023-10-17T09:13:35.665Z"
   },
   {
    "duration": 0,
    "start_time": "2023-10-17T09:15:31.907Z"
   },
   {
    "duration": 2989,
    "start_time": "2023-10-17T10:05:37.835Z"
   },
   {
    "duration": 55996,
    "start_time": "2023-10-17T10:05:40.826Z"
   },
   {
    "duration": 2957,
    "start_time": "2023-10-17T10:06:36.823Z"
   },
   {
    "duration": 3501,
    "start_time": "2023-10-17T10:06:39.783Z"
   },
   {
    "duration": 3632,
    "start_time": "2023-10-17T10:06:43.287Z"
   },
   {
    "duration": 3852,
    "start_time": "2023-10-17T10:06:46.921Z"
   },
   {
    "duration": 7585,
    "start_time": "2023-10-17T10:06:50.775Z"
   },
   {
    "duration": 90,
    "start_time": "2023-10-17T10:06:58.363Z"
   },
   {
    "duration": 1542,
    "start_time": "2023-10-17T10:06:58.456Z"
   },
   {
    "duration": 1219,
    "start_time": "2023-10-17T10:07:00.002Z"
   },
   {
    "duration": 114,
    "start_time": "2023-10-17T10:07:01.223Z"
   },
   {
    "duration": 1793,
    "start_time": "2023-10-17T10:07:01.339Z"
   },
   {
    "duration": 1938,
    "start_time": "2023-10-17T10:07:03.134Z"
   },
   {
    "duration": 105,
    "start_time": "2023-10-17T10:07:05.074Z"
   },
   {
    "duration": 1514,
    "start_time": "2023-10-17T10:07:05.181Z"
   },
   {
    "duration": 63,
    "start_time": "2023-10-17T10:07:06.697Z"
   },
   {
    "duration": 1259,
    "start_time": "2023-10-17T10:07:06.763Z"
   },
   {
    "duration": 560,
    "start_time": "2023-10-17T10:07:08.024Z"
   },
   {
    "duration": 136,
    "start_time": "2023-10-17T10:07:08.586Z"
   },
   {
    "duration": 264,
    "start_time": "2023-10-17T10:07:08.723Z"
   },
   {
    "duration": 5679,
    "start_time": "2023-10-17T10:07:08.989Z"
   },
   {
    "duration": 790,
    "start_time": "2023-10-17T10:07:14.670Z"
   },
   {
    "duration": 83,
    "start_time": "2023-10-17T10:07:15.462Z"
   },
   {
    "duration": 448586,
    "start_time": "2023-10-17T10:07:15.548Z"
   },
   {
    "duration": 10,
    "start_time": "2023-10-17T10:14:44.138Z"
   },
   {
    "duration": 2779,
    "start_time": "2023-10-17T10:54:11.283Z"
   },
   {
    "duration": 51850,
    "start_time": "2023-10-17T10:54:14.065Z"
   },
   {
    "duration": 2634,
    "start_time": "2023-10-17T10:55:05.918Z"
   },
   {
    "duration": 3174,
    "start_time": "2023-10-17T10:55:08.557Z"
   },
   {
    "duration": 3218,
    "start_time": "2023-10-17T10:55:11.734Z"
   },
   {
    "duration": 2960,
    "start_time": "2023-10-17T10:55:14.955Z"
   },
   {
    "duration": 8854,
    "start_time": "2023-10-17T10:55:17.918Z"
   },
   {
    "duration": 83,
    "start_time": "2023-10-17T10:55:26.774Z"
   },
   {
    "duration": 300,
    "start_time": "2023-10-17T10:55:26.859Z"
   },
   {
    "duration": 23,
    "start_time": "2023-10-17T10:55:27.162Z"
   },
   {
    "duration": 143,
    "start_time": "2023-10-17T10:55:27.187Z"
   },
   {
    "duration": 1644,
    "start_time": "2023-10-17T10:55:27.332Z"
   },
   {
    "duration": 1760,
    "start_time": "2023-10-17T10:55:28.978Z"
   },
   {
    "duration": 124,
    "start_time": "2023-10-17T10:55:30.740Z"
   },
   {
    "duration": 1249,
    "start_time": "2023-10-17T10:55:30.865Z"
   },
   {
    "duration": 62,
    "start_time": "2023-10-17T10:55:32.116Z"
   },
   {
    "duration": 936,
    "start_time": "2023-10-17T10:55:32.180Z"
   },
   {
    "duration": 531,
    "start_time": "2023-10-17T10:55:33.117Z"
   },
   {
    "duration": 141,
    "start_time": "2023-10-17T10:55:33.650Z"
   },
   {
    "duration": 226,
    "start_time": "2023-10-17T10:55:33.793Z"
   },
   {
    "duration": 5398,
    "start_time": "2023-10-17T10:55:34.022Z"
   },
   {
    "duration": 791,
    "start_time": "2023-10-17T10:55:39.422Z"
   },
   {
    "duration": 85,
    "start_time": "2023-10-17T10:55:40.214Z"
   },
   {
    "duration": 389890,
    "start_time": "2023-10-17T10:55:40.301Z"
   },
   {
    "duration": 142,
    "start_time": "2023-10-17T11:02:10.193Z"
   },
   {
    "duration": 0,
    "start_time": "2023-10-17T11:02:10.337Z"
   },
   {
    "duration": 0,
    "start_time": "2023-10-17T11:02:10.346Z"
   },
   {
    "duration": 2888,
    "start_time": "2023-10-17T11:07:32.482Z"
   },
   {
    "duration": 39354,
    "start_time": "2023-10-17T11:07:35.372Z"
   },
   {
    "duration": 2479,
    "start_time": "2023-10-17T11:08:14.728Z"
   },
   {
    "duration": 3052,
    "start_time": "2023-10-17T11:08:17.211Z"
   },
   {
    "duration": 3091,
    "start_time": "2023-10-17T11:08:20.266Z"
   },
   {
    "duration": 2402,
    "start_time": "2023-10-17T11:08:23.360Z"
   },
   {
    "duration": 8003,
    "start_time": "2023-10-17T11:08:25.764Z"
   },
   {
    "duration": 83,
    "start_time": "2023-10-17T11:08:33.769Z"
   },
   {
    "duration": 311,
    "start_time": "2023-10-17T11:08:33.854Z"
   },
   {
    "duration": 27,
    "start_time": "2023-10-17T11:08:34.168Z"
   },
   {
    "duration": 100,
    "start_time": "2023-10-17T11:08:34.197Z"
   },
   {
    "duration": 1719,
    "start_time": "2023-10-17T11:08:34.300Z"
   },
   {
    "duration": 1882,
    "start_time": "2023-10-17T11:08:36.021Z"
   },
   {
    "duration": 117,
    "start_time": "2023-10-17T11:08:37.905Z"
   },
   {
    "duration": 1102,
    "start_time": "2023-10-17T11:08:38.024Z"
   },
   {
    "duration": 58,
    "start_time": "2023-10-17T11:08:39.127Z"
   },
   {
    "duration": 981,
    "start_time": "2023-10-17T11:08:39.187Z"
   },
   {
    "duration": 469,
    "start_time": "2023-10-17T11:08:40.170Z"
   },
   {
    "duration": 140,
    "start_time": "2023-10-17T11:08:40.648Z"
   },
   {
    "duration": 217,
    "start_time": "2023-10-17T11:08:40.790Z"
   },
   {
    "duration": 5302,
    "start_time": "2023-10-17T11:08:41.009Z"
   },
   {
    "duration": 809,
    "start_time": "2023-10-17T11:08:46.314Z"
   },
   {
    "duration": 88,
    "start_time": "2023-10-17T11:08:47.124Z"
   },
   {
    "duration": 387420,
    "start_time": "2023-10-17T11:08:47.214Z"
   },
   {
    "duration": 11,
    "start_time": "2023-10-17T11:15:14.636Z"
   },
   {
    "duration": 5852,
    "start_time": "2023-10-17T11:15:14.658Z"
   },
   {
    "duration": 0,
    "start_time": "2023-10-17T11:15:20.512Z"
   },
   {
    "duration": 3138,
    "start_time": "2023-10-17T11:19:47.100Z"
   },
   {
    "duration": 42350,
    "start_time": "2023-10-17T11:19:50.241Z"
   },
   {
    "duration": 2502,
    "start_time": "2023-10-17T11:20:32.593Z"
   },
   {
    "duration": 2964,
    "start_time": "2023-10-17T11:20:35.097Z"
   },
   {
    "duration": 3018,
    "start_time": "2023-10-17T11:20:38.064Z"
   },
   {
    "duration": 2301,
    "start_time": "2023-10-17T11:20:41.084Z"
   },
   {
    "duration": 7870,
    "start_time": "2023-10-17T11:20:43.386Z"
   },
   {
    "duration": 77,
    "start_time": "2023-10-17T11:20:51.258Z"
   },
   {
    "duration": 297,
    "start_time": "2023-10-17T11:20:51.337Z"
   },
   {
    "duration": 40,
    "start_time": "2023-10-17T11:20:51.637Z"
   },
   {
    "duration": 78,
    "start_time": "2023-10-17T11:20:51.679Z"
   },
   {
    "duration": 1652,
    "start_time": "2023-10-17T11:20:51.761Z"
   },
   {
    "duration": 1877,
    "start_time": "2023-10-17T11:20:53.415Z"
   },
   {
    "duration": 103,
    "start_time": "2023-10-17T11:20:55.294Z"
   },
   {
    "duration": 1158,
    "start_time": "2023-10-17T11:20:55.399Z"
   },
   {
    "duration": 51,
    "start_time": "2023-10-17T11:20:56.560Z"
   },
   {
    "duration": 944,
    "start_time": "2023-10-17T11:20:56.613Z"
   },
   {
    "duration": 478,
    "start_time": "2023-10-17T11:20:57.559Z"
   },
   {
    "duration": 126,
    "start_time": "2023-10-17T11:20:58.038Z"
   },
   {
    "duration": 228,
    "start_time": "2023-10-17T11:20:58.166Z"
   },
   {
    "duration": 5302,
    "start_time": "2023-10-17T11:20:58.396Z"
   },
   {
    "duration": 856,
    "start_time": "2023-10-17T11:21:03.700Z"
   },
   {
    "duration": 78,
    "start_time": "2023-10-17T11:21:04.560Z"
   },
   {
    "duration": 391891,
    "start_time": "2023-10-17T11:21:04.646Z"
   },
   {
    "duration": 13,
    "start_time": "2023-10-17T11:27:36.540Z"
   },
   {
    "duration": 35499,
    "start_time": "2023-10-17T18:33:34.087Z"
   },
   {
    "duration": 128785,
    "start_time": "2023-10-17T18:34:09.588Z"
   },
   {
    "duration": 7148,
    "start_time": "2023-10-17T18:36:18.375Z"
   },
   {
    "duration": 3000,
    "start_time": "2023-10-17T18:36:25.526Z"
   },
   {
    "duration": 11139,
    "start_time": "2023-10-17T18:36:28.529Z"
   },
   {
    "duration": 2458,
    "start_time": "2023-10-17T18:36:39.670Z"
   },
   {
    "duration": 6484,
    "start_time": "2023-10-17T18:36:42.130Z"
   },
   {
    "duration": 102,
    "start_time": "2023-10-17T18:36:48.615Z"
   },
   {
    "duration": 301,
    "start_time": "2023-10-17T18:36:48.719Z"
   },
   {
    "duration": 24,
    "start_time": "2023-10-17T18:36:49.021Z"
   },
   {
    "duration": 126,
    "start_time": "2023-10-17T18:36:49.047Z"
   },
   {
    "duration": 1704,
    "start_time": "2023-10-17T18:36:49.175Z"
   },
   {
    "duration": 1783,
    "start_time": "2023-10-17T18:36:50.880Z"
   },
   {
    "duration": 123,
    "start_time": "2023-10-17T18:36:52.666Z"
   },
   {
    "duration": 1163,
    "start_time": "2023-10-17T18:36:52.791Z"
   },
   {
    "duration": 58,
    "start_time": "2023-10-17T18:36:53.956Z"
   },
   {
    "duration": 1018,
    "start_time": "2023-10-17T18:36:54.016Z"
   },
   {
    "duration": 511,
    "start_time": "2023-10-17T18:36:55.035Z"
   },
   {
    "duration": 153,
    "start_time": "2023-10-17T18:36:55.548Z"
   },
   {
    "duration": 318,
    "start_time": "2023-10-17T18:36:55.703Z"
   },
   {
    "duration": 5411,
    "start_time": "2023-10-17T18:36:56.023Z"
   },
   {
    "duration": 778,
    "start_time": "2023-10-17T18:37:01.435Z"
   },
   {
    "duration": 87,
    "start_time": "2023-10-17T18:37:02.215Z"
   },
   {
    "duration": 408654,
    "start_time": "2023-10-17T18:37:02.304Z"
   },
   {
    "duration": 4,
    "start_time": "2023-10-17T18:43:50.960Z"
   },
   {
    "duration": 52098,
    "start_time": "2023-10-18T08:40:36.179Z"
   },
   {
    "duration": 152719,
    "start_time": "2023-10-18T08:41:28.279Z"
   },
   {
    "duration": 7324,
    "start_time": "2023-10-18T08:44:01.000Z"
   },
   {
    "duration": 3129,
    "start_time": "2023-10-18T08:44:08.327Z"
   },
   {
    "duration": 11973,
    "start_time": "2023-10-18T08:44:11.457Z"
   },
   {
    "duration": 2539,
    "start_time": "2023-10-18T08:44:23.433Z"
   },
   {
    "duration": 7267,
    "start_time": "2023-10-18T08:44:25.974Z"
   },
   {
    "duration": 94,
    "start_time": "2023-10-18T08:44:33.243Z"
   },
   {
    "duration": 335,
    "start_time": "2023-10-18T08:44:33.339Z"
   },
   {
    "duration": 48,
    "start_time": "2023-10-18T08:44:33.677Z"
   },
   {
    "duration": 111,
    "start_time": "2023-10-18T08:44:33.727Z"
   },
   {
    "duration": 1769,
    "start_time": "2023-10-18T08:44:33.841Z"
   },
   {
    "duration": 1973,
    "start_time": "2023-10-18T08:44:35.615Z"
   },
   {
    "duration": 133,
    "start_time": "2023-10-18T08:44:37.590Z"
   },
   {
    "duration": 1229,
    "start_time": "2023-10-18T08:44:37.725Z"
   },
   {
    "duration": 52,
    "start_time": "2023-10-18T08:44:38.955Z"
   },
   {
    "duration": 1128,
    "start_time": "2023-10-18T08:44:39.011Z"
   },
   {
    "duration": 594,
    "start_time": "2023-10-18T08:44:40.141Z"
   },
   {
    "duration": 149,
    "start_time": "2023-10-18T08:44:40.736Z"
   },
   {
    "duration": 353,
    "start_time": "2023-10-18T08:44:40.887Z"
   },
   {
    "duration": 5691,
    "start_time": "2023-10-18T08:44:41.242Z"
   },
   {
    "duration": 842,
    "start_time": "2023-10-18T08:44:46.934Z"
   },
   {
    "duration": 106,
    "start_time": "2023-10-18T08:44:47.778Z"
   },
   {
    "duration": 435242,
    "start_time": "2023-10-18T08:44:47.886Z"
   },
   {
    "duration": 5,
    "start_time": "2023-10-18T08:52:03.131Z"
   },
   {
    "duration": 39123,
    "start_time": "2023-10-18T18:50:16.889Z"
   },
   {
    "duration": 136192,
    "start_time": "2023-10-18T18:50:56.014Z"
   },
   {
    "duration": 6779,
    "start_time": "2023-10-18T18:53:12.208Z"
   },
   {
    "duration": 2964,
    "start_time": "2023-10-18T18:53:18.989Z"
   },
   {
    "duration": 9293,
    "start_time": "2023-10-18T18:53:21.954Z"
   },
   {
    "duration": 2372,
    "start_time": "2023-10-18T18:53:31.249Z"
   },
   {
    "duration": 6691,
    "start_time": "2023-10-18T18:53:33.623Z"
   },
   {
    "duration": 79,
    "start_time": "2023-10-18T18:53:40.316Z"
   },
   {
    "duration": 302,
    "start_time": "2023-10-18T18:53:40.397Z"
   },
   {
    "duration": 24,
    "start_time": "2023-10-18T18:53:40.701Z"
   },
   {
    "duration": 85,
    "start_time": "2023-10-18T18:53:40.726Z"
   },
   {
    "duration": 1509,
    "start_time": "2023-10-18T18:53:40.812Z"
   },
   {
    "duration": 1805,
    "start_time": "2023-10-18T18:53:42.323Z"
   },
   {
    "duration": 122,
    "start_time": "2023-10-18T18:53:44.129Z"
   },
   {
    "duration": 1151,
    "start_time": "2023-10-18T18:53:44.253Z"
   },
   {
    "duration": 60,
    "start_time": "2023-10-18T18:53:45.406Z"
   },
   {
    "duration": 955,
    "start_time": "2023-10-18T18:53:45.468Z"
   },
   {
    "duration": 478,
    "start_time": "2023-10-18T18:53:46.425Z"
   },
   {
    "duration": 145,
    "start_time": "2023-10-18T18:53:46.904Z"
   },
   {
    "duration": 309,
    "start_time": "2023-10-18T18:53:47.051Z"
   },
   {
    "duration": 5319,
    "start_time": "2023-10-18T18:53:47.362Z"
   },
   {
    "duration": 732,
    "start_time": "2023-10-18T18:53:52.683Z"
   },
   {
    "duration": 82,
    "start_time": "2023-10-18T18:53:53.417Z"
   },
   {
    "duration": 381749,
    "start_time": "2023-10-18T18:53:53.501Z"
   },
   {
    "duration": 2108,
    "start_time": "2023-10-18T19:00:15.251Z"
   },
   {
    "duration": 0,
    "start_time": "2023-10-18T23:40:34.563Z"
   },
   {
    "duration": 0,
    "start_time": "2023-10-18T23:40:34.564Z"
   },
   {
    "duration": 2940,
    "start_time": "2023-10-19T08:01:37.584Z"
   },
   {
    "duration": 50129,
    "start_time": "2023-10-19T08:01:40.526Z"
   },
   {
    "duration": 2414,
    "start_time": "2023-10-19T08:02:30.657Z"
   },
   {
    "duration": 3213,
    "start_time": "2023-10-19T08:02:33.075Z"
   },
   {
    "duration": 3066,
    "start_time": "2023-10-19T08:02:36.290Z"
   },
   {
    "duration": 2291,
    "start_time": "2023-10-19T08:02:39.359Z"
   },
   {
    "duration": 6736,
    "start_time": "2023-10-19T08:02:41.652Z"
   },
   {
    "duration": 84,
    "start_time": "2023-10-19T08:02:48.389Z"
   },
   {
    "duration": 301,
    "start_time": "2023-10-19T08:02:48.475Z"
   },
   {
    "duration": 24,
    "start_time": "2023-10-19T08:02:48.779Z"
   },
   {
    "duration": 86,
    "start_time": "2023-10-19T08:02:48.804Z"
   },
   {
    "duration": 1678,
    "start_time": "2023-10-19T08:02:48.892Z"
   },
   {
    "duration": 1849,
    "start_time": "2023-10-19T08:02:50.572Z"
   },
   {
    "duration": 106,
    "start_time": "2023-10-19T08:02:52.424Z"
   },
   {
    "duration": 1168,
    "start_time": "2023-10-19T08:02:52.532Z"
   },
   {
    "duration": 69,
    "start_time": "2023-10-19T08:02:53.703Z"
   },
   {
    "duration": 995,
    "start_time": "2023-10-19T08:02:53.774Z"
   },
   {
    "duration": 513,
    "start_time": "2023-10-19T08:02:54.771Z"
   },
   {
    "duration": 130,
    "start_time": "2023-10-19T08:02:55.285Z"
   },
   {
    "duration": 239,
    "start_time": "2023-10-19T08:02:55.417Z"
   },
   {
    "duration": 5284,
    "start_time": "2023-10-19T08:02:55.659Z"
   },
   {
    "duration": 763,
    "start_time": "2023-10-19T08:03:00.945Z"
   },
   {
    "duration": 83,
    "start_time": "2023-10-19T08:03:01.710Z"
   },
   {
    "duration": 395232,
    "start_time": "2023-10-19T08:03:01.795Z"
   },
   {
    "duration": 16421251,
    "start_time": "2023-10-19T08:09:37.029Z"
   },
   {
    "duration": 0,
    "start_time": "2023-10-19T12:43:18.281Z"
   },
   {
    "duration": 725,
    "start_time": "2023-10-19T12:49:14.316Z"
   },
   {
    "duration": 17252496,
    "start_time": "2023-10-19T12:51:02.932Z"
   },
   {
    "duration": 41272,
    "start_time": "2023-10-20T17:31:24.932Z"
   },
   {
    "duration": 156730,
    "start_time": "2023-10-20T17:32:06.207Z"
   },
   {
    "duration": 7995,
    "start_time": "2023-10-20T17:34:42.939Z"
   },
   {
    "duration": 3996,
    "start_time": "2023-10-20T17:34:50.937Z"
   },
   {
    "duration": 11294,
    "start_time": "2023-10-20T17:34:54.942Z"
   },
   {
    "duration": 2958,
    "start_time": "2023-10-20T17:35:06.239Z"
   },
   {
    "duration": 7466,
    "start_time": "2023-10-20T17:35:09.199Z"
   },
   {
    "duration": 138,
    "start_time": "2023-10-20T17:35:16.675Z"
   },
   {
    "duration": 336,
    "start_time": "2023-10-20T17:35:16.823Z"
   },
   {
    "duration": 48,
    "start_time": "2023-10-20T17:35:17.163Z"
   },
   {
    "duration": 123,
    "start_time": "2023-10-20T17:35:17.213Z"
   },
   {
    "duration": 1860,
    "start_time": "2023-10-20T17:35:17.338Z"
   },
   {
    "duration": 2141,
    "start_time": "2023-10-20T17:35:19.200Z"
   },
   {
    "duration": 141,
    "start_time": "2023-10-20T17:35:21.346Z"
   },
   {
    "duration": 1909,
    "start_time": "2023-10-20T17:35:21.490Z"
   },
   {
    "duration": 79,
    "start_time": "2023-10-20T17:35:23.406Z"
   },
   {
    "duration": 1183,
    "start_time": "2023-10-20T17:35:23.488Z"
   },
   {
    "duration": 658,
    "start_time": "2023-10-20T17:35:24.681Z"
   },
   {
    "duration": 185,
    "start_time": "2023-10-20T17:35:25.343Z"
   },
   {
    "duration": 446,
    "start_time": "2023-10-20T17:35:25.531Z"
   },
   {
    "duration": 6555,
    "start_time": "2023-10-20T17:35:25.980Z"
   },
   {
    "duration": 935,
    "start_time": "2023-10-20T17:35:32.537Z"
   },
   {
    "duration": 150,
    "start_time": "2023-10-20T17:35:33.476Z"
   },
   {
    "duration": 83642154,
    "start_time": "2023-10-20T17:35:33.628Z"
   },
   {
    "duration": 641,
    "start_time": "2023-10-21T17:05:08.450Z"
   },
   {
    "duration": 8,
    "start_time": "2023-10-21T17:12:11.144Z"
   },
   {
    "duration": 5,
    "start_time": "2023-10-21T17:13:24.445Z"
   },
   {
    "duration": 8,
    "start_time": "2023-10-21T17:13:52.824Z"
   },
   {
    "duration": 22,
    "start_time": "2023-10-21T18:35:48.010Z"
   },
   {
    "duration": 0,
    "start_time": "2023-10-21T18:35:48.034Z"
   },
   {
    "duration": 0,
    "start_time": "2023-10-21T18:35:48.035Z"
   },
   {
    "duration": 0,
    "start_time": "2023-10-21T18:35:48.037Z"
   },
   {
    "duration": 0,
    "start_time": "2023-10-21T18:35:48.038Z"
   },
   {
    "duration": 3991523,
    "start_time": "2023-10-21T18:44:11.337Z"
   },
   {
    "duration": 6123,
    "start_time": "2023-10-21T19:50:42.862Z"
   },
   {
    "duration": 738,
    "start_time": "2023-10-21T19:50:48.986Z"
   },
   {
    "duration": 0,
    "start_time": "2023-10-21T19:50:49.726Z"
   },
   {
    "duration": 0,
    "start_time": "2023-10-21T19:50:49.728Z"
   },
   {
    "duration": 4916,
    "start_time": "2023-10-21T20:56:40.334Z"
   },
   {
    "duration": 5384,
    "start_time": "2023-10-21T20:58:51.980Z"
   },
   {
    "duration": 4718,
    "start_time": "2023-10-21T21:03:33.383Z"
   },
   {
    "duration": 4436,
    "start_time": "2023-10-21T21:04:08.566Z"
   },
   {
    "duration": 4838,
    "start_time": "2023-10-21T21:07:42.399Z"
   },
   {
    "duration": 4741,
    "start_time": "2023-10-21T21:08:59.551Z"
   },
   {
    "duration": 4388,
    "start_time": "2023-10-21T21:11:06.652Z"
   },
   {
    "duration": 4478,
    "start_time": "2023-10-21T21:11:29.363Z"
   },
   {
    "duration": 4605,
    "start_time": "2023-10-21T21:15:56.945Z"
   },
   {
    "duration": 59,
    "start_time": "2023-10-21T21:19:50.419Z"
   },
   {
    "duration": 26,
    "start_time": "2023-10-21T21:26:14.177Z"
   }
  ],
  "kernelspec": {
   "display_name": "Python 3 (ipykernel)",
   "language": "python",
   "name": "python3"
  },
  "language_info": {
   "codemirror_mode": {
    "name": "ipython",
    "version": 3
   },
   "file_extension": ".py",
   "mimetype": "text/x-python",
   "name": "python",
   "nbconvert_exporter": "python",
   "pygments_lexer": "ipython3",
   "version": "3.9.5"
  },
  "toc": {
   "base_numbering": 1,
   "nav_menu": {},
   "number_sections": true,
   "sideBar": true,
   "skip_h1_title": true,
   "title_cell": "Table of Contents",
   "title_sidebar": "Contents",
   "toc_cell": false,
   "toc_position": {},
   "toc_section_display": true,
   "toc_window_display": false
  }
 },
 "nbformat": 4,
 "nbformat_minor": 5
}
