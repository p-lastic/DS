{
 "cells": [
  {
   "cell_type": "markdown",
   "id": "120d3a97",
   "metadata": {
    "deletable": false,
    "editable": false,
    "id": "c81daeeb"
   },
   "source": [
    "# Исследование надежности заемщиков\n"
   ]
  },
  {
   "cell_type": "markdown",
   "id": "bffa2146",
   "metadata": {
    "id": "744d7639"
   },
   "source": [
    "## Изучение общей информации о данных"
   ]
  },
  {
   "cell_type": "code",
   "execution_count": 1,
   "id": "fe5f3036",
   "metadata": {
    "deletable": false,
    "id": "7bcf75c9"
   },
   "outputs": [],
   "source": [
    "#импорт библиотеки и загрузка данных\n",
    "\n",
    "import pandas as pd\n",
    "\n",
    "try:\n",
    "    data = pd.read_csv('/datasets/data.csv')\n",
    "except:\n",
    "    data = pd.read_csv('https://code.s3.yandex.net/datasets/data.csv')"
   ]
  },
  {
   "cell_type": "code",
   "execution_count": 2,
   "id": "36dd15a2",
   "metadata": {
    "deletable": false,
    "id": "2a7cab99",
    "outputId": "1a8f3ef2-d323-4ec2-ddf7-89670b5944c4"
   },
   "outputs": [
    {
     "data": {
      "text/html": [
       "<div>\n",
       "<style scoped>\n",
       "    .dataframe tbody tr th:only-of-type {\n",
       "        vertical-align: middle;\n",
       "    }\n",
       "\n",
       "    .dataframe tbody tr th {\n",
       "        vertical-align: top;\n",
       "    }\n",
       "\n",
       "    .dataframe thead th {\n",
       "        text-align: right;\n",
       "    }\n",
       "</style>\n",
       "<table border=\"1\" class=\"dataframe\">\n",
       "  <thead>\n",
       "    <tr style=\"text-align: right;\">\n",
       "      <th></th>\n",
       "      <th>children</th>\n",
       "      <th>days_employed</th>\n",
       "      <th>dob_years</th>\n",
       "      <th>education</th>\n",
       "      <th>education_id</th>\n",
       "      <th>family_status</th>\n",
       "      <th>family_status_id</th>\n",
       "      <th>gender</th>\n",
       "      <th>income_type</th>\n",
       "      <th>debt</th>\n",
       "      <th>total_income</th>\n",
       "      <th>purpose</th>\n",
       "    </tr>\n",
       "  </thead>\n",
       "  <tbody>\n",
       "    <tr>\n",
       "      <th>0</th>\n",
       "      <td>1</td>\n",
       "      <td>-8437.673028</td>\n",
       "      <td>42</td>\n",
       "      <td>высшее</td>\n",
       "      <td>0</td>\n",
       "      <td>женат / замужем</td>\n",
       "      <td>0</td>\n",
       "      <td>F</td>\n",
       "      <td>сотрудник</td>\n",
       "      <td>0</td>\n",
       "      <td>253875.639453</td>\n",
       "      <td>покупка жилья</td>\n",
       "    </tr>\n",
       "    <tr>\n",
       "      <th>1</th>\n",
       "      <td>1</td>\n",
       "      <td>-4024.803754</td>\n",
       "      <td>36</td>\n",
       "      <td>среднее</td>\n",
       "      <td>1</td>\n",
       "      <td>женат / замужем</td>\n",
       "      <td>0</td>\n",
       "      <td>F</td>\n",
       "      <td>сотрудник</td>\n",
       "      <td>0</td>\n",
       "      <td>112080.014102</td>\n",
       "      <td>приобретение автомобиля</td>\n",
       "    </tr>\n",
       "    <tr>\n",
       "      <th>2</th>\n",
       "      <td>0</td>\n",
       "      <td>-5623.422610</td>\n",
       "      <td>33</td>\n",
       "      <td>Среднее</td>\n",
       "      <td>1</td>\n",
       "      <td>женат / замужем</td>\n",
       "      <td>0</td>\n",
       "      <td>M</td>\n",
       "      <td>сотрудник</td>\n",
       "      <td>0</td>\n",
       "      <td>145885.952297</td>\n",
       "      <td>покупка жилья</td>\n",
       "    </tr>\n",
       "    <tr>\n",
       "      <th>3</th>\n",
       "      <td>3</td>\n",
       "      <td>-4124.747207</td>\n",
       "      <td>32</td>\n",
       "      <td>среднее</td>\n",
       "      <td>1</td>\n",
       "      <td>женат / замужем</td>\n",
       "      <td>0</td>\n",
       "      <td>M</td>\n",
       "      <td>сотрудник</td>\n",
       "      <td>0</td>\n",
       "      <td>267628.550329</td>\n",
       "      <td>дополнительное образование</td>\n",
       "    </tr>\n",
       "    <tr>\n",
       "      <th>4</th>\n",
       "      <td>0</td>\n",
       "      <td>340266.072047</td>\n",
       "      <td>53</td>\n",
       "      <td>среднее</td>\n",
       "      <td>1</td>\n",
       "      <td>гражданский брак</td>\n",
       "      <td>1</td>\n",
       "      <td>F</td>\n",
       "      <td>пенсионер</td>\n",
       "      <td>0</td>\n",
       "      <td>158616.077870</td>\n",
       "      <td>сыграть свадьбу</td>\n",
       "    </tr>\n",
       "    <tr>\n",
       "      <th>5</th>\n",
       "      <td>0</td>\n",
       "      <td>-926.185831</td>\n",
       "      <td>27</td>\n",
       "      <td>высшее</td>\n",
       "      <td>0</td>\n",
       "      <td>гражданский брак</td>\n",
       "      <td>1</td>\n",
       "      <td>M</td>\n",
       "      <td>компаньон</td>\n",
       "      <td>0</td>\n",
       "      <td>255763.565419</td>\n",
       "      <td>покупка жилья</td>\n",
       "    </tr>\n",
       "    <tr>\n",
       "      <th>6</th>\n",
       "      <td>0</td>\n",
       "      <td>-2879.202052</td>\n",
       "      <td>43</td>\n",
       "      <td>высшее</td>\n",
       "      <td>0</td>\n",
       "      <td>женат / замужем</td>\n",
       "      <td>0</td>\n",
       "      <td>F</td>\n",
       "      <td>компаньон</td>\n",
       "      <td>0</td>\n",
       "      <td>240525.971920</td>\n",
       "      <td>операции с жильем</td>\n",
       "    </tr>\n",
       "    <tr>\n",
       "      <th>7</th>\n",
       "      <td>0</td>\n",
       "      <td>-152.779569</td>\n",
       "      <td>50</td>\n",
       "      <td>СРЕДНЕЕ</td>\n",
       "      <td>1</td>\n",
       "      <td>женат / замужем</td>\n",
       "      <td>0</td>\n",
       "      <td>M</td>\n",
       "      <td>сотрудник</td>\n",
       "      <td>0</td>\n",
       "      <td>135823.934197</td>\n",
       "      <td>образование</td>\n",
       "    </tr>\n",
       "    <tr>\n",
       "      <th>8</th>\n",
       "      <td>2</td>\n",
       "      <td>-6929.865299</td>\n",
       "      <td>35</td>\n",
       "      <td>ВЫСШЕЕ</td>\n",
       "      <td>0</td>\n",
       "      <td>гражданский брак</td>\n",
       "      <td>1</td>\n",
       "      <td>F</td>\n",
       "      <td>сотрудник</td>\n",
       "      <td>0</td>\n",
       "      <td>95856.832424</td>\n",
       "      <td>на проведение свадьбы</td>\n",
       "    </tr>\n",
       "    <tr>\n",
       "      <th>9</th>\n",
       "      <td>0</td>\n",
       "      <td>-2188.756445</td>\n",
       "      <td>41</td>\n",
       "      <td>среднее</td>\n",
       "      <td>1</td>\n",
       "      <td>женат / замужем</td>\n",
       "      <td>0</td>\n",
       "      <td>M</td>\n",
       "      <td>сотрудник</td>\n",
       "      <td>0</td>\n",
       "      <td>144425.938277</td>\n",
       "      <td>покупка жилья для семьи</td>\n",
       "    </tr>\n",
       "    <tr>\n",
       "      <th>10</th>\n",
       "      <td>2</td>\n",
       "      <td>-4171.483647</td>\n",
       "      <td>36</td>\n",
       "      <td>высшее</td>\n",
       "      <td>0</td>\n",
       "      <td>женат / замужем</td>\n",
       "      <td>0</td>\n",
       "      <td>M</td>\n",
       "      <td>компаньон</td>\n",
       "      <td>0</td>\n",
       "      <td>113943.491460</td>\n",
       "      <td>покупка недвижимости</td>\n",
       "    </tr>\n",
       "    <tr>\n",
       "      <th>11</th>\n",
       "      <td>0</td>\n",
       "      <td>-792.701887</td>\n",
       "      <td>40</td>\n",
       "      <td>среднее</td>\n",
       "      <td>1</td>\n",
       "      <td>женат / замужем</td>\n",
       "      <td>0</td>\n",
       "      <td>F</td>\n",
       "      <td>сотрудник</td>\n",
       "      <td>0</td>\n",
       "      <td>77069.234271</td>\n",
       "      <td>покупка коммерческой недвижимости</td>\n",
       "    </tr>\n",
       "    <tr>\n",
       "      <th>12</th>\n",
       "      <td>0</td>\n",
       "      <td>NaN</td>\n",
       "      <td>65</td>\n",
       "      <td>среднее</td>\n",
       "      <td>1</td>\n",
       "      <td>гражданский брак</td>\n",
       "      <td>1</td>\n",
       "      <td>M</td>\n",
       "      <td>пенсионер</td>\n",
       "      <td>0</td>\n",
       "      <td>NaN</td>\n",
       "      <td>сыграть свадьбу</td>\n",
       "    </tr>\n",
       "    <tr>\n",
       "      <th>13</th>\n",
       "      <td>0</td>\n",
       "      <td>-1846.641941</td>\n",
       "      <td>54</td>\n",
       "      <td>неоконченное высшее</td>\n",
       "      <td>2</td>\n",
       "      <td>женат / замужем</td>\n",
       "      <td>0</td>\n",
       "      <td>F</td>\n",
       "      <td>сотрудник</td>\n",
       "      <td>0</td>\n",
       "      <td>130458.228857</td>\n",
       "      <td>приобретение автомобиля</td>\n",
       "    </tr>\n",
       "    <tr>\n",
       "      <th>14</th>\n",
       "      <td>0</td>\n",
       "      <td>-1844.956182</td>\n",
       "      <td>56</td>\n",
       "      <td>высшее</td>\n",
       "      <td>0</td>\n",
       "      <td>гражданский брак</td>\n",
       "      <td>1</td>\n",
       "      <td>F</td>\n",
       "      <td>компаньон</td>\n",
       "      <td>1</td>\n",
       "      <td>165127.911772</td>\n",
       "      <td>покупка жилой недвижимости</td>\n",
       "    </tr>\n",
       "    <tr>\n",
       "      <th>15</th>\n",
       "      <td>1</td>\n",
       "      <td>-972.364419</td>\n",
       "      <td>26</td>\n",
       "      <td>среднее</td>\n",
       "      <td>1</td>\n",
       "      <td>женат / замужем</td>\n",
       "      <td>0</td>\n",
       "      <td>F</td>\n",
       "      <td>сотрудник</td>\n",
       "      <td>0</td>\n",
       "      <td>116820.904450</td>\n",
       "      <td>строительство собственной недвижимости</td>\n",
       "    </tr>\n",
       "    <tr>\n",
       "      <th>16</th>\n",
       "      <td>0</td>\n",
       "      <td>-1719.934226</td>\n",
       "      <td>35</td>\n",
       "      <td>среднее</td>\n",
       "      <td>1</td>\n",
       "      <td>женат / замужем</td>\n",
       "      <td>0</td>\n",
       "      <td>F</td>\n",
       "      <td>сотрудник</td>\n",
       "      <td>0</td>\n",
       "      <td>289202.704229</td>\n",
       "      <td>недвижимость</td>\n",
       "    </tr>\n",
       "    <tr>\n",
       "      <th>17</th>\n",
       "      <td>0</td>\n",
       "      <td>-2369.999720</td>\n",
       "      <td>33</td>\n",
       "      <td>высшее</td>\n",
       "      <td>0</td>\n",
       "      <td>гражданский брак</td>\n",
       "      <td>1</td>\n",
       "      <td>M</td>\n",
       "      <td>сотрудник</td>\n",
       "      <td>0</td>\n",
       "      <td>90410.586745</td>\n",
       "      <td>строительство недвижимости</td>\n",
       "    </tr>\n",
       "    <tr>\n",
       "      <th>18</th>\n",
       "      <td>0</td>\n",
       "      <td>400281.136913</td>\n",
       "      <td>53</td>\n",
       "      <td>среднее</td>\n",
       "      <td>1</td>\n",
       "      <td>вдовец / вдова</td>\n",
       "      <td>2</td>\n",
       "      <td>F</td>\n",
       "      <td>пенсионер</td>\n",
       "      <td>0</td>\n",
       "      <td>56823.777243</td>\n",
       "      <td>на покупку подержанного автомобиля</td>\n",
       "    </tr>\n",
       "    <tr>\n",
       "      <th>19</th>\n",
       "      <td>0</td>\n",
       "      <td>-10038.818549</td>\n",
       "      <td>48</td>\n",
       "      <td>СРЕДНЕЕ</td>\n",
       "      <td>1</td>\n",
       "      <td>в разводе</td>\n",
       "      <td>3</td>\n",
       "      <td>F</td>\n",
       "      <td>сотрудник</td>\n",
       "      <td>0</td>\n",
       "      <td>242831.107982</td>\n",
       "      <td>на покупку своего автомобиля</td>\n",
       "    </tr>\n",
       "  </tbody>\n",
       "</table>\n",
       "</div>"
      ],
      "text/plain": [
       "    children  days_employed  dob_years            education  education_id  \\\n",
       "0          1   -8437.673028         42               высшее             0   \n",
       "1          1   -4024.803754         36              среднее             1   \n",
       "2          0   -5623.422610         33              Среднее             1   \n",
       "3          3   -4124.747207         32              среднее             1   \n",
       "4          0  340266.072047         53              среднее             1   \n",
       "5          0    -926.185831         27               высшее             0   \n",
       "6          0   -2879.202052         43               высшее             0   \n",
       "7          0    -152.779569         50              СРЕДНЕЕ             1   \n",
       "8          2   -6929.865299         35               ВЫСШЕЕ             0   \n",
       "9          0   -2188.756445         41              среднее             1   \n",
       "10         2   -4171.483647         36               высшее             0   \n",
       "11         0    -792.701887         40              среднее             1   \n",
       "12         0            NaN         65              среднее             1   \n",
       "13         0   -1846.641941         54  неоконченное высшее             2   \n",
       "14         0   -1844.956182         56               высшее             0   \n",
       "15         1    -972.364419         26              среднее             1   \n",
       "16         0   -1719.934226         35              среднее             1   \n",
       "17         0   -2369.999720         33               высшее             0   \n",
       "18         0  400281.136913         53              среднее             1   \n",
       "19         0  -10038.818549         48              СРЕДНЕЕ             1   \n",
       "\n",
       "       family_status  family_status_id gender income_type  debt  \\\n",
       "0    женат / замужем                 0      F   сотрудник     0   \n",
       "1    женат / замужем                 0      F   сотрудник     0   \n",
       "2    женат / замужем                 0      M   сотрудник     0   \n",
       "3    женат / замужем                 0      M   сотрудник     0   \n",
       "4   гражданский брак                 1      F   пенсионер     0   \n",
       "5   гражданский брак                 1      M   компаньон     0   \n",
       "6    женат / замужем                 0      F   компаньон     0   \n",
       "7    женат / замужем                 0      M   сотрудник     0   \n",
       "8   гражданский брак                 1      F   сотрудник     0   \n",
       "9    женат / замужем                 0      M   сотрудник     0   \n",
       "10   женат / замужем                 0      M   компаньон     0   \n",
       "11   женат / замужем                 0      F   сотрудник     0   \n",
       "12  гражданский брак                 1      M   пенсионер     0   \n",
       "13   женат / замужем                 0      F   сотрудник     0   \n",
       "14  гражданский брак                 1      F   компаньон     1   \n",
       "15   женат / замужем                 0      F   сотрудник     0   \n",
       "16   женат / замужем                 0      F   сотрудник     0   \n",
       "17  гражданский брак                 1      M   сотрудник     0   \n",
       "18    вдовец / вдова                 2      F   пенсионер     0   \n",
       "19         в разводе                 3      F   сотрудник     0   \n",
       "\n",
       "     total_income                                 purpose  \n",
       "0   253875.639453                           покупка жилья  \n",
       "1   112080.014102                 приобретение автомобиля  \n",
       "2   145885.952297                           покупка жилья  \n",
       "3   267628.550329              дополнительное образование  \n",
       "4   158616.077870                         сыграть свадьбу  \n",
       "5   255763.565419                           покупка жилья  \n",
       "6   240525.971920                       операции с жильем  \n",
       "7   135823.934197                             образование  \n",
       "8    95856.832424                   на проведение свадьбы  \n",
       "9   144425.938277                 покупка жилья для семьи  \n",
       "10  113943.491460                    покупка недвижимости  \n",
       "11   77069.234271       покупка коммерческой недвижимости  \n",
       "12            NaN                         сыграть свадьбу  \n",
       "13  130458.228857                 приобретение автомобиля  \n",
       "14  165127.911772              покупка жилой недвижимости  \n",
       "15  116820.904450  строительство собственной недвижимости  \n",
       "16  289202.704229                            недвижимость  \n",
       "17   90410.586745              строительство недвижимости  \n",
       "18   56823.777243      на покупку подержанного автомобиля  \n",
       "19  242831.107982            на покупку своего автомобиля  "
      ]
     },
     "execution_count": 2,
     "metadata": {},
     "output_type": "execute_result"
    }
   ],
   "source": [
    "#вывод строк датафрейма\n",
    "\n",
    "data.head(20)"
   ]
  },
  {
   "cell_type": "code",
   "execution_count": 3,
   "id": "71c2b051",
   "metadata": {
    "deletable": false,
    "id": "2b757bca",
    "outputId": "15376089-8dad-46c9-b520-c05248d43158"
   },
   "outputs": [
    {
     "name": "stdout",
     "output_type": "stream",
     "text": [
      "<class 'pandas.core.frame.DataFrame'>\n",
      "RangeIndex: 21525 entries, 0 to 21524\n",
      "Data columns (total 12 columns):\n",
      " #   Column            Non-Null Count  Dtype  \n",
      "---  ------            --------------  -----  \n",
      " 0   children          21525 non-null  int64  \n",
      " 1   days_employed     19351 non-null  float64\n",
      " 2   dob_years         21525 non-null  int64  \n",
      " 3   education         21525 non-null  object \n",
      " 4   education_id      21525 non-null  int64  \n",
      " 5   family_status     21525 non-null  object \n",
      " 6   family_status_id  21525 non-null  int64  \n",
      " 7   gender            21525 non-null  object \n",
      " 8   income_type       21525 non-null  object \n",
      " 9   debt              21525 non-null  int64  \n",
      " 10  total_income      19351 non-null  float64\n",
      " 11  purpose           21525 non-null  object \n",
      "dtypes: float64(2), int64(5), object(5)\n",
      "memory usage: 2.0+ MB\n"
     ]
    }
   ],
   "source": [
    "#вывод основной информации \n",
    "\n",
    "data.info()"
   ]
  },
  {
   "cell_type": "code",
   "execution_count": 4,
   "id": "f1eb8cb6",
   "metadata": {},
   "outputs": [
    {
     "data": {
      "text/html": [
       "<div>\n",
       "<style scoped>\n",
       "    .dataframe tbody tr th:only-of-type {\n",
       "        vertical-align: middle;\n",
       "    }\n",
       "\n",
       "    .dataframe tbody tr th {\n",
       "        vertical-align: top;\n",
       "    }\n",
       "\n",
       "    .dataframe thead th {\n",
       "        text-align: right;\n",
       "    }\n",
       "</style>\n",
       "<table border=\"1\" class=\"dataframe\">\n",
       "  <thead>\n",
       "    <tr style=\"text-align: right;\">\n",
       "      <th></th>\n",
       "      <th>children</th>\n",
       "      <th>days_employed</th>\n",
       "      <th>dob_years</th>\n",
       "      <th>education_id</th>\n",
       "      <th>family_status_id</th>\n",
       "      <th>debt</th>\n",
       "      <th>total_income</th>\n",
       "    </tr>\n",
       "  </thead>\n",
       "  <tbody>\n",
       "    <tr>\n",
       "      <th>count</th>\n",
       "      <td>21525.000000</td>\n",
       "      <td>19351.000000</td>\n",
       "      <td>21525.000000</td>\n",
       "      <td>21525.000000</td>\n",
       "      <td>21525.000000</td>\n",
       "      <td>21525.000000</td>\n",
       "      <td>1.935100e+04</td>\n",
       "    </tr>\n",
       "    <tr>\n",
       "      <th>mean</th>\n",
       "      <td>0.538908</td>\n",
       "      <td>63046.497661</td>\n",
       "      <td>43.293380</td>\n",
       "      <td>0.817236</td>\n",
       "      <td>0.972544</td>\n",
       "      <td>0.080883</td>\n",
       "      <td>1.674223e+05</td>\n",
       "    </tr>\n",
       "    <tr>\n",
       "      <th>std</th>\n",
       "      <td>1.381587</td>\n",
       "      <td>140827.311974</td>\n",
       "      <td>12.574584</td>\n",
       "      <td>0.548138</td>\n",
       "      <td>1.420324</td>\n",
       "      <td>0.272661</td>\n",
       "      <td>1.029716e+05</td>\n",
       "    </tr>\n",
       "    <tr>\n",
       "      <th>min</th>\n",
       "      <td>-1.000000</td>\n",
       "      <td>-18388.949901</td>\n",
       "      <td>0.000000</td>\n",
       "      <td>0.000000</td>\n",
       "      <td>0.000000</td>\n",
       "      <td>0.000000</td>\n",
       "      <td>2.066726e+04</td>\n",
       "    </tr>\n",
       "    <tr>\n",
       "      <th>25%</th>\n",
       "      <td>0.000000</td>\n",
       "      <td>-2747.423625</td>\n",
       "      <td>33.000000</td>\n",
       "      <td>1.000000</td>\n",
       "      <td>0.000000</td>\n",
       "      <td>0.000000</td>\n",
       "      <td>1.030532e+05</td>\n",
       "    </tr>\n",
       "    <tr>\n",
       "      <th>50%</th>\n",
       "      <td>0.000000</td>\n",
       "      <td>-1203.369529</td>\n",
       "      <td>42.000000</td>\n",
       "      <td>1.000000</td>\n",
       "      <td>0.000000</td>\n",
       "      <td>0.000000</td>\n",
       "      <td>1.450179e+05</td>\n",
       "    </tr>\n",
       "    <tr>\n",
       "      <th>75%</th>\n",
       "      <td>1.000000</td>\n",
       "      <td>-291.095954</td>\n",
       "      <td>53.000000</td>\n",
       "      <td>1.000000</td>\n",
       "      <td>1.000000</td>\n",
       "      <td>0.000000</td>\n",
       "      <td>2.034351e+05</td>\n",
       "    </tr>\n",
       "    <tr>\n",
       "      <th>max</th>\n",
       "      <td>20.000000</td>\n",
       "      <td>401755.400475</td>\n",
       "      <td>75.000000</td>\n",
       "      <td>4.000000</td>\n",
       "      <td>4.000000</td>\n",
       "      <td>1.000000</td>\n",
       "      <td>2.265604e+06</td>\n",
       "    </tr>\n",
       "  </tbody>\n",
       "</table>\n",
       "</div>"
      ],
      "text/plain": [
       "           children  days_employed     dob_years  education_id  \\\n",
       "count  21525.000000   19351.000000  21525.000000  21525.000000   \n",
       "mean       0.538908   63046.497661     43.293380      0.817236   \n",
       "std        1.381587  140827.311974     12.574584      0.548138   \n",
       "min       -1.000000  -18388.949901      0.000000      0.000000   \n",
       "25%        0.000000   -2747.423625     33.000000      1.000000   \n",
       "50%        0.000000   -1203.369529     42.000000      1.000000   \n",
       "75%        1.000000    -291.095954     53.000000      1.000000   \n",
       "max       20.000000  401755.400475     75.000000      4.000000   \n",
       "\n",
       "       family_status_id          debt  total_income  \n",
       "count      21525.000000  21525.000000  1.935100e+04  \n",
       "mean           0.972544      0.080883  1.674223e+05  \n",
       "std            1.420324      0.272661  1.029716e+05  \n",
       "min            0.000000      0.000000  2.066726e+04  \n",
       "25%            0.000000      0.000000  1.030532e+05  \n",
       "50%            0.000000      0.000000  1.450179e+05  \n",
       "75%            1.000000      0.000000  2.034351e+05  \n",
       "max            4.000000      1.000000  2.265604e+06  "
      ]
     },
     "execution_count": 4,
     "metadata": {},
     "output_type": "execute_result"
    }
   ],
   "source": [
    "data.describe()"
   ]
  },
  {
   "cell_type": "markdown",
   "id": "82c2eb3b",
   "metadata": {},
   "source": [
    "Заметны неявные дубликаты в столбце education.  \n",
    "Существуют аномалии в признаке children (мах 20, min -1), отрицательные значения days_employed.  \n",
    "В двух столбцах есть пропущенные значения, они связаны между собой. total_income — хранит данные о доходах и days_employed - дни трудового стажа. Пропуски обнаружились в 2174 строках одновременно. Эти столбцы отличаются от остальных типом данных - вещественное число. Возможно, причина в этом. Например, сотрудник банка или клиент внес строчное значение - \"нет\", после чего данные для удобства хранения и использования форматировали в тип float64, и данные оказались утеряны."
   ]
  },
  {
   "cell_type": "markdown",
   "id": "9beeeb71",
   "metadata": {
    "deletable": false,
    "editable": false,
    "id": "333ec665"
   },
   "source": [
    "## Предобработка данных"
   ]
  },
  {
   "cell_type": "markdown",
   "id": "734ece45",
   "metadata": {
    "id": "02d92d53"
   },
   "source": [
    "### Обработка пропусков"
   ]
  },
  {
   "cell_type": "markdown",
   "id": "663e8515",
   "metadata": {},
   "source": [
    "На сумму дохода (total_income) сильнее всего влияет тип занятости, а медиана наименее чувствительна к выбросам и аномальным значениям, поэтому буду заполнять пропуски в столбце медианным значением по каждому типу из столбца income_type. Например, у человека с типом занятости сотрудник пропуск в столбце total_income будет заполнен медианным доходом среди всех записей с тем же типом. "
   ]
  },
  {
   "cell_type": "code",
   "execution_count": 5,
   "id": "b6021c9a",
   "metadata": {
    "deletable": false,
    "id": "42006a93"
   },
   "outputs": [],
   "source": [
    "#заполнение пропусков total_income медианным значением по типу дохода\n",
    "\n",
    "for t in data['income_type'].unique():\n",
    "    data.loc[(data['income_type'] == t) & (data['total_income'].isna()), 'total_income'] = \\\n",
    "    data.loc[(data['income_type'] == t), 'total_income'].median()"
   ]
  },
  {
   "cell_type": "markdown",
   "id": "43f1c7f9",
   "metadata": {
    "id": "57964554"
   },
   "source": [
    "В данных легко заметить аномалию - отрицательное количество дней трудового стажа в столбце `days_employed`, появившихся вероятно по технической ошибке. Заменяю все отрицательные значения положительными с помощью модуля числа, метода `abs()`."
   ]
  },
  {
   "cell_type": "code",
   "execution_count": 6,
   "id": "89fc13f1",
   "metadata": {
    "deletable": false,
    "id": "f6f055bf"
   },
   "outputs": [],
   "source": [
    "data['days_employed'] = data['days_employed'].abs()"
   ]
  },
  {
   "cell_type": "code",
   "execution_count": 7,
   "id": "d9cd1182",
   "metadata": {
    "deletable": false,
    "id": "ef5056eb",
    "outputId": "6975b15c-7f95-4697-d16d-a0c79b657b03"
   },
   "outputs": [
    {
     "data": {
      "text/plain": [
       " 0     14149\n",
       " 1      4818\n",
       " 2      2055\n",
       " 3       330\n",
       " 20       76\n",
       "-1        47\n",
       " 4        41\n",
       " 5         9\n",
       "Name: children, dtype: int64"
      ]
     },
     "execution_count": 7,
     "metadata": {},
     "output_type": "execute_result"
    }
   ],
   "source": [
    "#подсчет уникальных значений признака \"количество детей\"\n",
    "\n",
    "data['children'].value_counts()"
   ]
  },
  {
   "cell_type": "markdown",
   "id": "7a573a61",
   "metadata": {},
   "source": [
    "В столбце children есть два аномальных значения. Удаляю эти строки, потому что признак важен для исследования."
   ]
  },
  {
   "cell_type": "code",
   "execution_count": 8,
   "id": "526d1482",
   "metadata": {
    "deletable": false,
    "id": "3ff9801d"
   },
   "outputs": [],
   "source": [
    "data = data[(data['children'] != -1) & (data['children'] != 20)]"
   ]
  },
  {
   "cell_type": "markdown",
   "id": "02dd6635",
   "metadata": {},
   "source": [
    "Пропуски в столбце days_employed заполняю медианными значениями по каждому типу занятости income_type."
   ]
  },
  {
   "cell_type": "code",
   "execution_count": 9,
   "id": "5f872e2b",
   "metadata": {
    "deletable": false,
    "id": "af6b1a7e"
   },
   "outputs": [],
   "source": [
    "for t in data['income_type'].unique():\n",
    "    data.loc[(data['income_type'] == t) & (data['days_employed'].isna()), 'days_employed'] = \\\n",
    "    data.loc[(data['income_type'] == t), 'days_employed'].median()"
   ]
  },
  {
   "cell_type": "code",
   "execution_count": 10,
   "id": "29a1a6e1",
   "metadata": {
    "deletable": false,
    "id": "55f78bc2",
    "outputId": "8da1e4e1-358e-4e87-98c9-f261bce0a7b2"
   },
   "outputs": [
    {
     "data": {
      "text/plain": [
       "children            0\n",
       "days_employed       0\n",
       "dob_years           0\n",
       "education           0\n",
       "education_id        0\n",
       "family_status       0\n",
       "family_status_id    0\n",
       "gender              0\n",
       "income_type         0\n",
       "debt                0\n",
       "total_income        0\n",
       "purpose             0\n",
       "dtype: int64"
      ]
     },
     "execution_count": 10,
     "metadata": {},
     "output_type": "execute_result"
    }
   ],
   "source": [
    "#проверка отсутствия пропусков\n",
    "\n",
    "data.isna().sum()"
   ]
  },
  {
   "cell_type": "markdown",
   "id": "c91b5c7d",
   "metadata": {
    "deletable": false,
    "editable": false,
    "id": "ddc81e43"
   },
   "source": [
    "### Изменение типов данных"
   ]
  },
  {
   "cell_type": "code",
   "execution_count": 11,
   "id": "83651591",
   "metadata": {
    "deletable": false,
    "id": "920b65ad"
   },
   "outputs": [],
   "source": [
    "#преведение total_income к корректному типу данных\n",
    "\n",
    "data['total_income'] = data['total_income'].astype(int)"
   ]
  },
  {
   "cell_type": "markdown",
   "id": "1974bf40",
   "metadata": {
    "deletable": false,
    "editable": false,
    "id": "80c420ba"
   },
   "source": [
    "### Обработка дубликатов"
   ]
  },
  {
   "cell_type": "code",
   "execution_count": 12,
   "id": "80650b2d",
   "metadata": {
    "deletable": false
   },
   "outputs": [],
   "source": [
    "#преведение значений признака education к нижнему регистру \n",
    "\n",
    "data['education'] = data['education'].str.lower()"
   ]
  },
  {
   "cell_type": "code",
   "execution_count": 13,
   "id": "adaa63b6",
   "metadata": {
    "deletable": false,
    "id": "3ee445e4",
    "outputId": "9684deba-1934-42d1-99e1-cda61740f822"
   },
   "outputs": [
    {
     "data": {
      "text/plain": [
       "71"
      ]
     },
     "execution_count": 13,
     "metadata": {},
     "output_type": "execute_result"
    }
   ],
   "source": [
    "#вывод количества строк-дубликатов\n",
    "\n",
    "data.duplicated().sum()"
   ]
  },
  {
   "cell_type": "code",
   "execution_count": 14,
   "id": "9bce4d0e",
   "metadata": {
    "deletable": false,
    "id": "8575fe05"
   },
   "outputs": [],
   "source": [
    "#удаление дублей \n",
    "\n",
    "data = data.drop_duplicates()"
   ]
  },
  {
   "cell_type": "markdown",
   "id": "dc7d8fb6",
   "metadata": {
    "deletable": false,
    "editable": false,
    "id": "9904cf55"
   },
   "source": [
    "### Категоризация данных"
   ]
  },
  {
   "cell_type": "markdown",
   "id": "9efc6fde",
   "metadata": {
    "id": "72fcc8a2"
   },
   "source": [
    "На основании диапазонов, указанных ниже, создам в `data` столбец `total_income_category` с категориями дохода:\n",
    "\n",
    "- 0–30000 — `'E'`;\n",
    "- 30001–50000 — `'D'`;\n",
    "- 50001–200000 — `'C'`;\n",
    "- 200001–1000000 — `'B'`;\n",
    "- 1000001 и выше — `'A'`."
   ]
  },
  {
   "cell_type": "code",
   "execution_count": 15,
   "id": "f28a4396",
   "metadata": {
    "deletable": false,
    "id": "e1771346"
   },
   "outputs": [],
   "source": [
    "def categorize_income(income):\n",
    "    try:\n",
    "        if 0 <= income <= 30000:\n",
    "            return 'E'\n",
    "        elif 30001 <= income <= 50000:\n",
    "            return 'D'\n",
    "        elif 50001 <= income <= 200000:\n",
    "            return 'C'\n",
    "        elif 200001 <= income <= 1000000:\n",
    "            return 'B'\n",
    "        elif income >= 1000001:\n",
    "            return 'A'\n",
    "    except:\n",
    "        pass"
   ]
  },
  {
   "cell_type": "code",
   "execution_count": 16,
   "id": "2605406c",
   "metadata": {
    "deletable": false,
    "id": "d5f3586d"
   },
   "outputs": [],
   "source": [
    "data['total_income_category'] = data['total_income'].apply(categorize_income)"
   ]
  },
  {
   "cell_type": "markdown",
   "id": "b9cd8735",
   "metadata": {},
   "source": [
    "На основании данных из столбца purpose сформирую новый столбец purpose_category, в который войдут следующие категории:\n",
    "\n",
    "-'операции с автомобилем',  \n",
    "-'операции с недвижимостью',  \n",
    "-'проведение свадьбы',  \n",
    "-'получение образования'."
   ]
  },
  {
   "cell_type": "code",
   "execution_count": 17,
   "id": "50d6d9c3",
   "metadata": {
    "deletable": false,
    "id": "f67ce9b3",
    "outputId": "673c12d9-7d7e-4ae0-9812-c622c89dd244"
   },
   "outputs": [
    {
     "data": {
      "text/plain": [
       "array(['покупка жилья', 'приобретение автомобиля',\n",
       "       'дополнительное образование', 'сыграть свадьбу',\n",
       "       'операции с жильем', 'образование', 'на проведение свадьбы',\n",
       "       'покупка жилья для семьи', 'покупка недвижимости',\n",
       "       'покупка коммерческой недвижимости', 'покупка жилой недвижимости',\n",
       "       'строительство собственной недвижимости', 'недвижимость',\n",
       "       'строительство недвижимости', 'на покупку подержанного автомобиля',\n",
       "       'на покупку своего автомобиля',\n",
       "       'операции с коммерческой недвижимостью',\n",
       "       'строительство жилой недвижимости', 'жилье',\n",
       "       'операции со своей недвижимостью', 'автомобили',\n",
       "       'заняться образованием', 'сделка с подержанным автомобилем',\n",
       "       'получение образования', 'автомобиль', 'свадьба',\n",
       "       'получение дополнительного образования', 'покупка своего жилья',\n",
       "       'операции с недвижимостью', 'получение высшего образования',\n",
       "       'свой автомобиль', 'сделка с автомобилем',\n",
       "       'профильное образование', 'высшее образование',\n",
       "       'покупка жилья для сдачи', 'на покупку автомобиля', 'ремонт жилью',\n",
       "       'заняться высшим образованием'], dtype=object)"
      ]
     },
     "execution_count": 17,
     "metadata": {},
     "output_type": "execute_result"
    }
   ],
   "source": [
    "#перечень уникальных целей взятия кредита из столбца purpose\n",
    "\n",
    "data['purpose'].unique()"
   ]
  },
  {
   "cell_type": "code",
   "execution_count": 18,
   "id": "c24869a2",
   "metadata": {
    "deletable": false,
    "id": "e149fab4"
   },
   "outputs": [],
   "source": [
    "def categorize_purpose(row):\n",
    "    try:\n",
    "        if 'автом' in row:\n",
    "            return 'операции с автомобилем'\n",
    "        elif 'жил' in row or 'недвиж' in row:\n",
    "            return 'операции с недвижимостью'\n",
    "        elif 'свад' in row:\n",
    "            return 'проведение свадьбы'\n",
    "        elif 'образов' in row:\n",
    "            return 'получение образования'\n",
    "    except:\n",
    "        return 'нет категории'"
   ]
  },
  {
   "cell_type": "code",
   "execution_count": 19,
   "id": "759efb2a",
   "metadata": {
    "deletable": false,
    "id": "bf36e69b"
   },
   "outputs": [],
   "source": [
    "data['purpose_category'] = data['purpose'].apply(categorize_purpose)"
   ]
  },
  {
   "cell_type": "markdown",
   "id": "4e8e507b",
   "metadata": {
    "id": "09b242bf"
   },
   "source": [
    "## Выявление закономерностей"
   ]
  },
  {
   "cell_type": "markdown",
   "id": "ee493a78",
   "metadata": {
    "id": "c5d66278"
   },
   "source": [
    "### Есть ли зависимость между количеством детей и возвратом кредита в срок?"
   ]
  },
  {
   "cell_type": "code",
   "execution_count": 20,
   "id": "96e524e0",
   "metadata": {},
   "outputs": [
    {
     "data": {
      "text/html": [
       "<div>\n",
       "<style scoped>\n",
       "    .dataframe tbody tr th:only-of-type {\n",
       "        vertical-align: middle;\n",
       "    }\n",
       "\n",
       "    .dataframe tbody tr th {\n",
       "        vertical-align: top;\n",
       "    }\n",
       "\n",
       "    .dataframe thead th {\n",
       "        text-align: right;\n",
       "    }\n",
       "</style>\n",
       "<table border=\"1\" class=\"dataframe\">\n",
       "  <thead>\n",
       "    <tr style=\"text-align: right;\">\n",
       "      <th></th>\n",
       "      <th>debt</th>\n",
       "    </tr>\n",
       "    <tr>\n",
       "      <th>children</th>\n",
       "      <th></th>\n",
       "    </tr>\n",
       "  </thead>\n",
       "  <tbody>\n",
       "    <tr>\n",
       "      <th>0</th>\n",
       "      <td>0.075438</td>\n",
       "    </tr>\n",
       "    <tr>\n",
       "      <th>1</th>\n",
       "      <td>0.092346</td>\n",
       "    </tr>\n",
       "    <tr>\n",
       "      <th>2</th>\n",
       "      <td>0.094542</td>\n",
       "    </tr>\n",
       "    <tr>\n",
       "      <th>3</th>\n",
       "      <td>0.081818</td>\n",
       "    </tr>\n",
       "    <tr>\n",
       "      <th>4</th>\n",
       "      <td>0.097561</td>\n",
       "    </tr>\n",
       "    <tr>\n",
       "      <th>5</th>\n",
       "      <td>0.000000</td>\n",
       "    </tr>\n",
       "  </tbody>\n",
       "</table>\n",
       "</div>"
      ],
      "text/plain": [
       "              debt\n",
       "children          \n",
       "0         0.075438\n",
       "1         0.092346\n",
       "2         0.094542\n",
       "3         0.081818\n",
       "4         0.097561\n",
       "5         0.000000"
      ]
     },
     "execution_count": 20,
     "metadata": {},
     "output_type": "execute_result"
    }
   ],
   "source": [
    "#создание сводной таблицы с долями должников, группированных по количеству детей\n",
    "\n",
    "data.pivot_table(index = ['children'], values ='debt')"
   ]
  },
  {
   "cell_type": "markdown",
   "id": "f1d2c182",
   "metadata": {
    "id": "3a6b99ec"
   },
   "source": [
    "**Вывод:** \n",
    "Выделяется категория заемщиков с пятью детьми стопроцентной выплатой в срок, но выборка из 9 человек слишком мала, чтобы делать вывод - выборка не сбалансирована.    \n",
    "В срок чаще остальных выплачивают бездетные (должников среди этой группы 7,5%),  \n",
    "Следующие в топе заемщики с тремя детьми (8,1%),  \n",
    "Большие доли должников среди заемщиков с 1 и 2 детьми (9,2% и 9,4% соответственно)."
   ]
  },
  {
   "cell_type": "markdown",
   "id": "bfb3a59e",
   "metadata": {
    "id": "97be82ca"
   },
   "source": [
    "### Есть ли зависимость между семейным положением и возвратом кредита в срок?"
   ]
  },
  {
   "cell_type": "code",
   "execution_count": 21,
   "id": "bd644e8f",
   "metadata": {},
   "outputs": [
    {
     "data": {
      "text/html": [
       "<div>\n",
       "<style scoped>\n",
       "    .dataframe tbody tr th:only-of-type {\n",
       "        vertical-align: middle;\n",
       "    }\n",
       "\n",
       "    .dataframe tbody tr th {\n",
       "        vertical-align: top;\n",
       "    }\n",
       "\n",
       "    .dataframe thead th {\n",
       "        text-align: right;\n",
       "    }\n",
       "</style>\n",
       "<table border=\"1\" class=\"dataframe\">\n",
       "  <thead>\n",
       "    <tr style=\"text-align: right;\">\n",
       "      <th></th>\n",
       "      <th>debt</th>\n",
       "    </tr>\n",
       "    <tr>\n",
       "      <th>family_status</th>\n",
       "      <th></th>\n",
       "    </tr>\n",
       "  </thead>\n",
       "  <tbody>\n",
       "    <tr>\n",
       "      <th>Не женат / не замужем</th>\n",
       "      <td>0.097639</td>\n",
       "    </tr>\n",
       "    <tr>\n",
       "      <th>в разводе</th>\n",
       "      <td>0.070648</td>\n",
       "    </tr>\n",
       "    <tr>\n",
       "      <th>вдовец / вдова</th>\n",
       "      <td>0.066246</td>\n",
       "    </tr>\n",
       "    <tr>\n",
       "      <th>гражданский брак</th>\n",
       "      <td>0.093130</td>\n",
       "    </tr>\n",
       "    <tr>\n",
       "      <th>женат / замужем</th>\n",
       "      <td>0.075606</td>\n",
       "    </tr>\n",
       "  </tbody>\n",
       "</table>\n",
       "</div>"
      ],
      "text/plain": [
       "                           debt\n",
       "family_status                  \n",
       "Не женат / не замужем  0.097639\n",
       "в разводе              0.070648\n",
       "вдовец / вдова         0.066246\n",
       "гражданский брак       0.093130\n",
       "женат / замужем        0.075606"
      ]
     },
     "execution_count": 21,
     "metadata": {},
     "output_type": "execute_result"
    }
   ],
   "source": [
    "#создание сводной таблицы с долями должников, группированных по семейному положению\n",
    "\n",
    "data.pivot_table(index = ['family_status'], values ='debt')"
   ]
  },
  {
   "cell_type": "markdown",
   "id": "e880051c",
   "metadata": {
    "deletable": false,
    "id": "1cef7837"
   },
   "source": [
    "**Вывод:**   \n",
    "Cамая высокая доля возращенных вовремя кредитов у вдов/вдовцов и чуть меньше у разведенных.   \n",
    "Cамая низкая доля у тех, кто никогда не был в браке."
   ]
  },
  {
   "cell_type": "markdown",
   "id": "831bd19a",
   "metadata": {
    "id": "1e8b2fca"
   },
   "source": [
    "### Есть ли зависимость между уровнем дохода и возвратом кредита в срок?"
   ]
  },
  {
   "cell_type": "code",
   "execution_count": 22,
   "id": "d6c8f556",
   "metadata": {},
   "outputs": [
    {
     "data": {
      "text/html": [
       "<div>\n",
       "<style scoped>\n",
       "    .dataframe tbody tr th:only-of-type {\n",
       "        vertical-align: middle;\n",
       "    }\n",
       "\n",
       "    .dataframe tbody tr th {\n",
       "        vertical-align: top;\n",
       "    }\n",
       "\n",
       "    .dataframe thead th {\n",
       "        text-align: right;\n",
       "    }\n",
       "</style>\n",
       "<table border=\"1\" class=\"dataframe\">\n",
       "  <thead>\n",
       "    <tr style=\"text-align: right;\">\n",
       "      <th></th>\n",
       "      <th>debt</th>\n",
       "    </tr>\n",
       "    <tr>\n",
       "      <th>total_income_category</th>\n",
       "      <th></th>\n",
       "    </tr>\n",
       "  </thead>\n",
       "  <tbody>\n",
       "    <tr>\n",
       "      <th>A</th>\n",
       "      <td>0.080000</td>\n",
       "    </tr>\n",
       "    <tr>\n",
       "      <th>B</th>\n",
       "      <td>0.070602</td>\n",
       "    </tr>\n",
       "    <tr>\n",
       "      <th>C</th>\n",
       "      <td>0.084982</td>\n",
       "    </tr>\n",
       "    <tr>\n",
       "      <th>D</th>\n",
       "      <td>0.060172</td>\n",
       "    </tr>\n",
       "    <tr>\n",
       "      <th>E</th>\n",
       "      <td>0.090909</td>\n",
       "    </tr>\n",
       "  </tbody>\n",
       "</table>\n",
       "</div>"
      ],
      "text/plain": [
       "                           debt\n",
       "total_income_category          \n",
       "A                      0.080000\n",
       "B                      0.070602\n",
       "C                      0.084982\n",
       "D                      0.060172\n",
       "E                      0.090909"
      ]
     },
     "execution_count": 22,
     "metadata": {},
     "output_type": "execute_result"
    }
   ],
   "source": [
    "#создание сводной таблицы с долями должников, группированных по уровню дохода\n",
    "\n",
    "data.pivot_table(index = ['total_income_category'], values ='debt')"
   ]
  },
  {
   "cell_type": "markdown",
   "id": "7b07fe02",
   "metadata": {
    "deletable": false,
    "id": "e8593def"
   },
   "source": [
    "**Вывод:**   \n",
    "Выборка по заемщикам, как с наименьшим доходом, так и с наибольшим крайне недостаточна для формирования однозначных выводов.  \n",
    "По результатам подсчетов видно, что зависимости \"больше доход заемщика - выше доля возврата в срок\" - нет, поскольку:  \n",
    "-чаще всего возвращают вовремя заемщики с доходом 30-50 тыс, но при этом   \n",
    "-реже всего возвращают заемщики с самым низким доходом - до 30 тыс. "
   ]
  },
  {
   "cell_type": "markdown",
   "id": "3011177b",
   "metadata": {
    "id": "99ecbd1f"
   },
   "source": [
    "### Как разные цели кредита влияют на его возврат в срок?"
   ]
  },
  {
   "cell_type": "code",
   "execution_count": 23,
   "id": "bd01c71d",
   "metadata": {},
   "outputs": [
    {
     "data": {
      "text/html": [
       "<div>\n",
       "<style scoped>\n",
       "    .dataframe tbody tr th:only-of-type {\n",
       "        vertical-align: middle;\n",
       "    }\n",
       "\n",
       "    .dataframe tbody tr th {\n",
       "        vertical-align: top;\n",
       "    }\n",
       "\n",
       "    .dataframe thead th {\n",
       "        text-align: right;\n",
       "    }\n",
       "</style>\n",
       "<table border=\"1\" class=\"dataframe\">\n",
       "  <thead>\n",
       "    <tr style=\"text-align: right;\">\n",
       "      <th></th>\n",
       "      <th>debt</th>\n",
       "    </tr>\n",
       "    <tr>\n",
       "      <th>purpose_category</th>\n",
       "      <th></th>\n",
       "    </tr>\n",
       "  </thead>\n",
       "  <tbody>\n",
       "    <tr>\n",
       "      <th>операции с автомобилем</th>\n",
       "      <td>0.093480</td>\n",
       "    </tr>\n",
       "    <tr>\n",
       "      <th>операции с недвижимостью</th>\n",
       "      <td>0.072551</td>\n",
       "    </tr>\n",
       "    <tr>\n",
       "      <th>получение образования</th>\n",
       "      <td>0.092528</td>\n",
       "    </tr>\n",
       "    <tr>\n",
       "      <th>проведение свадьбы</th>\n",
       "      <td>0.079118</td>\n",
       "    </tr>\n",
       "  </tbody>\n",
       "</table>\n",
       "</div>"
      ],
      "text/plain": [
       "                              debt\n",
       "purpose_category                  \n",
       "операции с автомобилем    0.093480\n",
       "операции с недвижимостью  0.072551\n",
       "получение образования     0.092528\n",
       "проведение свадьбы        0.079118"
      ]
     },
     "execution_count": 23,
     "metadata": {},
     "output_type": "execute_result"
    }
   ],
   "source": [
    "#создание сводной таблицы с долями должников, группированных по цели кредита\n",
    "\n",
    "data.pivot_table(index = ['purpose_category'], values ='debt')"
   ]
  },
  {
   "cell_type": "markdown",
   "id": "0f530537",
   "metadata": {
    "deletable": false,
    "id": "b4bb2ce6"
   },
   "source": [
    "**Вывод:** \n",
    "Доля вернувших в срок кредит на недвижимость и свадьбу выше, чем на образование и автомобиль."
   ]
  }
 ],
 "metadata": {
  "ExecuteTimeLog": [
   {
    "duration": 45,
    "start_time": "2022-11-06T17:00:36.928Z"
   },
   {
    "duration": 503,
    "start_time": "2022-11-06T17:01:01.101Z"
   },
   {
    "duration": 22,
    "start_time": "2022-11-06T17:01:01.606Z"
   },
   {
    "duration": 25,
    "start_time": "2022-11-06T17:01:01.630Z"
   },
   {
    "duration": 25,
    "start_time": "2022-11-06T17:01:01.656Z"
   },
   {
    "duration": 43,
    "start_time": "2022-11-06T17:01:01.683Z"
   },
   {
    "duration": 4,
    "start_time": "2022-11-06T17:01:01.728Z"
   },
   {
    "duration": 33,
    "start_time": "2022-11-06T17:01:01.733Z"
   },
   {
    "duration": 18,
    "start_time": "2022-11-06T17:01:01.768Z"
   },
   {
    "duration": 42,
    "start_time": "2022-11-06T17:01:01.788Z"
   },
   {
    "duration": 15,
    "start_time": "2022-11-06T17:01:01.831Z"
   },
   {
    "duration": 52,
    "start_time": "2022-11-06T17:01:01.847Z"
   },
   {
    "duration": 10,
    "start_time": "2022-11-06T17:01:01.900Z"
   },
   {
    "duration": 6,
    "start_time": "2022-11-06T17:01:01.911Z"
   },
   {
    "duration": 13,
    "start_time": "2022-11-06T17:01:01.919Z"
   },
   {
    "duration": 21,
    "start_time": "2022-11-06T17:01:01.934Z"
   },
   {
    "duration": 15,
    "start_time": "2022-11-06T17:01:01.957Z"
   },
   {
    "duration": 3,
    "start_time": "2022-11-06T17:01:01.974Z"
   },
   {
    "duration": 27,
    "start_time": "2022-11-06T17:01:01.979Z"
   },
   {
    "duration": 27,
    "start_time": "2022-11-06T17:01:02.007Z"
   },
   {
    "duration": 12,
    "start_time": "2022-11-06T17:01:02.036Z"
   },
   {
    "duration": 23,
    "start_time": "2022-11-06T17:01:02.049Z"
   },
   {
    "duration": 6,
    "start_time": "2022-11-06T17:01:05.520Z"
   },
   {
    "duration": 82,
    "start_time": "2022-11-06T17:16:09.097Z"
   },
   {
    "duration": 15,
    "start_time": "2022-11-06T17:16:43.597Z"
   },
   {
    "duration": 7,
    "start_time": "2022-11-06T17:17:08.638Z"
   },
   {
    "duration": 11,
    "start_time": "2022-11-06T17:18:08.288Z"
   },
   {
    "duration": 12,
    "start_time": "2022-11-06T17:19:40.267Z"
   },
   {
    "duration": 6,
    "start_time": "2022-11-06T17:20:04.686Z"
   },
   {
    "duration": 9,
    "start_time": "2022-11-06T17:20:29.116Z"
   },
   {
    "duration": 8,
    "start_time": "2022-11-06T17:22:59.394Z"
   },
   {
    "duration": 20,
    "start_time": "2022-11-06T17:30:21.106Z"
   },
   {
    "duration": 24,
    "start_time": "2022-11-06T17:38:59.889Z"
   },
   {
    "duration": 21,
    "start_time": "2022-11-06T17:39:22.487Z"
   },
   {
    "duration": 21,
    "start_time": "2022-11-06T17:39:31.305Z"
   },
   {
    "duration": 23,
    "start_time": "2022-11-06T17:39:48.106Z"
   },
   {
    "duration": 33,
    "start_time": "2022-11-06T17:46:59.088Z"
   },
   {
    "duration": 28,
    "start_time": "2022-11-06T17:51:01.135Z"
   },
   {
    "duration": 24,
    "start_time": "2022-11-06T17:54:47.921Z"
   },
   {
    "duration": 25,
    "start_time": "2022-11-06T17:56:45.501Z"
   },
   {
    "duration": 25,
    "start_time": "2022-11-06T17:57:03.345Z"
   },
   {
    "duration": 19,
    "start_time": "2022-11-06T18:42:26.545Z"
   },
   {
    "duration": 495,
    "start_time": "2022-11-06T18:58:51.951Z"
   },
   {
    "duration": 29,
    "start_time": "2022-11-06T18:58:52.448Z"
   },
   {
    "duration": 17,
    "start_time": "2022-11-06T18:58:52.479Z"
   },
   {
    "duration": 35,
    "start_time": "2022-11-06T18:58:52.498Z"
   },
   {
    "duration": 36,
    "start_time": "2022-11-06T18:58:52.536Z"
   },
   {
    "duration": 5,
    "start_time": "2022-11-06T18:58:52.574Z"
   },
   {
    "duration": 16,
    "start_time": "2022-11-06T18:58:52.581Z"
   },
   {
    "duration": 5,
    "start_time": "2022-11-06T18:58:52.599Z"
   },
   {
    "duration": 13,
    "start_time": "2022-11-06T18:58:52.631Z"
   },
   {
    "duration": 10,
    "start_time": "2022-11-06T18:58:52.646Z"
   },
   {
    "duration": 60,
    "start_time": "2022-11-06T18:58:52.658Z"
   },
   {
    "duration": 14,
    "start_time": "2022-11-06T18:58:52.719Z"
   },
   {
    "duration": 11,
    "start_time": "2022-11-06T18:58:52.735Z"
   },
   {
    "duration": 26,
    "start_time": "2022-11-06T18:58:52.751Z"
   },
   {
    "duration": 32,
    "start_time": "2022-11-06T18:58:52.779Z"
   },
   {
    "duration": 26,
    "start_time": "2022-11-06T18:58:52.813Z"
   },
   {
    "duration": 4,
    "start_time": "2022-11-06T18:58:52.841Z"
   },
   {
    "duration": 18,
    "start_time": "2022-11-06T18:58:52.847Z"
   },
   {
    "duration": 10,
    "start_time": "2022-11-06T18:58:52.866Z"
   },
   {
    "duration": 5,
    "start_time": "2022-11-06T18:58:52.879Z"
   },
   {
    "duration": 21,
    "start_time": "2022-11-06T18:58:52.886Z"
   },
   {
    "duration": 31,
    "start_time": "2022-11-06T18:58:52.932Z"
   },
   {
    "duration": 45,
    "start_time": "2022-11-06T18:58:52.966Z"
   },
   {
    "duration": 47,
    "start_time": "2022-11-06T18:58:53.031Z"
   },
   {
    "duration": 62,
    "start_time": "2022-11-06T18:58:53.081Z"
   },
   {
    "duration": 51,
    "start_time": "2022-11-08T12:02:42.287Z"
   },
   {
    "duration": 693,
    "start_time": "2022-11-08T12:03:14.580Z"
   },
   {
    "duration": 30,
    "start_time": "2022-11-08T12:03:15.275Z"
   },
   {
    "duration": 15,
    "start_time": "2022-11-08T12:03:15.306Z"
   },
   {
    "duration": 35,
    "start_time": "2022-11-08T12:03:20.681Z"
   },
   {
    "duration": 481,
    "start_time": "2022-11-08T12:06:33.573Z"
   },
   {
    "duration": 23,
    "start_time": "2022-11-08T12:06:34.056Z"
   },
   {
    "duration": 14,
    "start_time": "2022-11-08T12:06:39.816Z"
   },
   {
    "duration": 10,
    "start_time": "2022-11-08T12:09:04.311Z"
   },
   {
    "duration": 79,
    "start_time": "2022-11-08T14:06:55.341Z"
   },
   {
    "duration": 17,
    "start_time": "2022-11-08T14:06:55.423Z"
   },
   {
    "duration": 42,
    "start_time": "2022-11-08T14:06:55.442Z"
   },
   {
    "duration": 25,
    "start_time": "2022-11-08T14:06:55.487Z"
   },
   {
    "duration": 50,
    "start_time": "2022-11-08T14:06:55.515Z"
   },
   {
    "duration": 4,
    "start_time": "2022-11-08T14:06:55.566Z"
   },
   {
    "duration": 29,
    "start_time": "2022-11-08T14:06:55.579Z"
   },
   {
    "duration": 24,
    "start_time": "2022-11-08T14:06:55.610Z"
   },
   {
    "duration": 27,
    "start_time": "2022-11-08T14:06:55.636Z"
   },
   {
    "duration": 5,
    "start_time": "2022-11-08T14:06:55.666Z"
   },
   {
    "duration": 51,
    "start_time": "2022-11-08T14:06:55.673Z"
   },
   {
    "duration": 10,
    "start_time": "2022-11-08T14:06:55.726Z"
   },
   {
    "duration": 10,
    "start_time": "2022-11-08T14:06:55.738Z"
   },
   {
    "duration": 24,
    "start_time": "2022-11-08T14:06:55.750Z"
   },
   {
    "duration": 31,
    "start_time": "2022-11-08T14:06:55.776Z"
   },
   {
    "duration": 17,
    "start_time": "2022-11-08T14:06:55.809Z"
   },
   {
    "duration": 9,
    "start_time": "2022-11-08T14:06:55.828Z"
   },
   {
    "duration": 20,
    "start_time": "2022-11-08T14:06:55.839Z"
   },
   {
    "duration": 25,
    "start_time": "2022-11-08T14:06:55.861Z"
   },
   {
    "duration": 9,
    "start_time": "2022-11-08T14:06:55.888Z"
   },
   {
    "duration": 15,
    "start_time": "2022-11-08T14:06:55.899Z"
   },
   {
    "duration": 24,
    "start_time": "2022-11-08T14:06:59.162Z"
   },
   {
    "duration": 37,
    "start_time": "2022-11-08T15:05:35.359Z"
   },
   {
    "duration": 32,
    "start_time": "2022-11-08T15:18:23.454Z"
   },
   {
    "duration": 26,
    "start_time": "2022-11-08T15:19:45.949Z"
   },
   {
    "duration": 754,
    "start_time": "2023-09-04T10:30:05.936Z"
   },
   {
    "duration": 33,
    "start_time": "2023-09-04T10:30:06.693Z"
   },
   {
    "duration": 28,
    "start_time": "2023-09-04T10:30:06.728Z"
   },
   {
    "duration": 54,
    "start_time": "2023-09-04T10:30:06.759Z"
   },
   {
    "duration": 5,
    "start_time": "2023-09-04T10:30:06.815Z"
   },
   {
    "duration": 38,
    "start_time": "2023-09-04T10:30:06.823Z"
   },
   {
    "duration": 58,
    "start_time": "2023-09-04T10:30:06.864Z"
   },
   {
    "duration": 49,
    "start_time": "2023-09-04T10:30:06.926Z"
   },
   {
    "duration": 14,
    "start_time": "2023-09-04T10:30:06.978Z"
   },
   {
    "duration": 24,
    "start_time": "2023-09-04T10:30:06.994Z"
   },
   {
    "duration": 43,
    "start_time": "2023-09-04T10:30:07.020Z"
   },
   {
    "duration": 39,
    "start_time": "2023-09-04T10:30:07.065Z"
   },
   {
    "duration": 30,
    "start_time": "2023-09-04T10:30:07.106Z"
   },
   {
    "duration": 9,
    "start_time": "2023-09-04T10:30:07.138Z"
   },
   {
    "duration": 40,
    "start_time": "2023-09-04T10:30:07.149Z"
   },
   {
    "duration": 25,
    "start_time": "2023-09-04T10:30:07.192Z"
   },
   {
    "duration": 20,
    "start_time": "2023-09-04T10:30:07.219Z"
   },
   {
    "duration": 37,
    "start_time": "2023-09-04T10:30:07.240Z"
   },
   {
    "duration": 70,
    "start_time": "2023-09-04T10:30:07.279Z"
   },
   {
    "duration": 98,
    "start_time": "2023-09-04T10:41:51.792Z"
   },
   {
    "duration": 223,
    "start_time": "2023-09-04T10:42:10.095Z"
   },
   {
    "duration": 170,
    "start_time": "2023-09-04T10:44:30.470Z"
   },
   {
    "duration": 77,
    "start_time": "2023-09-04T10:45:08.853Z"
   },
   {
    "duration": 100,
    "start_time": "2023-09-04T10:45:46.712Z"
   },
   {
    "duration": 8,
    "start_time": "2023-09-04T10:46:00.062Z"
   },
   {
    "duration": 114,
    "start_time": "2023-09-04T10:53:25.764Z"
   },
   {
    "duration": 13,
    "start_time": "2023-09-04T10:53:54.029Z"
   },
   {
    "duration": 103,
    "start_time": "2023-09-04T10:54:19.755Z"
   },
   {
    "duration": 19,
    "start_time": "2023-09-04T10:54:25.604Z"
   },
   {
    "duration": 33,
    "start_time": "2023-09-04T11:01:09.618Z"
   },
   {
    "duration": 32,
    "start_time": "2023-09-04T11:11:27.305Z"
   },
   {
    "duration": 15,
    "start_time": "2023-09-04T11:11:48.816Z"
   },
   {
    "duration": 14,
    "start_time": "2023-09-04T11:13:31.760Z"
   },
   {
    "duration": 16,
    "start_time": "2023-09-04T11:14:16.031Z"
   },
   {
    "duration": 8,
    "start_time": "2023-09-04T11:15:44.487Z"
   },
   {
    "duration": 10,
    "start_time": "2023-09-04T11:16:17.247Z"
   },
   {
    "duration": 8,
    "start_time": "2023-09-04T11:16:27.942Z"
   },
   {
    "duration": 15,
    "start_time": "2023-09-04T11:16:32.974Z"
   },
   {
    "duration": 85,
    "start_time": "2023-09-04T11:19:40.398Z"
   },
   {
    "duration": 8,
    "start_time": "2023-09-04T11:21:24.406Z"
   },
   {
    "duration": 15,
    "start_time": "2023-09-04T11:23:37.229Z"
   },
   {
    "duration": 15,
    "start_time": "2023-09-04T11:23:50.661Z"
   },
   {
    "duration": 31,
    "start_time": "2023-09-04T11:27:52.212Z"
   },
   {
    "duration": 23,
    "start_time": "2023-09-04T11:28:12.061Z"
   },
   {
    "duration": 16,
    "start_time": "2023-09-04T11:56:21.376Z"
   },
   {
    "duration": 10,
    "start_time": "2023-09-04T12:25:00.294Z"
   },
   {
    "duration": 7,
    "start_time": "2023-09-04T12:25:04.872Z"
   },
   {
    "duration": 464,
    "start_time": "2023-09-04T12:25:20.157Z"
   },
   {
    "duration": 23,
    "start_time": "2023-09-04T12:25:20.623Z"
   },
   {
    "duration": 17,
    "start_time": "2023-09-04T12:25:20.648Z"
   },
   {
    "duration": 44,
    "start_time": "2023-09-04T12:25:20.667Z"
   },
   {
    "duration": 38,
    "start_time": "2023-09-04T12:25:20.713Z"
   },
   {
    "duration": 5,
    "start_time": "2023-09-04T12:25:20.752Z"
   },
   {
    "duration": 51,
    "start_time": "2023-09-04T12:25:20.759Z"
   },
   {
    "duration": 544,
    "start_time": "2023-09-04T12:43:16.273Z"
   },
   {
    "duration": 23,
    "start_time": "2023-09-04T12:43:16.819Z"
   },
   {
    "duration": 25,
    "start_time": "2023-09-04T12:43:16.844Z"
   },
   {
    "duration": 50,
    "start_time": "2023-09-04T12:43:16.872Z"
   },
   {
    "duration": 37,
    "start_time": "2023-09-04T12:43:16.923Z"
   },
   {
    "duration": 3,
    "start_time": "2023-09-04T12:43:16.962Z"
   },
   {
    "duration": 7,
    "start_time": "2023-09-04T12:43:16.967Z"
   },
   {
    "duration": 33,
    "start_time": "2023-09-04T12:43:16.976Z"
   },
   {
    "duration": 35,
    "start_time": "2023-09-04T12:43:17.011Z"
   },
   {
    "duration": 11,
    "start_time": "2023-09-04T12:43:17.049Z"
   },
   {
    "duration": 5,
    "start_time": "2023-09-04T12:43:17.061Z"
   },
   {
    "duration": 13,
    "start_time": "2023-09-04T12:43:17.067Z"
   },
   {
    "duration": 42,
    "start_time": "2023-09-04T12:43:17.082Z"
   },
   {
    "duration": 18,
    "start_time": "2023-09-04T12:43:17.125Z"
   },
   {
    "duration": 4,
    "start_time": "2023-09-04T12:43:17.144Z"
   },
   {
    "duration": 13,
    "start_time": "2023-09-04T12:43:17.150Z"
   },
   {
    "duration": 10,
    "start_time": "2023-09-04T12:43:17.165Z"
   },
   {
    "duration": 4,
    "start_time": "2023-09-04T12:43:17.176Z"
   },
   {
    "duration": 9,
    "start_time": "2023-09-04T12:43:17.210Z"
   },
   {
    "duration": 21,
    "start_time": "2023-09-04T12:43:17.220Z"
   },
   {
    "duration": 14,
    "start_time": "2023-09-04T12:43:17.243Z"
   },
   {
    "duration": 13,
    "start_time": "2023-09-04T12:43:17.258Z"
   },
   {
    "duration": 42,
    "start_time": "2023-09-04T12:43:17.273Z"
   }
  ],
  "celltoolbar": "Редактировать метаданные",
  "colab": {
   "name": "dpp_template_part2.ipynb",
   "provenance": []
  },
  "kernelspec": {
   "display_name": "Python 3 (ipykernel)",
   "language": "python",
   "name": "python3"
  },
  "language_info": {
   "codemirror_mode": {
    "name": "ipython",
    "version": 3
   },
   "file_extension": ".py",
   "mimetype": "text/x-python",
   "name": "python",
   "nbconvert_exporter": "python",
   "pygments_lexer": "ipython3",
   "version": "3.9.5"
  },
  "toc": {
   "base_numbering": 1,
   "nav_menu": {},
   "number_sections": true,
   "sideBar": true,
   "skip_h1_title": true,
   "title_cell": "Table of Contents",
   "title_sidebar": "Contents",
   "toc_cell": false,
   "toc_position": {},
   "toc_section_display": true,
   "toc_window_display": true
  }
 },
 "nbformat": 4,
 "nbformat_minor": 5
}
